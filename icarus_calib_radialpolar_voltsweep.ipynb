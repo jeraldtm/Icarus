{
 "cells": [
  {
   "cell_type": "code",
   "execution_count": 23,
   "metadata": {},
   "outputs": [],
   "source": [
    "import xarray as xr\n",
    "import numpy as np\n",
    "import pandas as pd\n",
    "import matplotlib.pyplot as plt\n",
    "import hvplot.xarray\n",
    "%matplotlib qt"
   ]
  },
  {
   "cell_type": "markdown",
   "metadata": {},
   "source": [
    "# Centre Voltage Sweep"
   ]
  },
  {
   "cell_type": "code",
   "execution_count": 24,
   "metadata": {
    "collapsed": true
   },
   "outputs": [
    {
     "name": "stdout",
     "output_type": "stream",
     "text": [
      "[[ 4.16168895e+03 -3.11844226e+03  5.47011535e+02 -2.84592899e+01\n",
      "  -1.86123341e+01  8.26244300e-03]\n",
      " [ 4.15146313e+03  3.09829665e+03  5.35103810e+02  2.63857442e+01\n",
      "  -1.86952107e+01 -1.33786176e-02]]\n"
     ]
    }
   ],
   "source": [
    "cen_v= pd.read_csv('./2019-06-29/phi0_daedalus_voltCenter_calib_2019-06-29_2.csv', comment=\"#\")\n",
    "cen_vn = cen_v[cen_v.Yfield>0]\n",
    "cen_vp = cen_v[cen_v.Yfield<0]\n",
    "cen_vp_coeff = np.polyfit(cen_vp.Yfield.values, cen_vp.V.values, 5)\n",
    "cen_vn_coeff = np.polyfit(cen_vn.Yfield.values, cen_vn.V.values, 5)\n",
    "cen_v_coeffs = np.asarray([cen_vn_coeff, cen_vp_coeff])\n",
    "print(cen_v_coeffs)\n",
    "cen_vp_fit = np.poly1d(cen_vp_coeff)\n",
    "cen_vn_fit = np.poly1d(cen_vn_coeff)"
   ]
  },
  {
   "cell_type": "markdown",
   "metadata": {},
   "source": [
    "### Change radial Polar files"
   ]
  },
  {
   "cell_type": "code",
   "execution_count": 47,
   "metadata": {},
   "outputs": [],
   "source": [
    "def parse(volts):\n",
    "    vp = pd.read_csv('./2019-06-30/%gvp_daedalus_radialPolar_calib_A000.0_2019-06-30_2.csv' % volts, comment='#')\n",
    "    vn = pd.read_csv('./2019-06-30/%gvn_daedalus_radialPolar_calib_A000.0_2019-06-30_2.csv' % volts, comment='#')\n",
    "\n",
    "    vp = vp.assign(phi=lambda a: np.arctan2(a.Xfield, a.Yfield)*180/np.pi)\n",
    "    vp = vp.assign(theta=lambda a: np.arctan2(a.Zfield, -a.Yfield)*180/np.pi)\n",
    "    vp = vp.assign(Bmag=lambda a: np.sqrt(a.Yfield**2 + a.Zfield**2))\n",
    "\n",
    "    vn = vn.assign(phi=lambda a: np.arctan2(a.Xfield, a.Yfield)*180/np.pi)\n",
    "    vn = vn.assign(theta=lambda a: np.arctan2(a.Zfield, a.Yfield)*180/np.pi)\n",
    "    vn = vn.assign(Bmag=lambda a: np.sqrt(a.Yfield**2 + a.Zfield**2))\n",
    "\n",
    "    vp_dv = {}\n",
    "    vn_dv = {}\n",
    "    for c in vp.columns[:]:\n",
    "        vp_dv[c] = ([\"R\"],vp[c])\n",
    "        vn_dv[c] = ([\"R\"],vn[c])\n",
    "    vp_ds = xr.Dataset(vp_dv)\n",
    "    vn_ds = xr.Dataset(vn_dv)\n",
    "\n",
    "    vp_rp = vp[vp.R>0]\n",
    "    vp_rn = vp[vp.R<0]\n",
    "    vn_rp = vn[vn.R>0]\n",
    "    vn_rn = vn[vn.R<0]\n",
    "\n",
    "    vn_R_thetapos_coeff = np.polyfit(vn_rp.theta, vn_rp.R, 6)\n",
    "    vn_R_thetaneg_coeff = np.polyfit(vn_rn.theta, vn_rn.R, 6)\n",
    "    vn_R_thetapos = np.poly1d(vn_R_thetapos_coeff)\n",
    "    vn_R_thetaneg = np.poly1d(vn_R_thetaneg_coeff)\n",
    "    R_theta = vn_R_thetapos_coeff,vn_R_thetaneg_coeff\n",
    "    print(R_theta)\n",
    "    \n",
    "    np.savetxt(\"./icarusCalibCsv/icarus_%gV_radial_polar_calib.csv\" % volts, R_theta, delimiter=\",\")\n",
    "\n",
    "    bmag_vp_rp_coeff = np.polyfit(vp[vp.R>0].R, vp[vp.R>0].Bmag, 10)\n",
    "    bmag_vp_rp = np.poly1d(bmag_vp_rp_coeff)\n",
    "\n",
    "    bmag_vp_rn_coeff = np.polyfit(vp[vp.R<0].R, vp[vp.R<0].Bmag, 10)\n",
    "    bmag_vp_rn = np.poly1d(bmag_vp_rn_coeff)\n",
    "\n",
    "    bmag_vn_rp_coeff = np.polyfit(vn[vn.R>0].R, vn[vn.R>0].Bmag, 10)\n",
    "    bmag_vn_rp = np.poly1d(bmag_vn_rp_coeff)\n",
    "\n",
    "    bmag_vn_rn_coeff = np.polyfit(vn[vn.R<0].R, vn[vn.R<0].Bmag, 10)\n",
    "    bmag_vn_rn = np.poly1d(bmag_vn_rn_coeff)\n",
    "\n",
    "    V0 = cen_vn_fit(bmag_vn_rp(0.0)) # Voltage used for radial scan\n",
    "    Rpts_p = np.arange(0, 15, 0.1)\n",
    "    Rpts_n = np.arange(-15, 0, 0.1)\n",
    "\n",
    "    vcent_vp_rp = -V0/cen_vp_fit(-bmag_vp_rp(Rpts_p))\n",
    "    vcent_vp_rn = -V0/cen_vp_fit(-bmag_vp_rn(Rpts_n))\n",
    "    vcent_vn_rp = V0/cen_vn_fit(bmag_vn_rp(Rpts_p))\n",
    "    vcent_vn_rn = V0/cen_vn_fit(bmag_vn_rn(Rpts_n))\n",
    "\n",
    "    n = 10\n",
    "    vcorr_vp_rp_coeff = np.polyfit(Rpts_p, vcent_vp_rp, n)\n",
    "    vcorr_vp_rp = np.poly1d(vcorr_vp_rp_coeff)\n",
    "    vcorr_vp_rn_coeff = np.polyfit(Rpts_n, vcent_vp_rn, n)\n",
    "    vcorr_vp_rn = np.poly1d(vcorr_vp_rn_coeff)\n",
    "    vcorr_vn_rp_coeff = np.polyfit(Rpts_p, vcent_vn_rp, n)\n",
    "    vcorr_vn_rp = np.poly1d(vcorr_vn_rp_coeff)\n",
    "    vcorr_vn_rn_coeff = np.polyfit(Rpts_n, vcent_vn_rn, n)\n",
    "    vcorr_vn_rn = np.poly1d(vcorr_vn_rn_coeff)\n",
    "\n",
    "    print(vcorr_vn_rp_coeff, '\\n', vcorr_vp_rp_coeff, '\\n', vcorr_vn_rn_coeff, '\\n',vcorr_vp_rn_coeff)\n",
    "    \n",
    "    vcorr_coeffs = [vcorr_vn_rp_coeff, vcorr_vp_rp_coeff, vcorr_vn_rn_coeff,vcorr_vp_rn_coeff]\n",
    "    np.savetxt(\"./icarusCalibCsv/icarus_%gV_volt_correction_calib.csv\" % volts, vcorr_coeffs, delimiter=\",\")"
   ]
  },
  {
   "cell_type": "code",
   "execution_count": 48,
   "metadata": {},
   "outputs": [
    {
     "name": "stdout",
     "output_type": "stream",
     "text": [
      "(array([-1.98141495e-10,  4.93642006e-08, -4.35736352e-06,  1.80368305e-04,\n",
      "       -3.93101361e-03,  1.61686644e-01, -1.78514000e-02]), array([1.79899603e-10, 4.49943059e-08, 3.95474449e-06, 1.60961952e-04,\n",
      "       3.42514052e-03, 1.58093380e-01, 8.92014013e-02]))\n",
      "[-8.39530610e-10  6.54616145e-08 -2.15128635e-06  3.84991374e-05\n",
      " -4.03796286e-04  2.48685069e-03 -8.68842329e-03  1.75279783e-02\n",
      " -1.97153979e-02  7.36274991e-03  9.99600879e-01] \n",
      " [-9.14601717e-10  7.11385022e-08 -2.33368357e-06  4.17447862e-05\n",
      " -4.38756196e-04  2.72108106e-03 -9.65772431e-03  1.99271182e-02\n",
      " -2.29954233e-02  9.28471800e-03  1.00279430e+00] \n",
      " [-7.18561225e-10 -5.74680517e-08 -1.94021442e-06 -3.57462166e-05\n",
      " -3.87170431e-04 -2.47437491e-03 -9.03306983e-03 -1.90195859e-02\n",
      " -2.22764410e-02 -8.75642606e-03  9.99144024e-01] \n",
      " [-7.57567104e-10 -6.05690666e-08 -2.04557121e-06 -3.77406383e-05\n",
      " -4.10154100e-04 -2.63979180e-03 -9.76858065e-03 -2.09637340e-02\n",
      " -2.50861621e-02 -1.05618122e-02  1.00250455e+00]\n"
     ]
    }
   ],
   "source": [
    "parse(4)"
   ]
  },
  {
   "cell_type": "code",
   "execution_count": 25,
   "metadata": {},
   "outputs": [
    {
     "name": "stdout",
     "output_type": "stream",
     "text": [
      "(array([-1.92548234e-10,  4.78121166e-08, -4.19621977e-06,  1.72609644e-04,\n",
      "       -3.75802672e-03,  1.60201783e-01, -7.22839424e-03]), array([1.79993350e-10, 4.50573240e-08, 3.96599304e-06, 1.61750156e-04,\n",
      "       3.45019773e-03, 1.58396944e-01, 9.46732568e-02]))\n"
     ]
    }
   ],
   "source": [
    "vp = pd.read_csv('./2019-06-30/1vp_daedalus_radialPolar_calib_A000.0_2019-06-30_1.csv', comment='#')\n",
    "vn = pd.read_csv('./2019-06-30/1vn_daedalus_radialPolar_calib_A000.0_2019-06-30_1.csv', comment='#')\n",
    "\n",
    "vp = vp.assign(phi=lambda a: np.arctan2(a.Xfield, a.Yfield)*180/np.pi)\n",
    "vp = vp.assign(theta=lambda a: np.arctan2(a.Zfield, -a.Yfield)*180/np.pi)\n",
    "vp = vp.assign(Bmag=lambda a: np.sqrt(a.Yfield**2 + a.Zfield**2))\n",
    "\n",
    "vn = vn.assign(phi=lambda a: np.arctan2(a.Xfield, a.Yfield)*180/np.pi)\n",
    "vn = vn.assign(theta=lambda a: np.arctan2(a.Zfield, a.Yfield)*180/np.pi)\n",
    "vn = vn.assign(Bmag=lambda a: np.sqrt(a.Yfield**2 + a.Zfield**2))\n",
    "\n",
    "vp_dv = {}\n",
    "vn_dv = {}\n",
    "for c in vp.columns[:]:\n",
    "    vp_dv[c] = ([\"R\"],vp[c])\n",
    "    vn_dv[c] = ([\"R\"],vn[c])\n",
    "vp_ds = xr.Dataset(vp_dv)\n",
    "vn_ds = xr.Dataset(vn_dv)\n",
    "\n",
    "vp_rp = vp[vp.R>0]\n",
    "vp_rn = vp[vp.R<0]\n",
    "vn_rp = vn[vn.R>0]\n",
    "vn_rn = vn[vn.R<0]\n",
    "\n",
    "vn_R_thetapos_coeff = np.polyfit(vn_rp.theta, vn_rp.R, 6)\n",
    "vn_R_thetaneg_coeff = np.polyfit(vn_rn.theta, vn_rn.R, 6)\n",
    "vn_R_thetapos = np.poly1d(vn_R_thetapos_coeff)\n",
    "vn_R_thetaneg = np.poly1d(vn_R_thetaneg_coeff)\n",
    "R_theta = vn_R_thetapos_coeff,vn_R_thetaneg_coeff\n",
    "print(R_theta)"
   ]
  },
  {
   "cell_type": "markdown",
   "metadata": {},
   "source": [
    "### Change radial polar calib filename"
   ]
  },
  {
   "cell_type": "code",
   "execution_count": 30,
   "metadata": {},
   "outputs": [
    {
     "name": "stdout",
     "output_type": "stream",
     "text": [
      "[-3.67441105e-10  3.04517578e-08 -1.06050036e-06  2.00542565e-05\n",
      " -2.21551898e-04  1.43097670e-03 -5.21368764e-03  1.09866783e-02\n",
      " -1.27999248e-02  4.79009479e-03  9.99691763e-01] \n",
      " [-4.57474711e-10  3.63031403e-08 -1.21763788e-06  2.23064811e-05\n",
      " -2.40170704e-04  1.52155238e-03 -5.48153192e-03  1.15800780e-02\n",
      " -1.39902795e-02  6.00777421e-03  1.01573950e+00] \n",
      " [-2.32153622e-10 -2.05084613e-08 -7.54213240e-07 -1.49340511e-05\n",
      " -1.71257899e-04 -1.13596345e-03 -4.19186403e-03 -8.94005027e-03\n",
      " -1.09934534e-02 -4.18782456e-03  9.99838892e-01] \n",
      " [-4.33536865e-10 -3.42722831e-08 -1.15293275e-06 -2.13358393e-05\n",
      " -2.33831937e-04 -1.52082325e-03 -5.67570472e-03 -1.23909907e-02\n",
      " -1.53233834e-02 -6.57179544e-03  1.01514511e+00]\n"
     ]
    }
   ],
   "source": [
    "np.savetxt(\"./icarusCalibCsv/icarus_1V_radial_polar_calib.csv\", R_theta, delimiter=\",\")\n",
    "\n",
    "bmag_vp_rp_coeff = np.polyfit(vp[vp.R>0].R, vp[vp.R>0].Bmag, 10)\n",
    "bmag_vp_rp = np.poly1d(bmag_vp_rp_coeff)\n",
    "\n",
    "bmag_vp_rn_coeff = np.polyfit(vp[vp.R<0].R, vp[vp.R<0].Bmag, 10)\n",
    "bmag_vp_rn = np.poly1d(bmag_vp_rn_coeff)\n",
    "\n",
    "bmag_vn_rp_coeff = np.polyfit(vn[vn.R>0].R, vn[vn.R>0].Bmag, 10)\n",
    "bmag_vn_rp = np.poly1d(bmag_vn_rp_coeff)\n",
    "\n",
    "bmag_vn_rn_coeff = np.polyfit(vn[vn.R<0].R, vn[vn.R<0].Bmag, 10)\n",
    "bmag_vn_rn = np.poly1d(bmag_vn_rn_coeff)\n",
    "\n",
    "V0 = cen_vn_fit(bmag_vn_rp(0.0)) # Voltage used for radial scan\n",
    "Rpts_p = np.arange(0, 15, 0.1)\n",
    "Rpts_n = np.arange(-15, 0, 0.1)\n",
    "\n",
    "vcent_vp_rp = -V0/cen_vp_fit(-bmag_vp_rp(Rpts_p))\n",
    "vcent_vp_rn = -V0/cen_vp_fit(-bmag_vp_rn(Rpts_n))\n",
    "vcent_vn_rp = V0/cen_vn_fit(bmag_vn_rp(Rpts_p))\n",
    "vcent_vn_rn = V0/cen_vn_fit(bmag_vn_rn(Rpts_n))\n",
    "\n",
    "n = 10\n",
    "vcorr_vp_rp_coeff = np.polyfit(Rpts_p, vcent_vp_rp, n)\n",
    "vcorr_vp_rp = np.poly1d(vcorr_vp_rp_coeff)\n",
    "vcorr_vp_rn_coeff = np.polyfit(Rpts_n, vcent_vp_rn, n)\n",
    "vcorr_vp_rn = np.poly1d(vcorr_vp_rn_coeff)\n",
    "vcorr_vn_rp_coeff = np.polyfit(Rpts_p, vcent_vn_rp, n)\n",
    "vcorr_vn_rp = np.poly1d(vcorr_vn_rp_coeff)\n",
    "vcorr_vn_rn_coeff = np.polyfit(Rpts_n, vcent_vn_rn, n)\n",
    "vcorr_vn_rn = np.poly1d(vcorr_vn_rn_coeff)\n",
    "\n",
    "print(vcorr_vn_rp_coeff, '\\n', vcorr_vp_rp_coeff, '\\n', vcorr_vn_rn_coeff, '\\n',vcorr_vp_rn_coeff)"
   ]
  },
  {
   "cell_type": "markdown",
   "metadata": {},
   "source": [
    "### Change filename"
   ]
  },
  {
   "cell_type": "code",
   "execution_count": 31,
   "metadata": {},
   "outputs": [],
   "source": [
    "vcorr_coeffs = [vcorr_vn_rp_coeff, vcorr_vp_rp_coeff, vcorr_vn_rn_coeff,vcorr_vp_rn_coeff]\n",
    "np.savetxt(\"./icarusCalibCsv/icarus_1V_volt_correction_calib.csv\", vcorr_coeffs, delimiter=\",\")"
   ]
  },
  {
   "cell_type": "code",
   "execution_count": 32,
   "metadata": {},
   "outputs": [
    {
     "data": {
      "text/plain": [
       "Text(0.5, 1.0, 'Scale factor for a radial point to get the same field')"
      ]
     },
     "execution_count": 32,
     "metadata": {},
     "output_type": "execute_result"
    }
   ],
   "source": [
    "plt.plot(Rpts_p, vcent_vp_rp, 'r', markersize = 2)\n",
    "plt.plot(Rpts_p, vcorr_vp_rp(Rpts_p), 'b')\n",
    "plt.xlabel('R (mm)')\n",
    "plt.ylabel('V correction factor')\n",
    "plt.title('Scale factor for a radial point to get the same field')"
   ]
  },
  {
   "cell_type": "code",
   "execution_count": 28,
   "metadata": {},
   "outputs": [
    {
     "data": {
      "text/plain": [
       "Text(0.5, 1.0, 'Scale factor for a radial point to get the same field')"
      ]
     },
     "execution_count": 28,
     "metadata": {},
     "output_type": "execute_result"
    },
    {
     "data": {
      "image/png": "[encoded data removed]",
      "text/plain": [
       "<Figure size 432x288 with 1 Axes>"
      ]
     },
     "metadata": {
      "needs_background": "light"
     },
     "output_type": "display_data"
    }
   ],
   "source": [
    "plt.plot(Rpts_p, vcent_vn_rp, 'r', markersize = 2)\n",
    "plt.plot(Rpts_p, vcorr_vn_rp(Rpts_p), 'b')\n",
    "plt.xlabel('R (mm)')\n",
    "plt.ylabel('V correction factor')\n",
    "plt.title('Scale factor for a radial point to get the same field')"
   ]
  },
  {
   "cell_type": "code",
   "execution_count": 29,
   "metadata": {},
   "outputs": [
    {
     "data": {
      "text/plain": [
       "Text(0.5, 1.0, 'Scale factor for a radial point to get the same field')"
      ]
     },
     "execution_count": 29,
     "metadata": {},
     "output_type": "execute_result"
    },
    {
     "data": {
      "image/png": "[encoded data removed]",
      "text/plain": [
       "<Figure size 432x288 with 1 Axes>"
      ]
     },
     "metadata": {
      "needs_background": "light"
     },
     "output_type": "display_data"
    }
   ],
   "source": [
    "plt.plot(Rpts_n, vcent_vp_rn, 'r+', markersize = 2)\n",
    "plt.plot(Rpts_n, vcorr_vp_rn(Rpts_n), 'b')\n",
    "plt.xlabel('R (mm)')\n",
    "plt.ylabel('V correction factor')\n",
    "plt.title('Scale factor for a radial point to get the same field')"
   ]
  },
  {
   "cell_type": "code",
   "execution_count": 30,
   "metadata": {},
   "outputs": [
    {
     "data": {
      "text/plain": [
       "Text(0.5, 1.0, 'Scale factor for a radial point to get the same field')"
      ]
     },
     "execution_count": 30,
     "metadata": {},
     "output_type": "execute_result"
    },
    {
     "data": {
      "image/png": "[encoded data removed]",
      "text/plain": [
       "<Figure size 432x288 with 1 Axes>"
      ]
     },
     "metadata": {
      "needs_background": "light"
     },
     "output_type": "display_data"
    }
   ],
   "source": [
    "plt.plot(Rpts_n, vcent_vn_rn, 'r+', markersize = 2)\n",
    "plt.plot(Rpts_n, vcorr_vn_rn(Rpts_n), 'b')\n",
    "plt.xlabel('R (mm)')\n",
    "plt.ylabel('V correction factor')\n",
    "plt.title('Scale factor for a radial point to get the same field')"
   ]
  },
  {
   "cell_type": "code",
   "execution_count": null,
   "metadata": {},
   "outputs": [],
   "source": []
  }
 ],
 "metadata": {
  "kernelspec": {
   "display_name": "Python 3",
   "language": "python",
   "name": "python3"
  },
  "language_info": {
   "codemirror_mode": {
    "name": "ipython",
    "version": 3
   },
   "file_extension": ".py",
   "mimetype": "text/x-python",
   "name": "python",
   "nbconvert_exporter": "python",
   "pygments_lexer": "ipython3",
   "version": "3.7.3"
  }
 },
 "nbformat": 4,
 "nbformat_minor": 2
}
