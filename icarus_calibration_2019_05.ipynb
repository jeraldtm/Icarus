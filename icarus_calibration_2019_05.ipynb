{
 "cells": [
  {
   "cell_type": "code",
   "execution_count": 89,
   "metadata": {},
   "outputs": [],
   "source": [
    "import xarray as xr\n",
    "import numpy as np\n",
    "import pandas as pd\n",
    "import matplotlib.pyplot as plt\n",
    "import hvplot.xarray\n",
    "%matplotlib inline"
   ]
  },
  {
   "cell_type": "markdown",
   "metadata": {},
   "source": [
    "# <font color=blue>_Centre Calibration from Field Rastering at $\\phi = 0^\\circ$ and $\\phi = 90^\\circ$_</font>"
   ]
  },
  {
   "cell_type": "code",
   "execution_count": 90,
   "metadata": {},
   "outputs": [],
   "source": [
    "x_start, x_end, x_step = 26.5, 27.5, 0.1\n",
    "y_start, y_end, y_step = 22.1, 22.7, 0.1\n",
    "x_pts = np.arange(x_start, x_end+x_step, x_step)\n",
    "y_pts = np.arange(y_start, y_end+y_step, y_step)"
   ]
  },
  {
   "cell_type": "markdown",
   "metadata": {},
   "source": [
    "Import data from csv"
   ]
  },
  {
   "cell_type": "code",
   "execution_count": 91,
   "metadata": {},
   "outputs": [],
   "source": [
    "phi0 = pd.read_csv('./2019-05-29/init_cal_fieldRaster_2019-05-29_7.csv', comment='#')\n",
    "phi90 = pd.read_csv('./2019-05-29/init_cal_fieldRaster_2019-05-29_6.csv', comment='#')"
   ]
  },
  {
   "cell_type": "code",
   "execution_count": 92,
   "metadata": {},
   "outputs": [],
   "source": [
    "#Data variables dict\n",
    "phi0_data_vars = {}\n",
    "phi90_data_vars = {}\n",
    "\n",
    "#Add (dims, data) tuple for each variable column to dict\n",
    "for var in phi0.columns[:]:\n",
    "    dims = [\"Xpos\", \"Ypos\"]\n",
    "    data0 = phi0[var].values.reshape(x_pts.size, y_pts.size)\n",
    "    data90 = phi90[var].values.reshape(x_pts.size, y_pts.size)\n",
    "\n",
    "    phi0_data_vars[var] = (dims, data0)\n",
    "    phi90_data_vars[var] = (dims, data90)\n",
    "\n",
    "coords = {\"Xpos\":('Xpos', x_pts), \"Ypos\":('Ypos', y_pts)}\n",
    "phi0_dataset = xr.Dataset(phi0_data_vars, coords)\n",
    "phi90_dataset = xr.Dataset(phi90_data_vars, coords)"
   ]
  },
  {
   "cell_type": "code",
   "execution_count": 99,
   "metadata": {},
   "outputs": [
    {
     "data": {
      "application/vnd.holoviews_exec.v0+json": "",
      "text/html": [
       "<div id='3114' style='display: table; margin: 0 auto;'>\n",
       "\n",
       "\n",
       "\n",
       "\n",
       "\n",
       "  <div class=\"bk-root\" id=\"1deee9c8-2be3-4bff-b2f0-59d3515d5bb5\" data-root-id=\"3114\"></div>\n",
       "</div>\n",
       "<script type=\"application/javascript\">(function(root) {\n",
       "  function embed_document(root) {\n",
       "    \n",
       "  var docs_json = {\"a3971601-aa31-4e43-b110-bdde5479fbc6\":{\"roots\":{\"references\":[{\"attributes\":{\"below\":[{\"id\":\"3123\",\"type\":\"LinearAxis\"}],\"center\":[{\"id\":\"3127\",\"type\":\"Grid\"},{\"id\":\"3132\",\"type\":\"Grid\"}],\"left\":[{\"id\":\"3128\",\"type\":\"LinearAxis\"}],\"margin\":null,\"min_border_bottom\":10,\"min_border_left\":10,\"min_border_right\":10,\"min_border_top\":10,\"plot_height\":300,\"plot_width\":700,\"renderers\":[{\"id\":\"3151\",\"type\":\"GlyphRenderer\"}],\"right\":[{\"id\":\"3154\",\"type\":\"ColorBar\"}],\"sizing_mode\":\"fixed\",\"title\":{\"id\":\"3115\",\"type\":\"Title\"},\"toolbar\":{\"id\":\"3138\",\"type\":\"Toolbar\"},\"x_range\":{\"id\":\"3111\",\"type\":\"Range1d\"},\"x_scale\":{\"id\":\"3119\",\"type\":\"LinearScale\"},\"y_range\":{\"id\":\"3112\",\"type\":\"Range1d\"},\"y_scale\":{\"id\":\"3121\",\"type\":\"LinearScale\"}},\"id\":\"3114\",\"subtype\":\"Figure\",\"type\":\"Plot\"},{\"attributes\":{},\"id\":\"3133\",\"type\":\"SaveTool\"},{\"attributes\":{},\"id\":\"3156\",\"type\":\"BasicTickFormatter\"},{\"attributes\":{},\"id\":\"3158\",\"type\":\"BasicTickFormatter\"},{\"attributes\":{},\"id\":\"3121\",\"type\":\"LinearScale\"},{\"attributes\":{},\"id\":\"3119\",\"type\":\"LinearScale\"},{\"attributes\":{\"data_source\":{\"id\":\"3146\",\"type\":\"ColumnDataSource\"},\"glyph\":{\"id\":\"3149\",\"type\":\"Image\"},\"hover_glyph\":null,\"muted_glyph\":null,\"nonselection_glyph\":{\"id\":\"3150\",\"type\":\"Image\"},\"selection_glyph\":null,\"view\":{\"id\":\"3152\",\"type\":\"CDSView\"}},\"id\":\"3151\",\"type\":\"GlyphRenderer\"},{\"attributes\":{\"color_mapper\":{\"id\":\"3145\",\"type\":\"LinearColorMapper\"},\"dh\":{\"field\":\"dh\",\"units\":\"data\"},\"dw\":{\"field\":\"dw\",\"units\":\"data\"},\"image\":{\"field\":\"image\"},\"x\":{\"field\":\"x\"},\"y\":{\"field\":\"y\"}},\"id\":\"3150\",\"type\":\"Image\"},{\"attributes\":{\"source\":{\"id\":\"3146\",\"type\":\"ColumnDataSource\"}},\"id\":\"3152\",\"type\":\"CDSView\"},{\"attributes\":{},\"id\":\"3153\",\"type\":\"BasicTicker\"},{\"attributes\":{\"axis_label\":\"Ypos\",\"bounds\":\"auto\",\"formatter\":{\"id\":\"3156\",\"type\":\"BasicTickFormatter\"},\"major_label_orientation\":\"horizontal\",\"ticker\":{\"id\":\"3124\",\"type\":\"BasicTicker\"}},\"id\":\"3123\",\"type\":\"LinearAxis\"},{\"attributes\":{},\"id\":\"3129\",\"type\":\"BasicTicker\"},{\"attributes\":{\"bottom_units\":\"screen\",\"fill_alpha\":{\"value\":0.5},\"fill_color\":{\"value\":\"lightgrey\"},\"left_units\":\"screen\",\"level\":\"overlay\",\"line_alpha\":{\"value\":1.0},\"line_color\":{\"value\":\"black\"},\"line_dash\":[4,4],\"line_width\":{\"value\":2},\"render_mode\":\"css\",\"right_units\":\"screen\",\"top_units\":\"screen\"},\"id\":\"3166\",\"type\":\"BoxAnnotation\"},{\"attributes\":{},\"id\":\"3147\",\"type\":\"Selection\"},{\"attributes\":{\"dimension\":1,\"grid_line_color\":null,\"ticker\":{\"id\":\"3129\",\"type\":\"BasicTicker\"}},\"id\":\"3132\",\"type\":\"Grid\"},{\"attributes\":{\"active_drag\":\"auto\",\"active_inspect\":\"auto\",\"active_multi\":null,\"active_scroll\":\"auto\",\"active_tap\":\"auto\",\"tools\":[{\"id\":\"3113\",\"type\":\"HoverTool\"},{\"id\":\"3133\",\"type\":\"SaveTool\"},{\"id\":\"3134\",\"type\":\"PanTool\"},{\"id\":\"3135\",\"type\":\"WheelZoomTool\"},{\"id\":\"3136\",\"type\":\"BoxZoomTool\"},{\"id\":\"3137\",\"type\":\"ResetTool\"}]},\"id\":\"3138\",\"type\":\"Toolbar\"},{\"attributes\":{},\"id\":\"3124\",\"type\":\"BasicTicker\"},{\"attributes\":{\"bar_line_color\":{\"value\":\"black\"},\"color_mapper\":{\"id\":\"3145\",\"type\":\"LinearColorMapper\"},\"formatter\":{\"id\":\"3163\",\"type\":\"BasicTickFormatter\"},\"label_standoff\":8,\"location\":[0,0],\"major_tick_line_color\":{\"value\":\"black\"},\"ticker\":{\"id\":\"3153\",\"type\":\"BasicTicker\"}},\"id\":\"3154\",\"type\":\"ColorBar\"},{\"attributes\":{\"grid_line_color\":null,\"ticker\":{\"id\":\"3124\",\"type\":\"BasicTicker\"}},\"id\":\"3127\",\"type\":\"Grid\"},{\"attributes\":{\"axis_label\":\"Xpos\",\"bounds\":\"auto\",\"formatter\":{\"id\":\"3158\",\"type\":\"BasicTickFormatter\"},\"major_label_orientation\":\"horizontal\",\"ticker\":{\"id\":\"3129\",\"type\":\"BasicTicker\"}},\"id\":\"3128\",\"type\":\"LinearAxis\"},{\"attributes\":{},\"id\":\"3135\",\"type\":\"WheelZoomTool\"},{\"attributes\":{\"overlay\":{\"id\":\"3166\",\"type\":\"BoxAnnotation\"}},\"id\":\"3136\",\"type\":\"BoxZoomTool\"},{\"attributes\":{},\"id\":\"3137\",\"type\":\"ResetTool\"},{\"attributes\":{\"callback\":null,\"renderers\":[{\"id\":\"3151\",\"type\":\"GlyphRenderer\"}],\"tags\":[\"hv_created\"],\"tooltips\":[[\"Ypos\",\"$x\"],[\"Xpos\",\"$y\"],[\"Yfield_avg\",\"@image\"]]},\"id\":\"3113\",\"type\":\"HoverTool\"},{\"attributes\":{\"callback\":null,\"data\":{\"dh\":[1.200000000000017],\"dw\":[0.70000000000001],\"image\":[{\"__ndarray__\":\"QTu6JAF00L9seHqlfHTQv5wwdP+bctC/yS+W/EJ00L9Qr5RlOHXQv6iCUUkNdNC/ysAU+B100L9XotlipHPQv0ugrtuNc9C/135Fkehz0L9iUSRy5HPQvzF3LSFvdNC/JLwqPYB30L95DlLdaXfQvxZnHz4Dd9C/2Kae8rV30L9PZT4NpXfQv4jxrSKGd9C/78nDQq130L902kCnbXfQvwWdNtApd9C/wVsgQaF30L+U9gZfuHfQvwRT4HeGd9C/6wEGXAp70L8YS36xVHrQv/OLJb+oetC/65jgwdx60L80ETY8DXrQv8hzkOouetC/XD8QMy560L/ahKH7L3vQv9IlCa8qe9C/65jgwXx70L/9PZ6DhHrQv2GeqH9DetC/K/aX3aN80L8ppuUaeX3QvxePeJ9gfdC/GSZTBYN90L/MXUvIt33Qv+5XFIlsftC/PAep7kR+0L+gauGfX37Qvwr2crJXfdC/WdCOLll90L+XIY51EX3Qv/QiACXrfNC/BaBkhSV/0L8cMgvaoX/Qv9uK/WV3f9C/qcl57BR/0L81orQ3GIDQvxLvExq7f9C/RwN4CxSA0L/T3uALs3/Qv2lplBuyf9C/iPTb12F+0L+ZTBWMen/QvwrXo3B9f9C/xK4AueeA0L9/IGYcQIHQv9xoAG/hgdC/H/RsVv2B0L+jI7n8B4LQv2yad5zSgdC/SLxPaCyB0L8D5F5zEYHQv7JTmU/TgdC/cIEExZ+B0L/oINWddIHQv4uzD5/BgNC/4Lvg5peB0L9t5/upgYPQv4AjlNE7g9C/a5dJ5/aC0L+oEKKPbILQv003iUGAgtC/eukmMSiD0L/i6ZWyHIPQv/p7PAcpg9C/nQ53CDaC0L8kvCo9sIHQv7wqPcBggtC/\",\"dtype\":\"float64\",\"shape\":[12,7]}],\"x\":[22.05],\"y\":[26.45]},\"selected\":{\"id\":\"3147\",\"type\":\"Selection\"},\"selection_policy\":{\"id\":\"3168\",\"type\":\"UnionRenderers\"}},\"id\":\"3146\",\"type\":\"ColumnDataSource\"},{\"attributes\":{\"high\":-0.2569952006022136,\"low\":-0.25802651977539065,\"nan_color\":\"rgba(0, 0, 0, 0)\",\"palette\":[\"#000000\",\"#060000\",\"#0d0000\",\"#120000\",\"#160000\",\"#190000\",\"#1c0000\",\"#1f0000\",\"#220000\",\"#240000\",\"#260000\",\"#280000\",\"#2b0000\",\"#2d0000\",\"#2e0000\",\"#300000\",\"#320000\",\"#340000\",\"#350000\",\"#370000\",\"#380000\",\"#3a0000\",\"#3b0000\",\"#3d0000\",\"#3e0000\",\"#400000\",\"#410000\",\"#430000\",\"#440000\",\"#460000\",\"#470000\",\"#490000\",\"#4a0000\",\"#4c0000\",\"#4d0000\",\"#4f0000\",\"#500000\",\"#520000\",\"#530000\",\"#550000\",\"#560000\",\"#580000\",\"#590100\",\"#5b0100\",\"#5d0100\",\"#5e0100\",\"#600100\",\"#610100\",\"#630100\",\"#650100\",\"#660100\",\"#680100\",\"#690100\",\"#6b0100\",\"#6d0100\",\"#6e0100\",\"#700100\",\"#710100\",\"#730100\",\"#750100\",\"#760100\",\"#780200\",\"#7a0200\",\"#7b0200\",\"#7d0200\",\"#7f0200\",\"#800200\",\"#820200\",\"#840200\",\"#850200\",\"#870200\",\"#890200\",\"#8a0200\",\"#8c0300\",\"#8e0300\",\"#900300\",\"#910300\",\"#930300\",\"#950300\",\"#960300\",\"#980300\",\"#9a0300\",\"#9c0300\",\"#9d0400\",\"#9f0400\",\"#a10400\",\"#a20400\",\"#a40400\",\"#a60400\",\"#a80400\",\"#a90400\",\"#ab0500\",\"#ad0500\",\"#af0500\",\"#b00500\",\"#b20500\",\"#b40500\",\"#b60600\",\"#b80600\",\"#b90600\",\"#bb0600\",\"#bd0600\",\"#bf0700\",\"#c00700\",\"#c20700\",\"#c40700\",\"#c60800\",\"#c80800\",\"#c90800\",\"#cb0800\",\"#cd0900\",\"#cf0900\",\"#d10900\",\"#d20a00\",\"#d40a00\",\"#d60a00\",\"#d80b00\",\"#da0b00\",\"#db0c00\",\"#dd0c00\",\"#df0d00\",\"#e10d00\",\"#e30e00\",\"#e40f00\",\"#e60f00\",\"#e81000\",\"#ea1100\",\"#eb1300\",\"#ed1400\",\"#ee1600\",\"#f01800\",\"#f11b00\",\"#f21d00\",\"#f32000\",\"#f52300\",\"#f62600\",\"#f62900\",\"#f72c00\",\"#f82f00\",\"#f93200\",\"#f93500\",\"#fa3800\",\"#fa3b00\",\"#fb3d00\",\"#fb4000\",\"#fb4300\",\"#fc4600\",\"#fc4900\",\"#fc4b00\",\"#fd4e00\",\"#fd5100\",\"#fd5300\",\"#fd5600\",\"#fd5800\",\"#fe5b00\",\"#fe5d00\",\"#fe5f00\",\"#fe6200\",\"#fe6400\",\"#fe6600\",\"#fe6800\",\"#fe6b00\",\"#fe6d00\",\"#fe6f00\",\"#fe7100\",\"#fe7300\",\"#fe7500\",\"#fe7700\",\"#fe7900\",\"#fe7c00\",\"#ff7e00\",\"#ff8000\",\"#ff8200\",\"#ff8300\",\"#ff8500\",\"#ff8700\",\"#ff8900\",\"#ff8b00\",\"#ff8d00\",\"#ff8f00\",\"#ff9100\",\"#ff9300\",\"#ff9400\",\"#ff9600\",\"#ff9800\",\"#ff9a00\",\"#ff9c00\",\"#ff9d00\",\"#ff9f00\",\"#ffa100\",\"#ffa300\",\"#ffa401\",\"#ffa601\",\"#ffa801\",\"#ffaa01\",\"#ffab01\",\"#ffad01\",\"#ffaf01\",\"#ffb001\",\"#ffb202\",\"#ffb402\",\"#ffb502\",\"#ffb702\",\"#ffb902\",\"#ffba02\",\"#ffbc03\",\"#ffbd03\",\"#ffbf03\",\"#ffc103\",\"#ffc204\",\"#ffc404\",\"#ffc604\",\"#ffc704\",\"#ffc905\",\"#ffca05\",\"#ffcc05\",\"#ffce06\",\"#ffcf06\",\"#ffd106\",\"#ffd207\",\"#ffd407\",\"#ffd508\",\"#ffd708\",\"#ffd909\",\"#ffda09\",\"#ffdc0a\",\"#ffdd0a\",\"#ffdf0b\",\"#ffe00b\",\"#ffe20c\",\"#ffe30d\",\"#ffe50e\",\"#ffe60f\",\"#ffe810\",\"#ffea11\",\"#ffeb12\",\"#ffed14\",\"#ffee17\",\"#fff01a\",\"#fff11e\",\"#fff324\",\"#fff42a\",\"#fff532\",\"#fff73b\",\"#fff847\",\"#fff953\",\"#fffb62\",\"#fffb72\",\"#fffc83\",\"#fffd95\",\"#fffea8\",\"#fffeba\",\"#fffecc\",\"#fffede\",\"#fffeee\",\"#ffffff\"]},\"id\":\"3145\",\"type\":\"LinearColorMapper\"},{\"attributes\":{\"callback\":null,\"end\":27.650000000000016,\"reset_end\":27.650000000000016,\"reset_start\":26.45,\"start\":26.45,\"tags\":[[[\"Xpos\",\"Xpos\",null]]]},\"id\":\"3112\",\"type\":\"Range1d\"},{\"attributes\":{\"callback\":null,\"end\":22.75000000000001,\"reset_end\":22.75000000000001,\"reset_start\":22.05,\"start\":22.05,\"tags\":[[[\"Ypos\",\"Ypos\",null]]]},\"id\":\"3111\",\"type\":\"Range1d\"},{\"attributes\":{\"text\":\"\",\"text_color\":{\"value\":\"black\"},\"text_font_size\":{\"value\":\"12pt\"}},\"id\":\"3115\",\"type\":\"Title\"},{\"attributes\":{},\"id\":\"3163\",\"type\":\"BasicTickFormatter\"},{\"attributes\":{},\"id\":\"3134\",\"type\":\"PanTool\"},{\"attributes\":{},\"id\":\"3168\",\"type\":\"UnionRenderers\"},{\"attributes\":{\"color_mapper\":{\"id\":\"3145\",\"type\":\"LinearColorMapper\"},\"dh\":{\"field\":\"dh\",\"units\":\"data\"},\"dw\":{\"field\":\"dw\",\"units\":\"data\"},\"image\":{\"field\":\"image\"},\"x\":{\"field\":\"x\"},\"y\":{\"field\":\"y\"}},\"id\":\"3149\",\"type\":\"Image\"}],\"root_ids\":[\"3114\"]},\"title\":\"Bokeh Application\",\"version\":\"1.2.0\"}};\n",
       "  var render_items = [{\"docid\":\"a3971601-aa31-4e43-b110-bdde5479fbc6\",\"roots\":{\"3114\":\"1deee9c8-2be3-4bff-b2f0-59d3515d5bb5\"}}];\n",
       "  root.Bokeh.embed.embed_items_notebook(docs_json, render_items);\n",
       "\n",
       "  }\n",
       "  if (root.Bokeh !== undefined) {\n",
       "    embed_document(root);\n",
       "  } else {\n",
       "    var attempts = 0;\n",
       "    var timer = setInterval(function(root) {\n",
       "      if (root.Bokeh !== undefined) {\n",
       "        embed_document(root);\n",
       "        clearInterval(timer);\n",
       "      }\n",
       "      attempts++;\n",
       "      if (attempts > 100) {\n",
       "        console.log(\"Bokeh: ERROR: Unable to run BokehJS code because BokehJS library is missing\");\n",
       "        clearInterval(timer);\n",
       "      }\n",
       "    }, 10, root)\n",
       "  }\n",
       "})(window);</script>"
      ],
      "text/plain": [
       ":Image   [Ypos,Xpos]   (Yfield_avg)"
      ]
     },
     "execution_count": 99,
     "metadata": {
      "application/vnd.holoviews_exec.v0+json": {
       "id": "3114"
      }
     },
     "output_type": "execute_result"
    }
   ],
   "source": [
    "phi0_dataset.Yfield_avg.hvplot()"
   ]
  },
  {
   "cell_type": "code",
   "execution_count": 100,
   "metadata": {},
   "outputs": [
    {
     "data": {
      "application/vnd.holoviews_exec.v0+json": "",
      "text/html": [
       "<div id='3235' style='display: table; margin: 0 auto;'>\n",
       "\n",
       "\n",
       "\n",
       "\n",
       "\n",
       "  <div class=\"bk-root\" id=\"6c51f80a-9870-46cd-a12d-deab1bebcd6c\" data-root-id=\"3235\"></div>\n",
       "</div>\n",
       "<script type=\"application/javascript\">(function(root) {\n",
       "  function embed_document(root) {\n",
       "    \n",
       "  var docs_json = {\"3a392103-2e4e-46dc-9023-db7c32412838\":{\"roots\":{\"references\":[{\"attributes\":{\"below\":[{\"id\":\"3244\",\"type\":\"LinearAxis\"}],\"center\":[{\"id\":\"3248\",\"type\":\"Grid\"},{\"id\":\"3253\",\"type\":\"Grid\"}],\"left\":[{\"id\":\"3249\",\"type\":\"LinearAxis\"}],\"margin\":null,\"min_border_bottom\":10,\"min_border_left\":10,\"min_border_right\":10,\"min_border_top\":10,\"plot_height\":300,\"plot_width\":700,\"renderers\":[{\"id\":\"3272\",\"type\":\"GlyphRenderer\"}],\"right\":[{\"id\":\"3275\",\"type\":\"ColorBar\"}],\"sizing_mode\":\"fixed\",\"title\":{\"id\":\"3236\",\"type\":\"Title\"},\"toolbar\":{\"id\":\"3259\",\"type\":\"Toolbar\"},\"x_range\":{\"id\":\"3232\",\"type\":\"Range1d\"},\"x_scale\":{\"id\":\"3240\",\"type\":\"LinearScale\"},\"y_range\":{\"id\":\"3233\",\"type\":\"Range1d\"},\"y_scale\":{\"id\":\"3242\",\"type\":\"LinearScale\"}},\"id\":\"3235\",\"subtype\":\"Figure\",\"type\":\"Plot\"},{\"attributes\":{},\"id\":\"3268\",\"type\":\"Selection\"},{\"attributes\":{\"bottom_units\":\"screen\",\"fill_alpha\":{\"value\":0.5},\"fill_color\":{\"value\":\"lightgrey\"},\"left_units\":\"screen\",\"level\":\"overlay\",\"line_alpha\":{\"value\":1.0},\"line_color\":{\"value\":\"black\"},\"line_dash\":[4,4],\"line_width\":{\"value\":2},\"render_mode\":\"css\",\"right_units\":\"screen\",\"top_units\":\"screen\"},\"id\":\"3287\",\"type\":\"BoxAnnotation\"},{\"attributes\":{\"callback\":null,\"end\":27.650000000000016,\"reset_end\":27.650000000000016,\"reset_start\":26.45,\"start\":26.45,\"tags\":[[[\"Xpos\",\"Xpos\",null]]]},\"id\":\"3233\",\"type\":\"Range1d\"},{\"attributes\":{\"color_mapper\":{\"id\":\"3266\",\"type\":\"LinearColorMapper\"},\"dh\":{\"field\":\"dh\",\"units\":\"data\"},\"dw\":{\"field\":\"dw\",\"units\":\"data\"},\"image\":{\"field\":\"image\"},\"x\":{\"field\":\"x\"},\"y\":{\"field\":\"y\"}},\"id\":\"3271\",\"type\":\"Image\"},{\"attributes\":{},\"id\":\"3254\",\"type\":\"SaveTool\"},{\"attributes\":{\"callback\":null,\"renderers\":[{\"id\":\"3272\",\"type\":\"GlyphRenderer\"}],\"tags\":[\"hv_created\"],\"tooltips\":[[\"Ypos\",\"$x\"],[\"Xpos\",\"$y\"],[\"Yfield_avg\",\"@image\"]]},\"id\":\"3234\",\"type\":\"HoverTool\"},{\"attributes\":{},\"id\":\"3284\",\"type\":\"BasicTickFormatter\"},{\"attributes\":{\"axis_label\":\"Xpos\",\"bounds\":\"auto\",\"formatter\":{\"id\":\"3279\",\"type\":\"BasicTickFormatter\"},\"major_label_orientation\":\"horizontal\",\"ticker\":{\"id\":\"3250\",\"type\":\"BasicTicker\"}},\"id\":\"3249\",\"type\":\"LinearAxis\"},{\"attributes\":{\"callback\":null,\"end\":22.75000000000001,\"reset_end\":22.75000000000001,\"reset_start\":22.05,\"start\":22.05,\"tags\":[[[\"Ypos\",\"Ypos\",null]]]},\"id\":\"3232\",\"type\":\"Range1d\"},{\"attributes\":{},\"id\":\"3245\",\"type\":\"BasicTicker\"},{\"attributes\":{},\"id\":\"3289\",\"type\":\"UnionRenderers\"},{\"attributes\":{\"grid_line_color\":null,\"ticker\":{\"id\":\"3245\",\"type\":\"BasicTicker\"}},\"id\":\"3248\",\"type\":\"Grid\"},{\"attributes\":{\"high\":0.000374462890625,\"low\":-0.001804829915364584,\"nan_color\":\"rgba(0, 0, 0, 0)\",\"palette\":[\"#000000\",\"#060000\",\"#0d0000\",\"#120000\",\"#160000\",\"#190000\",\"#1c0000\",\"#1f0000\",\"#220000\",\"#240000\",\"#260000\",\"#280000\",\"#2b0000\",\"#2d0000\",\"#2e0000\",\"#300000\",\"#320000\",\"#340000\",\"#350000\",\"#370000\",\"#380000\",\"#3a0000\",\"#3b0000\",\"#3d0000\",\"#3e0000\",\"#400000\",\"#410000\",\"#430000\",\"#440000\",\"#460000\",\"#470000\",\"#490000\",\"#4a0000\",\"#4c0000\",\"#4d0000\",\"#4f0000\",\"#500000\",\"#520000\",\"#530000\",\"#550000\",\"#560000\",\"#580000\",\"#590100\",\"#5b0100\",\"#5d0100\",\"#5e0100\",\"#600100\",\"#610100\",\"#630100\",\"#650100\",\"#660100\",\"#680100\",\"#690100\",\"#6b0100\",\"#6d0100\",\"#6e0100\",\"#700100\",\"#710100\",\"#730100\",\"#750100\",\"#760100\",\"#780200\",\"#7a0200\",\"#7b0200\",\"#7d0200\",\"#7f0200\",\"#800200\",\"#820200\",\"#840200\",\"#850200\",\"#870200\",\"#890200\",\"#8a0200\",\"#8c0300\",\"#8e0300\",\"#900300\",\"#910300\",\"#930300\",\"#950300\",\"#960300\",\"#980300\",\"#9a0300\",\"#9c0300\",\"#9d0400\",\"#9f0400\",\"#a10400\",\"#a20400\",\"#a40400\",\"#a60400\",\"#a80400\",\"#a90400\",\"#ab0500\",\"#ad0500\",\"#af0500\",\"#b00500\",\"#b20500\",\"#b40500\",\"#b60600\",\"#b80600\",\"#b90600\",\"#bb0600\",\"#bd0600\",\"#bf0700\",\"#c00700\",\"#c20700\",\"#c40700\",\"#c60800\",\"#c80800\",\"#c90800\",\"#cb0800\",\"#cd0900\",\"#cf0900\",\"#d10900\",\"#d20a00\",\"#d40a00\",\"#d60a00\",\"#d80b00\",\"#da0b00\",\"#db0c00\",\"#dd0c00\",\"#df0d00\",\"#e10d00\",\"#e30e00\",\"#e40f00\",\"#e60f00\",\"#e81000\",\"#ea1100\",\"#eb1300\",\"#ed1400\",\"#ee1600\",\"#f01800\",\"#f11b00\",\"#f21d00\",\"#f32000\",\"#f52300\",\"#f62600\",\"#f62900\",\"#f72c00\",\"#f82f00\",\"#f93200\",\"#f93500\",\"#fa3800\",\"#fa3b00\",\"#fb3d00\",\"#fb4000\",\"#fb4300\",\"#fc4600\",\"#fc4900\",\"#fc4b00\",\"#fd4e00\",\"#fd5100\",\"#fd5300\",\"#fd5600\",\"#fd5800\",\"#fe5b00\",\"#fe5d00\",\"#fe5f00\",\"#fe6200\",\"#fe6400\",\"#fe6600\",\"#fe6800\",\"#fe6b00\",\"#fe6d00\",\"#fe6f00\",\"#fe7100\",\"#fe7300\",\"#fe7500\",\"#fe7700\",\"#fe7900\",\"#fe7c00\",\"#ff7e00\",\"#ff8000\",\"#ff8200\",\"#ff8300\",\"#ff8500\",\"#ff8700\",\"#ff8900\",\"#ff8b00\",\"#ff8d00\",\"#ff8f00\",\"#ff9100\",\"#ff9300\",\"#ff9400\",\"#ff9600\",\"#ff9800\",\"#ff9a00\",\"#ff9c00\",\"#ff9d00\",\"#ff9f00\",\"#ffa100\",\"#ffa300\",\"#ffa401\",\"#ffa601\",\"#ffa801\",\"#ffaa01\",\"#ffab01\",\"#ffad01\",\"#ffaf01\",\"#ffb001\",\"#ffb202\",\"#ffb402\",\"#ffb502\",\"#ffb702\",\"#ffb902\",\"#ffba02\",\"#ffbc03\",\"#ffbd03\",\"#ffbf03\",\"#ffc103\",\"#ffc204\",\"#ffc404\",\"#ffc604\",\"#ffc704\",\"#ffc905\",\"#ffca05\",\"#ffcc05\",\"#ffce06\",\"#ffcf06\",\"#ffd106\",\"#ffd207\",\"#ffd407\",\"#ffd508\",\"#ffd708\",\"#ffd909\",\"#ffda09\",\"#ffdc0a\",\"#ffdd0a\",\"#ffdf0b\",\"#ffe00b\",\"#ffe20c\",\"#ffe30d\",\"#ffe50e\",\"#ffe60f\",\"#ffe810\",\"#ffea11\",\"#ffeb12\",\"#ffed14\",\"#ffee17\",\"#fff01a\",\"#fff11e\",\"#fff324\",\"#fff42a\",\"#fff532\",\"#fff73b\",\"#fff847\",\"#fff953\",\"#fffb62\",\"#fffb72\",\"#fffc83\",\"#fffd95\",\"#fffea8\",\"#fffeba\",\"#fffecc\",\"#fffede\",\"#fffeee\",\"#ffffff\"]},\"id\":\"3266\",\"type\":\"LinearColorMapper\"},{\"attributes\":{\"dimension\":1,\"grid_line_color\":null,\"ticker\":{\"id\":\"3250\",\"type\":\"BasicTicker\"}},\"id\":\"3253\",\"type\":\"Grid\"},{\"attributes\":{},\"id\":\"3250\",\"type\":\"BasicTicker\"},{\"attributes\":{},\"id\":\"3279\",\"type\":\"BasicTickFormatter\"},{\"attributes\":{},\"id\":\"3277\",\"type\":\"BasicTickFormatter\"},{\"attributes\":{\"source\":{\"id\":\"3267\",\"type\":\"ColumnDataSource\"}},\"id\":\"3273\",\"type\":\"CDSView\"},{\"attributes\":{\"callback\":null,\"data\":{\"dh\":[1.200000000000017],\"dw\":[0.70000000000001],\"image\":[{\"__ndarray__\":\"GLr/taknXb9P0ZFc/iNcv5M305e4yFi/XCBB8WOsVb8/EDMOCOdRv+jTUJDFQ02/4JwRpb3hRr+neccpOhJAvwGX2mXSOTG/7HbjysZwCL/z+qbDHYIlP0Otad5xijg/QnyGXQGSXb8PCIfxrRJcv4ha07zj9Fi/FtagQog+Vb8EDLjULhNSvz5O0ZFcfk2/0Y4uSXh1Rr9Ra5p3nOI+v5i4aNtDVTC/606KablGAr+JQWDl0KIiP2Rd3EYDeDc/BKbA78yRXb/A8vqmw71bv0Ck374ObFi/QfFjzF07Vb9KfrHkF+tRv8Qdgr2cLE2/EjyYJ+q/Rr9QssIaVGhAvy0hH/Rs1jK/uBtXNoYTGL/5DLsC5F4cP8OGp1fKcjY/F494n9AoXb+dEaW9wcdbv2AHzhlRqli/sJRliGPNVb/rduPKxiBSv0/zjlN0JE6/8Yj3CY3NRr9rch47lfk/vzcd7hDsZTK/FdNyjbyZEb/inz9aiWYhP6ie8tV7lzY/DidWM1heXb8/NV66SQxcv2ZgCvzOzFi/okW28/1UVb+k3JBZ0C5Sv/h7PAepTk2/Buq63bgyR78+VC388ydAvyysQYUQPTK/ut24sjGcFL/8hMYmDN0hP1ka5YbMwjU/UGU+DQUpXb8VsXWWRrlbv7ZcI2+mT1i/AJSssAaFVb9JdSfFtMxRvziPncp8Wk2/nX34DLvCRr+JrbM0yq1Av70FEhQ/BjK/T/OOU3QkCb+vR+F6FC4iP0WzxUgJlDY/kVN0JJfvXL9csb/snoxbv38Bl9plYli/XbTtoWoBVb9WVVVVVSVSv/cGX5hM1U2/KAzd/9p0R7/Q+oGYcaBAvzTmriXkgzS/rthfdk8eFb+gGi/dJIYiPwz//NFK9DY/\",\"dtype\":\"float64\",\"shape\":[12,7]}],\"x\":[22.05],\"y\":[26.45]},\"selected\":{\"id\":\"3268\",\"type\":\"Selection\"},\"selection_policy\":{\"id\":\"3289\",\"type\":\"UnionRenderers\"}},\"id\":\"3267\",\"type\":\"ColumnDataSource\"},{\"attributes\":{\"text\":\"\",\"text_color\":{\"value\":\"black\"},\"text_font_size\":{\"value\":\"12pt\"}},\"id\":\"3236\",\"type\":\"Title\"},{\"attributes\":{},\"id\":\"3256\",\"type\":\"WheelZoomTool\"},{\"attributes\":{\"axis_label\":\"Ypos\",\"bounds\":\"auto\",\"formatter\":{\"id\":\"3277\",\"type\":\"BasicTickFormatter\"},\"major_label_orientation\":\"horizontal\",\"ticker\":{\"id\":\"3245\",\"type\":\"BasicTicker\"}},\"id\":\"3244\",\"type\":\"LinearAxis\"},{\"attributes\":{},\"id\":\"3258\",\"type\":\"ResetTool\"},{\"attributes\":{},\"id\":\"3242\",\"type\":\"LinearScale\"},{\"attributes\":{},\"id\":\"3255\",\"type\":\"PanTool\"},{\"attributes\":{\"overlay\":{\"id\":\"3287\",\"type\":\"BoxAnnotation\"}},\"id\":\"3257\",\"type\":\"BoxZoomTool\"},{\"attributes\":{\"data_source\":{\"id\":\"3267\",\"type\":\"ColumnDataSource\"},\"glyph\":{\"id\":\"3270\",\"type\":\"Image\"},\"hover_glyph\":null,\"muted_glyph\":null,\"nonselection_glyph\":{\"id\":\"3271\",\"type\":\"Image\"},\"selection_glyph\":null,\"view\":{\"id\":\"3273\",\"type\":\"CDSView\"}},\"id\":\"3272\",\"type\":\"GlyphRenderer\"},{\"attributes\":{\"color_mapper\":{\"id\":\"3266\",\"type\":\"LinearColorMapper\"},\"dh\":{\"field\":\"dh\",\"units\":\"data\"},\"dw\":{\"field\":\"dw\",\"units\":\"data\"},\"image\":{\"field\":\"image\"},\"x\":{\"field\":\"x\"},\"y\":{\"field\":\"y\"}},\"id\":\"3270\",\"type\":\"Image\"},{\"attributes\":{},\"id\":\"3240\",\"type\":\"LinearScale\"},{\"attributes\":{\"active_drag\":\"auto\",\"active_inspect\":\"auto\",\"active_multi\":null,\"active_scroll\":\"auto\",\"active_tap\":\"auto\",\"tools\":[{\"id\":\"3234\",\"type\":\"HoverTool\"},{\"id\":\"3254\",\"type\":\"SaveTool\"},{\"id\":\"3255\",\"type\":\"PanTool\"},{\"id\":\"3256\",\"type\":\"WheelZoomTool\"},{\"id\":\"3257\",\"type\":\"BoxZoomTool\"},{\"id\":\"3258\",\"type\":\"ResetTool\"}]},\"id\":\"3259\",\"type\":\"Toolbar\"},{\"attributes\":{},\"id\":\"3274\",\"type\":\"BasicTicker\"},{\"attributes\":{\"bar_line_color\":{\"value\":\"black\"},\"color_mapper\":{\"id\":\"3266\",\"type\":\"LinearColorMapper\"},\"formatter\":{\"id\":\"3284\",\"type\":\"BasicTickFormatter\"},\"label_standoff\":8,\"location\":[0,0],\"major_tick_line_color\":{\"value\":\"black\"},\"ticker\":{\"id\":\"3274\",\"type\":\"BasicTicker\"}},\"id\":\"3275\",\"type\":\"ColorBar\"}],\"root_ids\":[\"3235\"]},\"title\":\"Bokeh Application\",\"version\":\"1.2.0\"}};\n",
       "  var render_items = [{\"docid\":\"3a392103-2e4e-46dc-9023-db7c32412838\",\"roots\":{\"3235\":\"6c51f80a-9870-46cd-a12d-deab1bebcd6c\"}}];\n",
       "  root.Bokeh.embed.embed_items_notebook(docs_json, render_items);\n",
       "\n",
       "  }\n",
       "  if (root.Bokeh !== undefined) {\n",
       "    embed_document(root);\n",
       "  } else {\n",
       "    var attempts = 0;\n",
       "    var timer = setInterval(function(root) {\n",
       "      if (root.Bokeh !== undefined) {\n",
       "        embed_document(root);\n",
       "        clearInterval(timer);\n",
       "      }\n",
       "      attempts++;\n",
       "      if (attempts > 100) {\n",
       "        console.log(\"Bokeh: ERROR: Unable to run BokehJS code because BokehJS library is missing\");\n",
       "        clearInterval(timer);\n",
       "      }\n",
       "    }, 10, root)\n",
       "  }\n",
       "})(window);</script>"
      ],
      "text/plain": [
       ":Image   [Ypos,Xpos]   (Yfield_avg)"
      ]
     },
     "execution_count": 100,
     "metadata": {
      "application/vnd.holoviews_exec.v0+json": {
       "id": "3235"
      }
     },
     "output_type": "execute_result"
    }
   ],
   "source": [
    "phi90_dataset.Yfield_avg.hvplot()"
   ]
  },
  {
   "cell_type": "code",
   "execution_count": 101,
   "metadata": {},
   "outputs": [
    {
     "data": {
      "application/vnd.holoviews_exec.v0+json": "",
      "text/html": [
       "<div id='3356' style='display: table; margin: 0 auto;'>\n",
       "\n",
       "\n",
       "\n",
       "\n",
       "\n",
       "  <div class=\"bk-root\" id=\"441206ee-5094-4a16-ac91-ab3d55e89c44\" data-root-id=\"3356\"></div>\n",
       "</div>\n",
       "<script type=\"application/javascript\">(function(root) {\n",
       "  function embed_document(root) {\n",
       "    \n",
       "  var docs_json = {\"56f40e9d-620d-42f9-be89-cad616d11a03\":{\"roots\":{\"references\":[{\"attributes\":{\"below\":[{\"id\":\"3365\",\"type\":\"LinearAxis\"}],\"center\":[{\"id\":\"3369\",\"type\":\"Grid\"},{\"id\":\"3374\",\"type\":\"Grid\"}],\"left\":[{\"id\":\"3370\",\"type\":\"LinearAxis\"}],\"margin\":null,\"min_border_bottom\":10,\"min_border_left\":10,\"min_border_right\":10,\"min_border_top\":10,\"plot_height\":300,\"plot_width\":700,\"renderers\":[{\"id\":\"3393\",\"type\":\"GlyphRenderer\"}],\"right\":[{\"id\":\"3396\",\"type\":\"ColorBar\"}],\"sizing_mode\":\"fixed\",\"title\":{\"id\":\"3357\",\"type\":\"Title\"},\"toolbar\":{\"id\":\"3380\",\"type\":\"Toolbar\"},\"x_range\":{\"id\":\"3353\",\"type\":\"Range1d\"},\"x_scale\":{\"id\":\"3361\",\"type\":\"LinearScale\"},\"y_range\":{\"id\":\"3354\",\"type\":\"Range1d\"},\"y_scale\":{\"id\":\"3363\",\"type\":\"LinearScale\"}},\"id\":\"3356\",\"subtype\":\"Figure\",\"type\":\"Plot\"},{\"attributes\":{\"active_drag\":\"auto\",\"active_inspect\":\"auto\",\"active_multi\":null,\"active_scroll\":\"auto\",\"active_tap\":\"auto\",\"tools\":[{\"id\":\"3355\",\"type\":\"HoverTool\"},{\"id\":\"3375\",\"type\":\"SaveTool\"},{\"id\":\"3376\",\"type\":\"PanTool\"},{\"id\":\"3377\",\"type\":\"WheelZoomTool\"},{\"id\":\"3378\",\"type\":\"BoxZoomTool\"},{\"id\":\"3379\",\"type\":\"ResetTool\"}]},\"id\":\"3380\",\"type\":\"Toolbar\"},{\"attributes\":{\"data_source\":{\"id\":\"3388\",\"type\":\"ColumnDataSource\"},\"glyph\":{\"id\":\"3391\",\"type\":\"Image\"},\"hover_glyph\":null,\"muted_glyph\":null,\"nonselection_glyph\":{\"id\":\"3392\",\"type\":\"Image\"},\"selection_glyph\":null,\"view\":{\"id\":\"3394\",\"type\":\"CDSView\"}},\"id\":\"3393\",\"type\":\"GlyphRenderer\"},{\"attributes\":{},\"id\":\"3405\",\"type\":\"BasicTickFormatter\"},{\"attributes\":{},\"id\":\"3375\",\"type\":\"SaveTool\"},{\"attributes\":{\"overlay\":{\"id\":\"3408\",\"type\":\"BoxAnnotation\"}},\"id\":\"3378\",\"type\":\"BoxZoomTool\"},{\"attributes\":{},\"id\":\"3395\",\"type\":\"BasicTicker\"},{\"attributes\":{},\"id\":\"3379\",\"type\":\"ResetTool\"},{\"attributes\":{},\"id\":\"3410\",\"type\":\"UnionRenderers\"},{\"attributes\":{\"dimension\":1,\"grid_line_color\":null,\"ticker\":{\"id\":\"3371\",\"type\":\"BasicTicker\"}},\"id\":\"3374\",\"type\":\"Grid\"},{\"attributes\":{},\"id\":\"3400\",\"type\":\"BasicTickFormatter\"},{\"attributes\":{\"axis_label\":\"Xpos\",\"bounds\":\"auto\",\"formatter\":{\"id\":\"3400\",\"type\":\"BasicTickFormatter\"},\"major_label_orientation\":\"horizontal\",\"ticker\":{\"id\":\"3371\",\"type\":\"BasicTicker\"}},\"id\":\"3370\",\"type\":\"LinearAxis\"},{\"attributes\":{},\"id\":\"3371\",\"type\":\"BasicTicker\"},{\"attributes\":{\"color_mapper\":{\"id\":\"3387\",\"type\":\"LinearColorMapper\"},\"dh\":{\"field\":\"dh\",\"units\":\"data\"},\"dw\":{\"field\":\"dw\",\"units\":\"data\"},\"image\":{\"field\":\"image\"},\"x\":{\"field\":\"x\"},\"y\":{\"field\":\"y\"}},\"id\":\"3392\",\"type\":\"Image\"},{\"attributes\":{},\"id\":\"3376\",\"type\":\"PanTool\"},{\"attributes\":{\"bar_line_color\":{\"value\":\"black\"},\"color_mapper\":{\"id\":\"3387\",\"type\":\"LinearColorMapper\"},\"formatter\":{\"id\":\"3405\",\"type\":\"BasicTickFormatter\"},\"label_standoff\":8,\"location\":[0,0],\"major_tick_line_color\":{\"value\":\"black\"},\"ticker\":{\"id\":\"3395\",\"type\":\"BasicTicker\"}},\"id\":\"3396\",\"type\":\"ColorBar\"},{\"attributes\":{\"grid_line_color\":null,\"ticker\":{\"id\":\"3366\",\"type\":\"BasicTicker\"}},\"id\":\"3369\",\"type\":\"Grid\"},{\"attributes\":{\"callback\":null,\"end\":27.650000000000016,\"reset_end\":27.650000000000016,\"reset_start\":26.45,\"start\":26.45,\"tags\":[[[\"Xpos\",\"Xpos\",null]]]},\"id\":\"3354\",\"type\":\"Range1d\"},{\"attributes\":{},\"id\":\"3398\",\"type\":\"BasicTickFormatter\"},{\"attributes\":{\"bottom_units\":\"screen\",\"fill_alpha\":{\"value\":0.5},\"fill_color\":{\"value\":\"lightgrey\"},\"left_units\":\"screen\",\"level\":\"overlay\",\"line_alpha\":{\"value\":1.0},\"line_color\":{\"value\":\"black\"},\"line_dash\":[4,4],\"line_width\":{\"value\":2},\"render_mode\":\"css\",\"right_units\":\"screen\",\"top_units\":\"screen\"},\"id\":\"3408\",\"type\":\"BoxAnnotation\"},{\"attributes\":{},\"id\":\"3366\",\"type\":\"BasicTicker\"},{\"attributes\":{\"source\":{\"id\":\"3388\",\"type\":\"ColumnDataSource\"}},\"id\":\"3394\",\"type\":\"CDSView\"},{\"attributes\":{\"high\":0.25909398396809896,\"low\":0.25832510782877605,\"nan_color\":\"rgba(0, 0, 0, 0)\",\"palette\":[\"#000000\",\"#060000\",\"#0d0000\",\"#120000\",\"#160000\",\"#190000\",\"#1c0000\",\"#1f0000\",\"#220000\",\"#240000\",\"#260000\",\"#280000\",\"#2b0000\",\"#2d0000\",\"#2e0000\",\"#300000\",\"#320000\",\"#340000\",\"#350000\",\"#370000\",\"#380000\",\"#3a0000\",\"#3b0000\",\"#3d0000\",\"#3e0000\",\"#400000\",\"#410000\",\"#430000\",\"#440000\",\"#460000\",\"#470000\",\"#490000\",\"#4a0000\",\"#4c0000\",\"#4d0000\",\"#4f0000\",\"#500000\",\"#520000\",\"#530000\",\"#550000\",\"#560000\",\"#580000\",\"#590100\",\"#5b0100\",\"#5d0100\",\"#5e0100\",\"#600100\",\"#610100\",\"#630100\",\"#650100\",\"#660100\",\"#680100\",\"#690100\",\"#6b0100\",\"#6d0100\",\"#6e0100\",\"#700100\",\"#710100\",\"#730100\",\"#750100\",\"#760100\",\"#780200\",\"#7a0200\",\"#7b0200\",\"#7d0200\",\"#7f0200\",\"#800200\",\"#820200\",\"#840200\",\"#850200\",\"#870200\",\"#890200\",\"#8a0200\",\"#8c0300\",\"#8e0300\",\"#900300\",\"#910300\",\"#930300\",\"#950300\",\"#960300\",\"#980300\",\"#9a0300\",\"#9c0300\",\"#9d0400\",\"#9f0400\",\"#a10400\",\"#a20400\",\"#a40400\",\"#a60400\",\"#a80400\",\"#a90400\",\"#ab0500\",\"#ad0500\",\"#af0500\",\"#b00500\",\"#b20500\",\"#b40500\",\"#b60600\",\"#b80600\",\"#b90600\",\"#bb0600\",\"#bd0600\",\"#bf0700\",\"#c00700\",\"#c20700\",\"#c40700\",\"#c60800\",\"#c80800\",\"#c90800\",\"#cb0800\",\"#cd0900\",\"#cf0900\",\"#d10900\",\"#d20a00\",\"#d40a00\",\"#d60a00\",\"#d80b00\",\"#da0b00\",\"#db0c00\",\"#dd0c00\",\"#df0d00\",\"#e10d00\",\"#e30e00\",\"#e40f00\",\"#e60f00\",\"#e81000\",\"#ea1100\",\"#eb1300\",\"#ed1400\",\"#ee1600\",\"#f01800\",\"#f11b00\",\"#f21d00\",\"#f32000\",\"#f52300\",\"#f62600\",\"#f62900\",\"#f72c00\",\"#f82f00\",\"#f93200\",\"#f93500\",\"#fa3800\",\"#fa3b00\",\"#fb3d00\",\"#fb4000\",\"#fb4300\",\"#fc4600\",\"#fc4900\",\"#fc4b00\",\"#fd4e00\",\"#fd5100\",\"#fd5300\",\"#fd5600\",\"#fd5800\",\"#fe5b00\",\"#fe5d00\",\"#fe5f00\",\"#fe6200\",\"#fe6400\",\"#fe6600\",\"#fe6800\",\"#fe6b00\",\"#fe6d00\",\"#fe6f00\",\"#fe7100\",\"#fe7300\",\"#fe7500\",\"#fe7700\",\"#fe7900\",\"#fe7c00\",\"#ff7e00\",\"#ff8000\",\"#ff8200\",\"#ff8300\",\"#ff8500\",\"#ff8700\",\"#ff8900\",\"#ff8b00\",\"#ff8d00\",\"#ff8f00\",\"#ff9100\",\"#ff9300\",\"#ff9400\",\"#ff9600\",\"#ff9800\",\"#ff9a00\",\"#ff9c00\",\"#ff9d00\",\"#ff9f00\",\"#ffa100\",\"#ffa300\",\"#ffa401\",\"#ffa601\",\"#ffa801\",\"#ffaa01\",\"#ffab01\",\"#ffad01\",\"#ffaf01\",\"#ffb001\",\"#ffb202\",\"#ffb402\",\"#ffb502\",\"#ffb702\",\"#ffb902\",\"#ffba02\",\"#ffbc03\",\"#ffbd03\",\"#ffbf03\",\"#ffc103\",\"#ffc204\",\"#ffc404\",\"#ffc604\",\"#ffc704\",\"#ffc905\",\"#ffca05\",\"#ffcc05\",\"#ffce06\",\"#ffcf06\",\"#ffd106\",\"#ffd207\",\"#ffd407\",\"#ffd508\",\"#ffd708\",\"#ffd909\",\"#ffda09\",\"#ffdc0a\",\"#ffdd0a\",\"#ffdf0b\",\"#ffe00b\",\"#ffe20c\",\"#ffe30d\",\"#ffe50e\",\"#ffe60f\",\"#ffe810\",\"#ffea11\",\"#ffeb12\",\"#ffed14\",\"#ffee17\",\"#fff01a\",\"#fff11e\",\"#fff324\",\"#fff42a\",\"#fff532\",\"#fff73b\",\"#fff847\",\"#fff953\",\"#fffb62\",\"#fffb72\",\"#fffc83\",\"#fffd95\",\"#fffea8\",\"#fffeba\",\"#fffecc\",\"#fffede\",\"#fffeee\",\"#ffffff\"]},\"id\":\"3387\",\"type\":\"LinearColorMapper\"},{\"attributes\":{},\"id\":\"3389\",\"type\":\"Selection\"},{\"attributes\":{\"axis_label\":\"Ypos\",\"bounds\":\"auto\",\"formatter\":{\"id\":\"3398\",\"type\":\"BasicTickFormatter\"},\"major_label_orientation\":\"horizontal\",\"ticker\":{\"id\":\"3366\",\"type\":\"BasicTicker\"}},\"id\":\"3365\",\"type\":\"LinearAxis\"},{\"attributes\":{\"callback\":null,\"data\":{\"dh\":[1.200000000000017],\"dw\":[0.70000000000001],\"image\":[{\"__ndarray__\":\"0WwxUpKI0D/PhaQphYvQP8h57FQGjtA/oIzelsWP0D/TubVfQZHQPw1Mgd9ZktA/IWYcEF6T0D9tWatjYpTQP7PkF0s+lNA/S1ZYg/qT0D8Pdwj2spHQP4r6N0KpkdA/eC0hHxSJ0D/y1XsX3IvQP5XXNx3ujdA/lfk0FBSQ0D8oo7dl/ZHQP8Uj3id0k9A/WTm0yCaU0D/6Ehdt+5TQP+BMX+LClNA/+Jfdk5eT0D8JG55eKZPQPzGZKhilktA/nA53CGaI0D9YgwohWovQP7VcI28Gj9A/rWnecYqQ0D/RAN4CaZLQP240gLfAktA/NVuMlFCT0D9n1edq25TQP+/u7u7+lNA/5YbMgiaU0D8PCIfxnZPQP3sUrkdRkNA/Qc9m1QeK0D8+DQVZDI3QP+7rwDkDj9A/tVwjb8aQ0D+L2DpLU5LQPwFKVlhzktA/hg1Pr2ST0D8jbHh69ZTQP7Al5IO+lNA/WBFbZ7mU0D+L/WX3VJPQP3313gWXkdA/k4eFWiOK0D9Zq2OCJ43QP7BvOtwBj9A/h/GtIkaQ0D8rX713IZHQP8pUwagUk9A/Xyz5xYKT0D/GJgzdn5TQP7RfUSRClNA/OYxvFQGT0D+pWvjn75PQP9tApw20ktA/MlICde2I0D/m+Hs8p4vQPy0hH/RMjtA/ltQJaNKP0D9Hb8taPZLQP+0KkHv9ktA/N/WUr66T0D8EVg4tUpTQP7ErQO4Fk9A/+lYRW/eU0D+Ki7Y9BJTQP4BqvHTjktA/4Z8/WkmJ0D97OdnzQozQP3Vu7VdUjtA/SVMqzv6Q0D8DCYof05HQP6yt2F8mk9A/pU5AEzGU0D+RVqLZYpTQP8mb6UtMlNA/+35qvBSU0D9QG+i0cZLQPxVk8Yi3ktA/\",\"dtype\":\"float64\",\"shape\":[12,7]}],\"x\":[22.05],\"y\":[26.45]},\"selected\":{\"id\":\"3389\",\"type\":\"Selection\"},\"selection_policy\":{\"id\":\"3410\",\"type\":\"UnionRenderers\"}},\"id\":\"3388\",\"type\":\"ColumnDataSource\"},{\"attributes\":{},\"id\":\"3377\",\"type\":\"WheelZoomTool\"},{\"attributes\":{\"color_mapper\":{\"id\":\"3387\",\"type\":\"LinearColorMapper\"},\"dh\":{\"field\":\"dh\",\"units\":\"data\"},\"dw\":{\"field\":\"dw\",\"units\":\"data\"},\"image\":{\"field\":\"image\"},\"x\":{\"field\":\"x\"},\"y\":{\"field\":\"y\"}},\"id\":\"3391\",\"type\":\"Image\"},{\"attributes\":{\"callback\":null,\"end\":22.75000000000001,\"reset_end\":22.75000000000001,\"reset_start\":22.05,\"start\":22.05,\"tags\":[[[\"Ypos\",\"Ypos\",null]]]},\"id\":\"3353\",\"type\":\"Range1d\"},{\"attributes\":{\"text\":\"\",\"text_color\":{\"value\":\"black\"},\"text_font_size\":{\"value\":\"12pt\"}},\"id\":\"3357\",\"type\":\"Title\"},{\"attributes\":{\"callback\":null,\"renderers\":[{\"id\":\"3393\",\"type\":\"GlyphRenderer\"}],\"tags\":[\"hv_created\"],\"tooltips\":[[\"Ypos\",\"$x\"],[\"Xpos\",\"$y\"],[\"Xfield_avg\",\"@image\"]]},\"id\":\"3355\",\"type\":\"HoverTool\"},{\"attributes\":{},\"id\":\"3361\",\"type\":\"LinearScale\"},{\"attributes\":{},\"id\":\"3363\",\"type\":\"LinearScale\"}],\"root_ids\":[\"3356\"]},\"title\":\"Bokeh Application\",\"version\":\"1.2.0\"}};\n",
       "  var render_items = [{\"docid\":\"56f40e9d-620d-42f9-be89-cad616d11a03\",\"roots\":{\"3356\":\"441206ee-5094-4a16-ac91-ab3d55e89c44\"}}];\n",
       "  root.Bokeh.embed.embed_items_notebook(docs_json, render_items);\n",
       "\n",
       "  }\n",
       "  if (root.Bokeh !== undefined) {\n",
       "    embed_document(root);\n",
       "  } else {\n",
       "    var attempts = 0;\n",
       "    var timer = setInterval(function(root) {\n",
       "      if (root.Bokeh !== undefined) {\n",
       "        embed_document(root);\n",
       "        clearInterval(timer);\n",
       "      }\n",
       "      attempts++;\n",
       "      if (attempts > 100) {\n",
       "        console.log(\"Bokeh: ERROR: Unable to run BokehJS code because BokehJS library is missing\");\n",
       "        clearInterval(timer);\n",
       "      }\n",
       "    }, 10, root)\n",
       "  }\n",
       "})(window);</script>"
      ],
      "text/plain": [
       ":Image   [Ypos,Xpos]   (Xfield_avg)"
      ]
     },
     "execution_count": 101,
     "metadata": {
      "application/vnd.holoviews_exec.v0+json": {
       "id": "3356"
      }
     },
     "output_type": "execute_result"
    }
   ],
   "source": [
    "phi90_dataset.Xfield_avg.hvplot()"
   ]
  },
  {
   "cell_type": "code",
   "execution_count": 102,
   "metadata": {},
   "outputs": [
    {
     "data": {
      "application/vnd.holoviews_exec.v0+json": "",
      "text/html": [
       "<div id='3477' style='display: table; margin: 0 auto;'>\n",
       "\n",
       "\n",
       "\n",
       "\n",
       "\n",
       "  <div class=\"bk-root\" id=\"c7b876fd-1fe2-4228-b708-0e2e8039b827\" data-root-id=\"3477\"></div>\n",
       "</div>\n",
       "<script type=\"application/javascript\">(function(root) {\n",
       "  function embed_document(root) {\n",
       "    \n",
       "  var docs_json = {\"d48d81da-2e4f-4a24-a863-26c236fc9d6d\":{\"roots\":{\"references\":[{\"attributes\":{\"below\":[{\"id\":\"3486\",\"type\":\"LinearAxis\"}],\"center\":[{\"id\":\"3490\",\"type\":\"Grid\"},{\"id\":\"3495\",\"type\":\"Grid\"}],\"left\":[{\"id\":\"3491\",\"type\":\"LinearAxis\"}],\"margin\":null,\"min_border_bottom\":10,\"min_border_left\":10,\"min_border_right\":10,\"min_border_top\":10,\"plot_height\":300,\"plot_width\":700,\"renderers\":[{\"id\":\"3514\",\"type\":\"GlyphRenderer\"}],\"right\":[{\"id\":\"3517\",\"type\":\"ColorBar\"}],\"sizing_mode\":\"fixed\",\"title\":{\"id\":\"3478\",\"type\":\"Title\"},\"toolbar\":{\"id\":\"3501\",\"type\":\"Toolbar\"},\"x_range\":{\"id\":\"3474\",\"type\":\"Range1d\"},\"x_scale\":{\"id\":\"3482\",\"type\":\"LinearScale\"},\"y_range\":{\"id\":\"3475\",\"type\":\"Range1d\"},\"y_scale\":{\"id\":\"3484\",\"type\":\"LinearScale\"}},\"id\":\"3477\",\"subtype\":\"Figure\",\"type\":\"Plot\"},{\"attributes\":{},\"id\":\"3492\",\"type\":\"BasicTicker\"},{\"attributes\":{\"dimension\":1,\"grid_line_color\":null,\"ticker\":{\"id\":\"3492\",\"type\":\"BasicTicker\"}},\"id\":\"3495\",\"type\":\"Grid\"},{\"attributes\":{\"grid_line_color\":null,\"ticker\":{\"id\":\"3487\",\"type\":\"BasicTicker\"}},\"id\":\"3490\",\"type\":\"Grid\"},{\"attributes\":{\"high\":-0.0011926106770833336,\"low\":-0.0021559855143229167,\"nan_color\":\"rgba(0, 0, 0, 0)\",\"palette\":[\"#000000\",\"#060000\",\"#0d0000\",\"#120000\",\"#160000\",\"#190000\",\"#1c0000\",\"#1f0000\",\"#220000\",\"#240000\",\"#260000\",\"#280000\",\"#2b0000\",\"#2d0000\",\"#2e0000\",\"#300000\",\"#320000\",\"#340000\",\"#350000\",\"#370000\",\"#380000\",\"#3a0000\",\"#3b0000\",\"#3d0000\",\"#3e0000\",\"#400000\",\"#410000\",\"#430000\",\"#440000\",\"#460000\",\"#470000\",\"#490000\",\"#4a0000\",\"#4c0000\",\"#4d0000\",\"#4f0000\",\"#500000\",\"#520000\",\"#530000\",\"#550000\",\"#560000\",\"#580000\",\"#590100\",\"#5b0100\",\"#5d0100\",\"#5e0100\",\"#600100\",\"#610100\",\"#630100\",\"#650100\",\"#660100\",\"#680100\",\"#690100\",\"#6b0100\",\"#6d0100\",\"#6e0100\",\"#700100\",\"#710100\",\"#730100\",\"#750100\",\"#760100\",\"#780200\",\"#7a0200\",\"#7b0200\",\"#7d0200\",\"#7f0200\",\"#800200\",\"#820200\",\"#840200\",\"#850200\",\"#870200\",\"#890200\",\"#8a0200\",\"#8c0300\",\"#8e0300\",\"#900300\",\"#910300\",\"#930300\",\"#950300\",\"#960300\",\"#980300\",\"#9a0300\",\"#9c0300\",\"#9d0400\",\"#9f0400\",\"#a10400\",\"#a20400\",\"#a40400\",\"#a60400\",\"#a80400\",\"#a90400\",\"#ab0500\",\"#ad0500\",\"#af0500\",\"#b00500\",\"#b20500\",\"#b40500\",\"#b60600\",\"#b80600\",\"#b90600\",\"#bb0600\",\"#bd0600\",\"#bf0700\",\"#c00700\",\"#c20700\",\"#c40700\",\"#c60800\",\"#c80800\",\"#c90800\",\"#cb0800\",\"#cd0900\",\"#cf0900\",\"#d10900\",\"#d20a00\",\"#d40a00\",\"#d60a00\",\"#d80b00\",\"#da0b00\",\"#db0c00\",\"#dd0c00\",\"#df0d00\",\"#e10d00\",\"#e30e00\",\"#e40f00\",\"#e60f00\",\"#e81000\",\"#ea1100\",\"#eb1300\",\"#ed1400\",\"#ee1600\",\"#f01800\",\"#f11b00\",\"#f21d00\",\"#f32000\",\"#f52300\",\"#f62600\",\"#f62900\",\"#f72c00\",\"#f82f00\",\"#f93200\",\"#f93500\",\"#fa3800\",\"#fa3b00\",\"#fb3d00\",\"#fb4000\",\"#fb4300\",\"#fc4600\",\"#fc4900\",\"#fc4b00\",\"#fd4e00\",\"#fd5100\",\"#fd5300\",\"#fd5600\",\"#fd5800\",\"#fe5b00\",\"#fe5d00\",\"#fe5f00\",\"#fe6200\",\"#fe6400\",\"#fe6600\",\"#fe6800\",\"#fe6b00\",\"#fe6d00\",\"#fe6f00\",\"#fe7100\",\"#fe7300\",\"#fe7500\",\"#fe7700\",\"#fe7900\",\"#fe7c00\",\"#ff7e00\",\"#ff8000\",\"#ff8200\",\"#ff8300\",\"#ff8500\",\"#ff8700\",\"#ff8900\",\"#ff8b00\",\"#ff8d00\",\"#ff8f00\",\"#ff9100\",\"#ff9300\",\"#ff9400\",\"#ff9600\",\"#ff9800\",\"#ff9a00\",\"#ff9c00\",\"#ff9d00\",\"#ff9f00\",\"#ffa100\",\"#ffa300\",\"#ffa401\",\"#ffa601\",\"#ffa801\",\"#ffaa01\",\"#ffab01\",\"#ffad01\",\"#ffaf01\",\"#ffb001\",\"#ffb202\",\"#ffb402\",\"#ffb502\",\"#ffb702\",\"#ffb902\",\"#ffba02\",\"#ffbc03\",\"#ffbd03\",\"#ffbf03\",\"#ffc103\",\"#ffc204\",\"#ffc404\",\"#ffc604\",\"#ffc704\",\"#ffc905\",\"#ffca05\",\"#ffcc05\",\"#ffce06\",\"#ffcf06\",\"#ffd106\",\"#ffd207\",\"#ffd407\",\"#ffd508\",\"#ffd708\",\"#ffd909\",\"#ffda09\",\"#ffdc0a\",\"#ffdd0a\",\"#ffdf0b\",\"#ffe00b\",\"#ffe20c\",\"#ffe30d\",\"#ffe50e\",\"#ffe60f\",\"#ffe810\",\"#ffea11\",\"#ffeb12\",\"#ffed14\",\"#ffee17\",\"#fff01a\",\"#fff11e\",\"#fff324\",\"#fff42a\",\"#fff532\",\"#fff73b\",\"#fff847\",\"#fff953\",\"#fffb62\",\"#fffb72\",\"#fffc83\",\"#fffd95\",\"#fffea8\",\"#fffeba\",\"#fffecc\",\"#fffede\",\"#fffeee\",\"#ffffff\"]},\"id\":\"3508\",\"type\":\"LinearColorMapper\"},{\"attributes\":{\"active_drag\":\"auto\",\"active_inspect\":\"auto\",\"active_multi\":null,\"active_scroll\":\"auto\",\"active_tap\":\"auto\",\"tools\":[{\"id\":\"3476\",\"type\":\"HoverTool\"},{\"id\":\"3496\",\"type\":\"SaveTool\"},{\"id\":\"3497\",\"type\":\"PanTool\"},{\"id\":\"3498\",\"type\":\"WheelZoomTool\"},{\"id\":\"3499\",\"type\":\"BoxZoomTool\"},{\"id\":\"3500\",\"type\":\"ResetTool\"}]},\"id\":\"3501\",\"type\":\"Toolbar\"},{\"attributes\":{\"axis_label\":\"Xpos\",\"bounds\":\"auto\",\"formatter\":{\"id\":\"3521\",\"type\":\"BasicTickFormatter\"},\"major_label_orientation\":\"horizontal\",\"ticker\":{\"id\":\"3492\",\"type\":\"BasicTicker\"}},\"id\":\"3491\",\"type\":\"LinearAxis\"},{\"attributes\":{\"data_source\":{\"id\":\"3509\",\"type\":\"ColumnDataSource\"},\"glyph\":{\"id\":\"3512\",\"type\":\"Image\"},\"hover_glyph\":null,\"muted_glyph\":null,\"nonselection_glyph\":{\"id\":\"3513\",\"type\":\"Image\"},\"selection_glyph\":null,\"view\":{\"id\":\"3515\",\"type\":\"CDSView\"}},\"id\":\"3514\",\"type\":\"GlyphRenderer\"},{\"attributes\":{},\"id\":\"3487\",\"type\":\"BasicTicker\"},{\"attributes\":{},\"id\":\"3484\",\"type\":\"LinearScale\"},{\"attributes\":{\"axis_label\":\"Ypos\",\"bounds\":\"auto\",\"formatter\":{\"id\":\"3519\",\"type\":\"BasicTickFormatter\"},\"major_label_orientation\":\"horizontal\",\"ticker\":{\"id\":\"3487\",\"type\":\"BasicTicker\"}},\"id\":\"3486\",\"type\":\"LinearAxis\"},{\"attributes\":{\"color_mapper\":{\"id\":\"3508\",\"type\":\"LinearColorMapper\"},\"dh\":{\"field\":\"dh\",\"units\":\"data\"},\"dw\":{\"field\":\"dw\",\"units\":\"data\"},\"image\":{\"field\":\"image\"},\"x\":{\"field\":\"x\"},\"y\":{\"field\":\"y\"}},\"id\":\"3513\",\"type\":\"Image\"},{\"attributes\":{},\"id\":\"3500\",\"type\":\"ResetTool\"},{\"attributes\":{},\"id\":\"3498\",\"type\":\"WheelZoomTool\"},{\"attributes\":{},\"id\":\"3519\",\"type\":\"BasicTickFormatter\"},{\"attributes\":{\"source\":{\"id\":\"3509\",\"type\":\"ColumnDataSource\"}},\"id\":\"3515\",\"type\":\"CDSView\"},{\"attributes\":{\"text\":\"\",\"text_color\":{\"value\":\"black\"},\"text_font_size\":{\"value\":\"12pt\"}},\"id\":\"3478\",\"type\":\"Title\"},{\"attributes\":{},\"id\":\"3482\",\"type\":\"LinearScale\"},{\"attributes\":{\"overlay\":{\"id\":\"3529\",\"type\":\"BoxAnnotation\"}},\"id\":\"3499\",\"type\":\"BoxZoomTool\"},{\"attributes\":{\"callback\":null,\"end\":27.650000000000016,\"reset_end\":27.650000000000016,\"reset_start\":26.45,\"start\":26.45,\"tags\":[[[\"Xpos\",\"Xpos\",null]]]},\"id\":\"3475\",\"type\":\"Range1d\"},{\"attributes\":{},\"id\":\"3497\",\"type\":\"PanTool\"},{\"attributes\":{},\"id\":\"3526\",\"type\":\"BasicTickFormatter\"},{\"attributes\":{},\"id\":\"3510\",\"type\":\"Selection\"},{\"attributes\":{\"callback\":null,\"renderers\":[{\"id\":\"3514\",\"type\":\"GlyphRenderer\"}],\"tags\":[\"hv_created\"],\"tooltips\":[[\"Ypos\",\"$x\"],[\"Xpos\",\"$y\"],[\"Xfield_avg\",\"@image\"]]},\"id\":\"3476\",\"type\":\"HoverTool\"},{\"attributes\":{\"color_mapper\":{\"id\":\"3508\",\"type\":\"LinearColorMapper\"},\"dh\":{\"field\":\"dh\",\"units\":\"data\"},\"dw\":{\"field\":\"dw\",\"units\":\"data\"},\"image\":{\"field\":\"image\"},\"x\":{\"field\":\"x\"},\"y\":{\"field\":\"y\"}},\"id\":\"3512\",\"type\":\"Image\"},{\"attributes\":{},\"id\":\"3531\",\"type\":\"UnionRenderers\"},{\"attributes\":{\"bottom_units\":\"screen\",\"fill_alpha\":{\"value\":0.5},\"fill_color\":{\"value\":\"lightgrey\"},\"left_units\":\"screen\",\"level\":\"overlay\",\"line_alpha\":{\"value\":1.0},\"line_color\":{\"value\":\"black\"},\"line_dash\":[4,4],\"line_width\":{\"value\":2},\"render_mode\":\"css\",\"right_units\":\"screen\",\"top_units\":\"screen\"},\"id\":\"3529\",\"type\":\"BoxAnnotation\"},{\"attributes\":{\"bar_line_color\":{\"value\":\"black\"},\"color_mapper\":{\"id\":\"3508\",\"type\":\"LinearColorMapper\"},\"formatter\":{\"id\":\"3526\",\"type\":\"BasicTickFormatter\"},\"label_standoff\":8,\"location\":[0,0],\"major_tick_line_color\":{\"value\":\"black\"},\"ticker\":{\"id\":\"3516\",\"type\":\"BasicTicker\"}},\"id\":\"3517\",\"type\":\"ColorBar\"},{\"attributes\":{\"callback\":null,\"data\":{\"dh\":[1.200000000000017],\"dw\":[0.70000000000001],\"image\":[{\"__ndarray__\":\"Tjq39iuKU7+ECiH6yKBUvx44Z0Rp/1S/SuSoyXl8Vb84anIeO1VVvyL6yMAUWFW/PE7RkVxeVb9EYxOG7m9VvzSoEKKPXFW/EOaJ+jdiVb/V4Q7BXi5Vv5LFI94nBFW/1VCQxSO+Vb+Hgiwe8Z5XvzQ5j53KjFe/hcP4VhErWL/4vzb1lK9Yv308B6nutFi/jCKRoyZXWL+MQWDl0KJXv3+x5BdL3le/ZDJVMCoJWL+Aj+cg1R1Yv2f9QMw4EFi/KTQ2YeheWL/h5mf9QExZv+0Q7OVk/1m/yCYM3f/qWb/R+oGYcRBav5TwqvQAM1q/QjiMbxUBWr9HSqCu2+1Zv/fkYaHW1Fm/K6kT0EQoWr8nUwWjkmpZv1cOLbKdL1m/HThnRGmPWb+shX/+aIVbv6Cu240re1u/e4ABl9qVW79V46WbxDBcv3DLWh0T/Fu//YoikaN2W7+Aarx0k0hcv8DsnjwsxFu/P3lYqDWNW78RDuNbRbxbv7eEfNCz+Vu/PHYq82lYXL8Cl9pl0hlev9P9r009dV6/arYYKYGKXr84+/AZdmVev6W9wRcmk16/adgVIPeqXr+wjgkezDNev+opX713wV6/u/yH9NtHXr8Q6bevAydevxwsr286bF6/q9IDDLiUXr+1D59hV1hgv0rkqMl5tGC/Ehdte6iSYL+L2DpLo3Rgv2dBO7okaWC/IyIiIiIyYL885av3LkBgv0Otad5xUmC/fvXeBTcfYL81FGTxiDdgvx01OY+dEmC/uSThVelBYL8Iy+ubDodhv+9gnqh/c2G/1eEOwV52Yb/AEcrobalhv6D1AzHjWGG/iBOrGSw/Yb9HkchRk3Nhv1CNl24Sc2G/HqS6k2JSYb87KablGhlhv+dFAEpWGGG/\",\"dtype\":\"float64\",\"shape\":[12,7]}],\"x\":[22.05],\"y\":[26.45]},\"selected\":{\"id\":\"3510\",\"type\":\"Selection\"},\"selection_policy\":{\"id\":\"3531\",\"type\":\"UnionRenderers\"}},\"id\":\"3509\",\"type\":\"ColumnDataSource\"},{\"attributes\":{},\"id\":\"3496\",\"type\":\"SaveTool\"},{\"attributes\":{\"callback\":null,\"end\":22.75000000000001,\"reset_end\":22.75000000000001,\"reset_start\":22.05,\"start\":22.05,\"tags\":[[[\"Ypos\",\"Ypos\",null]]]},\"id\":\"3474\",\"type\":\"Range1d\"},{\"attributes\":{},\"id\":\"3521\",\"type\":\"BasicTickFormatter\"},{\"attributes\":{},\"id\":\"3516\",\"type\":\"BasicTicker\"}],\"root_ids\":[\"3477\"]},\"title\":\"Bokeh Application\",\"version\":\"1.2.0\"}};\n",
       "  var render_items = [{\"docid\":\"d48d81da-2e4f-4a24-a863-26c236fc9d6d\",\"roots\":{\"3477\":\"c7b876fd-1fe2-4228-b708-0e2e8039b827\"}}];\n",
       "  root.Bokeh.embed.embed_items_notebook(docs_json, render_items);\n",
       "\n",
       "  }\n",
       "  if (root.Bokeh !== undefined) {\n",
       "    embed_document(root);\n",
       "  } else {\n",
       "    var attempts = 0;\n",
       "    var timer = setInterval(function(root) {\n",
       "      if (root.Bokeh !== undefined) {\n",
       "        embed_document(root);\n",
       "        clearInterval(timer);\n",
       "      }\n",
       "      attempts++;\n",
       "      if (attempts > 100) {\n",
       "        console.log(\"Bokeh: ERROR: Unable to run BokehJS code because BokehJS library is missing\");\n",
       "        clearInterval(timer);\n",
       "      }\n",
       "    }, 10, root)\n",
       "  }\n",
       "})(window);</script>"
      ],
      "text/plain": [
       ":Image   [Ypos,Xpos]   (Xfield_avg)"
      ]
     },
     "execution_count": 102,
     "metadata": {
      "application/vnd.holoviews_exec.v0+json": {
       "id": "3477"
      }
     },
     "output_type": "execute_result"
    }
   ],
   "source": [
    "phi0_dataset.Xfield_avg.hvplot()"
   ]
  },
  {
   "cell_type": "code",
   "execution_count": 103,
   "metadata": {
    "scrolled": true
   },
   "outputs": [
    {
     "data": {
      "application/vnd.holoviews_exec.v0+json": "",
      "text/html": [
       "<div id='3598' style='display: table; margin: 0 auto;'>\n",
       "\n",
       "\n",
       "\n",
       "\n",
       "\n",
       "  <div class=\"bk-root\" id=\"991d3aee-78c1-4cdc-b0a9-6ce3c434474a\" data-root-id=\"3598\"></div>\n",
       "</div>\n",
       "<script type=\"application/javascript\">(function(root) {\n",
       "  function embed_document(root) {\n",
       "    \n",
       "  var docs_json = {\"3e5ff7d8-8a44-49e5-bc3a-27757164e317\":{\"roots\":{\"references\":[{\"attributes\":{\"below\":[{\"id\":\"3607\",\"type\":\"LinearAxis\"}],\"center\":[{\"id\":\"3611\",\"type\":\"Grid\"},{\"id\":\"3616\",\"type\":\"Grid\"}],\"left\":[{\"id\":\"3612\",\"type\":\"LinearAxis\"}],\"margin\":null,\"min_border_bottom\":10,\"min_border_left\":10,\"min_border_right\":10,\"min_border_top\":10,\"plot_height\":300,\"plot_width\":700,\"renderers\":[{\"id\":\"3635\",\"type\":\"GlyphRenderer\"}],\"right\":[{\"id\":\"3638\",\"type\":\"ColorBar\"}],\"sizing_mode\":\"fixed\",\"title\":{\"id\":\"3599\",\"type\":\"Title\"},\"toolbar\":{\"id\":\"3622\",\"type\":\"Toolbar\"},\"x_range\":{\"id\":\"3595\",\"type\":\"Range1d\"},\"x_scale\":{\"id\":\"3603\",\"type\":\"LinearScale\"},\"y_range\":{\"id\":\"3596\",\"type\":\"Range1d\"},\"y_scale\":{\"id\":\"3605\",\"type\":\"LinearScale\"}},\"id\":\"3598\",\"subtype\":\"Figure\",\"type\":\"Plot\"},{\"attributes\":{\"color_mapper\":{\"id\":\"3629\",\"type\":\"LinearColorMapper\"},\"dh\":{\"field\":\"dh\",\"units\":\"data\"},\"dw\":{\"field\":\"dw\",\"units\":\"data\"},\"image\":{\"field\":\"image\"},\"x\":{\"field\":\"x\"},\"y\":{\"field\":\"y\"}},\"id\":\"3633\",\"type\":\"Image\"},{\"attributes\":{},\"id\":\"3637\",\"type\":\"BasicTicker\"},{\"attributes\":{\"callback\":null,\"data\":{\"dh\":[1.200000000000017],\"dw\":[0.70000000000001],\"image\":[{\"__ndarray__\":\"GZgCvzObgb9MEl6VHoSBvxhIUPwYk4G/M+nc2q+egb/A7J48LJyBvz0vAlCyoIG/YFEkctSWgb/5nTn+HpuBv9lfdk8emoG/aJHtfD+dgb/tnjws1JiBv+sENBE2koG/iGAvJ3vydb8Mbn7WD6h1v6VRbsgstHW/JCh+jLm/db/F+4TGJsR1vwisHFpkv3W/ETMOCIeldb/fJzQ2YbB1v8Or0gMMmHW/4AU3P+ubdb8Hy+ubDpt1v6CAJsKGk3W/9Ucr0Wx5YL9b8oslv6hfv6sW/vmjHWC/zTtO0ZHMX79dRWydpfFfv6W9wRcmk1+/HRZqTfOeX798ov6NULZfv5MYBFYOrV+/Y+ssjXLDX7+dwfL6pqNfv/kx5q4l5F+/+aBns+pTVT9YotlipIRWP9xApw10ClY/4L4OnDMiVj9sMVICdU1WP4+/x3OQKlY/r2wMJ1ZjVj8rX713wf1VP+kmMQisLFY/qlr4549WVj8zMzMzM2NWP7RZ9bnaWlY/nex5EYDqcj9KDAIrhx5zP0XY8PRK9XI/8RykupMecz84jG8VsQ1zPxUdyeU//HI/SL99HTgPcz/lXnMhaQJzP0tctO2hInM/Qc9m1ecqcz/D0P2vTTVzPzv+Hs9BNnM/tRX7y+41gD+qp3z13mOAP2SCB/NEU4A/78nDQq1RgD8LsnjE+1yAPw5xrIvbVoA/ffKwUGtcgD8L16NwPV6AP7/BFyZTW4A/EhQ/xtxfgD/M7snDQlmAPwBsU0/5YoA/jblrCfkehz8/eVioNUGHP///////QYc/uPYrikQ8hz9wFbF1ljiHP5Xz2KnML4c/7TLp3Novhz+MKO0NvjqHP0h1J8W0Qoc/cqyL22g2hz/pIwNT4D2HP7j8h/TbQYc/\",\"dtype\":\"float64\",\"shape\":[12,7]}],\"x\":[22.05],\"y\":[26.45]},\"selected\":{\"id\":\"3631\",\"type\":\"Selection\"},\"selection_policy\":{\"id\":\"3652\",\"type\":\"UnionRenderers\"}},\"id\":\"3630\",\"type\":\"ColumnDataSource\"},{\"attributes\":{\"data_source\":{\"id\":\"3630\",\"type\":\"ColumnDataSource\"},\"glyph\":{\"id\":\"3633\",\"type\":\"Image\"},\"hover_glyph\":null,\"muted_glyph\":null,\"nonselection_glyph\":{\"id\":\"3634\",\"type\":\"Image\"},\"selection_glyph\":null,\"view\":{\"id\":\"3636\",\"type\":\"CDSView\"}},\"id\":\"3635\",\"type\":\"GlyphRenderer\"},{\"attributes\":{\"overlay\":{\"id\":\"3650\",\"type\":\"BoxAnnotation\"}},\"id\":\"3620\",\"type\":\"BoxZoomTool\"},{\"attributes\":{},\"id\":\"3617\",\"type\":\"SaveTool\"},{\"attributes\":{\"callback\":null,\"renderers\":[{\"id\":\"3635\",\"type\":\"GlyphRenderer\"}],\"tags\":[\"hv_created\"],\"tooltips\":[[\"Ypos\",\"$x\"],[\"Xpos\",\"$y\"],[\"Zfield_avg\",\"@image\"]]},\"id\":\"3597\",\"type\":\"HoverTool\"},{\"attributes\":{},\"id\":\"3618\",\"type\":\"PanTool\"},{\"attributes\":{},\"id\":\"3631\",\"type\":\"Selection\"},{\"attributes\":{\"active_drag\":\"auto\",\"active_inspect\":\"auto\",\"active_multi\":null,\"active_scroll\":\"auto\",\"active_tap\":\"auto\",\"tools\":[{\"id\":\"3597\",\"type\":\"HoverTool\"},{\"id\":\"3617\",\"type\":\"SaveTool\"},{\"id\":\"3618\",\"type\":\"PanTool\"},{\"id\":\"3619\",\"type\":\"WheelZoomTool\"},{\"id\":\"3620\",\"type\":\"BoxZoomTool\"},{\"id\":\"3621\",\"type\":\"ResetTool\"}]},\"id\":\"3622\",\"type\":\"Toolbar\"},{\"attributes\":{\"high\":0.011357700602213541,\"low\":-0.00860728556315104,\"nan_color\":\"rgba(0, 0, 0, 0)\",\"palette\":[\"#000000\",\"#060000\",\"#0d0000\",\"#120000\",\"#160000\",\"#190000\",\"#1c0000\",\"#1f0000\",\"#220000\",\"#240000\",\"#260000\",\"#280000\",\"#2b0000\",\"#2d0000\",\"#2e0000\",\"#300000\",\"#320000\",\"#340000\",\"#350000\",\"#370000\",\"#380000\",\"#3a0000\",\"#3b0000\",\"#3d0000\",\"#3e0000\",\"#400000\",\"#410000\",\"#430000\",\"#440000\",\"#460000\",\"#470000\",\"#490000\",\"#4a0000\",\"#4c0000\",\"#4d0000\",\"#4f0000\",\"#500000\",\"#520000\",\"#530000\",\"#550000\",\"#560000\",\"#580000\",\"#590100\",\"#5b0100\",\"#5d0100\",\"#5e0100\",\"#600100\",\"#610100\",\"#630100\",\"#650100\",\"#660100\",\"#680100\",\"#690100\",\"#6b0100\",\"#6d0100\",\"#6e0100\",\"#700100\",\"#710100\",\"#730100\",\"#750100\",\"#760100\",\"#780200\",\"#7a0200\",\"#7b0200\",\"#7d0200\",\"#7f0200\",\"#800200\",\"#820200\",\"#840200\",\"#850200\",\"#870200\",\"#890200\",\"#8a0200\",\"#8c0300\",\"#8e0300\",\"#900300\",\"#910300\",\"#930300\",\"#950300\",\"#960300\",\"#980300\",\"#9a0300\",\"#9c0300\",\"#9d0400\",\"#9f0400\",\"#a10400\",\"#a20400\",\"#a40400\",\"#a60400\",\"#a80400\",\"#a90400\",\"#ab0500\",\"#ad0500\",\"#af0500\",\"#b00500\",\"#b20500\",\"#b40500\",\"#b60600\",\"#b80600\",\"#b90600\",\"#bb0600\",\"#bd0600\",\"#bf0700\",\"#c00700\",\"#c20700\",\"#c40700\",\"#c60800\",\"#c80800\",\"#c90800\",\"#cb0800\",\"#cd0900\",\"#cf0900\",\"#d10900\",\"#d20a00\",\"#d40a00\",\"#d60a00\",\"#d80b00\",\"#da0b00\",\"#db0c00\",\"#dd0c00\",\"#df0d00\",\"#e10d00\",\"#e30e00\",\"#e40f00\",\"#e60f00\",\"#e81000\",\"#ea1100\",\"#eb1300\",\"#ed1400\",\"#ee1600\",\"#f01800\",\"#f11b00\",\"#f21d00\",\"#f32000\",\"#f52300\",\"#f62600\",\"#f62900\",\"#f72c00\",\"#f82f00\",\"#f93200\",\"#f93500\",\"#fa3800\",\"#fa3b00\",\"#fb3d00\",\"#fb4000\",\"#fb4300\",\"#fc4600\",\"#fc4900\",\"#fc4b00\",\"#fd4e00\",\"#fd5100\",\"#fd5300\",\"#fd5600\",\"#fd5800\",\"#fe5b00\",\"#fe5d00\",\"#fe5f00\",\"#fe6200\",\"#fe6400\",\"#fe6600\",\"#fe6800\",\"#fe6b00\",\"#fe6d00\",\"#fe6f00\",\"#fe7100\",\"#fe7300\",\"#fe7500\",\"#fe7700\",\"#fe7900\",\"#fe7c00\",\"#ff7e00\",\"#ff8000\",\"#ff8200\",\"#ff8300\",\"#ff8500\",\"#ff8700\",\"#ff8900\",\"#ff8b00\",\"#ff8d00\",\"#ff8f00\",\"#ff9100\",\"#ff9300\",\"#ff9400\",\"#ff9600\",\"#ff9800\",\"#ff9a00\",\"#ff9c00\",\"#ff9d00\",\"#ff9f00\",\"#ffa100\",\"#ffa300\",\"#ffa401\",\"#ffa601\",\"#ffa801\",\"#ffaa01\",\"#ffab01\",\"#ffad01\",\"#ffaf01\",\"#ffb001\",\"#ffb202\",\"#ffb402\",\"#ffb502\",\"#ffb702\",\"#ffb902\",\"#ffba02\",\"#ffbc03\",\"#ffbd03\",\"#ffbf03\",\"#ffc103\",\"#ffc204\",\"#ffc404\",\"#ffc604\",\"#ffc704\",\"#ffc905\",\"#ffca05\",\"#ffcc05\",\"#ffce06\",\"#ffcf06\",\"#ffd106\",\"#ffd207\",\"#ffd407\",\"#ffd508\",\"#ffd708\",\"#ffd909\",\"#ffda09\",\"#ffdc0a\",\"#ffdd0a\",\"#ffdf0b\",\"#ffe00b\",\"#ffe20c\",\"#ffe30d\",\"#ffe50e\",\"#ffe60f\",\"#ffe810\",\"#ffea11\",\"#ffeb12\",\"#ffed14\",\"#ffee17\",\"#fff01a\",\"#fff11e\",\"#fff324\",\"#fff42a\",\"#fff532\",\"#fff73b\",\"#fff847\",\"#fff953\",\"#fffb62\",\"#fffb72\",\"#fffc83\",\"#fffd95\",\"#fffea8\",\"#fffeba\",\"#fffecc\",\"#fffede\",\"#fffeee\",\"#ffffff\"]},\"id\":\"3629\",\"type\":\"LinearColorMapper\"},{\"attributes\":{},\"id\":\"3621\",\"type\":\"ResetTool\"},{\"attributes\":{},\"id\":\"3603\",\"type\":\"LinearScale\"},{\"attributes\":{},\"id\":\"3647\",\"type\":\"BasicTickFormatter\"},{\"attributes\":{\"color_mapper\":{\"id\":\"3629\",\"type\":\"LinearColorMapper\"},\"dh\":{\"field\":\"dh\",\"units\":\"data\"},\"dw\":{\"field\":\"dw\",\"units\":\"data\"},\"image\":{\"field\":\"image\"},\"x\":{\"field\":\"x\"},\"y\":{\"field\":\"y\"}},\"id\":\"3634\",\"type\":\"Image\"},{\"attributes\":{},\"id\":\"3605\",\"type\":\"LinearScale\"},{\"attributes\":{},\"id\":\"3613\",\"type\":\"BasicTicker\"},{\"attributes\":{\"dimension\":1,\"grid_line_color\":null,\"ticker\":{\"id\":\"3613\",\"type\":\"BasicTicker\"}},\"id\":\"3616\",\"type\":\"Grid\"},{\"attributes\":{\"bar_line_color\":{\"value\":\"black\"},\"color_mapper\":{\"id\":\"3629\",\"type\":\"LinearColorMapper\"},\"formatter\":{\"id\":\"3647\",\"type\":\"BasicTickFormatter\"},\"label_standoff\":8,\"location\":[0,0],\"major_tick_line_color\":{\"value\":\"black\"},\"ticker\":{\"id\":\"3637\",\"type\":\"BasicTicker\"}},\"id\":\"3638\",\"type\":\"ColorBar\"},{\"attributes\":{\"axis_label\":\"Xpos\",\"bounds\":\"auto\",\"formatter\":{\"id\":\"3642\",\"type\":\"BasicTickFormatter\"},\"major_label_orientation\":\"horizontal\",\"ticker\":{\"id\":\"3613\",\"type\":\"BasicTicker\"}},\"id\":\"3612\",\"type\":\"LinearAxis\"},{\"attributes\":{},\"id\":\"3652\",\"type\":\"UnionRenderers\"},{\"attributes\":{},\"id\":\"3640\",\"type\":\"BasicTickFormatter\"},{\"attributes\":{},\"id\":\"3642\",\"type\":\"BasicTickFormatter\"},{\"attributes\":{},\"id\":\"3608\",\"type\":\"BasicTicker\"},{\"attributes\":{\"callback\":null,\"end\":27.650000000000016,\"reset_end\":27.650000000000016,\"reset_start\":26.45,\"start\":26.45,\"tags\":[[[\"Xpos\",\"Xpos\",null]]]},\"id\":\"3596\",\"type\":\"Range1d\"},{\"attributes\":{\"text\":\"\",\"text_color\":{\"value\":\"black\"},\"text_font_size\":{\"value\":\"12pt\"}},\"id\":\"3599\",\"type\":\"Title\"},{\"attributes\":{\"axis_label\":\"Ypos\",\"bounds\":\"auto\",\"formatter\":{\"id\":\"3640\",\"type\":\"BasicTickFormatter\"},\"major_label_orientation\":\"horizontal\",\"ticker\":{\"id\":\"3608\",\"type\":\"BasicTicker\"}},\"id\":\"3607\",\"type\":\"LinearAxis\"},{\"attributes\":{\"source\":{\"id\":\"3630\",\"type\":\"ColumnDataSource\"}},\"id\":\"3636\",\"type\":\"CDSView\"},{\"attributes\":{\"grid_line_color\":null,\"ticker\":{\"id\":\"3608\",\"type\":\"BasicTicker\"}},\"id\":\"3611\",\"type\":\"Grid\"},{\"attributes\":{},\"id\":\"3619\",\"type\":\"WheelZoomTool\"},{\"attributes\":{\"callback\":null,\"end\":22.75000000000001,\"reset_end\":22.75000000000001,\"reset_start\":22.05,\"start\":22.05,\"tags\":[[[\"Ypos\",\"Ypos\",null]]]},\"id\":\"3595\",\"type\":\"Range1d\"},{\"attributes\":{\"bottom_units\":\"screen\",\"fill_alpha\":{\"value\":0.5},\"fill_color\":{\"value\":\"lightgrey\"},\"left_units\":\"screen\",\"level\":\"overlay\",\"line_alpha\":{\"value\":1.0},\"line_color\":{\"value\":\"black\"},\"line_dash\":[4,4],\"line_width\":{\"value\":2},\"render_mode\":\"css\",\"right_units\":\"screen\",\"top_units\":\"screen\"},\"id\":\"3650\",\"type\":\"BoxAnnotation\"}],\"root_ids\":[\"3598\"]},\"title\":\"Bokeh Application\",\"version\":\"1.2.0\"}};\n",
       "  var render_items = [{\"docid\":\"3e5ff7d8-8a44-49e5-bc3a-27757164e317\",\"roots\":{\"3598\":\"991d3aee-78c1-4cdc-b0a9-6ce3c434474a\"}}];\n",
       "  root.Bokeh.embed.embed_items_notebook(docs_json, render_items);\n",
       "\n",
       "  }\n",
       "  if (root.Bokeh !== undefined) {\n",
       "    embed_document(root);\n",
       "  } else {\n",
       "    var attempts = 0;\n",
       "    var timer = setInterval(function(root) {\n",
       "      if (root.Bokeh !== undefined) {\n",
       "        embed_document(root);\n",
       "        clearInterval(timer);\n",
       "      }\n",
       "      attempts++;\n",
       "      if (attempts > 100) {\n",
       "        console.log(\"Bokeh: ERROR: Unable to run BokehJS code because BokehJS library is missing\");\n",
       "        clearInterval(timer);\n",
       "      }\n",
       "    }, 10, root)\n",
       "  }\n",
       "})(window);</script>"
      ],
      "text/plain": [
       ":Image   [Ypos,Xpos]   (Zfield_avg)"
      ]
     },
     "execution_count": 103,
     "metadata": {
      "application/vnd.holoviews_exec.v0+json": {
       "id": "3598"
      }
     },
     "output_type": "execute_result"
    }
   ],
   "source": [
    "phi0_dataset.Zfield_avg.hvplot()"
   ]
  },
  {
   "cell_type": "code",
   "execution_count": 104,
   "metadata": {
    "scrolled": true
   },
   "outputs": [
    {
     "data": {
      "application/vnd.holoviews_exec.v0+json": "",
      "text/html": [
       "<div id='3719' style='display: table; margin: 0 auto;'>\n",
       "\n",
       "\n",
       "\n",
       "\n",
       "\n",
       "  <div class=\"bk-root\" id=\"510731ed-b068-4460-8680-b7a6899cd770\" data-root-id=\"3719\"></div>\n",
       "</div>\n",
       "<script type=\"application/javascript\">(function(root) {\n",
       "  function embed_document(root) {\n",
       "    \n",
       "  var docs_json = {\"1dba9131-0d6c-42ff-8708-f95298df3c09\":{\"roots\":{\"references\":[{\"attributes\":{\"below\":[{\"id\":\"3728\",\"type\":\"LinearAxis\"}],\"center\":[{\"id\":\"3732\",\"type\":\"Grid\"},{\"id\":\"3737\",\"type\":\"Grid\"}],\"left\":[{\"id\":\"3733\",\"type\":\"LinearAxis\"}],\"margin\":null,\"min_border_bottom\":10,\"min_border_left\":10,\"min_border_right\":10,\"min_border_top\":10,\"plot_height\":300,\"plot_width\":700,\"renderers\":[{\"id\":\"3756\",\"type\":\"GlyphRenderer\"}],\"right\":[{\"id\":\"3759\",\"type\":\"ColorBar\"}],\"sizing_mode\":\"fixed\",\"title\":{\"id\":\"3720\",\"type\":\"Title\"},\"toolbar\":{\"id\":\"3743\",\"type\":\"Toolbar\"},\"x_range\":{\"id\":\"3716\",\"type\":\"Range1d\"},\"x_scale\":{\"id\":\"3724\",\"type\":\"LinearScale\"},\"y_range\":{\"id\":\"3717\",\"type\":\"Range1d\"},\"y_scale\":{\"id\":\"3726\",\"type\":\"LinearScale\"}},\"id\":\"3719\",\"subtype\":\"Figure\",\"type\":\"Plot\"},{\"attributes\":{},\"id\":\"3739\",\"type\":\"PanTool\"},{\"attributes\":{},\"id\":\"3763\",\"type\":\"BasicTickFormatter\"},{\"attributes\":{\"bottom_units\":\"screen\",\"fill_alpha\":{\"value\":0.5},\"fill_color\":{\"value\":\"lightgrey\"},\"left_units\":\"screen\",\"level\":\"overlay\",\"line_alpha\":{\"value\":1.0},\"line_color\":{\"value\":\"black\"},\"line_dash\":[4,4],\"line_width\":{\"value\":2},\"render_mode\":\"css\",\"right_units\":\"screen\",\"top_units\":\"screen\"},\"id\":\"3771\",\"type\":\"BoxAnnotation\"},{\"attributes\":{},\"id\":\"3740\",\"type\":\"WheelZoomTool\"},{\"attributes\":{},\"id\":\"3738\",\"type\":\"SaveTool\"},{\"attributes\":{},\"id\":\"3734\",\"type\":\"BasicTicker\"},{\"attributes\":{\"dimension\":1,\"grid_line_color\":null,\"ticker\":{\"id\":\"3734\",\"type\":\"BasicTicker\"}},\"id\":\"3737\",\"type\":\"Grid\"},{\"attributes\":{\"color_mapper\":{\"id\":\"3750\",\"type\":\"LinearColorMapper\"},\"dh\":{\"field\":\"dh\",\"units\":\"data\"},\"dw\":{\"field\":\"dw\",\"units\":\"data\"},\"image\":{\"field\":\"image\"},\"x\":{\"field\":\"x\"},\"y\":{\"field\":\"y\"}},\"id\":\"3755\",\"type\":\"Image\"},{\"attributes\":{},\"id\":\"3729\",\"type\":\"BasicTicker\"},{\"attributes\":{\"grid_line_color\":null,\"ticker\":{\"id\":\"3729\",\"type\":\"BasicTicker\"}},\"id\":\"3732\",\"type\":\"Grid\"},{\"attributes\":{\"axis_label\":\"Xpos\",\"bounds\":\"auto\",\"formatter\":{\"id\":\"3763\",\"type\":\"BasicTickFormatter\"},\"major_label_orientation\":\"horizontal\",\"ticker\":{\"id\":\"3734\",\"type\":\"BasicTicker\"}},\"id\":\"3733\",\"type\":\"LinearAxis\"},{\"attributes\":{},\"id\":\"3758\",\"type\":\"BasicTicker\"},{\"attributes\":{\"bar_line_color\":{\"value\":\"black\"},\"color_mapper\":{\"id\":\"3750\",\"type\":\"LinearColorMapper\"},\"formatter\":{\"id\":\"3768\",\"type\":\"BasicTickFormatter\"},\"label_standoff\":8,\"location\":[0,0],\"major_tick_line_color\":{\"value\":\"black\"},\"ticker\":{\"id\":\"3758\",\"type\":\"BasicTicker\"}},\"id\":\"3759\",\"type\":\"ColorBar\"},{\"attributes\":{\"color_mapper\":{\"id\":\"3750\",\"type\":\"LinearColorMapper\"},\"dh\":{\"field\":\"dh\",\"units\":\"data\"},\"dw\":{\"field\":\"dw\",\"units\":\"data\"},\"image\":{\"field\":\"image\"},\"x\":{\"field\":\"x\"},\"y\":{\"field\":\"y\"}},\"id\":\"3754\",\"type\":\"Image\"},{\"attributes\":{\"source\":{\"id\":\"3751\",\"type\":\"ColumnDataSource\"}},\"id\":\"3757\",\"type\":\"CDSView\"},{\"attributes\":{},\"id\":\"3742\",\"type\":\"ResetTool\"},{\"attributes\":{\"active_drag\":\"auto\",\"active_inspect\":\"auto\",\"active_multi\":null,\"active_scroll\":\"auto\",\"active_tap\":\"auto\",\"tools\":[{\"id\":\"3718\",\"type\":\"HoverTool\"},{\"id\":\"3738\",\"type\":\"SaveTool\"},{\"id\":\"3739\",\"type\":\"PanTool\"},{\"id\":\"3740\",\"type\":\"WheelZoomTool\"},{\"id\":\"3741\",\"type\":\"BoxZoomTool\"},{\"id\":\"3742\",\"type\":\"ResetTool\"}]},\"id\":\"3743\",\"type\":\"Toolbar\"},{\"attributes\":{},\"id\":\"3752\",\"type\":\"Selection\"},{\"attributes\":{\"callback\":null,\"end\":22.75000000000001,\"reset_end\":22.75000000000001,\"reset_start\":22.05,\"start\":22.05,\"tags\":[[[\"Ypos\",\"Ypos\",null]]]},\"id\":\"3716\",\"type\":\"Range1d\"},{\"attributes\":{},\"id\":\"3726\",\"type\":\"LinearScale\"},{\"attributes\":{\"callback\":null,\"end\":27.650000000000016,\"reset_end\":27.650000000000016,\"reset_start\":26.45,\"start\":26.45,\"tags\":[[[\"Xpos\",\"Xpos\",null]]]},\"id\":\"3717\",\"type\":\"Range1d\"},{\"attributes\":{\"axis_label\":\"Ypos\",\"bounds\":\"auto\",\"formatter\":{\"id\":\"3761\",\"type\":\"BasicTickFormatter\"},\"major_label_orientation\":\"horizontal\",\"ticker\":{\"id\":\"3729\",\"type\":\"BasicTicker\"}},\"id\":\"3728\",\"type\":\"LinearAxis\"},{\"attributes\":{},\"id\":\"3768\",\"type\":\"BasicTickFormatter\"},{\"attributes\":{\"callback\":null,\"renderers\":[{\"id\":\"3756\",\"type\":\"GlyphRenderer\"}],\"tags\":[\"hv_created\"],\"tooltips\":[[\"Ypos\",\"$x\"],[\"Xpos\",\"$y\"],[\"Zfield_avg\",\"@image\"]]},\"id\":\"3718\",\"type\":\"HoverTool\"},{\"attributes\":{\"text\":\"\",\"text_color\":{\"value\":\"black\"},\"text_font_size\":{\"value\":\"12pt\"}},\"id\":\"3720\",\"type\":\"Title\"},{\"attributes\":{\"high\":0.017686539713541668,\"low\":-0.01826083984375,\"nan_color\":\"rgba(0, 0, 0, 0)\",\"palette\":[\"#000000\",\"#060000\",\"#0d0000\",\"#120000\",\"#160000\",\"#190000\",\"#1c0000\",\"#1f0000\",\"#220000\",\"#240000\",\"#260000\",\"#280000\",\"#2b0000\",\"#2d0000\",\"#2e0000\",\"#300000\",\"#320000\",\"#340000\",\"#350000\",\"#370000\",\"#380000\",\"#3a0000\",\"#3b0000\",\"#3d0000\",\"#3e0000\",\"#400000\",\"#410000\",\"#430000\",\"#440000\",\"#460000\",\"#470000\",\"#490000\",\"#4a0000\",\"#4c0000\",\"#4d0000\",\"#4f0000\",\"#500000\",\"#520000\",\"#530000\",\"#550000\",\"#560000\",\"#580000\",\"#590100\",\"#5b0100\",\"#5d0100\",\"#5e0100\",\"#600100\",\"#610100\",\"#630100\",\"#650100\",\"#660100\",\"#680100\",\"#690100\",\"#6b0100\",\"#6d0100\",\"#6e0100\",\"#700100\",\"#710100\",\"#730100\",\"#750100\",\"#760100\",\"#780200\",\"#7a0200\",\"#7b0200\",\"#7d0200\",\"#7f0200\",\"#800200\",\"#820200\",\"#840200\",\"#850200\",\"#870200\",\"#890200\",\"#8a0200\",\"#8c0300\",\"#8e0300\",\"#900300\",\"#910300\",\"#930300\",\"#950300\",\"#960300\",\"#980300\",\"#9a0300\",\"#9c0300\",\"#9d0400\",\"#9f0400\",\"#a10400\",\"#a20400\",\"#a40400\",\"#a60400\",\"#a80400\",\"#a90400\",\"#ab0500\",\"#ad0500\",\"#af0500\",\"#b00500\",\"#b20500\",\"#b40500\",\"#b60600\",\"#b80600\",\"#b90600\",\"#bb0600\",\"#bd0600\",\"#bf0700\",\"#c00700\",\"#c20700\",\"#c40700\",\"#c60800\",\"#c80800\",\"#c90800\",\"#cb0800\",\"#cd0900\",\"#cf0900\",\"#d10900\",\"#d20a00\",\"#d40a00\",\"#d60a00\",\"#d80b00\",\"#da0b00\",\"#db0c00\",\"#dd0c00\",\"#df0d00\",\"#e10d00\",\"#e30e00\",\"#e40f00\",\"#e60f00\",\"#e81000\",\"#ea1100\",\"#eb1300\",\"#ed1400\",\"#ee1600\",\"#f01800\",\"#f11b00\",\"#f21d00\",\"#f32000\",\"#f52300\",\"#f62600\",\"#f62900\",\"#f72c00\",\"#f82f00\",\"#f93200\",\"#f93500\",\"#fa3800\",\"#fa3b00\",\"#fb3d00\",\"#fb4000\",\"#fb4300\",\"#fc4600\",\"#fc4900\",\"#fc4b00\",\"#fd4e00\",\"#fd5100\",\"#fd5300\",\"#fd5600\",\"#fd5800\",\"#fe5b00\",\"#fe5d00\",\"#fe5f00\",\"#fe6200\",\"#fe6400\",\"#fe6600\",\"#fe6800\",\"#fe6b00\",\"#fe6d00\",\"#fe6f00\",\"#fe7100\",\"#fe7300\",\"#fe7500\",\"#fe7700\",\"#fe7900\",\"#fe7c00\",\"#ff7e00\",\"#ff8000\",\"#ff8200\",\"#ff8300\",\"#ff8500\",\"#ff8700\",\"#ff8900\",\"#ff8b00\",\"#ff8d00\",\"#ff8f00\",\"#ff9100\",\"#ff9300\",\"#ff9400\",\"#ff9600\",\"#ff9800\",\"#ff9a00\",\"#ff9c00\",\"#ff9d00\",\"#ff9f00\",\"#ffa100\",\"#ffa300\",\"#ffa401\",\"#ffa601\",\"#ffa801\",\"#ffaa01\",\"#ffab01\",\"#ffad01\",\"#ffaf01\",\"#ffb001\",\"#ffb202\",\"#ffb402\",\"#ffb502\",\"#ffb702\",\"#ffb902\",\"#ffba02\",\"#ffbc03\",\"#ffbd03\",\"#ffbf03\",\"#ffc103\",\"#ffc204\",\"#ffc404\",\"#ffc604\",\"#ffc704\",\"#ffc905\",\"#ffca05\",\"#ffcc05\",\"#ffce06\",\"#ffcf06\",\"#ffd106\",\"#ffd207\",\"#ffd407\",\"#ffd508\",\"#ffd708\",\"#ffd909\",\"#ffda09\",\"#ffdc0a\",\"#ffdd0a\",\"#ffdf0b\",\"#ffe00b\",\"#ffe20c\",\"#ffe30d\",\"#ffe50e\",\"#ffe60f\",\"#ffe810\",\"#ffea11\",\"#ffeb12\",\"#ffed14\",\"#ffee17\",\"#fff01a\",\"#fff11e\",\"#fff324\",\"#fff42a\",\"#fff532\",\"#fff73b\",\"#fff847\",\"#fff953\",\"#fffb62\",\"#fffb72\",\"#fffc83\",\"#fffd95\",\"#fffea8\",\"#fffeba\",\"#fffecc\",\"#fffede\",\"#fffeee\",\"#ffffff\"]},\"id\":\"3750\",\"type\":\"LinearColorMapper\"},{\"attributes\":{},\"id\":\"3724\",\"type\":\"LinearScale\"},{\"attributes\":{},\"id\":\"3773\",\"type\":\"UnionRenderers\"},{\"attributes\":{\"overlay\":{\"id\":\"3771\",\"type\":\"BoxAnnotation\"}},\"id\":\"3741\",\"type\":\"BoxZoomTool\"},{\"attributes\":{\"data_source\":{\"id\":\"3751\",\"type\":\"ColumnDataSource\"},\"glyph\":{\"id\":\"3754\",\"type\":\"Image\"},\"hover_glyph\":null,\"muted_glyph\":null,\"nonselection_glyph\":{\"id\":\"3755\",\"type\":\"Image\"},\"selection_glyph\":null,\"view\":{\"id\":\"3757\",\"type\":\"CDSView\"}},\"id\":\"3756\",\"type\":\"GlyphRenderer\"},{\"attributes\":{\"callback\":null,\"data\":{\"dh\":[1.200000000000017],\"dw\":[0.70000000000001],\"image\":[{\"__ndarray__\":\"CDptoNMLkj/t4jYawP+OPyNy1OQ8Pog/NqgQoo98gT8EwmF8qwB1Pw1xrIvbqF0/2ht8YTLVWb/dkFnQjh50vzy39iuK8oC/waJI5Ki1h78pyxDHuoKOvzSitDf4spK/7TLp3NoZkj8zCKwcWiSPPwvXo3A9YIg/V6LZYqSagT+Pv8dzkGZ1Px3ME/VvhF4/WfKLJb94Wb9rch47lfVzv0e5IbOgxYC/yEs3iUGKh79N845TdGCOv1nvXXDzp5K/ZWAK/M4bkj+9Kj3AgB+PP0FdtxtXcIg/jQPCYXybgT+vvL7pcGN1PwAcoYzedl4/UUNBFo8IWb9g4qJtD/Fzv5ISqOt2zYC/3d3d3d2Rh7+R6k6KaVeOvxiSplScoJK/76SYlmsckj8kTak4+0aPPxF9ZGAKdog/+Z05/h6vgT98XgSgZI11P1xLyAc9y14/8IXJVMHoV79yYjWD5d1zvyFB8WPMzYC/eTN9iYuAh79ITc5jp06OvzTmriXkmJK/drtxZWMYkj/tMunc2kmPP3QhaUrFfYg/xdmHz7CpgT+sp3z13pF1P+QUHcnlr18/UWuad5zyV7+5jQbwFsRzv+Q5SHUnv4C/Ne84RUd+h799QmMThkyOvy7/If32nJK/cUA4jG8Tkj9gTva8CECPP09Gb8taiYg/+6OVaLbAgT+gGi/dJKp1P+QUHcnlb18/E4CSFdZwV79COIxvFblzvxPyQc9mr4C/9wy7AuRqh79xGN8qYjmOv/UAAy61kJK/LY1yQ2YTkj9Q/Bhz11SPP2Diom0Pm4g/J3teBKDGgT8xcdG2h651P90kBoGVI2A/a5dJ59Z+V7/rUbgehZdzv9iBc0aUqIC/bcLQ/a9ph78Q5on6NzaOv9obfGEyjpK/\",\"dtype\":\"float64\",\"shape\":[12,7]}],\"x\":[22.05],\"y\":[26.45]},\"selected\":{\"id\":\"3752\",\"type\":\"Selection\"},\"selection_policy\":{\"id\":\"3773\",\"type\":\"UnionRenderers\"}},\"id\":\"3751\",\"type\":\"ColumnDataSource\"},{\"attributes\":{},\"id\":\"3761\",\"type\":\"BasicTickFormatter\"}],\"root_ids\":[\"3719\"]},\"title\":\"Bokeh Application\",\"version\":\"1.2.0\"}};\n",
       "  var render_items = [{\"docid\":\"1dba9131-0d6c-42ff-8708-f95298df3c09\",\"roots\":{\"3719\":\"510731ed-b068-4460-8680-b7a6899cd770\"}}];\n",
       "  root.Bokeh.embed.embed_items_notebook(docs_json, render_items);\n",
       "\n",
       "  }\n",
       "  if (root.Bokeh !== undefined) {\n",
       "    embed_document(root);\n",
       "  } else {\n",
       "    var attempts = 0;\n",
       "    var timer = setInterval(function(root) {\n",
       "      if (root.Bokeh !== undefined) {\n",
       "        embed_document(root);\n",
       "        clearInterval(timer);\n",
       "      }\n",
       "      attempts++;\n",
       "      if (attempts > 100) {\n",
       "        console.log(\"Bokeh: ERROR: Unable to run BokehJS code because BokehJS library is missing\");\n",
       "        clearInterval(timer);\n",
       "      }\n",
       "    }, 10, root)\n",
       "  }\n",
       "})(window);</script>"
      ],
      "text/plain": [
       ":Image   [Ypos,Xpos]   (Zfield_avg)"
      ]
     },
     "execution_count": 104,
     "metadata": {
      "application/vnd.holoviews_exec.v0+json": {
       "id": "3719"
      }
     },
     "output_type": "execute_result"
    }
   ],
   "source": [
    "phi90_dataset.Zfield_avg.hvplot()"
   ]
  },
  {
   "cell_type": "code",
   "execution_count": null,
   "metadata": {},
   "outputs": [],
   "source": []
  }
 ],
 "metadata": {
  "kernelspec": {
   "display_name": "Python 3",
   "language": "python",
   "name": "python3"
  },
  "language_info": {
   "codemirror_mode": {
    "name": "ipython",
    "version": 3
   },
   "file_extension": ".py",
   "mimetype": "text/x-python",
   "name": "python",
   "nbconvert_exporter": "python",
   "pygments_lexer": "ipython3",
   "version": "3.7.3"
  }
 },
 "nbformat": 4,
 "nbformat_minor": 2
}
