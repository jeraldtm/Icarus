{
 "cells": [
  {
   "cell_type": "code",
   "execution_count": null,
   "metadata": {},
   "outputs": [],
   "source": [
    "import xarray as xr\n",
    "import numpy as np\n",
    "import pandas as pd\n",
    "import matplotlib.pyplot as plt\n",
    "import hvplot.xarray\n",
    "%matplotlib qt"
   ]
  },
  {
   "cell_type": "markdown",
   "metadata": {},
   "source": [
    "# Centre Voltage Sweep"
   ]
  },
  {
   "cell_type": "code",
   "execution_count": null,
   "metadata": {},
   "outputs": [],
   "source": [
    "cen_v= pd.read_csv('./2019-06-29/phi0_daedalus_voltCenter_calib_2019-06-29_2.csv', comment=\"#\")"
   ]
  },
  {
   "cell_type": "code",
   "execution_count": null,
   "metadata": {},
   "outputs": [],
   "source": [
    "cen_vn = cen_v[cen_v.Yfield>0]\n",
    "cen_vp = cen_v[cen_v.Yfield<0]"
   ]
  },
  {
   "cell_type": "code",
   "execution_count": null,
   "metadata": {},
   "outputs": [],
   "source": [
    "plt.figure()\n",
    "plt.plot(cen_vn.V.values, cen_vn.Yfield.values)\n",
    "plt.plot(cen_vp.V.values, cen_vp.Yfield.values)"
   ]
  },
  {
   "cell_type": "code",
   "execution_count": null,
   "metadata": {},
   "outputs": [],
   "source": [
    "cen_vp_coeff = np.polyfit(cen_vp.Yfield.values, cen_vp.V.values, 5)\n",
    "cen_vn_coeff = np.polyfit(cen_vn.Yfield.values, cen_vn.V.values, 5)\n",
    "cen_v_coeffs = np.asarray([cen_vn_coeff, cen_vp_coeff])\n",
    "print(cen_v_coeffs)"
   ]
  },
  {
   "cell_type": "code",
   "execution_count": null,
   "metadata": {},
   "outputs": [],
   "source": [
    "np.savetxt(\"./icarusCalibCsv/icarus_volt_center_calib.csv\", cen_v_coeffs, delimiter=\",\")"
   ]
  },
  {
   "cell_type": "code",
   "execution_count": null,
   "metadata": {},
   "outputs": [],
   "source": [
    "cen_vp_fit = np.poly1d(cen_vp_coeff)\n",
    "cen_vn_fit = np.poly1d(cen_vn_coeff)"
   ]
  },
  {
   "cell_type": "code",
   "execution_count": null,
   "metadata": {},
   "outputs": [],
   "source": [
    "plt.figure(dpi=100)\n",
    "\n",
    "plt.plot(cen_vp.V, cen_vp.Yfield, 'rx', markersize=2)\n",
    "plt.plot(cen_vp_fit(cen_vp.Yfield), cen_vp.Yfield , 'k')\n",
    "\n",
    "plt.plot(cen_vn.V, cen_vn.Yfield, 'gx', markersize=2)\n",
    "plt.plot(cen_vn_fit(cen_vn.Yfield), cen_vn.Yfield , 'b')\n",
    "plt.xlabel('V (V)')\n",
    "plt.ylabel('B (T)')\n",
    "plt.title('B(V)')"
   ]
  },
  {
   "cell_type": "markdown",
   "metadata": {},
   "source": [
    "# Radial Calibration 3 V"
   ]
  },
  {
   "cell_type": "code",
   "execution_count": null,
   "metadata": {},
   "outputs": [],
   "source": [
    "vp = pd.read_csv('./2019-06-29/2vp_daedalus_radialPolar_calib_A000.0_2019-06-29_1.csv', comment='#')\n",
    "vn = pd.read_csv('./2019-06-29/2vn_daedalus_radialPolar_calib_A000.0_2019-06-29_1.csv', comment='#')"
   ]
  },
  {
   "cell_type": "code",
   "execution_count": null,
   "metadata": {},
   "outputs": [],
   "source": [
    "vp = vp.assign(phi=lambda a: np.arctan2(a.Xfield, a.Yfield)*180/np.pi)\n",
    "vp = vp.assign(theta=lambda a: np.arctan2(a.Zfield, -a.Yfield)*180/np.pi)\n",
    "vp = vp.assign(Bmag=lambda a: np.sqrt(a.Yfield**2 + a.Zfield**2))\n",
    "\n",
    "vn = vn.assign(phi=lambda a: np.arctan2(a.Xfield, a.Yfield)*180/np.pi)\n",
    "vn = vn.assign(theta=lambda a: np.arctan2(a.Zfield, a.Yfield)*180/np.pi)\n",
    "vn = vn.assign(Bmag=lambda a: np.sqrt(a.Yfield**2 + a.Zfield**2))"
   ]
  },
  {
   "cell_type": "code",
   "execution_count": null,
   "metadata": {},
   "outputs": [],
   "source": [
    "vp_dv = {}\n",
    "vn_dv = {}\n",
    "for c in vp.columns[:]:\n",
    "    vp_dv[c] = ([\"R\"],vp[c])\n",
    "    vn_dv[c] = ([\"R\"],vn[c])\n",
    "vp_ds = xr.Dataset(vp_dv)\n",
    "vn_ds = xr.Dataset(vn_dv)"
   ]
  },
  {
   "cell_type": "code",
   "execution_count": null,
   "metadata": {},
   "outputs": [],
   "source": [
    "vp.plot('R', 'theta')\n",
    "plt.axhline(90,color='r')\n",
    "plt.axhline(-90,color='r')\n",
    "plt.axvline(0,color='orange')"
   ]
  },
  {
   "cell_type": "code",
   "execution_count": null,
   "metadata": {},
   "outputs": [],
   "source": [
    "vn.plot('R', 'theta')\n",
    "plt.axhline(-90,color='r')\n",
    "plt.axhline(90, color='r')\n",
    "plt.axvline(0,color='orange')"
   ]
  },
  {
   "cell_type": "code",
   "execution_count": null,
   "metadata": {},
   "outputs": [],
   "source": [
    "vp_rp = vp[vp.R>0]\n",
    "vp_rn = vp[vp.R<0]\n",
    "vn_rp = vn[vn.R>0]\n",
    "vn_rn = vn[vn.R<0]"
   ]
  },
  {
   "cell_type": "code",
   "execution_count": null,
   "metadata": {},
   "outputs": [],
   "source": [
    "plt.plot(vp_rp.R, vp_rp.theta)\n",
    "plt.plot(vp_rn.R, vp_rn.theta)"
   ]
  },
  {
   "cell_type": "code",
   "execution_count": null,
   "metadata": {},
   "outputs": [],
   "source": [
    "plt.plot(vp.R, (vp.theta+vn.theta))"
   ]
  },
  {
   "cell_type": "markdown",
   "metadata": {},
   "source": [
    "### Negative voltage R-theta relation"
   ]
  },
  {
   "cell_type": "code",
   "execution_count": null,
   "metadata": {},
   "outputs": [],
   "source": [
    "vn_R_thetapos_coeff = np.polyfit(vn_rp.theta, vn_rp.R, 6)\n",
    "vn_R_thetaneg_coeff = np.polyfit(vn_rn.theta, vn_rn.R, 6)\n",
    "vn_R_thetapos = np.poly1d(vn_R_thetapos_coeff)\n",
    "vn_R_thetaneg = np.poly1d(vn_R_thetaneg_coeff)\n",
    "R_theta = vn_R_thetapos_coeff,vn_R_thetaneg_coeff\n",
    "print(R_theta)\n",
    "np.savetxt(\"./icarusCalibCsv/icarus_radial_polar_calib.csv\", R_theta, delimiter=\",\")"
   ]
  },
  {
   "cell_type": "code",
   "execution_count": null,
   "metadata": {},
   "outputs": [],
   "source": [
    "plt.figure(dpi=100)\n",
    "plt.plot(vn_rp.theta, vn_rp.R, 'r+', markersize=2)\n",
    "plt.plot(vn_rp.theta, vn_R_thetapos(vn_rp.theta), 'b')\n",
    "plt.plot(vn_rn.theta, vn_rn.R, 'g+', markersize=2)\n",
    "plt.plot(vn_rn.theta, vn_R_thetaneg(vn_rn.theta), 'k')\n",
    "plt.axvline(90)\n",
    "plt.axvline(-90)"
   ]
  },
  {
   "cell_type": "code",
   "execution_count": null,
   "metadata": {},
   "outputs": [],
   "source": [
    "bmag_vp_rp_coeff = np.polyfit(vp[vp.R>0].R, vp[vp.R>0].Bmag, 10)\n",
    "bmag_vp_rp = np.poly1d(bmag_vp_rp_coeff)\n",
    "\n",
    "bmag_vp_rn_coeff = np.polyfit(vp[vp.R<0].R, vp[vp.R<0].Bmag, 10)\n",
    "bmag_vp_rn = np.poly1d(bmag_vp_rn_coeff)\n",
    "\n",
    "bmag_vn_rp_coeff = np.polyfit(vn[vn.R>0].R, vn[vn.R>0].Bmag, 10)\n",
    "bmag_vn_rp = np.poly1d(bmag_vn_rp_coeff)\n",
    "\n",
    "bmag_vn_rn_coeff = np.polyfit(vn[vn.R<0].R, vn[vn.R<0].Bmag, 10)\n",
    "bmag_vn_rn = np.poly1d(bmag_vn_rn_coeff)"
   ]
  },
  {
   "cell_type": "code",
   "execution_count": null,
   "metadata": {},
   "outputs": [],
   "source": [
    "plt.figure(dpi=100)\n",
    "plt.plot(vp.R, vp.Bmag, 'r+', markersize=2)\n",
    "plt.plot(vp[vp.R>0].R, bmag_vp_rp(vp[vp.R>0].R))\n",
    "plt.plot(vp[vp.R<0].R, bmag_vp_rn(vp[vp.R<0].R))"
   ]
  },
  {
   "cell_type": "code",
   "execution_count": null,
   "metadata": {},
   "outputs": [],
   "source": [
    "plt.figure(dpi=100)\n",
    "plt.plot(vn.R, vn.Bmag, 'g+', markersize=2)\n",
    "plt.plot(vn[vn.R>0].R, bmag_vn_rp(vn[vn.R>0].R))\n",
    "plt.plot(vn[vn.R<0].R, bmag_vn_rn(vn[vn.R<0].R))"
   ]
  },
  {
   "cell_type": "markdown",
   "metadata": {},
   "source": [
    "### Voltage Correction function"
   ]
  },
  {
   "cell_type": "code",
   "execution_count": null,
   "metadata": {},
   "outputs": [],
   "source": [
    "V0 = cen_vn_fit(bmag_vn_rp(0.0)) # Voltage used for radial scan\n",
    "Rpts_p = np.arange(0, 15, 0.1)\n",
    "Rpts_n = np.arange(-15, 0, 0.1)"
   ]
  },
  {
   "cell_type": "code",
   "execution_count": null,
   "metadata": {},
   "outputs": [],
   "source": [
    "vcent_vp_rp = -V0/cen_vp_fit(-bmag_vp_rp(Rpts_p))\n",
    "vcent_vp_rn = -V0/cen_vp_fit(-bmag_vp_rn(Rpts_n))\n",
    "vcent_vn_rp = V0/cen_vn_fit(bmag_vn_rp(Rpts_p))\n",
    "vcent_vn_rn = V0/cen_vn_fit(bmag_vn_rn(Rpts_n))"
   ]
  },
  {
   "cell_type": "code",
   "execution_count": null,
   "metadata": {},
   "outputs": [],
   "source": [
    "n = 10\n",
    "vcorr_vp_rp_coeff = np.polyfit(Rpts_p, vcent_vp_rp, n)\n",
    "vcorr_vp_rp = np.poly1d(vcorr_vp_rp_coeff)\n",
    "vcorr_vp_rn_coeff = np.polyfit(Rpts_n, vcent_vp_rn, n)\n",
    "vcorr_vp_rn = np.poly1d(vcorr_vp_rn_coeff)\n",
    "vcorr_vn_rp_coeff = np.polyfit(Rpts_p, vcent_vn_rp, n)\n",
    "vcorr_vn_rp = np.poly1d(vcorr_vn_rp_coeff)\n",
    "vcorr_vn_rn_coeff = np.polyfit(Rpts_n, vcent_vn_rn, n)\n",
    "vcorr_vn_rn = np.poly1d(vcorr_vn_rn_coeff)"
   ]
  },
  {
   "cell_type": "code",
   "execution_count": null,
   "metadata": {},
   "outputs": [],
   "source": [
    "print(vcorr_vn_rp_coeff, '\\n', vcorr_vp_rp_coeff, '\\n', vcorr_vn_rn_coeff, '\\n',vcorr_vp_rn_coeff)"
   ]
  },
  {
   "cell_type": "code",
   "execution_count": null,
   "metadata": {},
   "outputs": [],
   "source": [
    "vcorr_coeffs = [vcorr_vn_rp_coeff, vcorr_vp_rp_coeff, vcorr_vn_rn_coeff,vcorr_vp_rn_coeff]\n",
    "np.savetxt(\"./icarusCalibCsv/icarus_volt_correction_calib.csv\", vcorr_coeffs, delimiter=\",\")"
   ]
  },
  {
   "cell_type": "code",
   "execution_count": null,
   "metadata": {},
   "outputs": [],
   "source": [
    "plt.plot(Rpts_p, vcent_vp_rp, 'r', markersize = 2)\n",
    "plt.plot(Rpts_p, vcorr_vp_rp(Rpts_p), 'b')\n",
    "plt.xlabel('R (mm)')\n",
    "plt.ylabel('V correction factor')\n",
    "plt.title('Scale factor for a radial point to get the same field')"
   ]
  },
  {
   "cell_type": "code",
   "execution_count": null,
   "metadata": {},
   "outputs": [],
   "source": [
    "plt.plot(Rpts_p, vcent_vn_rp, 'r', markersize = 2)\n",
    "plt.plot(Rpts_p, vcorr_vn_rp(Rpts_p), 'b')\n",
    "plt.xlabel('R (mm)')\n",
    "plt.ylabel('V correction factor')\n",
    "plt.title('Scale factor for a radial point to get the same field')"
   ]
  },
  {
   "cell_type": "code",
   "execution_count": null,
   "metadata": {},
   "outputs": [],
   "source": [
    "plt.plot(Rpts_n, vcent_vp_rn, 'r+', markersize = 2)\n",
    "plt.plot(Rpts_n, vcorr_vp_rn(Rpts_n), 'b')\n",
    "plt.xlabel('R (mm)')\n",
    "plt.ylabel('V correction factor')\n",
    "plt.title('Scale factor for a radial point to get the same field')"
   ]
  },
  {
   "cell_type": "code",
   "execution_count": null,
   "metadata": {},
   "outputs": [],
   "source": [
    "plt.plot(Rpts_n, vcent_vn_rn, 'r+', markersize = 2)\n",
    "plt.plot(Rpts_n, vcorr_vn_rn(Rpts_n), 'b')\n",
    "plt.xlabel('R (mm)')\n",
    "plt.ylabel('V correction factor')\n",
    "plt.title('Scale factor for a radial point to get the same field')"
   ]
  }
 ],
 "metadata": {
  "celltoolbar": "Edit Metadata",
  "kernelspec": {
   "display_name": "Python 3",
   "language": "python",
   "name": "python3"
  },
  "language_info": {
   "codemirror_mode": {
    "name": "ipython",
    "version": 3
   },
   "file_extension": ".py",
   "mimetype": "text/x-python",
   "name": "python",
   "nbconvert_exporter": "python",
   "pygments_lexer": "ipython3",
   "version": "3.7.3"
  }
 },
 "nbformat": 4,
 "nbformat_minor": 2
}
