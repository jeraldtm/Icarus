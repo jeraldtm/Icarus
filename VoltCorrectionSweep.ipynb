{
 "cells": [
  {
   "cell_type": "code",
   "execution_count": 19,
   "metadata": {},
   "outputs": [],
   "source": [
    "import numpy as np\n",
    "import matplotlib.pyplot as plt\n",
    "%matplotlib qt"
   ]
  },
  {
   "cell_type": "code",
   "execution_count": 20,
   "metadata": {},
   "outputs": [],
   "source": [
    "def loadAndPlot(volts, color):\n",
    "    rp = np.arange(0, 15, 0.1)\n",
    "    rn = np.arange(-15, 0, 0.1)\n",
    "    rpbp, rpbn, rnbp, rnbn = np.loadtxt('icarusCalibCsv/icarus_%gV_volt_correction_calib.csv' % volts, delimiter=',')\n",
    "    vrp = [rpbp,rpbn]\n",
    "    vrn = [rnbp,rnbn]\n",
    "    \n",
    "    for coeffs in vrp:\n",
    "        func = np.poly1d(coeffs)\n",
    "        plt.plot(rp,func(rp), label = '%grp' % volts, color = color)\n",
    "    \n",
    "    for coeffs in vrn:\n",
    "        func = np.poly1d(coeffs)\n",
    "        plt.plot(rn,func(rn), label = '%grn' % volts, color = color)\n",
    "    \n",
    "    plt.legend()"
   ]
  },
  {
   "cell_type": "code",
   "execution_count": 23,
   "metadata": {},
   "outputs": [],
   "source": [
    "colors = ['b', 'g', 'r', 'c', 'm', 'y', 'k', 'b', 'g', 'r']\n",
    "plt.figure(dpi=200)\n",
    "for i in range(1, 11):\n",
    "    loadAndPlot(i, colors[i-1])"
   ]
  },
  {
   "cell_type": "code",
   "execution_count": null,
   "metadata": {},
   "outputs": [],
   "source": []
  }
 ],
 "metadata": {
  "kernelspec": {
   "display_name": "Python 3",
   "language": "python",
   "name": "python3"
  },
  "language_info": {
   "codemirror_mode": {
    "name": "ipython",
    "version": 3
   },
   "file_extension": ".py",
   "mimetype": "text/x-python",
   "name": "python",
   "nbconvert_exporter": "python",
   "pygments_lexer": "ipython3",
   "version": "3.7.3"
  }
 },
 "nbformat": 4,
 "nbformat_minor": 2
}
