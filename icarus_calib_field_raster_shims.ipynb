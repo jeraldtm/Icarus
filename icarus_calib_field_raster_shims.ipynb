{
 "cells": [
  {
   "cell_type": "markdown",
   "metadata": {},
   "source": [
    "# <font color=blue>_Centre Calibration from Field Rastering at $\\phi = 0^\\circ$ and $\\phi = 90^\\circ$_</font>"
   ]
  },
  {
   "cell_type": "code",
   "execution_count": 16,
   "metadata": {},
   "outputs": [],
   "source": [
    "import xarray as xr\n",
    "import numpy as np\n",
    "import pandas as pd\n",
    "import matplotlib.pyplot as plt\n",
    "# import hvplot.xarray\n",
    "from mpl_toolkits.mplot3d import Axes3D\n",
    "import matplotlib.cm as cm\n",
    "%matplotlib qt"
   ]
  },
  {
   "cell_type": "markdown",
   "metadata": {},
   "source": [
    "### Rough Raster"
   ]
  },
  {
   "cell_type": "code",
   "execution_count": 17,
   "metadata": {},
   "outputs": [],
   "source": [
    "x_start, x_end, x_step = 27.8, 28.2, 0.01\n",
    "y_start, y_end, y_step = 19.8, 20.2, 0.01\n",
    "x_pts = np.arange(x_start, x_end+x_step, x_step)\n",
    "y_pts = np.arange(y_start, y_end+y_step, y_step)"
   ]
  },
  {
   "cell_type": "code",
   "execution_count": 18,
   "metadata": {},
   "outputs": [],
   "source": [
    "phi0 = pd.read_csv('./2019-06-27/test_fieldRaster_2019-06-27_6.csv', comment='#')\n",
    "phi90 = pd.read_csv('./2019-06-27/90_fieldRaster_2019-06-27_1.csv', comment='#')"
   ]
  },
  {
   "cell_type": "code",
   "execution_count": 9,
   "metadata": {},
   "outputs": [
    {
     "data": {
      "text/plain": [
       "[<matplotlib.lines.Line2D at 0x32b21fbe0>]"
      ]
     },
     "execution_count": 9,
     "metadata": {},
     "output_type": "execute_result"
    }
   ],
   "source": [
    "plt.plot(phi90['X'].values, phi90['Zfield_avg'].values, 'r+')"
   ]
  },
  {
   "cell_type": "code",
   "execution_count": 5,
   "metadata": {},
   "outputs": [
    {
     "data": {
      "text/plain": [
       "[<matplotlib.lines.Line2D at 0x7f5f66d35fd0>]"
      ]
     },
     "execution_count": 5,
     "metadata": {},
     "output_type": "execute_result"
    },
    {
     "data": {
      "image/png": "[encoded data removed]",
      "text/plain": [
       "<Figure size 432x288 with 1 Axes>"
      ]
     },
     "metadata": {
      "needs_background": "light"
     },
     "output_type": "display_data"
    }
   ],
   "source": [
    "plt.plot(phi90['Y'].values, phi90['Zfield_avg'].values, 'r+')"
   ]
  },
  {
   "cell_type": "code",
   "execution_count": 19,
   "metadata": {},
   "outputs": [
    {
     "data": {
      "text/plain": [
       "Text(0.5, 1.0, 'phi0 xy plane field')"
      ]
     },
     "execution_count": 19,
     "metadata": {},
     "output_type": "execute_result"
    }
   ],
   "source": [
    "x = phi0['X']\n",
    "y = phi0['Y']\n",
    "z = [0]\n",
    "\n",
    "x_field = phi0['Xfield_avg']\n",
    "y_field = phi0['Yfield_avg']\n",
    "z_field = phi0['Zfield_avg']\n",
    "\n",
    "plt.quiver(x, y, x_field, y_field, pivot='middle', scale = 10)\n",
    "plt.title('phi0 xy plane field')\n",
    "#fig = plt.figure()\n",
    "#ax = fig.add_subplot(111, projection ='3d')\n",
    "#ax.quiver(x_pts, y_pts, z_pts, x_field, y_field, z_field, length = 0.9)"
   ]
  },
  {
   "cell_type": "code",
   "execution_count": 20,
   "metadata": {},
   "outputs": [
    {
     "data": {
      "text/plain": [
       "<matplotlib.quiver.Quiver at 0x32bb1df28>"
      ]
     },
     "execution_count": 20,
     "metadata": {},
     "output_type": "execute_result"
    }
   ],
   "source": [
    "x = phi90['X']\n",
    "y = phi90['Y']\n",
    "z = [0]\n",
    "\n",
    "x_field = phi90['Xfield_avg']\n",
    "y_field = phi90['Yfield_avg']\n",
    "z_field = phi90['Zfield_avg']\n",
    "plt.title('phi90 xy plane field')\n",
    "plt.quiver(x, y, x_field, y_field, pivot='middle', scale = 10)"
   ]
  },
  {
   "cell_type": "code",
   "execution_count": 8,
   "metadata": {},
   "outputs": [],
   "source": [
    "#Data variables dict\n",
    "phi0_data_vars = {}\n",
    "phi90_data_vars = {}\n",
    "\n",
    "#Add (dims, data) tuple for each variable column to dict\n",
    "for var in phi0.columns[:]:\n",
    "    dims = [\"Xpos\", \"Ypos\"]\n",
    "    data0 = phi0[var].values.reshape(x_pts.size, y_pts.size)\n",
    "    phi0_data_vars[var] = (dims, data0)\n",
    "    \n",
    "for var in phi90.columns[:]:\n",
    "    dims = [\"Xpos\", \"Ypos\"]\n",
    "    data90 = phi90[var].values.reshape(x_pts.size, y_pts.size)\n",
    "    phi90_data_vars[var] = (dims, data90)\n",
    "    \n",
    "coords = {\"Xpos\":('Xpos', x_pts), \"Ypos\":('Ypos', y_pts)}\n",
    "phi0_ds = xr.Dataset(phi0_data_vars, coords)\n",
    "phi90_ds = xr.Dataset(phi90_data_vars, coords)"
   ]
  },
  {
   "cell_type": "code",
   "execution_count": 9,
   "metadata": {},
   "outputs": [
    {
     "data": {
      "application/vnd.holoviews_exec.v0+json": "",
      "text/html": [
       "<div id='1004' style='display: table; margin: 0 auto;'>\n",
       "\n",
       "\n",
       "\n",
       "\n",
       "\n",
       "  <div class=\"bk-root\" id=\"5b9cebe4-454b-4718-828d-011881579602\" data-root-id=\"1004\"></div>\n",
       "</div>\n",
       "<script type=\"application/javascript\">(function(root) {\n",
       "  function embed_document(root) {\n",
       "    \n",
       "  var docs_json = {\"cb699b1f-6125-4233-bb77-25851fd807b7\":{\"roots\":{\"references\":[{\"attributes\":{\"below\":[{\"id\":\"1013\",\"type\":\"LinearAxis\"}],\"center\":[{\"id\":\"1017\",\"type\":\"Grid\"},{\"id\":\"1022\",\"type\":\"Grid\"}],\"left\":[{\"id\":\"1018\",\"type\":\"LinearAxis\"}],\"margin\":null,\"min_border_bottom\":10,\"min_border_left\":10,\"min_border_right\":10,\"min_border_top\":10,\"plot_height\":300,\"plot_width\":700,\"renderers\":[{\"id\":\"1041\",\"type\":\"GlyphRenderer\"}],\"right\":[{\"id\":\"1044\",\"type\":\"ColorBar\"}],\"sizing_mode\":\"fixed\",\"title\":{\"id\":\"1005\",\"type\":\"Title\"},\"toolbar\":{\"id\":\"1028\",\"type\":\"Toolbar\"},\"x_range\":{\"id\":\"1001\",\"type\":\"Range1d\"},\"x_scale\":{\"id\":\"1009\",\"type\":\"LinearScale\"},\"y_range\":{\"id\":\"1002\",\"type\":\"Range1d\"},\"y_scale\":{\"id\":\"1011\",\"type\":\"LinearScale\"}},\"id\":\"1004\",\"subtype\":\"Figure\",\"type\":\"Plot\"},{\"attributes\":{},\"id\":\"1037\",\"type\":\"Selection\"},{\"attributes\":{\"active_drag\":\"auto\",\"active_inspect\":\"auto\",\"active_multi\":null,\"active_scroll\":\"auto\",\"active_tap\":\"auto\",\"tools\":[{\"id\":\"1003\",\"type\":\"HoverTool\"},{\"id\":\"1023\",\"type\":\"SaveTool\"},{\"id\":\"1024\",\"type\":\"PanTool\"},{\"id\":\"1025\",\"type\":\"WheelZoomTool\"},{\"id\":\"1026\",\"type\":\"BoxZoomTool\"},{\"id\":\"1027\",\"type\":\"ResetTool\"}]},\"id\":\"1028\",\"type\":\"Toolbar\"},{\"attributes\":{\"color_mapper\":{\"id\":\"1035\",\"type\":\"LinearColorMapper\"},\"dh\":{\"field\":\"dh\",\"units\":\"data\"},\"dw\":{\"field\":\"dw\",\"units\":\"data\"},\"image\":{\"field\":\"image\"},\"x\":{\"field\":\"x\"},\"y\":{\"field\":\"y\"}},\"id\":\"1040\",\"type\":\"Image\"},{\"attributes\":{},\"id\":\"1009\",\"type\":\"LinearScale\"},{\"attributes\":{\"text\":\"\",\"text_color\":{\"value\":\"black\"},\"text_font_size\":{\"value\":\"12pt\"}},\"id\":\"1005\",\"type\":\"Title\"},{\"attributes\":{},\"id\":\"1011\",\"type\":\"LinearScale\"},{\"attributes\":{\"source\":{\"id\":\"1036\",\"type\":\"ColumnDataSource\"}},\"id\":\"1042\",\"type\":\"CDSView\"},{\"attributes\":{},\"id\":\"1043\",\"type\":\"BasicTicker\"},{\"attributes\":{\"axis_label\":\"Ypos\",\"bounds\":\"auto\",\"formatter\":{\"id\":\"1047\",\"type\":\"BasicTickFormatter\"},\"major_label_orientation\":\"horizontal\",\"ticker\":{\"id\":\"1014\",\"type\":\"BasicTicker\"}},\"id\":\"1013\",\"type\":\"LinearAxis\"},{\"attributes\":{\"bar_line_color\":{\"value\":\"black\"},\"color_mapper\":{\"id\":\"1035\",\"type\":\"LinearColorMapper\"},\"formatter\":{\"id\":\"1051\",\"type\":\"BasicTickFormatter\"},\"label_standoff\":8,\"location\":[0,0],\"major_tick_line_color\":{\"value\":\"black\"},\"ticker\":{\"id\":\"1043\",\"type\":\"BasicTicker\"}},\"id\":\"1044\",\"type\":\"ColorBar\"},{\"attributes\":{},\"id\":\"1027\",\"type\":\"ResetTool\"},{\"attributes\":{\"grid_line_color\":null,\"ticker\":{\"id\":\"1014\",\"type\":\"BasicTicker\"}},\"id\":\"1017\",\"type\":\"Grid\"},{\"attributes\":{\"axis_label\":\"Xpos\",\"bounds\":\"auto\",\"formatter\":{\"id\":\"1049\",\"type\":\"BasicTickFormatter\"},\"major_label_orientation\":\"horizontal\",\"ticker\":{\"id\":\"1019\",\"type\":\"BasicTicker\"}},\"id\":\"1018\",\"type\":\"LinearAxis\"},{\"attributes\":{},\"id\":\"1051\",\"type\":\"BasicTickFormatter\"},{\"attributes\":{},\"id\":\"1019\",\"type\":\"BasicTicker\"},{\"attributes\":{\"high\":0.1114591776529948,\"low\":0.11094794921875,\"nan_color\":\"rgba(0, 0, 0, 0)\",\"palette\":[\"#000000\",\"#060000\",\"#0d0000\",\"#120000\",\"#160000\",\"#190000\",\"#1c0000\",\"#1f0000\",\"#220000\",\"#240000\",\"#260000\",\"#280000\",\"#2b0000\",\"#2d0000\",\"#2e0000\",\"#300000\",\"#320000\",\"#340000\",\"#350000\",\"#370000\",\"#380000\",\"#3a0000\",\"#3b0000\",\"#3d0000\",\"#3e0000\",\"#400000\",\"#410000\",\"#430000\",\"#440000\",\"#460000\",\"#470000\",\"#490000\",\"#4a0000\",\"#4c0000\",\"#4d0000\",\"#4f0000\",\"#500000\",\"#520000\",\"#530000\",\"#550000\",\"#560000\",\"#580000\",\"#590100\",\"#5b0100\",\"#5d0100\",\"#5e0100\",\"#600100\",\"#610100\",\"#630100\",\"#650100\",\"#660100\",\"#680100\",\"#690100\",\"#6b0100\",\"#6d0100\",\"#6e0100\",\"#700100\",\"#710100\",\"#730100\",\"#750100\",\"#760100\",\"#780200\",\"#7a0200\",\"#7b0200\",\"#7d0200\",\"#7f0200\",\"#800200\",\"#820200\",\"#840200\",\"#850200\",\"#870200\",\"#890200\",\"#8a0200\",\"#8c0300\",\"#8e0300\",\"#900300\",\"#910300\",\"#930300\",\"#950300\",\"#960300\",\"#980300\",\"#9a0300\",\"#9c0300\",\"#9d0400\",\"#9f0400\",\"#a10400\",\"#a20400\",\"#a40400\",\"#a60400\",\"#a80400\",\"#a90400\",\"#ab0500\",\"#ad0500\",\"#af0500\",\"#b00500\",\"#b20500\",\"#b40500\",\"#b60600\",\"#b80600\",\"#b90600\",\"#bb0600\",\"#bd0600\",\"#bf0700\",\"#c00700\",\"#c20700\",\"#c40700\",\"#c60800\",\"#c80800\",\"#c90800\",\"#cb0800\",\"#cd0900\",\"#cf0900\",\"#d10900\",\"#d20a00\",\"#d40a00\",\"#d60a00\",\"#d80b00\",\"#da0b00\",\"#db0c00\",\"#dd0c00\",\"#df0d00\",\"#e10d00\",\"#e30e00\",\"#e40f00\",\"#e60f00\",\"#e81000\",\"#ea1100\",\"#eb1300\",\"#ed1400\",\"#ee1600\",\"#f01800\",\"#f11b00\",\"#f21d00\",\"#f32000\",\"#f52300\",\"#f62600\",\"#f62900\",\"#f72c00\",\"#f82f00\",\"#f93200\",\"#f93500\",\"#fa3800\",\"#fa3b00\",\"#fb3d00\",\"#fb4000\",\"#fb4300\",\"#fc4600\",\"#fc4900\",\"#fc4b00\",\"#fd4e00\",\"#fd5100\",\"#fd5300\",\"#fd5600\",\"#fd5800\",\"#fe5b00\",\"#fe5d00\",\"#fe5f00\",\"#fe6200\",\"#fe6400\",\"#fe6600\",\"#fe6800\",\"#fe6b00\",\"#fe6d00\",\"#fe6f00\",\"#fe7100\",\"#fe7300\",\"#fe7500\",\"#fe7700\",\"#fe7900\",\"#fe7c00\",\"#ff7e00\",\"#ff8000\",\"#ff8200\",\"#ff8300\",\"#ff8500\",\"#ff8700\",\"#ff8900\",\"#ff8b00\",\"#ff8d00\",\"#ff8f00\",\"#ff9100\",\"#ff9300\",\"#ff9400\",\"#ff9600\",\"#ff9800\",\"#ff9a00\",\"#ff9c00\",\"#ff9d00\",\"#ff9f00\",\"#ffa100\",\"#ffa300\",\"#ffa401\",\"#ffa601\",\"#ffa801\",\"#ffaa01\",\"#ffab01\",\"#ffad01\",\"#ffaf01\",\"#ffb001\",\"#ffb202\",\"#ffb402\",\"#ffb502\",\"#ffb702\",\"#ffb902\",\"#ffba02\",\"#ffbc03\",\"#ffbd03\",\"#ffbf03\",\"#ffc103\",\"#ffc204\",\"#ffc404\",\"#ffc604\",\"#ffc704\",\"#ffc905\",\"#ffca05\",\"#ffcc05\",\"#ffce06\",\"#ffcf06\",\"#ffd106\",\"#ffd207\",\"#ffd407\",\"#ffd508\",\"#ffd708\",\"#ffd909\",\"#ffda09\",\"#ffdc0a\",\"#ffdd0a\",\"#ffdf0b\",\"#ffe00b\",\"#ffe20c\",\"#ffe30d\",\"#ffe50e\",\"#ffe60f\",\"#ffe810\",\"#ffea11\",\"#ffeb12\",\"#ffed14\",\"#ffee17\",\"#fff01a\",\"#fff11e\",\"#fff324\",\"#fff42a\",\"#fff532\",\"#fff73b\",\"#fff847\",\"#fff953\",\"#fffb62\",\"#fffb72\",\"#fffc83\",\"#fffd95\",\"#fffea8\",\"#fffeba\",\"#fffecc\",\"#fffede\",\"#fffeee\",\"#ffffff\"]},\"id\":\"1035\",\"type\":\"LinearColorMapper\"},{\"attributes\":{\"overlay\":{\"id\":\"1056\",\"type\":\"BoxAnnotation\"}},\"id\":\"1026\",\"type\":\"BoxZoomTool\"},{\"attributes\":{},\"id\":\"1047\",\"type\":\"BasicTickFormatter\"},{\"attributes\":{},\"id\":\"1057\",\"type\":\"UnionRenderers\"},{\"attributes\":{\"dimension\":1,\"grid_line_color\":null,\"ticker\":{\"id\":\"1019\",\"type\":\"BasicTicker\"}},\"id\":\"1022\",\"type\":\"Grid\"},{\"attributes\":{},\"id\":\"1023\",\"type\":\"SaveTool\"},{\"attributes\":{\"callback\":null,\"end\":27.050000000000015,\"reset_end\":27.050000000000015,\"reset_start\":25.849999999999998,\"start\":25.849999999999998,\"tags\":[[[\"Xpos\",\"Xpos\",null]]]},\"id\":\"1002\",\"type\":\"Range1d\"},{\"attributes\":{\"callback\":null,\"renderers\":[{\"id\":\"1041\",\"type\":\"GlyphRenderer\"}],\"tags\":[\"hv_created\"],\"tooltips\":[[\"Ypos\",\"$x\"],[\"Xpos\",\"$y\"],[\"Yfield_avg\",\"@image\"]]},\"id\":\"1003\",\"type\":\"HoverTool\"},{\"attributes\":{\"color_mapper\":{\"id\":\"1035\",\"type\":\"LinearColorMapper\"},\"dh\":{\"field\":\"dh\",\"units\":\"data\"},\"dw\":{\"field\":\"dw\",\"units\":\"data\"},\"image\":{\"field\":\"image\"},\"x\":{\"field\":\"x\"},\"y\":{\"field\":\"y\"}},\"id\":\"1039\",\"type\":\"Image\"},{\"attributes\":{},\"id\":\"1049\",\"type\":\"BasicTickFormatter\"},{\"attributes\":{},\"id\":\"1014\",\"type\":\"BasicTicker\"},{\"attributes\":{},\"id\":\"1024\",\"type\":\"PanTool\"},{\"attributes\":{},\"id\":\"1025\",\"type\":\"WheelZoomTool\"},{\"attributes\":{\"callback\":null,\"data\":{\"dh\":[1.200000000000017],\"dw\":[1.200000000000017],\"image\":[{\"__ndarray__\":\"D+aJ+vdnvD9DiD4ysGe8P7Pqc7UVZ7w/kshRkzNovD8Zuv+16We8P5szorT3Z7w/zKehIEtpvD9DYxOGLmq8P6dUnH04a7w/n++nxotrvD/YgXNGlGm8Pw53CPYyarw/TV/ioi1uvD/55GGh1m28P2sr9pfdbbw/7psOd0huvD8ssp3vJ3O8P2Y+DQWZdLw/nTn+Hg94vD9JeFV6QHi8PwmH8a2id7w/ML5VxFZ3vD8Y+J05fne8P6NtD1VLeLw/UnH24fN5vD9kfKuI7Xm8PxnfKmJreLw/HhZqTfN4vD8noImwoXi8P6KxCUN3erw/ZIU1qBB7vD+94xQdCXu8P0UASlaYerw/ImYcEI57vD8YSFD8WHu8P/0ez0Hqe7w/B/AWSNB/vD+vvL7p8IC8PwFyr7lQgrw/ToQNTy+CvD9PIUQfWYO8P+sENBG2grw/iYiIiIiDvD/kzfQlLoO8Pylcj8I1grw/oR1dkjCDvD+coiO5vIK8P/WRgSlwgbw/LvnFkh+CvD/AYXyriH+8P0RjE4Yugbw/KA8LtaaDvD9Qbsgs6IG8P5QV1qACgrw/r/2KIlGFvD8RfWRgCoO8P+n+16aehbw/Q4g+MjCFvD9EkchR04O8P8UgsHJohLw/S8XZh8+CvD+Ty39I/4S8P5OpglGJhbw/PG2g08aDvD8jjnVxG4W8P16PwvUog7w/F2pN886DvD83XrpJDIe8P9Mi2/n+grw/NVuMlMCDvD8i2MvJ3oS8P+XN9CVuhLw/DPmgZ/OBvD/sL7snz4O8P59eKcuQg7w/lMt/SL+EvD9pb/CFCYa8P7j2K4oEgrw/d+CcESWEvD8bw4nVDIa8P8e95kJSiLw/NaXi7AOGvD9gvXfBjYe8P5XR27KWiLw/PuJ9QiOEvD/uDb4wGYS8P2MThu5/hbw/9rnain2FvD9qA502EIS8PzGZKhiVhrw/+JoLSdOEvD/fSTEtF4O8P4PD+FaRgbw/jOHEasaDvD9NXLTtYYa8P13+Q/qthLw/VOOlm8R/vD9YxNZZ2oG8P3fBzc96g7w/wYBL7XKCvD9dJp1b+4S8P/l7PAdpg7w/Kz3AgEuGvD+9C25+FoS8P1czWF5fhLw/rwPnjKiBvD+3itg6S4K8P4qLtj1Ugbw/yJWN4cSAvD9w8IXJ1H68P0SzxUgJf7w/IYgZB8R/vD+lTkAToYC8P924sjFcgbw/A7wFEpSCvD9UmU9DQYG8Pwip7qSYgrw/Qxzr4jaAvD8d7hDspYK8P8xaHRN8f7w/IUQfGVh9vD+KHDU5D368P1uukTfTfbw/q2awvP59vD+Y2mXS+X28P2kAb4FEfLw/r5RliCN8vD9Q1L8Rin+8P41yQ2YBgLw//WX35CF/vD95vp8a7368P4+anMdOgbw/r0fhepR6vD8oyOIR73m8PwAAAADAerw/w9D9r416vD8wT9S/EXq8PzMwBX6neLw/9wy7AqR3vD/knz9aSXe8P2wr9pddebw/UPwYc9d4vD+I9NvXQXe8PwCRfvu6eLw/\",\"dtype\":\"float64\",\"shape\":[12,12]}],\"x\":[21.15],\"y\":[25.849999999999998]},\"selected\":{\"id\":\"1037\",\"type\":\"Selection\"},\"selection_policy\":{\"id\":\"1057\",\"type\":\"UnionRenderers\"}},\"id\":\"1036\",\"type\":\"ColumnDataSource\"},{\"attributes\":{\"callback\":null,\"end\":22.350000000000016,\"reset_end\":22.350000000000016,\"reset_start\":21.15,\"start\":21.15,\"tags\":[[[\"Ypos\",\"Ypos\",null]]]},\"id\":\"1001\",\"type\":\"Range1d\"},{\"attributes\":{\"bottom_units\":\"screen\",\"fill_alpha\":{\"value\":0.5},\"fill_color\":{\"value\":\"lightgrey\"},\"left_units\":\"screen\",\"level\":\"overlay\",\"line_alpha\":{\"value\":1.0},\"line_color\":{\"value\":\"black\"},\"line_dash\":[4,4],\"line_width\":{\"value\":2},\"render_mode\":\"css\",\"right_units\":\"screen\",\"top_units\":\"screen\"},\"id\":\"1056\",\"type\":\"BoxAnnotation\"},{\"attributes\":{\"data_source\":{\"id\":\"1036\",\"type\":\"ColumnDataSource\"},\"glyph\":{\"id\":\"1039\",\"type\":\"Image\"},\"hover_glyph\":null,\"muted_glyph\":null,\"nonselection_glyph\":{\"id\":\"1040\",\"type\":\"Image\"},\"selection_glyph\":null,\"view\":{\"id\":\"1042\",\"type\":\"CDSView\"}},\"id\":\"1041\",\"type\":\"GlyphRenderer\"}],\"root_ids\":[\"1004\"]},\"title\":\"Bokeh Application\",\"version\":\"1.2.0\"}};\n",
       "  var render_items = [{\"docid\":\"cb699b1f-6125-4233-bb77-25851fd807b7\",\"roots\":{\"1004\":\"5b9cebe4-454b-4718-828d-011881579602\"}}];\n",
       "  root.Bokeh.embed.embed_items_notebook(docs_json, render_items);\n",
       "\n",
       "  }\n",
       "  if (root.Bokeh !== undefined) {\n",
       "    embed_document(root);\n",
       "  } else {\n",
       "    var attempts = 0;\n",
       "    var timer = setInterval(function(root) {\n",
       "      if (root.Bokeh !== undefined) {\n",
       "        embed_document(root);\n",
       "        clearInterval(timer);\n",
       "      }\n",
       "      attempts++;\n",
       "      if (attempts > 100) {\n",
       "        console.log(\"Bokeh: ERROR: Unable to run BokehJS code because BokehJS library is missing\");\n",
       "        clearInterval(timer);\n",
       "      }\n",
       "    }, 10, root)\n",
       "  }\n",
       "})(window);</script>"
      ],
      "text/plain": [
       ":Image   [Ypos,Xpos]   (Yfield_avg)"
      ]
     },
     "execution_count": 9,
     "metadata": {
      "application/vnd.holoviews_exec.v0+json": {
       "id": "1004"
      }
     },
     "output_type": "execute_result"
    }
   ],
   "source": [
    "phi0_ds.Yfield_avg.hvplot()"
   ]
  },
  {
   "cell_type": "code",
   "execution_count": 10,
   "metadata": {},
   "outputs": [
    {
     "data": {
      "application/vnd.holoviews_exec.v0+json": "",
      "text/html": [
       "<div id='1125' style='display: table; margin: 0 auto;'>\n",
       "\n",
       "\n",
       "\n",
       "\n",
       "\n",
       "  <div class=\"bk-root\" id=\"b6e2ae36-c5db-4815-8b02-18b269d9fb67\" data-root-id=\"1125\"></div>\n",
       "</div>\n",
       "<script type=\"application/javascript\">(function(root) {\n",
       "  function embed_document(root) {\n",
       "    \n",
       "  var docs_json = {\"3119c9cf-bed9-4097-bb88-8393ff4bca7b\":{\"roots\":{\"references\":[{\"attributes\":{\"below\":[{\"id\":\"1134\",\"type\":\"LinearAxis\"}],\"center\":[{\"id\":\"1138\",\"type\":\"Grid\"},{\"id\":\"1143\",\"type\":\"Grid\"}],\"left\":[{\"id\":\"1139\",\"type\":\"LinearAxis\"}],\"margin\":null,\"min_border_bottom\":10,\"min_border_left\":10,\"min_border_right\":10,\"min_border_top\":10,\"plot_height\":300,\"plot_width\":700,\"renderers\":[{\"id\":\"1162\",\"type\":\"GlyphRenderer\"}],\"right\":[{\"id\":\"1165\",\"type\":\"ColorBar\"}],\"sizing_mode\":\"fixed\",\"title\":{\"id\":\"1126\",\"type\":\"Title\"},\"toolbar\":{\"id\":\"1149\",\"type\":\"Toolbar\"},\"x_range\":{\"id\":\"1122\",\"type\":\"Range1d\"},\"x_scale\":{\"id\":\"1130\",\"type\":\"LinearScale\"},\"y_range\":{\"id\":\"1123\",\"type\":\"Range1d\"},\"y_scale\":{\"id\":\"1132\",\"type\":\"LinearScale\"}},\"id\":\"1125\",\"subtype\":\"Figure\",\"type\":\"Plot\"},{\"attributes\":{},\"id\":\"1132\",\"type\":\"LinearScale\"},{\"attributes\":{\"axis_label\":\"Ypos\",\"bounds\":\"auto\",\"formatter\":{\"id\":\"1168\",\"type\":\"BasicTickFormatter\"},\"major_label_orientation\":\"horizontal\",\"ticker\":{\"id\":\"1135\",\"type\":\"BasicTicker\"}},\"id\":\"1134\",\"type\":\"LinearAxis\"},{\"attributes\":{\"callback\":null,\"data\":{\"dh\":[1.200000000000017],\"dw\":[1.200000000000017],\"image\":[{\"__ndarray__\":\"Kz3AgEuPvD9gdk8eFpe8P7BvOtxhlrw/utqK/SWUvD8E7eiSBJm8P+N9QmNTl7w/w4nVDNaXvD/aX3ZPnpe8P/WUr957lbw/y+ubDjeNvD/gCGX0doi8P55b+xXFfrw/gywe8X6OvD8Ab4EExZG8P6UsQxxrlLw/0Y4uSbiUvD97XgSgJJW8P8W0XCNvlbw/1OEOwV6YvD/obVmr45W8Pz/G3LVEkbw/aUrF2YeNvD+A3GsuJIe8P7fz/dT4gbw/wRT4nTmMvD85baDTRpC8P/eaC0kTm7w/1XsX3PyZvD+j/o1Qhpm8P3vHKTqSmbw/xGfYFSCWvD990LNZNZO8P2djOLEaj7w/qMZLN0mMvD+TplScfYm8P3DwhcnUg7w/3yc0NiGSvD9vWatjApW8P5B7zYWkmrw/6LFTmY+YvD87kst/yJe8P+EwvlUEm7w/UkzLNXKavD/DhqdXSpi8P9sbfGGylbw/w/uExqaRvD9d1uqYII28P4k7BHv5g7w/aSWaLYaPvD/EGlQIUZa8PyBmHBCOlrw/wTkjSnuZvD8wbqMBPJe8P0e28/3UnLw/ofgx5u6ZvD+xK0DutZi8P4mtszQKlrw/v3rvgpuPvD9oJZotRom8P8TZh8/wgbw/QBAzDkiRvD/WeOkmcZS8P99xio4kl7w/OLTIdn6ZvD+tZrC8vpm8P6UE6rrdmbw/K4ToI0OYvD8js6Ad3ZW8P3Vu7VcUk7w/yeU/pB+OvD93dEnCq4m8P3cFyL0mgrw/8BMam7CPvD/tL7snj5W8P15O9ryIl7w/e8cpOhKZvD++VcTWGZ28P6EaL92km7w/4E+Nl66YvD9ZF7fRwJe8P9qEofvfk7w/xyk6ksuRvD+zVscEj4i8P3CmL3GRhrw/OKs+V1uSvD/Yo3A9ipa8P6xp3nEKl7w/pb3BFyaavD+KjuTyH5y8P1xnaZTbm7w/HA3gLdCavD9miGNdHJe8P2Diom1PlLw/SFMqzr6QvD8M16NwPYu8P/xcbcV+hLw/9QADLrWMvD/UAwy4VJW8P924sjFcmbw/7qFq4Z+avD+Ff/5oJZu8P2kAb4HEl7w/FoxK6oSXvD8Mk6mCUZe8Pyqm5Rr5k7w/m77ERVuRvD+QckNmAYu8P2N8q4htg7w/HFc2hhOPvD9rUCFEX5O8P98CCYpfl7w/9CIAJWuZvD8L//zRCpq8PxKijwwMmrw/m09DQVaavD8RMw4Ix5W8P6+UZYijkrw//M4cf8+PvD+h+DHm7om8P1z1udqKgbw/bTSAtwCSvD/crPpcbZS8P5MSqOu2mLw/PgrXo7CZvD8TzRYjpZu8P11txf5ym7w/Z62OCZ6YvD83rmwMp5W8P3PaQKeNlLw/MEMc66KRvD+NKO0Nfou8P95JMS0Xh7w/cBjfKiKPvD+9d8HNj5C8P3zKV+8dlrw/Ov4ez8GYvD9hVFIn4Ja8PzaoEKIPmbw/IyVQ162YvD/IwBT43Ze8PzB0/2sTlbw/kOcg1d2OvD8grUSzBYq8P7oehetRg7w/\",\"dtype\":\"float64\",\"shape\":[12,12]}],\"x\":[21.15],\"y\":[25.849999999999998]},\"selected\":{\"id\":\"1158\",\"type\":\"Selection\"},\"selection_policy\":{\"id\":\"1178\",\"type\":\"UnionRenderers\"}},\"id\":\"1157\",\"type\":\"ColumnDataSource\"},{\"attributes\":{},\"id\":\"1135\",\"type\":\"BasicTicker\"},{\"attributes\":{\"color_mapper\":{\"id\":\"1156\",\"type\":\"LinearColorMapper\"},\"dh\":{\"field\":\"dh\",\"units\":\"data\"},\"dw\":{\"field\":\"dw\",\"units\":\"data\"},\"image\":{\"field\":\"image\"},\"x\":{\"field\":\"x\"},\"y\":{\"field\":\"y\"}},\"id\":\"1161\",\"type\":\"Image\"},{\"attributes\":{\"callback\":null,\"end\":27.050000000000015,\"reset_end\":27.050000000000015,\"reset_start\":25.849999999999998,\"start\":25.849999999999998,\"tags\":[[[\"Xpos\",\"Xpos\",null]]]},\"id\":\"1123\",\"type\":\"Range1d\"},{\"attributes\":{\"grid_line_color\":null,\"ticker\":{\"id\":\"1135\",\"type\":\"BasicTicker\"}},\"id\":\"1138\",\"type\":\"Grid\"},{\"attributes\":{\"axis_label\":\"Xpos\",\"bounds\":\"auto\",\"formatter\":{\"id\":\"1170\",\"type\":\"BasicTickFormatter\"},\"major_label_orientation\":\"horizontal\",\"ticker\":{\"id\":\"1140\",\"type\":\"BasicTicker\"}},\"id\":\"1139\",\"type\":\"LinearAxis\"},{\"attributes\":{},\"id\":\"1140\",\"type\":\"BasicTicker\"},{\"attributes\":{\"source\":{\"id\":\"1157\",\"type\":\"ColumnDataSource\"}},\"id\":\"1163\",\"type\":\"CDSView\"},{\"attributes\":{\"dimension\":1,\"grid_line_color\":null,\"ticker\":{\"id\":\"1140\",\"type\":\"BasicTicker\"}},\"id\":\"1143\",\"type\":\"Grid\"},{\"attributes\":{\"data_source\":{\"id\":\"1157\",\"type\":\"ColumnDataSource\"},\"glyph\":{\"id\":\"1160\",\"type\":\"Image\"},\"hover_glyph\":null,\"muted_glyph\":null,\"nonselection_glyph\":{\"id\":\"1161\",\"type\":\"Image\"},\"selection_glyph\":null,\"view\":{\"id\":\"1163\",\"type\":\"CDSView\"}},\"id\":\"1162\",\"type\":\"GlyphRenderer\"},{\"attributes\":{\"high\":0.1117721700032552,\"low\":0.11130935465494793,\"nan_color\":\"rgba(0, 0, 0, 0)\",\"palette\":[\"#000000\",\"#060000\",\"#0d0000\",\"#120000\",\"#160000\",\"#190000\",\"#1c0000\",\"#1f0000\",\"#220000\",\"#240000\",\"#260000\",\"#280000\",\"#2b0000\",\"#2d0000\",\"#2e0000\",\"#300000\",\"#320000\",\"#340000\",\"#350000\",\"#370000\",\"#380000\",\"#3a0000\",\"#3b0000\",\"#3d0000\",\"#3e0000\",\"#400000\",\"#410000\",\"#430000\",\"#440000\",\"#460000\",\"#470000\",\"#490000\",\"#4a0000\",\"#4c0000\",\"#4d0000\",\"#4f0000\",\"#500000\",\"#520000\",\"#530000\",\"#550000\",\"#560000\",\"#580000\",\"#590100\",\"#5b0100\",\"#5d0100\",\"#5e0100\",\"#600100\",\"#610100\",\"#630100\",\"#650100\",\"#660100\",\"#680100\",\"#690100\",\"#6b0100\",\"#6d0100\",\"#6e0100\",\"#700100\",\"#710100\",\"#730100\",\"#750100\",\"#760100\",\"#780200\",\"#7a0200\",\"#7b0200\",\"#7d0200\",\"#7f0200\",\"#800200\",\"#820200\",\"#840200\",\"#850200\",\"#870200\",\"#890200\",\"#8a0200\",\"#8c0300\",\"#8e0300\",\"#900300\",\"#910300\",\"#930300\",\"#950300\",\"#960300\",\"#980300\",\"#9a0300\",\"#9c0300\",\"#9d0400\",\"#9f0400\",\"#a10400\",\"#a20400\",\"#a40400\",\"#a60400\",\"#a80400\",\"#a90400\",\"#ab0500\",\"#ad0500\",\"#af0500\",\"#b00500\",\"#b20500\",\"#b40500\",\"#b60600\",\"#b80600\",\"#b90600\",\"#bb0600\",\"#bd0600\",\"#bf0700\",\"#c00700\",\"#c20700\",\"#c40700\",\"#c60800\",\"#c80800\",\"#c90800\",\"#cb0800\",\"#cd0900\",\"#cf0900\",\"#d10900\",\"#d20a00\",\"#d40a00\",\"#d60a00\",\"#d80b00\",\"#da0b00\",\"#db0c00\",\"#dd0c00\",\"#df0d00\",\"#e10d00\",\"#e30e00\",\"#e40f00\",\"#e60f00\",\"#e81000\",\"#ea1100\",\"#eb1300\",\"#ed1400\",\"#ee1600\",\"#f01800\",\"#f11b00\",\"#f21d00\",\"#f32000\",\"#f52300\",\"#f62600\",\"#f62900\",\"#f72c00\",\"#f82f00\",\"#f93200\",\"#f93500\",\"#fa3800\",\"#fa3b00\",\"#fb3d00\",\"#fb4000\",\"#fb4300\",\"#fc4600\",\"#fc4900\",\"#fc4b00\",\"#fd4e00\",\"#fd5100\",\"#fd5300\",\"#fd5600\",\"#fd5800\",\"#fe5b00\",\"#fe5d00\",\"#fe5f00\",\"#fe6200\",\"#fe6400\",\"#fe6600\",\"#fe6800\",\"#fe6b00\",\"#fe6d00\",\"#fe6f00\",\"#fe7100\",\"#fe7300\",\"#fe7500\",\"#fe7700\",\"#fe7900\",\"#fe7c00\",\"#ff7e00\",\"#ff8000\",\"#ff8200\",\"#ff8300\",\"#ff8500\",\"#ff8700\",\"#ff8900\",\"#ff8b00\",\"#ff8d00\",\"#ff8f00\",\"#ff9100\",\"#ff9300\",\"#ff9400\",\"#ff9600\",\"#ff9800\",\"#ff9a00\",\"#ff9c00\",\"#ff9d00\",\"#ff9f00\",\"#ffa100\",\"#ffa300\",\"#ffa401\",\"#ffa601\",\"#ffa801\",\"#ffaa01\",\"#ffab01\",\"#ffad01\",\"#ffaf01\",\"#ffb001\",\"#ffb202\",\"#ffb402\",\"#ffb502\",\"#ffb702\",\"#ffb902\",\"#ffba02\",\"#ffbc03\",\"#ffbd03\",\"#ffbf03\",\"#ffc103\",\"#ffc204\",\"#ffc404\",\"#ffc604\",\"#ffc704\",\"#ffc905\",\"#ffca05\",\"#ffcc05\",\"#ffce06\",\"#ffcf06\",\"#ffd106\",\"#ffd207\",\"#ffd407\",\"#ffd508\",\"#ffd708\",\"#ffd909\",\"#ffda09\",\"#ffdc0a\",\"#ffdd0a\",\"#ffdf0b\",\"#ffe00b\",\"#ffe20c\",\"#ffe30d\",\"#ffe50e\",\"#ffe60f\",\"#ffe810\",\"#ffea11\",\"#ffeb12\",\"#ffed14\",\"#ffee17\",\"#fff01a\",\"#fff11e\",\"#fff324\",\"#fff42a\",\"#fff532\",\"#fff73b\",\"#fff847\",\"#fff953\",\"#fffb62\",\"#fffb72\",\"#fffc83\",\"#fffd95\",\"#fffea8\",\"#fffeba\",\"#fffecc\",\"#fffede\",\"#fffeee\",\"#ffffff\"]},\"id\":\"1156\",\"type\":\"LinearColorMapper\"},{\"attributes\":{},\"id\":\"1172\",\"type\":\"BasicTickFormatter\"},{\"attributes\":{\"color_mapper\":{\"id\":\"1156\",\"type\":\"LinearColorMapper\"},\"dh\":{\"field\":\"dh\",\"units\":\"data\"},\"dw\":{\"field\":\"dw\",\"units\":\"data\"},\"image\":{\"field\":\"image\"},\"x\":{\"field\":\"x\"},\"y\":{\"field\":\"y\"}},\"id\":\"1160\",\"type\":\"Image\"},{\"attributes\":{},\"id\":\"1178\",\"type\":\"UnionRenderers\"},{\"attributes\":{},\"id\":\"1158\",\"type\":\"Selection\"},{\"attributes\":{},\"id\":\"1144\",\"type\":\"SaveTool\"},{\"attributes\":{},\"id\":\"1168\",\"type\":\"BasicTickFormatter\"},{\"attributes\":{},\"id\":\"1145\",\"type\":\"PanTool\"},{\"attributes\":{\"callback\":null,\"renderers\":[{\"id\":\"1162\",\"type\":\"GlyphRenderer\"}],\"tags\":[\"hv_created\"],\"tooltips\":[[\"Ypos\",\"$x\"],[\"Xpos\",\"$y\"],[\"Xfield_avg\",\"@image\"]]},\"id\":\"1124\",\"type\":\"HoverTool\"},{\"attributes\":{},\"id\":\"1170\",\"type\":\"BasicTickFormatter\"},{\"attributes\":{},\"id\":\"1146\",\"type\":\"WheelZoomTool\"},{\"attributes\":{\"overlay\":{\"id\":\"1177\",\"type\":\"BoxAnnotation\"}},\"id\":\"1147\",\"type\":\"BoxZoomTool\"},{\"attributes\":{},\"id\":\"1148\",\"type\":\"ResetTool\"},{\"attributes\":{\"active_drag\":\"auto\",\"active_inspect\":\"auto\",\"active_multi\":null,\"active_scroll\":\"auto\",\"active_tap\":\"auto\",\"tools\":[{\"id\":\"1124\",\"type\":\"HoverTool\"},{\"id\":\"1144\",\"type\":\"SaveTool\"},{\"id\":\"1145\",\"type\":\"PanTool\"},{\"id\":\"1146\",\"type\":\"WheelZoomTool\"},{\"id\":\"1147\",\"type\":\"BoxZoomTool\"},{\"id\":\"1148\",\"type\":\"ResetTool\"}]},\"id\":\"1149\",\"type\":\"Toolbar\"},{\"attributes\":{\"bar_line_color\":{\"value\":\"black\"},\"color_mapper\":{\"id\":\"1156\",\"type\":\"LinearColorMapper\"},\"formatter\":{\"id\":\"1172\",\"type\":\"BasicTickFormatter\"},\"label_standoff\":8,\"location\":[0,0],\"major_tick_line_color\":{\"value\":\"black\"},\"ticker\":{\"id\":\"1164\",\"type\":\"BasicTicker\"}},\"id\":\"1165\",\"type\":\"ColorBar\"},{\"attributes\":{},\"id\":\"1164\",\"type\":\"BasicTicker\"},{\"attributes\":{\"text\":\"\",\"text_color\":{\"value\":\"black\"},\"text_font_size\":{\"value\":\"12pt\"}},\"id\":\"1126\",\"type\":\"Title\"},{\"attributes\":{\"bottom_units\":\"screen\",\"fill_alpha\":{\"value\":0.5},\"fill_color\":{\"value\":\"lightgrey\"},\"left_units\":\"screen\",\"level\":\"overlay\",\"line_alpha\":{\"value\":1.0},\"line_color\":{\"value\":\"black\"},\"line_dash\":[4,4],\"line_width\":{\"value\":2},\"render_mode\":\"css\",\"right_units\":\"screen\",\"top_units\":\"screen\"},\"id\":\"1177\",\"type\":\"BoxAnnotation\"},{\"attributes\":{\"callback\":null,\"end\":22.350000000000016,\"reset_end\":22.350000000000016,\"reset_start\":21.15,\"start\":21.15,\"tags\":[[[\"Ypos\",\"Ypos\",null]]]},\"id\":\"1122\",\"type\":\"Range1d\"},{\"attributes\":{},\"id\":\"1130\",\"type\":\"LinearScale\"}],\"root_ids\":[\"1125\"]},\"title\":\"Bokeh Application\",\"version\":\"1.2.0\"}};\n",
       "  var render_items = [{\"docid\":\"3119c9cf-bed9-4097-bb88-8393ff4bca7b\",\"roots\":{\"1125\":\"b6e2ae36-c5db-4815-8b02-18b269d9fb67\"}}];\n",
       "  root.Bokeh.embed.embed_items_notebook(docs_json, render_items);\n",
       "\n",
       "  }\n",
       "  if (root.Bokeh !== undefined) {\n",
       "    embed_document(root);\n",
       "  } else {\n",
       "    var attempts = 0;\n",
       "    var timer = setInterval(function(root) {\n",
       "      if (root.Bokeh !== undefined) {\n",
       "        embed_document(root);\n",
       "        clearInterval(timer);\n",
       "      }\n",
       "      attempts++;\n",
       "      if (attempts > 100) {\n",
       "        console.log(\"Bokeh: ERROR: Unable to run BokehJS code because BokehJS library is missing\");\n",
       "        clearInterval(timer);\n",
       "      }\n",
       "    }, 10, root)\n",
       "  }\n",
       "})(window);</script>"
      ],
      "text/plain": [
       ":Image   [Ypos,Xpos]   (Xfield_avg)"
      ]
     },
     "execution_count": 10,
     "metadata": {
      "application/vnd.holoviews_exec.v0+json": {
       "id": "1125"
      }
     },
     "output_type": "execute_result"
    }
   ],
   "source": [
    "phi90_ds.Xfield_avg.hvplot()"
   ]
  },
  {
   "cell_type": "code",
   "execution_count": 11,
   "metadata": {},
   "outputs": [
    {
     "data": {
      "application/vnd.holoviews_exec.v0+json": "",
      "text/html": [
       "<div id='1246' style='display: table; margin: 0 auto;'>\n",
       "\n",
       "\n",
       "\n",
       "\n",
       "\n",
       "  <div class=\"bk-root\" id=\"043a660f-7492-4960-9a20-68bd12f70325\" data-root-id=\"1246\"></div>\n",
       "</div>\n",
       "<script type=\"application/javascript\">(function(root) {\n",
       "  function embed_document(root) {\n",
       "    \n",
       "  var docs_json = {\"735534d9-a5e8-45f9-beec-4afcb93a03a4\":{\"roots\":{\"references\":[{\"attributes\":{\"below\":[{\"id\":\"1255\",\"type\":\"LinearAxis\"}],\"center\":[{\"id\":\"1259\",\"type\":\"Grid\"},{\"id\":\"1264\",\"type\":\"Grid\"}],\"left\":[{\"id\":\"1260\",\"type\":\"LinearAxis\"}],\"margin\":null,\"min_border_bottom\":10,\"min_border_left\":10,\"min_border_right\":10,\"min_border_top\":10,\"plot_height\":300,\"plot_width\":700,\"renderers\":[{\"id\":\"1283\",\"type\":\"GlyphRenderer\"}],\"right\":[{\"id\":\"1286\",\"type\":\"ColorBar\"}],\"sizing_mode\":\"fixed\",\"title\":{\"id\":\"1247\",\"type\":\"Title\"},\"toolbar\":{\"id\":\"1270\",\"type\":\"Toolbar\"},\"x_range\":{\"id\":\"1243\",\"type\":\"Range1d\"},\"x_scale\":{\"id\":\"1251\",\"type\":\"LinearScale\"},\"y_range\":{\"id\":\"1244\",\"type\":\"Range1d\"},\"y_scale\":{\"id\":\"1253\",\"type\":\"LinearScale\"}},\"id\":\"1246\",\"subtype\":\"Figure\",\"type\":\"Plot\"},{\"attributes\":{\"data_source\":{\"id\":\"1278\",\"type\":\"ColumnDataSource\"},\"glyph\":{\"id\":\"1281\",\"type\":\"Image\"},\"hover_glyph\":null,\"muted_glyph\":null,\"nonselection_glyph\":{\"id\":\"1282\",\"type\":\"Image\"},\"selection_glyph\":null,\"view\":{\"id\":\"1284\",\"type\":\"CDSView\"}},\"id\":\"1283\",\"type\":\"GlyphRenderer\"},{\"attributes\":{\"overlay\":{\"id\":\"1298\",\"type\":\"BoxAnnotation\"}},\"id\":\"1268\",\"type\":\"BoxZoomTool\"},{\"attributes\":{},\"id\":\"1266\",\"type\":\"PanTool\"},{\"attributes\":{},\"id\":\"1269\",\"type\":\"ResetTool\"},{\"attributes\":{\"callback\":null,\"end\":27.050000000000015,\"reset_end\":27.050000000000015,\"reset_start\":25.849999999999998,\"start\":25.849999999999998,\"tags\":[[[\"Xpos\",\"Xpos\",null]]]},\"id\":\"1244\",\"type\":\"Range1d\"},{\"attributes\":{\"axis_label\":\"Ypos\",\"bounds\":\"auto\",\"formatter\":{\"id\":\"1289\",\"type\":\"BasicTickFormatter\"},\"major_label_orientation\":\"horizontal\",\"ticker\":{\"id\":\"1256\",\"type\":\"BasicTicker\"}},\"id\":\"1255\",\"type\":\"LinearAxis\"},{\"attributes\":{\"color_mapper\":{\"id\":\"1277\",\"type\":\"LinearColorMapper\"},\"dh\":{\"field\":\"dh\",\"units\":\"data\"},\"dw\":{\"field\":\"dw\",\"units\":\"data\"},\"image\":{\"field\":\"image\"},\"x\":{\"field\":\"x\"},\"y\":{\"field\":\"y\"}},\"id\":\"1282\",\"type\":\"Image\"},{\"attributes\":{\"active_drag\":\"auto\",\"active_inspect\":\"auto\",\"active_multi\":null,\"active_scroll\":\"auto\",\"active_tap\":\"auto\",\"tools\":[{\"id\":\"1245\",\"type\":\"HoverTool\"},{\"id\":\"1265\",\"type\":\"SaveTool\"},{\"id\":\"1266\",\"type\":\"PanTool\"},{\"id\":\"1267\",\"type\":\"WheelZoomTool\"},{\"id\":\"1268\",\"type\":\"BoxZoomTool\"},{\"id\":\"1269\",\"type\":\"ResetTool\"}]},\"id\":\"1270\",\"type\":\"Toolbar\"},{\"attributes\":{},\"id\":\"1293\",\"type\":\"BasicTickFormatter\"},{\"attributes\":{},\"id\":\"1279\",\"type\":\"Selection\"},{\"attributes\":{},\"id\":\"1267\",\"type\":\"WheelZoomTool\"},{\"attributes\":{},\"id\":\"1299\",\"type\":\"UnionRenderers\"},{\"attributes\":{},\"id\":\"1289\",\"type\":\"BasicTickFormatter\"},{\"attributes\":{},\"id\":\"1291\",\"type\":\"BasicTickFormatter\"},{\"attributes\":{},\"id\":\"1261\",\"type\":\"BasicTicker\"},{\"attributes\":{\"callback\":null,\"end\":22.350000000000016,\"reset_end\":22.350000000000016,\"reset_start\":21.15,\"start\":21.15,\"tags\":[[[\"Ypos\",\"Ypos\",null]]]},\"id\":\"1243\",\"type\":\"Range1d\"},{\"attributes\":{\"grid_line_color\":null,\"ticker\":{\"id\":\"1256\",\"type\":\"BasicTicker\"}},\"id\":\"1259\",\"type\":\"Grid\"},{\"attributes\":{\"bottom_units\":\"screen\",\"fill_alpha\":{\"value\":0.5},\"fill_color\":{\"value\":\"lightgrey\"},\"left_units\":\"screen\",\"level\":\"overlay\",\"line_alpha\":{\"value\":1.0},\"line_color\":{\"value\":\"black\"},\"line_dash\":[4,4],\"line_width\":{\"value\":2},\"render_mode\":\"css\",\"right_units\":\"screen\",\"top_units\":\"screen\"},\"id\":\"1298\",\"type\":\"BoxAnnotation\"},{\"attributes\":{},\"id\":\"1256\",\"type\":\"BasicTicker\"},{\"attributes\":{\"bar_line_color\":{\"value\":\"black\"},\"color_mapper\":{\"id\":\"1277\",\"type\":\"LinearColorMapper\"},\"formatter\":{\"id\":\"1293\",\"type\":\"BasicTickFormatter\"},\"label_standoff\":8,\"location\":[0,0],\"major_tick_line_color\":{\"value\":\"black\"},\"ticker\":{\"id\":\"1285\",\"type\":\"BasicTicker\"}},\"id\":\"1286\",\"type\":\"ColorBar\"},{\"attributes\":{},\"id\":\"1251\",\"type\":\"LinearScale\"},{\"attributes\":{\"callback\":null,\"renderers\":[{\"id\":\"1283\",\"type\":\"GlyphRenderer\"}],\"tags\":[\"hv_created\"],\"tooltips\":[[\"Ypos\",\"$x\"],[\"Xpos\",\"$y\"],[\"Zfield_avg\",\"@image\"]]},\"id\":\"1245\",\"type\":\"HoverTool\"},{\"attributes\":{\"axis_label\":\"Xpos\",\"bounds\":\"auto\",\"formatter\":{\"id\":\"1291\",\"type\":\"BasicTickFormatter\"},\"major_label_orientation\":\"horizontal\",\"ticker\":{\"id\":\"1261\",\"type\":\"BasicTicker\"}},\"id\":\"1260\",\"type\":\"LinearAxis\"},{\"attributes\":{},\"id\":\"1265\",\"type\":\"SaveTool\"},{\"attributes\":{\"dimension\":1,\"grid_line_color\":null,\"ticker\":{\"id\":\"1261\",\"type\":\"BasicTicker\"}},\"id\":\"1264\",\"type\":\"Grid\"},{\"attributes\":{\"callback\":null,\"data\":{\"dh\":[1.200000000000017],\"dw\":[1.200000000000017],\"image\":[{\"__ndarray__\":\"/UDMOCAWgL9UBaOSOgeAv2B2Tx4WEIC/lPCq9AAHgL/UdbtxZQOAv4uw4emV6n+/+84cf4/bf7/pINWdFN9/v2yg0wY61X+/Rdjw9Eqtf79UeoABl55/v0eaUnH2iX+/C0YldQICer9A6wdixgF6v4BFkchR43m//KOVaLbceb+XIY51cdt5v5i4aNtD3Xm/41gXt9HQeb9gvXfBzbN5vzXNO07RlXm/xW00gLeUeb/hKmLrLHV5v5SpglFJfXm/ZTvfT43bc7/jDsFeTtJzv6rMp6Eg23O/902HOwS3c7+vuZA0pZJzv/NBz2bVk3O/DzDgUruQc79FsJeTPW9zv7WmeccpZnO/87BQa5pbc7+VQF23Gy9zv6jGSzeJHXO/Uv9GKKOHa7+z5BdLfmFrv7QxnFjNSGu/L5b8YskPa79AfIZdAfJqv6zVMcGD+Wq/XIyUQF3Xar88tMh2vp9qv9Sa5h2nwGq/4ltFbJ1lar8wvlXE1jFqv83uycNCLWq/A3KvuZDkXr+6Rt5MXwJfv//5o5Vo5l6/Q2Dl0CKLXr8UqOt249pdvzRSAnXdvl2/Cx7ME/WfXb/1RyvRbHFdv3QeO5X5FF2/KTEIrBzaXL/ILGhHl8RcvxePeJ/QaFy/uflZPxDzPL+9Kj3AgIs7vxQ/xty1xDq/6R2n6EhuOL+wbzrcIRg5vz/G3LWEPDe/e4ABl9rlNr+wvL7pcMc2v8HKoUW2szO/toFOG+g0Mb9FQRaPeN8wv7is1THBgy+/x3BiNYNlUT/TubVfUYRRPweEw/hWQVI/VXqAAZdaUj+3ztIoNwRSPwNQssIadFI/5KjJeeyUUj8MJCh+jOlSP/hT46WbFFM/h6dXyjJEUz8AkX77OgBUP9KXuGjb01M/nzws1JreZD+Ki7Y9VM1kP9xipATq8mQ/KsW0XCPXZD+V1AloIhxlPxTWoEKIHmU/ix9j7lp6ZT8Xj3if0IBlP91JMS3XmGU/IPrIwBTYZT/Zpp7y1dtlP7yWkA96HmY/p1ScffiMcD/KWh0TPJhwP5X5NBRkhXA/YMCldpmgcD/kg57Nqq9wP0vIBz2bvXA/thtXNobPcD8cEA7jW91wPy//If324XA/LbXLpHP3cD90TPBgnhBxP/lWEVtnKXE/ZfGI9wnNdj+9dJMYBNp2P/7Xpp7y/XY/WMoyxLHmdj9DiD4yMPF2PySzoB1d/nY/RBzr4jYadz8kufyH9C93P5VliGNdOHc/GimBum5Ddz8FeznZ80Z3Pzr78Bl2aXc/JUdNzmMDfT/TJQmvShN9P6CGgiweGX0/ZF3cRgM4fT9aObTIdlZ9P+xwh2AvZ30/+FPjpZtUfT99GgqyeFx9P+SAcBjffn0/cKYvcdGGfT+AHThnRI19P/T91Hjppn0/vQhAyQqPgT+HzIJ2dKOBPxFYObTIqIE//dFKNFuwgT8DLrXLpLWBP03OY6cyt4E/XCBB8WO8gT/l9U2HO8qBPyvwO3P8y4E/CmgibHjegT9iCvzOHOGBPy1DHOvi9oE/\",\"dtype\":\"float64\",\"shape\":[12,12]}],\"x\":[21.15],\"y\":[25.849999999999998]},\"selected\":{\"id\":\"1279\",\"type\":\"Selection\"},\"selection_policy\":{\"id\":\"1299\",\"type\":\"UnionRenderers\"}},\"id\":\"1278\",\"type\":\"ColumnDataSource\"},{\"attributes\":{\"source\":{\"id\":\"1278\",\"type\":\"ColumnDataSource\"}},\"id\":\"1284\",\"type\":\"CDSView\"},{\"attributes\":{},\"id\":\"1253\",\"type\":\"LinearScale\"},{\"attributes\":{\"high\":0.0087716796875,\"low\":-0.007854701741536458,\"nan_color\":\"rgba(0, 0, 0, 0)\",\"palette\":[\"#000000\",\"#060000\",\"#0d0000\",\"#120000\",\"#160000\",\"#190000\",\"#1c0000\",\"#1f0000\",\"#220000\",\"#240000\",\"#260000\",\"#280000\",\"#2b0000\",\"#2d0000\",\"#2e0000\",\"#300000\",\"#320000\",\"#340000\",\"#350000\",\"#370000\",\"#380000\",\"#3a0000\",\"#3b0000\",\"#3d0000\",\"#3e0000\",\"#400000\",\"#410000\",\"#430000\",\"#440000\",\"#460000\",\"#470000\",\"#490000\",\"#4a0000\",\"#4c0000\",\"#4d0000\",\"#4f0000\",\"#500000\",\"#520000\",\"#530000\",\"#550000\",\"#560000\",\"#580000\",\"#590100\",\"#5b0100\",\"#5d0100\",\"#5e0100\",\"#600100\",\"#610100\",\"#630100\",\"#650100\",\"#660100\",\"#680100\",\"#690100\",\"#6b0100\",\"#6d0100\",\"#6e0100\",\"#700100\",\"#710100\",\"#730100\",\"#750100\",\"#760100\",\"#780200\",\"#7a0200\",\"#7b0200\",\"#7d0200\",\"#7f0200\",\"#800200\",\"#820200\",\"#840200\",\"#850200\",\"#870200\",\"#890200\",\"#8a0200\",\"#8c0300\",\"#8e0300\",\"#900300\",\"#910300\",\"#930300\",\"#950300\",\"#960300\",\"#980300\",\"#9a0300\",\"#9c0300\",\"#9d0400\",\"#9f0400\",\"#a10400\",\"#a20400\",\"#a40400\",\"#a60400\",\"#a80400\",\"#a90400\",\"#ab0500\",\"#ad0500\",\"#af0500\",\"#b00500\",\"#b20500\",\"#b40500\",\"#b60600\",\"#b80600\",\"#b90600\",\"#bb0600\",\"#bd0600\",\"#bf0700\",\"#c00700\",\"#c20700\",\"#c40700\",\"#c60800\",\"#c80800\",\"#c90800\",\"#cb0800\",\"#cd0900\",\"#cf0900\",\"#d10900\",\"#d20a00\",\"#d40a00\",\"#d60a00\",\"#d80b00\",\"#da0b00\",\"#db0c00\",\"#dd0c00\",\"#df0d00\",\"#e10d00\",\"#e30e00\",\"#e40f00\",\"#e60f00\",\"#e81000\",\"#ea1100\",\"#eb1300\",\"#ed1400\",\"#ee1600\",\"#f01800\",\"#f11b00\",\"#f21d00\",\"#f32000\",\"#f52300\",\"#f62600\",\"#f62900\",\"#f72c00\",\"#f82f00\",\"#f93200\",\"#f93500\",\"#fa3800\",\"#fa3b00\",\"#fb3d00\",\"#fb4000\",\"#fb4300\",\"#fc4600\",\"#fc4900\",\"#fc4b00\",\"#fd4e00\",\"#fd5100\",\"#fd5300\",\"#fd5600\",\"#fd5800\",\"#fe5b00\",\"#fe5d00\",\"#fe5f00\",\"#fe6200\",\"#fe6400\",\"#fe6600\",\"#fe6800\",\"#fe6b00\",\"#fe6d00\",\"#fe6f00\",\"#fe7100\",\"#fe7300\",\"#fe7500\",\"#fe7700\",\"#fe7900\",\"#fe7c00\",\"#ff7e00\",\"#ff8000\",\"#ff8200\",\"#ff8300\",\"#ff8500\",\"#ff8700\",\"#ff8900\",\"#ff8b00\",\"#ff8d00\",\"#ff8f00\",\"#ff9100\",\"#ff9300\",\"#ff9400\",\"#ff9600\",\"#ff9800\",\"#ff9a00\",\"#ff9c00\",\"#ff9d00\",\"#ff9f00\",\"#ffa100\",\"#ffa300\",\"#ffa401\",\"#ffa601\",\"#ffa801\",\"#ffaa01\",\"#ffab01\",\"#ffad01\",\"#ffaf01\",\"#ffb001\",\"#ffb202\",\"#ffb402\",\"#ffb502\",\"#ffb702\",\"#ffb902\",\"#ffba02\",\"#ffbc03\",\"#ffbd03\",\"#ffbf03\",\"#ffc103\",\"#ffc204\",\"#ffc404\",\"#ffc604\",\"#ffc704\",\"#ffc905\",\"#ffca05\",\"#ffcc05\",\"#ffce06\",\"#ffcf06\",\"#ffd106\",\"#ffd207\",\"#ffd407\",\"#ffd508\",\"#ffd708\",\"#ffd909\",\"#ffda09\",\"#ffdc0a\",\"#ffdd0a\",\"#ffdf0b\",\"#ffe00b\",\"#ffe20c\",\"#ffe30d\",\"#ffe50e\",\"#ffe60f\",\"#ffe810\",\"#ffea11\",\"#ffeb12\",\"#ffed14\",\"#ffee17\",\"#fff01a\",\"#fff11e\",\"#fff324\",\"#fff42a\",\"#fff532\",\"#fff73b\",\"#fff847\",\"#fff953\",\"#fffb62\",\"#fffb72\",\"#fffc83\",\"#fffd95\",\"#fffea8\",\"#fffeba\",\"#fffecc\",\"#fffede\",\"#fffeee\",\"#ffffff\"]},\"id\":\"1277\",\"type\":\"LinearColorMapper\"},{\"attributes\":{\"text\":\"\",\"text_color\":{\"value\":\"black\"},\"text_font_size\":{\"value\":\"12pt\"}},\"id\":\"1247\",\"type\":\"Title\"},{\"attributes\":{\"color_mapper\":{\"id\":\"1277\",\"type\":\"LinearColorMapper\"},\"dh\":{\"field\":\"dh\",\"units\":\"data\"},\"dw\":{\"field\":\"dw\",\"units\":\"data\"},\"image\":{\"field\":\"image\"},\"x\":{\"field\":\"x\"},\"y\":{\"field\":\"y\"}},\"id\":\"1281\",\"type\":\"Image\"},{\"attributes\":{},\"id\":\"1285\",\"type\":\"BasicTicker\"}],\"root_ids\":[\"1246\"]},\"title\":\"Bokeh Application\",\"version\":\"1.2.0\"}};\n",
       "  var render_items = [{\"docid\":\"735534d9-a5e8-45f9-beec-4afcb93a03a4\",\"roots\":{\"1246\":\"043a660f-7492-4960-9a20-68bd12f70325\"}}];\n",
       "  root.Bokeh.embed.embed_items_notebook(docs_json, render_items);\n",
       "\n",
       "  }\n",
       "  if (root.Bokeh !== undefined) {\n",
       "    embed_document(root);\n",
       "  } else {\n",
       "    var attempts = 0;\n",
       "    var timer = setInterval(function(root) {\n",
       "      if (root.Bokeh !== undefined) {\n",
       "        embed_document(root);\n",
       "        clearInterval(timer);\n",
       "      }\n",
       "      attempts++;\n",
       "      if (attempts > 100) {\n",
       "        console.log(\"Bokeh: ERROR: Unable to run BokehJS code because BokehJS library is missing\");\n",
       "        clearInterval(timer);\n",
       "      }\n",
       "    }, 10, root)\n",
       "  }\n",
       "})(window);</script>"
      ],
      "text/plain": [
       ":Image   [Ypos,Xpos]   (Zfield_avg)"
      ]
     },
     "execution_count": 11,
     "metadata": {
      "application/vnd.holoviews_exec.v0+json": {
       "id": "1246"
      }
     },
     "output_type": "execute_result"
    }
   ],
   "source": [
    "phi0_ds.Zfield_avg.hvplot()"
   ]
  },
  {
   "cell_type": "code",
   "execution_count": 12,
   "metadata": {},
   "outputs": [
    {
     "data": {
      "application/vnd.holoviews_exec.v0+json": "",
      "text/html": [
       "<div id='1367' style='display: table; margin: 0 auto;'>\n",
       "\n",
       "\n",
       "\n",
       "\n",
       "\n",
       "  <div class=\"bk-root\" id=\"abd4d163-e9ea-4495-910f-f3e6a45143e1\" data-root-id=\"1367\"></div>\n",
       "</div>\n",
       "<script type=\"application/javascript\">(function(root) {\n",
       "  function embed_document(root) {\n",
       "    \n",
       "  var docs_json = {\"7540fcc3-1eec-4cbd-be0d-1cb40e416d7a\":{\"roots\":{\"references\":[{\"attributes\":{\"below\":[{\"id\":\"1376\",\"type\":\"LinearAxis\"}],\"center\":[{\"id\":\"1380\",\"type\":\"Grid\"},{\"id\":\"1385\",\"type\":\"Grid\"}],\"left\":[{\"id\":\"1381\",\"type\":\"LinearAxis\"}],\"margin\":null,\"min_border_bottom\":10,\"min_border_left\":10,\"min_border_right\":10,\"min_border_top\":10,\"plot_height\":300,\"plot_width\":700,\"renderers\":[{\"id\":\"1404\",\"type\":\"GlyphRenderer\"}],\"right\":[{\"id\":\"1407\",\"type\":\"ColorBar\"}],\"sizing_mode\":\"fixed\",\"title\":{\"id\":\"1368\",\"type\":\"Title\"},\"toolbar\":{\"id\":\"1391\",\"type\":\"Toolbar\"},\"x_range\":{\"id\":\"1364\",\"type\":\"Range1d\"},\"x_scale\":{\"id\":\"1372\",\"type\":\"LinearScale\"},\"y_range\":{\"id\":\"1365\",\"type\":\"Range1d\"},\"y_scale\":{\"id\":\"1374\",\"type\":\"LinearScale\"}},\"id\":\"1367\",\"subtype\":\"Figure\",\"type\":\"Plot\"},{\"attributes\":{},\"id\":\"1414\",\"type\":\"BasicTickFormatter\"},{\"attributes\":{},\"id\":\"1400\",\"type\":\"Selection\"},{\"attributes\":{\"high\":0.008251658121744792,\"low\":-0.008353458658854167,\"nan_color\":\"rgba(0, 0, 0, 0)\",\"palette\":[\"#000000\",\"#060000\",\"#0d0000\",\"#120000\",\"#160000\",\"#190000\",\"#1c0000\",\"#1f0000\",\"#220000\",\"#240000\",\"#260000\",\"#280000\",\"#2b0000\",\"#2d0000\",\"#2e0000\",\"#300000\",\"#320000\",\"#340000\",\"#350000\",\"#370000\",\"#380000\",\"#3a0000\",\"#3b0000\",\"#3d0000\",\"#3e0000\",\"#400000\",\"#410000\",\"#430000\",\"#440000\",\"#460000\",\"#470000\",\"#490000\",\"#4a0000\",\"#4c0000\",\"#4d0000\",\"#4f0000\",\"#500000\",\"#520000\",\"#530000\",\"#550000\",\"#560000\",\"#580000\",\"#590100\",\"#5b0100\",\"#5d0100\",\"#5e0100\",\"#600100\",\"#610100\",\"#630100\",\"#650100\",\"#660100\",\"#680100\",\"#690100\",\"#6b0100\",\"#6d0100\",\"#6e0100\",\"#700100\",\"#710100\",\"#730100\",\"#750100\",\"#760100\",\"#780200\",\"#7a0200\",\"#7b0200\",\"#7d0200\",\"#7f0200\",\"#800200\",\"#820200\",\"#840200\",\"#850200\",\"#870200\",\"#890200\",\"#8a0200\",\"#8c0300\",\"#8e0300\",\"#900300\",\"#910300\",\"#930300\",\"#950300\",\"#960300\",\"#980300\",\"#9a0300\",\"#9c0300\",\"#9d0400\",\"#9f0400\",\"#a10400\",\"#a20400\",\"#a40400\",\"#a60400\",\"#a80400\",\"#a90400\",\"#ab0500\",\"#ad0500\",\"#af0500\",\"#b00500\",\"#b20500\",\"#b40500\",\"#b60600\",\"#b80600\",\"#b90600\",\"#bb0600\",\"#bd0600\",\"#bf0700\",\"#c00700\",\"#c20700\",\"#c40700\",\"#c60800\",\"#c80800\",\"#c90800\",\"#cb0800\",\"#cd0900\",\"#cf0900\",\"#d10900\",\"#d20a00\",\"#d40a00\",\"#d60a00\",\"#d80b00\",\"#da0b00\",\"#db0c00\",\"#dd0c00\",\"#df0d00\",\"#e10d00\",\"#e30e00\",\"#e40f00\",\"#e60f00\",\"#e81000\",\"#ea1100\",\"#eb1300\",\"#ed1400\",\"#ee1600\",\"#f01800\",\"#f11b00\",\"#f21d00\",\"#f32000\",\"#f52300\",\"#f62600\",\"#f62900\",\"#f72c00\",\"#f82f00\",\"#f93200\",\"#f93500\",\"#fa3800\",\"#fa3b00\",\"#fb3d00\",\"#fb4000\",\"#fb4300\",\"#fc4600\",\"#fc4900\",\"#fc4b00\",\"#fd4e00\",\"#fd5100\",\"#fd5300\",\"#fd5600\",\"#fd5800\",\"#fe5b00\",\"#fe5d00\",\"#fe5f00\",\"#fe6200\",\"#fe6400\",\"#fe6600\",\"#fe6800\",\"#fe6b00\",\"#fe6d00\",\"#fe6f00\",\"#fe7100\",\"#fe7300\",\"#fe7500\",\"#fe7700\",\"#fe7900\",\"#fe7c00\",\"#ff7e00\",\"#ff8000\",\"#ff8200\",\"#ff8300\",\"#ff8500\",\"#ff8700\",\"#ff8900\",\"#ff8b00\",\"#ff8d00\",\"#ff8f00\",\"#ff9100\",\"#ff9300\",\"#ff9400\",\"#ff9600\",\"#ff9800\",\"#ff9a00\",\"#ff9c00\",\"#ff9d00\",\"#ff9f00\",\"#ffa100\",\"#ffa300\",\"#ffa401\",\"#ffa601\",\"#ffa801\",\"#ffaa01\",\"#ffab01\",\"#ffad01\",\"#ffaf01\",\"#ffb001\",\"#ffb202\",\"#ffb402\",\"#ffb502\",\"#ffb702\",\"#ffb902\",\"#ffba02\",\"#ffbc03\",\"#ffbd03\",\"#ffbf03\",\"#ffc103\",\"#ffc204\",\"#ffc404\",\"#ffc604\",\"#ffc704\",\"#ffc905\",\"#ffca05\",\"#ffcc05\",\"#ffce06\",\"#ffcf06\",\"#ffd106\",\"#ffd207\",\"#ffd407\",\"#ffd508\",\"#ffd708\",\"#ffd909\",\"#ffda09\",\"#ffdc0a\",\"#ffdd0a\",\"#ffdf0b\",\"#ffe00b\",\"#ffe20c\",\"#ffe30d\",\"#ffe50e\",\"#ffe60f\",\"#ffe810\",\"#ffea11\",\"#ffeb12\",\"#ffed14\",\"#ffee17\",\"#fff01a\",\"#fff11e\",\"#fff324\",\"#fff42a\",\"#fff532\",\"#fff73b\",\"#fff847\",\"#fff953\",\"#fffb62\",\"#fffb72\",\"#fffc83\",\"#fffd95\",\"#fffea8\",\"#fffeba\",\"#fffecc\",\"#fffede\",\"#fffeee\",\"#ffffff\"]},\"id\":\"1398\",\"type\":\"LinearColorMapper\"},{\"attributes\":{\"callback\":null,\"end\":22.350000000000016,\"reset_end\":22.350000000000016,\"reset_start\":21.15,\"start\":21.15,\"tags\":[[[\"Ypos\",\"Ypos\",null]]]},\"id\":\"1364\",\"type\":\"Range1d\"},{\"attributes\":{},\"id\":\"1420\",\"type\":\"UnionRenderers\"},{\"attributes\":{},\"id\":\"1410\",\"type\":\"BasicTickFormatter\"},{\"attributes\":{\"color_mapper\":{\"id\":\"1398\",\"type\":\"LinearColorMapper\"},\"dh\":{\"field\":\"dh\",\"units\":\"data\"},\"dw\":{\"field\":\"dw\",\"units\":\"data\"},\"image\":{\"field\":\"image\"},\"x\":{\"field\":\"x\"},\"y\":{\"field\":\"y\"}},\"id\":\"1403\",\"type\":\"Image\"},{\"attributes\":{},\"id\":\"1412\",\"type\":\"BasicTickFormatter\"},{\"attributes\":{\"callback\":null,\"data\":{\"dh\":[1.200000000000017],\"dw\":[1.200000000000017],\"image\":[{\"__ndarray__\":\"KX6MuWuLgD+JRI6anCN7P7zduLIx2HQ/XwfOGVF6bT9d2RhOrOZgPyZ7XgSg5EM/CWX0tqy1Tr+jAbwFEuxjv2qad5yis2+/029fB87ddb/9h/Tb1wl8vzxz/D2eG4G/6bevA+d4gD9/RZHIUT97P39qvHSTBHU/EBERERGpbT+Hp1fKMlRhP3DILGhHt0M//Oq9C24+Tb9dRWydpZFjv0q8T2hssm+/ZKQE6rrtdb8FxY8xdxF8vxPyQc9mEYG/ZRa0o0uggD/M7snDQj17P3GvuZA0EXU/nlv7FUWqbT9Q1+3GlS1hP+sENBE2nEM/kjfTl7gITr8Bb4EExb9jv7JvOtwhqG+/lM6t/YrCdb+ldpl0bul7v5E0peLsCYG/seHplbKYgD8AkX77OkB7P/UiACUr/HQ/LKxBhRC9bT+hQog+MmBhP19LyAc9O0Q/qMMdgr3cTL+kmJZr5I1jv02EDU+vXG+/UBi6/7Whdb+NKO0NvuR7v7raiv1l/4C/oWez6nOfgD8uaEeXJGx7P+VhodY0O3U/ybq4jQYgbj81zTtO0YlhP3+x5BdLPkU/awOdNtCJTL9p/UDMODhjv21Wfa62Um+/iM+wK0COdb8IFUL0kcV7v0HMOCAc9IC/oR1dkvCggD//If32dWx7PxHpt68DO3U/P8kKa1Ahbj9rKMjiEc9hPw+ZBe3oEkY/e4ABl9pFS79FR3L5D/Fiv7TCGlQI0W6/yJWN4cR+db+3aNtD1b57v1ilBxhw7YC/nX34DLvCgD8bUdobfHl7P5jdk4eFWnU/xWSqYFQybj8nDN3/2vxhP1G4HoXrMUc/L2t1TPDASr/lg57Nqs9iv8cpOpLL926/nex5EYB+db977FTm07R7v6zVMcGD74C/c428mb66gD9pke18P6V7P1KQxSPed3U/qJ7y1Xufbj+ECiH6yChiP5VliGNdPEc/U/9GKKPXSr8gQfFjzMVivyD6yMAU0G6/Wx0TPJh/db/nHafoSJ57v3yGXQFy24C/x0gJ1HXLgD8lLtr2UMl7P+AtkKD4gXU/9Ucr0Wy5bj/pSC7/IW1iP+uVsgxxDEg/c2VjOLG6Sb+rPldbsZ9iv1bm01CQbW6/lKZUnH1Mdb9d3EYDeGt7v7F1lka5yYC/jbyZvsTVgD/hC5OpguV7Pzr78Bl2nXU/XwFyr7ngbj8cnl4py5BiP6yzNMoNGUk/pNlipATKSL9dAXKvuWBiv9fLyZ4XOW6/WFuxv+xCdb/c14FzRnx7vyCtRLPFzIC/HoK9nOzZgD8830+Nl/J7P1OWIY51sXU/nl4pyxAfbz9rl0nn1r5iP/cGX5hMlUk/kMUj3ieUSL/4nTn+Hk9iv2QcEA7jG26/dEaU9gYXdb8TXpUeYEx7vwG8BRIUtYC/SVMqzj7mgD8MAiuHFv17P09AE2HDu3U/7XO1Ffsbbz/pS1y07dFiP3/WD8SMw0k/2/MiACUrSL+shX/+aDViv6gNdNpAL26/LSEf9Gwedb/UAwy41EJ7v7AD54wor4C/\",\"dtype\":\"float64\",\"shape\":[12,12]}],\"x\":[21.15],\"y\":[25.849999999999998]},\"selected\":{\"id\":\"1400\",\"type\":\"Selection\"},\"selection_policy\":{\"id\":\"1420\",\"type\":\"UnionRenderers\"}},\"id\":\"1399\",\"type\":\"ColumnDataSource\"},{\"attributes\":{\"dimension\":1,\"grid_line_color\":null,\"ticker\":{\"id\":\"1382\",\"type\":\"BasicTicker\"}},\"id\":\"1385\",\"type\":\"Grid\"},{\"attributes\":{\"color_mapper\":{\"id\":\"1398\",\"type\":\"LinearColorMapper\"},\"dh\":{\"field\":\"dh\",\"units\":\"data\"},\"dw\":{\"field\":\"dw\",\"units\":\"data\"},\"image\":{\"field\":\"image\"},\"x\":{\"field\":\"x\"},\"y\":{\"field\":\"y\"}},\"id\":\"1402\",\"type\":\"Image\"},{\"attributes\":{},\"id\":\"1377\",\"type\":\"BasicTicker\"},{\"attributes\":{},\"id\":\"1388\",\"type\":\"WheelZoomTool\"},{\"attributes\":{\"callback\":null,\"renderers\":[{\"id\":\"1404\",\"type\":\"GlyphRenderer\"}],\"tags\":[\"hv_created\"],\"tooltips\":[[\"Ypos\",\"$x\"],[\"Xpos\",\"$y\"],[\"Zfield_avg\",\"@image\"]]},\"id\":\"1366\",\"type\":\"HoverTool\"},{\"attributes\":{\"bottom_units\":\"screen\",\"fill_alpha\":{\"value\":0.5},\"fill_color\":{\"value\":\"lightgrey\"},\"left_units\":\"screen\",\"level\":\"overlay\",\"line_alpha\":{\"value\":1.0},\"line_color\":{\"value\":\"black\"},\"line_dash\":[4,4],\"line_width\":{\"value\":2},\"render_mode\":\"css\",\"right_units\":\"screen\",\"top_units\":\"screen\"},\"id\":\"1419\",\"type\":\"BoxAnnotation\"},{\"attributes\":{\"grid_line_color\":null,\"ticker\":{\"id\":\"1377\",\"type\":\"BasicTicker\"}},\"id\":\"1380\",\"type\":\"Grid\"},{\"attributes\":{},\"id\":\"1374\",\"type\":\"LinearScale\"},{\"attributes\":{},\"id\":\"1372\",\"type\":\"LinearScale\"},{\"attributes\":{\"active_drag\":\"auto\",\"active_inspect\":\"auto\",\"active_multi\":null,\"active_scroll\":\"auto\",\"active_tap\":\"auto\",\"tools\":[{\"id\":\"1366\",\"type\":\"HoverTool\"},{\"id\":\"1386\",\"type\":\"SaveTool\"},{\"id\":\"1387\",\"type\":\"PanTool\"},{\"id\":\"1388\",\"type\":\"WheelZoomTool\"},{\"id\":\"1389\",\"type\":\"BoxZoomTool\"},{\"id\":\"1390\",\"type\":\"ResetTool\"}]},\"id\":\"1391\",\"type\":\"Toolbar\"},{\"attributes\":{\"source\":{\"id\":\"1399\",\"type\":\"ColumnDataSource\"}},\"id\":\"1405\",\"type\":\"CDSView\"},{\"attributes\":{},\"id\":\"1406\",\"type\":\"BasicTicker\"},{\"attributes\":{},\"id\":\"1387\",\"type\":\"PanTool\"},{\"attributes\":{},\"id\":\"1390\",\"type\":\"ResetTool\"},{\"attributes\":{\"axis_label\":\"Ypos\",\"bounds\":\"auto\",\"formatter\":{\"id\":\"1410\",\"type\":\"BasicTickFormatter\"},\"major_label_orientation\":\"horizontal\",\"ticker\":{\"id\":\"1377\",\"type\":\"BasicTicker\"}},\"id\":\"1376\",\"type\":\"LinearAxis\"},{\"attributes\":{\"data_source\":{\"id\":\"1399\",\"type\":\"ColumnDataSource\"},\"glyph\":{\"id\":\"1402\",\"type\":\"Image\"},\"hover_glyph\":null,\"muted_glyph\":null,\"nonselection_glyph\":{\"id\":\"1403\",\"type\":\"Image\"},\"selection_glyph\":null,\"view\":{\"id\":\"1405\",\"type\":\"CDSView\"}},\"id\":\"1404\",\"type\":\"GlyphRenderer\"},{\"attributes\":{\"overlay\":{\"id\":\"1419\",\"type\":\"BoxAnnotation\"}},\"id\":\"1389\",\"type\":\"BoxZoomTool\"},{\"attributes\":{},\"id\":\"1382\",\"type\":\"BasicTicker\"},{\"attributes\":{\"callback\":null,\"end\":27.050000000000015,\"reset_end\":27.050000000000015,\"reset_start\":25.849999999999998,\"start\":25.849999999999998,\"tags\":[[[\"Xpos\",\"Xpos\",null]]]},\"id\":\"1365\",\"type\":\"Range1d\"},{\"attributes\":{\"text\":\"\",\"text_color\":{\"value\":\"black\"},\"text_font_size\":{\"value\":\"12pt\"}},\"id\":\"1368\",\"type\":\"Title\"},{\"attributes\":{\"axis_label\":\"Xpos\",\"bounds\":\"auto\",\"formatter\":{\"id\":\"1412\",\"type\":\"BasicTickFormatter\"},\"major_label_orientation\":\"horizontal\",\"ticker\":{\"id\":\"1382\",\"type\":\"BasicTicker\"}},\"id\":\"1381\",\"type\":\"LinearAxis\"},{\"attributes\":{},\"id\":\"1386\",\"type\":\"SaveTool\"},{\"attributes\":{\"bar_line_color\":{\"value\":\"black\"},\"color_mapper\":{\"id\":\"1398\",\"type\":\"LinearColorMapper\"},\"formatter\":{\"id\":\"1414\",\"type\":\"BasicTickFormatter\"},\"label_standoff\":8,\"location\":[0,0],\"major_tick_line_color\":{\"value\":\"black\"},\"ticker\":{\"id\":\"1406\",\"type\":\"BasicTicker\"}},\"id\":\"1407\",\"type\":\"ColorBar\"}],\"root_ids\":[\"1367\"]},\"title\":\"Bokeh Application\",\"version\":\"1.2.0\"}};\n",
       "  var render_items = [{\"docid\":\"7540fcc3-1eec-4cbd-be0d-1cb40e416d7a\",\"roots\":{\"1367\":\"abd4d163-e9ea-4495-910f-f3e6a45143e1\"}}];\n",
       "  root.Bokeh.embed.embed_items_notebook(docs_json, render_items);\n",
       "\n",
       "  }\n",
       "  if (root.Bokeh !== undefined) {\n",
       "    embed_document(root);\n",
       "  } else {\n",
       "    var attempts = 0;\n",
       "    var timer = setInterval(function(root) {\n",
       "      if (root.Bokeh !== undefined) {\n",
       "        embed_document(root);\n",
       "        clearInterval(timer);\n",
       "      }\n",
       "      attempts++;\n",
       "      if (attempts > 100) {\n",
       "        console.log(\"Bokeh: ERROR: Unable to run BokehJS code because BokehJS library is missing\");\n",
       "        clearInterval(timer);\n",
       "      }\n",
       "    }, 10, root)\n",
       "  }\n",
       "})(window);</script>"
      ],
      "text/plain": [
       ":Image   [Ypos,Xpos]   (Zfield_avg)"
      ]
     },
     "execution_count": 12,
     "metadata": {
      "application/vnd.holoviews_exec.v0+json": {
       "id": "1367"
      }
     },
     "output_type": "execute_result"
    }
   ],
   "source": [
    "phi90_ds.Zfield_avg.hvplot()"
   ]
  },
  {
   "cell_type": "code",
   "execution_count": 13,
   "metadata": {},
   "outputs": [],
   "source": [
    "combined_Z_field = (phi0_ds.Zfield_avg**2 + phi90_ds.Zfield_avg**2)"
   ]
  },
  {
   "cell_type": "code",
   "execution_count": 14,
   "metadata": {},
   "outputs": [
    {
     "data": {
      "application/vnd.holoviews_exec.v0+json": "",
      "text/html": [
       "<div id='1488' style='display: table; margin: 0 auto;'>\n",
       "\n",
       "\n",
       "\n",
       "\n",
       "\n",
       "  <div class=\"bk-root\" id=\"40d0b9df-af5d-4a5a-8cd0-8582a8a9088a\" data-root-id=\"1488\"></div>\n",
       "</div>\n",
       "<script type=\"application/javascript\">(function(root) {\n",
       "  function embed_document(root) {\n",
       "    \n",
       "  var docs_json = {\"857ba43c-3739-4eb8-8f88-b093a3eb24ce\":{\"roots\":{\"references\":[{\"attributes\":{\"below\":[{\"id\":\"1497\",\"type\":\"LinearAxis\"}],\"center\":[{\"id\":\"1501\",\"type\":\"Grid\"},{\"id\":\"1506\",\"type\":\"Grid\"}],\"left\":[{\"id\":\"1502\",\"type\":\"LinearAxis\"}],\"margin\":null,\"min_border_bottom\":10,\"min_border_left\":10,\"min_border_right\":10,\"min_border_top\":10,\"plot_height\":300,\"plot_width\":700,\"renderers\":[{\"id\":\"1525\",\"type\":\"GlyphRenderer\"}],\"right\":[{\"id\":\"1528\",\"type\":\"ColorBar\"}],\"sizing_mode\":\"fixed\",\"title\":{\"id\":\"1489\",\"type\":\"Title\"},\"toolbar\":{\"id\":\"1512\",\"type\":\"Toolbar\"},\"x_range\":{\"id\":\"1485\",\"type\":\"Range1d\"},\"x_scale\":{\"id\":\"1493\",\"type\":\"LinearScale\"},\"y_range\":{\"id\":\"1486\",\"type\":\"Range1d\"},\"y_scale\":{\"id\":\"1495\",\"type\":\"LinearScale\"}},\"id\":\"1488\",\"subtype\":\"Figure\",\"type\":\"Plot\"},{\"attributes\":{},\"id\":\"1541\",\"type\":\"UnionRenderers\"},{\"attributes\":{\"text\":\"\",\"text_color\":{\"value\":\"black\"},\"text_font_size\":{\"value\":\"12pt\"}},\"id\":\"1489\",\"type\":\"Title\"},{\"attributes\":{},\"id\":\"1507\",\"type\":\"SaveTool\"},{\"attributes\":{},\"id\":\"1531\",\"type\":\"BasicTickFormatter\"},{\"attributes\":{\"callback\":null,\"renderers\":[{\"id\":\"1525\",\"type\":\"GlyphRenderer\"}],\"tags\":[\"hv_created\"],\"tooltips\":[[\"Ypos\",\"$x\"],[\"Xpos\",\"$y\"],[\"Zfield_avg\",\"@image\"]]},\"id\":\"1487\",\"type\":\"HoverTool\"},{\"attributes\":{},\"id\":\"1521\",\"type\":\"Selection\"},{\"attributes\":{},\"id\":\"1508\",\"type\":\"PanTool\"},{\"attributes\":{},\"id\":\"1533\",\"type\":\"BasicTickFormatter\"},{\"attributes\":{},\"id\":\"1509\",\"type\":\"WheelZoomTool\"},{\"attributes\":{\"source\":{\"id\":\"1520\",\"type\":\"ColumnDataSource\"}},\"id\":\"1526\",\"type\":\"CDSView\"},{\"attributes\":{\"bar_line_color\":{\"value\":\"black\"},\"color_mapper\":{\"id\":\"1519\",\"type\":\"LinearColorMapper\"},\"formatter\":{\"id\":\"1535\",\"type\":\"BasicTickFormatter\"},\"label_standoff\":8,\"location\":[0,0],\"major_tick_line_color\":{\"value\":\"black\"},\"ticker\":{\"id\":\"1527\",\"type\":\"BasicTicker\"}},\"id\":\"1528\",\"type\":\"ColorBar\"},{\"attributes\":{\"high\":0.0001433092627776042,\"low\":5.795044459940661e-07,\"nan_color\":\"rgba(0, 0, 0, 0)\",\"palette\":[\"#000000\",\"#060000\",\"#0d0000\",\"#120000\",\"#160000\",\"#190000\",\"#1c0000\",\"#1f0000\",\"#220000\",\"#240000\",\"#260000\",\"#280000\",\"#2b0000\",\"#2d0000\",\"#2e0000\",\"#300000\",\"#320000\",\"#340000\",\"#350000\",\"#370000\",\"#380000\",\"#3a0000\",\"#3b0000\",\"#3d0000\",\"#3e0000\",\"#400000\",\"#410000\",\"#430000\",\"#440000\",\"#460000\",\"#470000\",\"#490000\",\"#4a0000\",\"#4c0000\",\"#4d0000\",\"#4f0000\",\"#500000\",\"#520000\",\"#530000\",\"#550000\",\"#560000\",\"#580000\",\"#590100\",\"#5b0100\",\"#5d0100\",\"#5e0100\",\"#600100\",\"#610100\",\"#630100\",\"#650100\",\"#660100\",\"#680100\",\"#690100\",\"#6b0100\",\"#6d0100\",\"#6e0100\",\"#700100\",\"#710100\",\"#730100\",\"#750100\",\"#760100\",\"#780200\",\"#7a0200\",\"#7b0200\",\"#7d0200\",\"#7f0200\",\"#800200\",\"#820200\",\"#840200\",\"#850200\",\"#870200\",\"#890200\",\"#8a0200\",\"#8c0300\",\"#8e0300\",\"#900300\",\"#910300\",\"#930300\",\"#950300\",\"#960300\",\"#980300\",\"#9a0300\",\"#9c0300\",\"#9d0400\",\"#9f0400\",\"#a10400\",\"#a20400\",\"#a40400\",\"#a60400\",\"#a80400\",\"#a90400\",\"#ab0500\",\"#ad0500\",\"#af0500\",\"#b00500\",\"#b20500\",\"#b40500\",\"#b60600\",\"#b80600\",\"#b90600\",\"#bb0600\",\"#bd0600\",\"#bf0700\",\"#c00700\",\"#c20700\",\"#c40700\",\"#c60800\",\"#c80800\",\"#c90800\",\"#cb0800\",\"#cd0900\",\"#cf0900\",\"#d10900\",\"#d20a00\",\"#d40a00\",\"#d60a00\",\"#d80b00\",\"#da0b00\",\"#db0c00\",\"#dd0c00\",\"#df0d00\",\"#e10d00\",\"#e30e00\",\"#e40f00\",\"#e60f00\",\"#e81000\",\"#ea1100\",\"#eb1300\",\"#ed1400\",\"#ee1600\",\"#f01800\",\"#f11b00\",\"#f21d00\",\"#f32000\",\"#f52300\",\"#f62600\",\"#f62900\",\"#f72c00\",\"#f82f00\",\"#f93200\",\"#f93500\",\"#fa3800\",\"#fa3b00\",\"#fb3d00\",\"#fb4000\",\"#fb4300\",\"#fc4600\",\"#fc4900\",\"#fc4b00\",\"#fd4e00\",\"#fd5100\",\"#fd5300\",\"#fd5600\",\"#fd5800\",\"#fe5b00\",\"#fe5d00\",\"#fe5f00\",\"#fe6200\",\"#fe6400\",\"#fe6600\",\"#fe6800\",\"#fe6b00\",\"#fe6d00\",\"#fe6f00\",\"#fe7100\",\"#fe7300\",\"#fe7500\",\"#fe7700\",\"#fe7900\",\"#fe7c00\",\"#ff7e00\",\"#ff8000\",\"#ff8200\",\"#ff8300\",\"#ff8500\",\"#ff8700\",\"#ff8900\",\"#ff8b00\",\"#ff8d00\",\"#ff8f00\",\"#ff9100\",\"#ff9300\",\"#ff9400\",\"#ff9600\",\"#ff9800\",\"#ff9a00\",\"#ff9c00\",\"#ff9d00\",\"#ff9f00\",\"#ffa100\",\"#ffa300\",\"#ffa401\",\"#ffa601\",\"#ffa801\",\"#ffaa01\",\"#ffab01\",\"#ffad01\",\"#ffaf01\",\"#ffb001\",\"#ffb202\",\"#ffb402\",\"#ffb502\",\"#ffb702\",\"#ffb902\",\"#ffba02\",\"#ffbc03\",\"#ffbd03\",\"#ffbf03\",\"#ffc103\",\"#ffc204\",\"#ffc404\",\"#ffc604\",\"#ffc704\",\"#ffc905\",\"#ffca05\",\"#ffcc05\",\"#ffce06\",\"#ffcf06\",\"#ffd106\",\"#ffd207\",\"#ffd407\",\"#ffd508\",\"#ffd708\",\"#ffd909\",\"#ffda09\",\"#ffdc0a\",\"#ffdd0a\",\"#ffdf0b\",\"#ffe00b\",\"#ffe20c\",\"#ffe30d\",\"#ffe50e\",\"#ffe60f\",\"#ffe810\",\"#ffea11\",\"#ffeb12\",\"#ffed14\",\"#ffee17\",\"#fff01a\",\"#fff11e\",\"#fff324\",\"#fff42a\",\"#fff532\",\"#fff73b\",\"#fff847\",\"#fff953\",\"#fffb62\",\"#fffb72\",\"#fffc83\",\"#fffd95\",\"#fffea8\",\"#fffeba\",\"#fffecc\",\"#fffede\",\"#fffeee\",\"#ffffff\"]},\"id\":\"1519\",\"type\":\"LinearColorMapper\"},{\"attributes\":{\"overlay\":{\"id\":\"1540\",\"type\":\"BoxAnnotation\"}},\"id\":\"1510\",\"type\":\"BoxZoomTool\"},{\"attributes\":{},\"id\":\"1511\",\"type\":\"ResetTool\"},{\"attributes\":{\"active_drag\":\"auto\",\"active_inspect\":\"auto\",\"active_multi\":null,\"active_scroll\":\"auto\",\"active_tap\":\"auto\",\"tools\":[{\"id\":\"1487\",\"type\":\"HoverTool\"},{\"id\":\"1507\",\"type\":\"SaveTool\"},{\"id\":\"1508\",\"type\":\"PanTool\"},{\"id\":\"1509\",\"type\":\"WheelZoomTool\"},{\"id\":\"1510\",\"type\":\"BoxZoomTool\"},{\"id\":\"1511\",\"type\":\"ResetTool\"}]},\"id\":\"1512\",\"type\":\"Toolbar\"},{\"attributes\":{\"color_mapper\":{\"id\":\"1519\",\"type\":\"LinearColorMapper\"},\"dh\":{\"field\":\"dh\",\"units\":\"data\"},\"dw\":{\"field\":\"dw\",\"units\":\"data\"},\"image\":{\"field\":\"image\"},\"x\":{\"field\":\"x\"},\"y\":{\"field\":\"y\"}},\"id\":\"1524\",\"type\":\"Image\"},{\"attributes\":{},\"id\":\"1493\",\"type\":\"LinearScale\"},{\"attributes\":{\"bottom_units\":\"screen\",\"fill_alpha\":{\"value\":0.5},\"fill_color\":{\"value\":\"lightgrey\"},\"left_units\":\"screen\",\"level\":\"overlay\",\"line_alpha\":{\"value\":1.0},\"line_color\":{\"value\":\"black\"},\"line_dash\":[4,4],\"line_width\":{\"value\":2},\"render_mode\":\"css\",\"right_units\":\"screen\",\"top_units\":\"screen\"},\"id\":\"1540\",\"type\":\"BoxAnnotation\"},{\"attributes\":{},\"id\":\"1527\",\"type\":\"BasicTicker\"},{\"attributes\":{\"callback\":null,\"end\":27.050000000000015,\"reset_end\":27.050000000000015,\"reset_start\":25.849999999999998,\"start\":25.849999999999998,\"tags\":[[[\"Xpos\",\"Xpos\",null]]]},\"id\":\"1486\",\"type\":\"Range1d\"},{\"attributes\":{},\"id\":\"1495\",\"type\":\"LinearScale\"},{\"attributes\":{\"axis_label\":\"Ypos\",\"bounds\":\"auto\",\"formatter\":{\"id\":\"1531\",\"type\":\"BasicTickFormatter\"},\"major_label_orientation\":\"horizontal\",\"ticker\":{\"id\":\"1498\",\"type\":\"BasicTicker\"}},\"id\":\"1497\",\"type\":\"LinearAxis\"},{\"attributes\":{},\"id\":\"1498\",\"type\":\"BasicTicker\"},{\"attributes\":{\"data_source\":{\"id\":\"1520\",\"type\":\"ColumnDataSource\"},\"glyph\":{\"id\":\"1523\",\"type\":\"Image\"},\"hover_glyph\":null,\"muted_glyph\":null,\"nonselection_glyph\":{\"id\":\"1524\",\"type\":\"Image\"},\"selection_glyph\":null,\"view\":{\"id\":\"1526\",\"type\":\"CDSView\"}},\"id\":\"1525\",\"type\":\"GlyphRenderer\"},{\"attributes\":{\"grid_line_color\":null,\"ticker\":{\"id\":\"1498\",\"type\":\"BasicTicker\"}},\"id\":\"1501\",\"type\":\"Grid\"},{\"attributes\":{\"callback\":null,\"data\":{\"dh\":[1.200000000000017],\"dw\":[1.200000000000017],\"image\":[{\"__ndarray__\":\"lOMNsPqjID8EDo1cmJAbP02hSsg16hY/uvxqy/VyEz/WKdj/cCQRP/wqEdNYAxA/65r8lJUWED/5wK7qCWwRP3shwgtWwhM/oB0uwUUmFz9+DHSoyecbP45sPArY6iA/cenzrAGHGz9SYebiHCsWP3zBnmXAXxE/HLRmXkrGCz+zaLYCVz0HP6FLvvJKGAU/yc7D3oA+BT9elSWuxqIHP4mRI605Tgw/QCzypv68ET+v9M6vrm8WP8yk4e/jWxw/IwNXRSpwFz/eq62TfLsRP8QG4YSxMAo/V6q3jHUFAz+ZdC104I38Prknq5aUVPg+n14i/VzO+D48VNM+U7P9PgoGBgfllgM/wAUvvcKBCj86ywG9Y+wRP69/JqS02hc/QN24vPosFD8Mx1T+TxANPzYcsB/ZkwM/GAvATttC+T6UA2x+3w/wPoPEsUW3iec+wSdy3CQk6D5M06Ku0wzxPkG5K8Mbjfo+IUQ5sggRBD/r7ch3tqwNPyTD4FDyuxQ/XbTvZ7QzEj9Yuo7DtGAJP60Q76wV5/8+ces08/3S8T7ag+pSZZPgPjiIoMTyLM8+oPrLn/Xk0D60TwIL8FDiPvII9CJOovI++H+ZoGQlAD9Raacj9rcJPxFLvb2KwBI/pYGhR0xVET/jJi54LJgHP/fB8BmMWPw+TpkmHTWp7D5Dm6EZ7G/UPsA64cDncaM+IAzVQBlXqz76JMaUTO7WPvmaVnnK3e0+B6GWUjLz/D7UhL59XxcIP07ageiE7BE/8ODuBWHaET+8vdE8OjAIP5Ilt47fzP0+rnJE82cg7z76MfKrTEvZPsex+fGOsL0+OyD1jMNhwD6I+230erTbPlUJPwYfaPA+NvoCCCpT/j44ZbYFKMUIP5/VCXBRTxI/6Y3ajYoxEz+LVl0tpEMLP74wJLHK1AE/HINt0Fpw9T5Os6z5GzvoPoO2M/ZG/N0+mHEgJlml3z6zi7HtZHbpPvW1OjJyH/Y+Jx9aJ8grAj8vc1W8xZELP1BzT2LmqxM/3jkTq7noFT/s6l643V0QP9ByLVQ2/AY/Up8dF7cDAD/UnBeC+7T2PhW+vtaSFPI+lhaTwg9P8j6IohZ9EDL3Pu27KwzsIwA/vWZw2wgsBz8i2yctOkwQP0uvEIZ7NxY/h/UCSznWGT/iaPnHplEUP6ZPYLi+Hg8/OZU2IpXWBz/shlURGSQDP7BSqNRi1AA/HZwFaZT6AD8O9gOytHADP0RafRBG/Ac/2OFM+N8JDz9ZSfCvGkUUP8/Kc8xCNBo/DLMuCoTmHj/FTg7qyGkZPyhrT2gulRQ/LzQ61H0fET/TgWrkaaQNP15kOZkiVgs/jLzAd70tCz/2yUKaF48NPyL+mfCBIhE/JtkdqW6SFD/qy+ENCkoZP6DyM14gLx8/G5C3UzKPIj9KOUUsUa8fP7mPYBP+3ho/sBnUhSNWFz/ub13rPfwUP2sx6qj5xhM/IMYXc4DNEz+99OmHSBMVPy14bga9Whc/PPceLtvsGj8ApxG3ZZcfP65+lTGpyCI/\",\"dtype\":\"float64\",\"shape\":[12,12]}],\"x\":[21.15],\"y\":[25.849999999999998]},\"selected\":{\"id\":\"1521\",\"type\":\"Selection\"},\"selection_policy\":{\"id\":\"1541\",\"type\":\"UnionRenderers\"}},\"id\":\"1520\",\"type\":\"ColumnDataSource\"},{\"attributes\":{\"axis_label\":\"Xpos\",\"bounds\":\"auto\",\"formatter\":{\"id\":\"1533\",\"type\":\"BasicTickFormatter\"},\"major_label_orientation\":\"horizontal\",\"ticker\":{\"id\":\"1503\",\"type\":\"BasicTicker\"}},\"id\":\"1502\",\"type\":\"LinearAxis\"},{\"attributes\":{\"color_mapper\":{\"id\":\"1519\",\"type\":\"LinearColorMapper\"},\"dh\":{\"field\":\"dh\",\"units\":\"data\"},\"dw\":{\"field\":\"dw\",\"units\":\"data\"},\"image\":{\"field\":\"image\"},\"x\":{\"field\":\"x\"},\"y\":{\"field\":\"y\"}},\"id\":\"1523\",\"type\":\"Image\"},{\"attributes\":{},\"id\":\"1503\",\"type\":\"BasicTicker\"},{\"attributes\":{\"callback\":null,\"end\":22.350000000000016,\"reset_end\":22.350000000000016,\"reset_start\":21.15,\"start\":21.15,\"tags\":[[[\"Ypos\",\"Ypos\",null]]]},\"id\":\"1485\",\"type\":\"Range1d\"},{\"attributes\":{\"dimension\":1,\"grid_line_color\":null,\"ticker\":{\"id\":\"1503\",\"type\":\"BasicTicker\"}},\"id\":\"1506\",\"type\":\"Grid\"},{\"attributes\":{},\"id\":\"1535\",\"type\":\"BasicTickFormatter\"}],\"root_ids\":[\"1488\"]},\"title\":\"Bokeh Application\",\"version\":\"1.2.0\"}};\n",
       "  var render_items = [{\"docid\":\"857ba43c-3739-4eb8-8f88-b093a3eb24ce\",\"roots\":{\"1488\":\"40d0b9df-af5d-4a5a-8cd0-8582a8a9088a\"}}];\n",
       "  root.Bokeh.embed.embed_items_notebook(docs_json, render_items);\n",
       "\n",
       "  }\n",
       "  if (root.Bokeh !== undefined) {\n",
       "    embed_document(root);\n",
       "  } else {\n",
       "    var attempts = 0;\n",
       "    var timer = setInterval(function(root) {\n",
       "      if (root.Bokeh !== undefined) {\n",
       "        embed_document(root);\n",
       "        clearInterval(timer);\n",
       "      }\n",
       "      attempts++;\n",
       "      if (attempts > 100) {\n",
       "        console.log(\"Bokeh: ERROR: Unable to run BokehJS code because BokehJS library is missing\");\n",
       "        clearInterval(timer);\n",
       "      }\n",
       "    }, 10, root)\n",
       "  }\n",
       "})(window);</script>"
      ],
      "text/plain": [
       ":Image   [Ypos,Xpos]   (Zfield_avg)"
      ]
     },
     "execution_count": 14,
     "metadata": {
      "application/vnd.holoviews_exec.v0+json": {
       "id": "1488"
      }
     },
     "output_type": "execute_result"
    }
   ],
   "source": [
    "combined_Z_field.hvplot()"
   ]
  },
  {
   "cell_type": "code",
   "execution_count": 15,
   "metadata": {},
   "outputs": [
    {
     "data": {
      "text/plain": [
       "<xarray.DataArray 'Zfield_avg' (Xpos: 1, Ypos: 1)>\n",
       "array([[5.795044e-07]])\n",
       "Coordinates:\n",
       "  * Xpos     (Xpos) float64 26.4\n",
       "  * Ypos     (Ypos) float64 21.7"
      ]
     },
     "execution_count": 15,
     "metadata": {},
     "output_type": "execute_result"
    }
   ],
   "source": [
    "combined_Z_field.where(combined_Z_field == combined_Z_field.min(), drop=True)"
   ]
  },
  {
   "cell_type": "code",
   "execution_count": 16,
   "metadata": {},
   "outputs": [],
   "source": [
    "combined_inplane = (phi0_ds.Yfield_avg**2 + phi90_ds.Xfield_avg**2)"
   ]
  },
  {
   "cell_type": "code",
   "execution_count": 17,
   "metadata": {},
   "outputs": [
    {
     "data": {
      "application/vnd.holoviews_exec.v0+json": "",
      "text/html": [
       "<div id='1609' style='display: table; margin: 0 auto;'>\n",
       "\n",
       "\n",
       "\n",
       "\n",
       "\n",
       "  <div class=\"bk-root\" id=\"4246e311-e3ce-4017-abae-9290919e71c0\" data-root-id=\"1609\"></div>\n",
       "</div>\n",
       "<script type=\"application/javascript\">(function(root) {\n",
       "  function embed_document(root) {\n",
       "    \n",
       "  var docs_json = {\"8871d166-b698-4e0d-9b3a-9c0a4d76f6d7\":{\"roots\":{\"references\":[{\"attributes\":{\"below\":[{\"id\":\"1618\",\"type\":\"LinearAxis\"}],\"center\":[{\"id\":\"1622\",\"type\":\"Grid\"},{\"id\":\"1627\",\"type\":\"Grid\"}],\"left\":[{\"id\":\"1623\",\"type\":\"LinearAxis\"}],\"margin\":null,\"min_border_bottom\":10,\"min_border_left\":10,\"min_border_right\":10,\"min_border_top\":10,\"plot_height\":300,\"plot_width\":700,\"renderers\":[{\"id\":\"1646\",\"type\":\"GlyphRenderer\"}],\"right\":[{\"id\":\"1649\",\"type\":\"ColorBar\"}],\"sizing_mode\":\"fixed\",\"title\":{\"id\":\"1610\",\"type\":\"Title\"},\"toolbar\":{\"id\":\"1633\",\"type\":\"Toolbar\"},\"x_range\":{\"id\":\"1606\",\"type\":\"Range1d\"},\"x_scale\":{\"id\":\"1614\",\"type\":\"LinearScale\"},\"y_range\":{\"id\":\"1607\",\"type\":\"Range1d\"},\"y_scale\":{\"id\":\"1616\",\"type\":\"LinearScale\"}},\"id\":\"1609\",\"subtype\":\"Figure\",\"type\":\"Plot\"},{\"attributes\":{\"color_mapper\":{\"id\":\"1640\",\"type\":\"LinearColorMapper\"},\"dh\":{\"field\":\"dh\",\"units\":\"data\"},\"dw\":{\"field\":\"dw\",\"units\":\"data\"},\"image\":{\"field\":\"image\"},\"x\":{\"field\":\"x\"},\"y\":{\"field\":\"y\"}},\"id\":\"1644\",\"type\":\"Image\"},{\"attributes\":{\"high\":0.024907489063615146,\"low\":0.024709766607061548,\"nan_color\":\"rgba(0, 0, 0, 0)\",\"palette\":[\"#000000\",\"#060000\",\"#0d0000\",\"#120000\",\"#160000\",\"#190000\",\"#1c0000\",\"#1f0000\",\"#220000\",\"#240000\",\"#260000\",\"#280000\",\"#2b0000\",\"#2d0000\",\"#2e0000\",\"#300000\",\"#320000\",\"#340000\",\"#350000\",\"#370000\",\"#380000\",\"#3a0000\",\"#3b0000\",\"#3d0000\",\"#3e0000\",\"#400000\",\"#410000\",\"#430000\",\"#440000\",\"#460000\",\"#470000\",\"#490000\",\"#4a0000\",\"#4c0000\",\"#4d0000\",\"#4f0000\",\"#500000\",\"#520000\",\"#530000\",\"#550000\",\"#560000\",\"#580000\",\"#590100\",\"#5b0100\",\"#5d0100\",\"#5e0100\",\"#600100\",\"#610100\",\"#630100\",\"#650100\",\"#660100\",\"#680100\",\"#690100\",\"#6b0100\",\"#6d0100\",\"#6e0100\",\"#700100\",\"#710100\",\"#730100\",\"#750100\",\"#760100\",\"#780200\",\"#7a0200\",\"#7b0200\",\"#7d0200\",\"#7f0200\",\"#800200\",\"#820200\",\"#840200\",\"#850200\",\"#870200\",\"#890200\",\"#8a0200\",\"#8c0300\",\"#8e0300\",\"#900300\",\"#910300\",\"#930300\",\"#950300\",\"#960300\",\"#980300\",\"#9a0300\",\"#9c0300\",\"#9d0400\",\"#9f0400\",\"#a10400\",\"#a20400\",\"#a40400\",\"#a60400\",\"#a80400\",\"#a90400\",\"#ab0500\",\"#ad0500\",\"#af0500\",\"#b00500\",\"#b20500\",\"#b40500\",\"#b60600\",\"#b80600\",\"#b90600\",\"#bb0600\",\"#bd0600\",\"#bf0700\",\"#c00700\",\"#c20700\",\"#c40700\",\"#c60800\",\"#c80800\",\"#c90800\",\"#cb0800\",\"#cd0900\",\"#cf0900\",\"#d10900\",\"#d20a00\",\"#d40a00\",\"#d60a00\",\"#d80b00\",\"#da0b00\",\"#db0c00\",\"#dd0c00\",\"#df0d00\",\"#e10d00\",\"#e30e00\",\"#e40f00\",\"#e60f00\",\"#e81000\",\"#ea1100\",\"#eb1300\",\"#ed1400\",\"#ee1600\",\"#f01800\",\"#f11b00\",\"#f21d00\",\"#f32000\",\"#f52300\",\"#f62600\",\"#f62900\",\"#f72c00\",\"#f82f00\",\"#f93200\",\"#f93500\",\"#fa3800\",\"#fa3b00\",\"#fb3d00\",\"#fb4000\",\"#fb4300\",\"#fc4600\",\"#fc4900\",\"#fc4b00\",\"#fd4e00\",\"#fd5100\",\"#fd5300\",\"#fd5600\",\"#fd5800\",\"#fe5b00\",\"#fe5d00\",\"#fe5f00\",\"#fe6200\",\"#fe6400\",\"#fe6600\",\"#fe6800\",\"#fe6b00\",\"#fe6d00\",\"#fe6f00\",\"#fe7100\",\"#fe7300\",\"#fe7500\",\"#fe7700\",\"#fe7900\",\"#fe7c00\",\"#ff7e00\",\"#ff8000\",\"#ff8200\",\"#ff8300\",\"#ff8500\",\"#ff8700\",\"#ff8900\",\"#ff8b00\",\"#ff8d00\",\"#ff8f00\",\"#ff9100\",\"#ff9300\",\"#ff9400\",\"#ff9600\",\"#ff9800\",\"#ff9a00\",\"#ff9c00\",\"#ff9d00\",\"#ff9f00\",\"#ffa100\",\"#ffa300\",\"#ffa401\",\"#ffa601\",\"#ffa801\",\"#ffaa01\",\"#ffab01\",\"#ffad01\",\"#ffaf01\",\"#ffb001\",\"#ffb202\",\"#ffb402\",\"#ffb502\",\"#ffb702\",\"#ffb902\",\"#ffba02\",\"#ffbc03\",\"#ffbd03\",\"#ffbf03\",\"#ffc103\",\"#ffc204\",\"#ffc404\",\"#ffc604\",\"#ffc704\",\"#ffc905\",\"#ffca05\",\"#ffcc05\",\"#ffce06\",\"#ffcf06\",\"#ffd106\",\"#ffd207\",\"#ffd407\",\"#ffd508\",\"#ffd708\",\"#ffd909\",\"#ffda09\",\"#ffdc0a\",\"#ffdd0a\",\"#ffdf0b\",\"#ffe00b\",\"#ffe20c\",\"#ffe30d\",\"#ffe50e\",\"#ffe60f\",\"#ffe810\",\"#ffea11\",\"#ffeb12\",\"#ffed14\",\"#ffee17\",\"#fff01a\",\"#fff11e\",\"#fff324\",\"#fff42a\",\"#fff532\",\"#fff73b\",\"#fff847\",\"#fff953\",\"#fffb62\",\"#fffb72\",\"#fffc83\",\"#fffd95\",\"#fffea8\",\"#fffeba\",\"#fffecc\",\"#fffede\",\"#fffeee\",\"#ffffff\"]},\"id\":\"1640\",\"type\":\"LinearColorMapper\"},{\"attributes\":{\"callback\":null,\"data\":{\"dh\":[1.200000000000017],\"dw\":[1.200000000000017],\"image\":[{\"__ndarray__\":\"NI6Qx0RamT9wuOkv+mCZP7vtrQTQX5k/FJhU9s5emT/okUER52KZP3ZF3WdwYZk/0AN8exJjmT8WDKWVqmOZP3PsjJeuYpk//qL0yZZbmT/G8Mf5mlWZP5Rh4F2ETZk/BK7K8hFfmT8AUie2sGGZP7IDlWcUZJk/0vAFSLhkmT/A4um/bWmZP1aHunn4apk/BJRkH6xwmT84fUSeoG6ZPxm1itXzaZk/T1MvTVpmmT/uGyCSymCZPwpwhbLlXJk/dXgHboNnmT/IgWdZG2uZP1KYoyppc5k/OfYzOelymT/GNS6oNnKZP9YNjyXjc5k/V4/NcFdxmT9OPTnItW6ZP5DBGHinapk/thlqZv5omT+8sdHeUGaZP/5IjaPGYZk/4i5eNwBymT9o1w6ak3WZP6dWUJnVe5k/AK8Dh9t5mT9X/xD1MnqZP6pgv4iFfJk/x0AKcb58mT/PKWywgHqZP6+wpC5Sd5k/EgMo0pR0mT+AsVvsI3CZP/wS/V3SZpk/dgpddbtxmT+HgCCtfXWZP9b8Pu4rd5k/9dvXofx7mT/8Kz23bHiZPzDuuBaFfZk/9Cb8+t99mT+cOX31wHqZP/6c4Xiqepk/fl9op4l0mT9mHAdIrG2ZPwo6w9unZ5k/zIrVy+lzmT9fdp0Or3iZP1ZfgrSTe5k/YtoZFxx8mT9AKasUhX2ZP8gshZHke5k/+mZRiQl7mT9V+tYeyHuZP4i+2AivdZk/ZtTOCO9xmT9UVb859W6ZP3jN2fvcZ5k/75ZX+rlxmT+C9AF8n3iZP/7Mgpcrepk/kG3GxJh8mT/4l9BLWYGZP+5gGeF2fJk/fzIvTLZ7mT/TBzyMlHyZPw4auQAke5k/ToSfUDp3mT8ERs2pW3CZP8qEuZOBb5k/ihpLSQ52mT/ybobBwXmZP64KWgJ0e5k/8Elx5Dh+mT//zwaDt36ZPwJDOie5gJk/efnWLjl+mT9J3hBmXnmZP0V/9qqCdZk/syJWQUt0mT9aq1KMtHGZPxj4JYMsapk/d7LD/R5tmT+WqrIVrXaZP8k1Ubq5e5k/MPqN6+97mT9MuwcWqX6ZP8gl1o89epk/cUFz4pZ8mT+8eM5icXqZPxCLJlS1d5k/boCgJ/RymT9COAQ52m2ZP75lwMo8Zpk/3AX1SyBwmT9JGb4+PHKZP0ICsej9dZk/+VbnG3h4mT/yb4yyy3mZPwfvpXhzepk/bAhOo8t7mT/ycHTSinaZPwT88yDvdJk/VnBil0lwmT+MAP0xNm2ZP47MZzbqYpk/vCtsRrBvmT/6mOeJfXKZP4LahqUcdpk/rGL0kSJ3mT/iKwaU3XiZPyBuvWsrd5k/rqKtGYZ0mT/+Hg0T53SZP53rywFWdJk/5u5/KPRwmT8IL/ZMS2uZP7bc+J17aZk/2ho3tapqmT+wZ4nbXWuZPxi9DLwNcZk/LJWE1zxzmT/4ebsrIHGZP6q4pMDRcZk//DDvgZNwmT+Q/pEbiW+ZP9QnW0jkbpk/6jdateFomT/annB7JmOZP5CiOX18Xpk/\",\"dtype\":\"float64\",\"shape\":[12,12]}],\"x\":[21.15],\"y\":[25.849999999999998]},\"selected\":{\"id\":\"1642\",\"type\":\"Selection\"},\"selection_policy\":{\"id\":\"1662\",\"type\":\"UnionRenderers\"}},\"id\":\"1641\",\"type\":\"ColumnDataSource\"},{\"attributes\":{\"bottom_units\":\"screen\",\"fill_alpha\":{\"value\":0.5},\"fill_color\":{\"value\":\"lightgrey\"},\"left_units\":\"screen\",\"level\":\"overlay\",\"line_alpha\":{\"value\":1.0},\"line_color\":{\"value\":\"black\"},\"line_dash\":[4,4],\"line_width\":{\"value\":2},\"render_mode\":\"css\",\"right_units\":\"screen\",\"top_units\":\"screen\"},\"id\":\"1661\",\"type\":\"BoxAnnotation\"},{\"attributes\":{\"data_source\":{\"id\":\"1641\",\"type\":\"ColumnDataSource\"},\"glyph\":{\"id\":\"1644\",\"type\":\"Image\"},\"hover_glyph\":null,\"muted_glyph\":null,\"nonselection_glyph\":{\"id\":\"1645\",\"type\":\"Image\"},\"selection_glyph\":null,\"view\":{\"id\":\"1647\",\"type\":\"CDSView\"}},\"id\":\"1646\",\"type\":\"GlyphRenderer\"},{\"attributes\":{\"source\":{\"id\":\"1641\",\"type\":\"ColumnDataSource\"}},\"id\":\"1647\",\"type\":\"CDSView\"},{\"attributes\":{\"text\":\"\",\"text_color\":{\"value\":\"black\"},\"text_font_size\":{\"value\":\"12pt\"}},\"id\":\"1610\",\"type\":\"Title\"},{\"attributes\":{},\"id\":\"1662\",\"type\":\"UnionRenderers\"},{\"attributes\":{},\"id\":\"1614\",\"type\":\"LinearScale\"},{\"attributes\":{},\"id\":\"1616\",\"type\":\"LinearScale\"},{\"attributes\":{\"axis_label\":\"Ypos\",\"bounds\":\"auto\",\"formatter\":{\"id\":\"1652\",\"type\":\"BasicTickFormatter\"},\"major_label_orientation\":\"horizontal\",\"ticker\":{\"id\":\"1619\",\"type\":\"BasicTicker\"}},\"id\":\"1618\",\"type\":\"LinearAxis\"},{\"attributes\":{},\"id\":\"1654\",\"type\":\"BasicTickFormatter\"},{\"attributes\":{\"active_drag\":\"auto\",\"active_inspect\":\"auto\",\"active_multi\":null,\"active_scroll\":\"auto\",\"active_tap\":\"auto\",\"tools\":[{\"id\":\"1608\",\"type\":\"HoverTool\"},{\"id\":\"1628\",\"type\":\"SaveTool\"},{\"id\":\"1629\",\"type\":\"PanTool\"},{\"id\":\"1630\",\"type\":\"WheelZoomTool\"},{\"id\":\"1631\",\"type\":\"BoxZoomTool\"},{\"id\":\"1632\",\"type\":\"ResetTool\"}]},\"id\":\"1633\",\"type\":\"Toolbar\"},{\"attributes\":{},\"id\":\"1619\",\"type\":\"BasicTicker\"},{\"attributes\":{},\"id\":\"1648\",\"type\":\"BasicTicker\"},{\"attributes\":{\"grid_line_color\":null,\"ticker\":{\"id\":\"1619\",\"type\":\"BasicTicker\"}},\"id\":\"1622\",\"type\":\"Grid\"},{\"attributes\":{\"axis_label\":\"Xpos\",\"bounds\":\"auto\",\"formatter\":{\"id\":\"1654\",\"type\":\"BasicTickFormatter\"},\"major_label_orientation\":\"horizontal\",\"ticker\":{\"id\":\"1624\",\"type\":\"BasicTicker\"}},\"id\":\"1623\",\"type\":\"LinearAxis\"},{\"attributes\":{},\"id\":\"1624\",\"type\":\"BasicTicker\"},{\"attributes\":{\"bar_line_color\":{\"value\":\"black\"},\"color_mapper\":{\"id\":\"1640\",\"type\":\"LinearColorMapper\"},\"formatter\":{\"id\":\"1656\",\"type\":\"BasicTickFormatter\"},\"label_standoff\":8,\"location\":[0,0],\"major_tick_line_color\":{\"value\":\"black\"},\"ticker\":{\"id\":\"1648\",\"type\":\"BasicTicker\"}},\"id\":\"1649\",\"type\":\"ColorBar\"},{\"attributes\":{},\"id\":\"1642\",\"type\":\"Selection\"},{\"attributes\":{\"dimension\":1,\"grid_line_color\":null,\"ticker\":{\"id\":\"1624\",\"type\":\"BasicTicker\"}},\"id\":\"1627\",\"type\":\"Grid\"},{\"attributes\":{\"overlay\":{\"id\":\"1661\",\"type\":\"BoxAnnotation\"}},\"id\":\"1631\",\"type\":\"BoxZoomTool\"},{\"attributes\":{},\"id\":\"1652\",\"type\":\"BasicTickFormatter\"},{\"attributes\":{},\"id\":\"1632\",\"type\":\"ResetTool\"},{\"attributes\":{\"callback\":null,\"end\":22.350000000000016,\"reset_end\":22.350000000000016,\"reset_start\":21.15,\"start\":21.15,\"tags\":[[[\"Ypos\",\"Ypos\",null]]]},\"id\":\"1606\",\"type\":\"Range1d\"},{\"attributes\":{},\"id\":\"1656\",\"type\":\"BasicTickFormatter\"},{\"attributes\":{\"callback\":null,\"end\":27.050000000000015,\"reset_end\":27.050000000000015,\"reset_start\":25.849999999999998,\"start\":25.849999999999998,\"tags\":[[[\"Xpos\",\"Xpos\",null]]]},\"id\":\"1607\",\"type\":\"Range1d\"},{\"attributes\":{},\"id\":\"1630\",\"type\":\"WheelZoomTool\"},{\"attributes\":{\"callback\":null,\"renderers\":[{\"id\":\"1646\",\"type\":\"GlyphRenderer\"}],\"tags\":[\"hv_created\"],\"tooltips\":[[\"Ypos\",\"$x\"],[\"Xpos\",\"$y\"],[\"value\",\"@image\"]]},\"id\":\"1608\",\"type\":\"HoverTool\"},{\"attributes\":{},\"id\":\"1628\",\"type\":\"SaveTool\"},{\"attributes\":{},\"id\":\"1629\",\"type\":\"PanTool\"},{\"attributes\":{\"color_mapper\":{\"id\":\"1640\",\"type\":\"LinearColorMapper\"},\"dh\":{\"field\":\"dh\",\"units\":\"data\"},\"dw\":{\"field\":\"dw\",\"units\":\"data\"},\"image\":{\"field\":\"image\"},\"x\":{\"field\":\"x\"},\"y\":{\"field\":\"y\"}},\"id\":\"1645\",\"type\":\"Image\"}],\"root_ids\":[\"1609\"]},\"title\":\"Bokeh Application\",\"version\":\"1.2.0\"}};\n",
       "  var render_items = [{\"docid\":\"8871d166-b698-4e0d-9b3a-9c0a4d76f6d7\",\"roots\":{\"1609\":\"4246e311-e3ce-4017-abae-9290919e71c0\"}}];\n",
       "  root.Bokeh.embed.embed_items_notebook(docs_json, render_items);\n",
       "\n",
       "  }\n",
       "  if (root.Bokeh !== undefined) {\n",
       "    embed_document(root);\n",
       "  } else {\n",
       "    var attempts = 0;\n",
       "    var timer = setInterval(function(root) {\n",
       "      if (root.Bokeh !== undefined) {\n",
       "        embed_document(root);\n",
       "        clearInterval(timer);\n",
       "      }\n",
       "      attempts++;\n",
       "      if (attempts > 100) {\n",
       "        console.log(\"Bokeh: ERROR: Unable to run BokehJS code because BokehJS library is missing\");\n",
       "        clearInterval(timer);\n",
       "      }\n",
       "    }, 10, root)\n",
       "  }\n",
       "})(window);</script>"
      ],
      "text/plain": [
       ":Image   [Ypos,Xpos]   (value)"
      ]
     },
     "execution_count": 17,
     "metadata": {
      "application/vnd.holoviews_exec.v0+json": {
       "id": "1609"
      }
     },
     "output_type": "execute_result"
    }
   ],
   "source": [
    "combined_inplane.hvplot()"
   ]
  },
  {
   "cell_type": "code",
   "execution_count": 18,
   "metadata": {},
   "outputs": [
    {
     "data": {
      "text/plain": [
       "<xarray.DataArray (Xpos: 1, Ypos: 1)>\n",
       "array([[0.024907]])\n",
       "Coordinates:\n",
       "  * Xpos     (Xpos) float64 26.5\n",
       "  * Ypos     (Ypos) float64 21.6"
      ]
     },
     "execution_count": 18,
     "metadata": {},
     "output_type": "execute_result"
    }
   ],
   "source": [
    "combined_inplane.where(combined_inplane == combined_inplane.max(), drop=True)"
   ]
  },
  {
   "cell_type": "markdown",
   "metadata": {},
   "source": [
    "### Centres: z field (26.4, 21.7), y field (26.5, 21.6) avg (27.45, 21.65)"
   ]
  },
  {
   "cell_type": "code",
   "execution_count": 19,
   "metadata": {},
   "outputs": [],
   "source": [
    "zfield_x, zfield_y = 26.4, 21.7\n",
    "yfield_x, yfield_y = 26.5, 21.6"
   ]
  },
  {
   "cell_type": "code",
   "execution_count": 20,
   "metadata": {},
   "outputs": [],
   "source": [
    "phi0_phi = np.arctan2(phi0_ds.Xfield_avg, phi0_ds.Yfield_avg)\n",
    "phi90_phi = np.arctan2(phi90_ds.Yfield_avg, phi90_ds.Xfield_avg)\n",
    "theta0_phi = np.arctan2(np.sqrt(phi0_ds.Xfield_avg**2 + phi0_ds.Yfield_avg**2), phi0_ds.Zfield_avg)\n",
    "theta90_phi = np.arctan2(np.sqrt(phi90_ds.Xfield_avg**2 + phi90_ds.Yfield_avg**2), phi90_ds.Zfield_avg)"
   ]
  },
  {
   "cell_type": "markdown",
   "metadata": {},
   "source": [
    "### Z field min"
   ]
  },
  {
   "cell_type": "code",
   "execution_count": 21,
   "metadata": {},
   "outputs": [
    {
     "name": "stdout",
     "output_type": "stream",
     "text": [
      "phi0 : phi = -0.96\n",
      "phi90 : phi = 0.99\n",
      "phi0 : theta = 90.18\n",
      "phi90 : theta = 89.65\n"
     ]
    }
   ],
   "source": [
    "print('phi0 : phi = %1.2f' % (phi0_phi.sel(Xpos=zfield_x, Ypos=zfield_y, method='backfill').values*180/np.pi))\n",
    "print('phi90 : phi = %1.2f' % (phi90_phi.sel(Xpos=zfield_x, Ypos=zfield_y, method='backfill').values*180/np.pi))\n",
    "print('phi0 : theta = %1.2f' % (theta0_phi.sel(Xpos=zfield_x, Ypos=zfield_y, method='backfill').values*180/np.pi))\n",
    "print('phi90 : theta = %1.2f' % (theta90_phi.sel(Xpos=zfield_x, Ypos=zfield_y, method='backfill').values*180/np.pi))"
   ]
  },
  {
   "cell_type": "markdown",
   "metadata": {},
   "source": [
    "### Y field max"
   ]
  },
  {
   "cell_type": "code",
   "execution_count": 22,
   "metadata": {},
   "outputs": [
    {
     "name": "stdout",
     "output_type": "stream",
     "text": [
      "phi0 : phi = -0.93\n",
      "phi90 : phi = 0.99\n",
      "phi0 : theta = 89.43\n",
      "phi90 : theta = 88.87\n"
     ]
    }
   ],
   "source": [
    "print('phi0 : phi = %1.2f' % (phi0_phi.sel(Xpos=yfield_x, Ypos=yfield_y, method='backfill').values*180/np.pi))\n",
    "print('phi90 : phi = %1.2f' % (phi90_phi.sel(Xpos=yfield_x, Ypos=yfield_y, method='backfill').values*180/np.pi))\n",
    "print('phi0 : theta = %1.2f' % (theta0_phi.sel(Xpos=yfield_x, Ypos=yfield_y, method='backfill').values*180/np.pi))\n",
    "print('phi90 : theta = %1.2f' % (theta90_phi.sel(Xpos=yfield_x, Ypos=yfield_y, method='backfill').values*180/np.pi))"
   ]
  },
  {
   "cell_type": "markdown",
   "metadata": {},
   "source": [
    "### Off by about 1$^\\circ$ in both directions\n",
    "Try again with smaller steps"
   ]
  },
  {
   "cell_type": "code",
   "execution_count": 42,
   "metadata": {},
   "outputs": [],
   "source": [
    "x_start, x_end, x_step = 26.099, 26.7, 0.05\n",
    "y_start, y_end, y_step = 21.4, 22, 0.05\n",
    "x_pts = np.arange(x_start, x_end+x_step, x_step)\n",
    "y_pts = np.arange(y_start, y_end+y_step, y_step)"
   ]
  },
  {
   "cell_type": "code",
   "execution_count": 43,
   "metadata": {},
   "outputs": [],
   "source": [
    "phi0 = pd.read_csv('./2019-06-04/shims_rough_fieldRaster_2019-06-04_1.csv', comment='#')\n",
    "phi90 = pd.read_csv('./2019-06-04/shims_rough_fieldRaster_2019-06-04_2.csv', comment='#')"
   ]
  },
  {
   "cell_type": "code",
   "execution_count": 44,
   "metadata": {},
   "outputs": [],
   "source": [
    "#Data variables dict\n",
    "phi0_data_vars = {}\n",
    "phi90_data_vars = {}\n",
    "\n",
    "#Add (dims, data) tuple for each variable column to dict\n",
    "for var in phi0.columns[:]:\n",
    "    dims = [\"Xpos\", \"Ypos\"]\n",
    "    data0 = phi0[var].values.reshape(x_pts.size, y_pts.size)\n",
    "    phi0_data_vars[var] = (dims, data0)\n",
    "    \n",
    "for var in phi90.columns[:]:\n",
    "    dims = [\"Xpos\", \"Ypos\"]\n",
    "    data90 = phi90[var].values.reshape(x_pts.size, y_pts.size)\n",
    "    phi90_data_vars[var] = (dims, data90)\n",
    "    \n",
    "coords = {\"Xpos\":('Xpos', x_pts), \"Ypos\":('Ypos', y_pts)}\n",
    "phi0_ds = xr.Dataset(phi0_data_vars, coords)\n",
    "phi90_ds = xr.Dataset(phi90_data_vars, coords)"
   ]
  },
  {
   "cell_type": "code",
   "execution_count": 45,
   "metadata": {},
   "outputs": [
    {
     "data": {
      "application/vnd.holoviews_exec.v0+json": "",
      "text/html": [
       "<div id='2456' style='display: table; margin: 0 auto;'>\n",
       "\n",
       "\n",
       "\n",
       "\n",
       "\n",
       "  <div class=\"bk-root\" id=\"5538bc96-3347-42a8-81b2-93dd5ebc1d89\" data-root-id=\"2456\"></div>\n",
       "</div>\n",
       "<script type=\"application/javascript\">(function(root) {\n",
       "  function embed_document(root) {\n",
       "    \n",
       "  var docs_json = {\"901ef40d-9328-4c1b-bc99-96d2fb90f8f1\":{\"roots\":{\"references\":[{\"attributes\":{\"below\":[{\"id\":\"2465\",\"type\":\"LinearAxis\"}],\"center\":[{\"id\":\"2469\",\"type\":\"Grid\"},{\"id\":\"2474\",\"type\":\"Grid\"}],\"left\":[{\"id\":\"2470\",\"type\":\"LinearAxis\"}],\"margin\":null,\"min_border_bottom\":10,\"min_border_left\":10,\"min_border_right\":10,\"min_border_top\":10,\"plot_height\":300,\"plot_width\":700,\"renderers\":[{\"id\":\"2493\",\"type\":\"GlyphRenderer\"}],\"right\":[{\"id\":\"2496\",\"type\":\"ColorBar\"}],\"sizing_mode\":\"fixed\",\"title\":{\"id\":\"2457\",\"type\":\"Title\"},\"toolbar\":{\"id\":\"2480\",\"type\":\"Toolbar\"},\"x_range\":{\"id\":\"2453\",\"type\":\"Range1d\"},\"x_scale\":{\"id\":\"2461\",\"type\":\"LinearScale\"},\"y_range\":{\"id\":\"2454\",\"type\":\"Range1d\"},\"y_scale\":{\"id\":\"2463\",\"type\":\"LinearScale\"}},\"id\":\"2456\",\"subtype\":\"Figure\",\"type\":\"Plot\"},{\"attributes\":{},\"id\":\"2477\",\"type\":\"WheelZoomTool\"},{\"attributes\":{\"overlay\":{\"id\":\"2508\",\"type\":\"BoxAnnotation\"}},\"id\":\"2478\",\"type\":\"BoxZoomTool\"},{\"attributes\":{},\"id\":\"2499\",\"type\":\"BasicTickFormatter\"},{\"attributes\":{},\"id\":\"2479\",\"type\":\"ResetTool\"},{\"attributes\":{\"active_drag\":\"auto\",\"active_inspect\":\"auto\",\"active_multi\":null,\"active_scroll\":\"auto\",\"active_tap\":\"auto\",\"tools\":[{\"id\":\"2455\",\"type\":\"HoverTool\"},{\"id\":\"2475\",\"type\":\"SaveTool\"},{\"id\":\"2476\",\"type\":\"PanTool\"},{\"id\":\"2477\",\"type\":\"WheelZoomTool\"},{\"id\":\"2478\",\"type\":\"BoxZoomTool\"},{\"id\":\"2479\",\"type\":\"ResetTool\"}]},\"id\":\"2480\",\"type\":\"Toolbar\"},{\"attributes\":{\"callback\":null,\"renderers\":[{\"id\":\"2493\",\"type\":\"GlyphRenderer\"}],\"tags\":[\"hv_created\"],\"tooltips\":[[\"Ypos\",\"$x\"],[\"Xpos\",\"$y\"],[\"Zfield_avg\",\"@image\"]]},\"id\":\"2455\",\"type\":\"HoverTool\"},{\"attributes\":{\"text\":\"\",\"text_color\":{\"value\":\"black\"},\"text_font_size\":{\"value\":\"12pt\"}},\"id\":\"2457\",\"type\":\"Title\"},{\"attributes\":{\"color_mapper\":{\"id\":\"2487\",\"type\":\"LinearColorMapper\"},\"dh\":{\"field\":\"dh\",\"units\":\"data\"},\"dw\":{\"field\":\"dw\",\"units\":\"data\"},\"image\":{\"field\":\"image\"},\"x\":{\"field\":\"x\"},\"y\":{\"field\":\"y\"}},\"id\":\"2491\",\"type\":\"Image\"},{\"attributes\":{},\"id\":\"2463\",\"type\":\"LinearScale\"},{\"attributes\":{\"callback\":null,\"end\":26.774000000000008,\"reset_end\":26.774000000000008,\"reset_start\":26.073999999999998,\"start\":26.073999999999998,\"tags\":[[[\"Xpos\",\"Xpos\",null]]]},\"id\":\"2454\",\"type\":\"Range1d\"},{\"attributes\":{\"callback\":null,\"data\":{\"dh\":[0.70000000000001],\"dw\":[0.70000000000001],\"image\":[{\"__ndarray__\":\"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\",\"dtype\":\"float64\",\"shape\":[14,14]}],\"x\":[21.375],\"y\":[26.073999999999998]},\"selected\":{\"id\":\"2489\",\"type\":\"Selection\"},\"selection_policy\":{\"id\":\"2509\",\"type\":\"UnionRenderers\"}},\"id\":\"2488\",\"type\":\"ColumnDataSource\"},{\"attributes\":{\"axis_label\":\"Ypos\",\"bounds\":\"auto\",\"formatter\":{\"id\":\"2499\",\"type\":\"BasicTickFormatter\"},\"major_label_orientation\":\"horizontal\",\"ticker\":{\"id\":\"2466\",\"type\":\"BasicTicker\"}},\"id\":\"2465\",\"type\":\"LinearAxis\"},{\"attributes\":{\"bottom_units\":\"screen\",\"fill_alpha\":{\"value\":0.5},\"fill_color\":{\"value\":\"lightgrey\"},\"left_units\":\"screen\",\"level\":\"overlay\",\"line_alpha\":{\"value\":1.0},\"line_color\":{\"value\":\"black\"},\"line_dash\":[4,4],\"line_width\":{\"value\":2},\"render_mode\":\"css\",\"right_units\":\"screen\",\"top_units\":\"screen\"},\"id\":\"2508\",\"type\":\"BoxAnnotation\"},{\"attributes\":{\"source\":{\"id\":\"2488\",\"type\":\"ColumnDataSource\"}},\"id\":\"2494\",\"type\":\"CDSView\"},{\"attributes\":{},\"id\":\"2466\",\"type\":\"BasicTicker\"},{\"attributes\":{},\"id\":\"2461\",\"type\":\"LinearScale\"},{\"attributes\":{},\"id\":\"2509\",\"type\":\"UnionRenderers\"},{\"attributes\":{},\"id\":\"2489\",\"type\":\"Selection\"},{\"attributes\":{\"data_source\":{\"id\":\"2488\",\"type\":\"ColumnDataSource\"},\"glyph\":{\"id\":\"2491\",\"type\":\"Image\"},\"hover_glyph\":null,\"muted_glyph\":null,\"nonselection_glyph\":{\"id\":\"2492\",\"type\":\"Image\"},\"selection_glyph\":null,\"view\":{\"id\":\"2494\",\"type\":\"CDSView\"}},\"id\":\"2493\",\"type\":\"GlyphRenderer\"},{\"attributes\":{\"grid_line_color\":null,\"ticker\":{\"id\":\"2466\",\"type\":\"BasicTicker\"}},\"id\":\"2469\",\"type\":\"Grid\"},{\"attributes\":{\"high\":0.004924235026041667,\"low\":-0.004836669921874999,\"nan_color\":\"rgba(0, 0, 0, 0)\",\"palette\":[\"#000000\",\"#060000\",\"#0d0000\",\"#120000\",\"#160000\",\"#190000\",\"#1c0000\",\"#1f0000\",\"#220000\",\"#240000\",\"#260000\",\"#280000\",\"#2b0000\",\"#2d0000\",\"#2e0000\",\"#300000\",\"#320000\",\"#340000\",\"#350000\",\"#370000\",\"#380000\",\"#3a0000\",\"#3b0000\",\"#3d0000\",\"#3e0000\",\"#400000\",\"#410000\",\"#430000\",\"#440000\",\"#460000\",\"#470000\",\"#490000\",\"#4a0000\",\"#4c0000\",\"#4d0000\",\"#4f0000\",\"#500000\",\"#520000\",\"#530000\",\"#550000\",\"#560000\",\"#580000\",\"#590100\",\"#5b0100\",\"#5d0100\",\"#5e0100\",\"#600100\",\"#610100\",\"#630100\",\"#650100\",\"#660100\",\"#680100\",\"#690100\",\"#6b0100\",\"#6d0100\",\"#6e0100\",\"#700100\",\"#710100\",\"#730100\",\"#750100\",\"#760100\",\"#780200\",\"#7a0200\",\"#7b0200\",\"#7d0200\",\"#7f0200\",\"#800200\",\"#820200\",\"#840200\",\"#850200\",\"#870200\",\"#890200\",\"#8a0200\",\"#8c0300\",\"#8e0300\",\"#900300\",\"#910300\",\"#930300\",\"#950300\",\"#960300\",\"#980300\",\"#9a0300\",\"#9c0300\",\"#9d0400\",\"#9f0400\",\"#a10400\",\"#a20400\",\"#a40400\",\"#a60400\",\"#a80400\",\"#a90400\",\"#ab0500\",\"#ad0500\",\"#af0500\",\"#b00500\",\"#b20500\",\"#b40500\",\"#b60600\",\"#b80600\",\"#b90600\",\"#bb0600\",\"#bd0600\",\"#bf0700\",\"#c00700\",\"#c20700\",\"#c40700\",\"#c60800\",\"#c80800\",\"#c90800\",\"#cb0800\",\"#cd0900\",\"#cf0900\",\"#d10900\",\"#d20a00\",\"#d40a00\",\"#d60a00\",\"#d80b00\",\"#da0b00\",\"#db0c00\",\"#dd0c00\",\"#df0d00\",\"#e10d00\",\"#e30e00\",\"#e40f00\",\"#e60f00\",\"#e81000\",\"#ea1100\",\"#eb1300\",\"#ed1400\",\"#ee1600\",\"#f01800\",\"#f11b00\",\"#f21d00\",\"#f32000\",\"#f52300\",\"#f62600\",\"#f62900\",\"#f72c00\",\"#f82f00\",\"#f93200\",\"#f93500\",\"#fa3800\",\"#fa3b00\",\"#fb3d00\",\"#fb4000\",\"#fb4300\",\"#fc4600\",\"#fc4900\",\"#fc4b00\",\"#fd4e00\",\"#fd5100\",\"#fd5300\",\"#fd5600\",\"#fd5800\",\"#fe5b00\",\"#fe5d00\",\"#fe5f00\",\"#fe6200\",\"#fe6400\",\"#fe6600\",\"#fe6800\",\"#fe6b00\",\"#fe6d00\",\"#fe6f00\",\"#fe7100\",\"#fe7300\",\"#fe7500\",\"#fe7700\",\"#fe7900\",\"#fe7c00\",\"#ff7e00\",\"#ff8000\",\"#ff8200\",\"#ff8300\",\"#ff8500\",\"#ff8700\",\"#ff8900\",\"#ff8b00\",\"#ff8d00\",\"#ff8f00\",\"#ff9100\",\"#ff9300\",\"#ff9400\",\"#ff9600\",\"#ff9800\",\"#ff9a00\",\"#ff9c00\",\"#ff9d00\",\"#ff9f00\",\"#ffa100\",\"#ffa300\",\"#ffa401\",\"#ffa601\",\"#ffa801\",\"#ffaa01\",\"#ffab01\",\"#ffad01\",\"#ffaf01\",\"#ffb001\",\"#ffb202\",\"#ffb402\",\"#ffb502\",\"#ffb702\",\"#ffb902\",\"#ffba02\",\"#ffbc03\",\"#ffbd03\",\"#ffbf03\",\"#ffc103\",\"#ffc204\",\"#ffc404\",\"#ffc604\",\"#ffc704\",\"#ffc905\",\"#ffca05\",\"#ffcc05\",\"#ffce06\",\"#ffcf06\",\"#ffd106\",\"#ffd207\",\"#ffd407\",\"#ffd508\",\"#ffd708\",\"#ffd909\",\"#ffda09\",\"#ffdc0a\",\"#ffdd0a\",\"#ffdf0b\",\"#ffe00b\",\"#ffe20c\",\"#ffe30d\",\"#ffe50e\",\"#ffe60f\",\"#ffe810\",\"#ffea11\",\"#ffeb12\",\"#ffed14\",\"#ffee17\",\"#fff01a\",\"#fff11e\",\"#fff324\",\"#fff42a\",\"#fff532\",\"#fff73b\",\"#fff847\",\"#fff953\",\"#fffb62\",\"#fffb72\",\"#fffc83\",\"#fffd95\",\"#fffea8\",\"#fffeba\",\"#fffecc\",\"#fffede\",\"#fffeee\",\"#ffffff\"]},\"id\":\"2487\",\"type\":\"LinearColorMapper\"},{\"attributes\":{\"axis_label\":\"Xpos\",\"bounds\":\"auto\",\"formatter\":{\"id\":\"2501\",\"type\":\"BasicTickFormatter\"},\"major_label_orientation\":\"horizontal\",\"ticker\":{\"id\":\"2471\",\"type\":\"BasicTicker\"}},\"id\":\"2470\",\"type\":\"LinearAxis\"},{\"attributes\":{},\"id\":\"2501\",\"type\":\"BasicTickFormatter\"},{\"attributes\":{},\"id\":\"2503\",\"type\":\"BasicTickFormatter\"},{\"attributes\":{},\"id\":\"2471\",\"type\":\"BasicTicker\"},{\"attributes\":{},\"id\":\"2495\",\"type\":\"BasicTicker\"},{\"attributes\":{\"dimension\":1,\"grid_line_color\":null,\"ticker\":{\"id\":\"2471\",\"type\":\"BasicTicker\"}},\"id\":\"2474\",\"type\":\"Grid\"},{\"attributes\":{\"bar_line_color\":{\"value\":\"black\"},\"color_mapper\":{\"id\":\"2487\",\"type\":\"LinearColorMapper\"},\"formatter\":{\"id\":\"2503\",\"type\":\"BasicTickFormatter\"},\"label_standoff\":8,\"location\":[0,0],\"major_tick_line_color\":{\"value\":\"black\"},\"ticker\":{\"id\":\"2495\",\"type\":\"BasicTicker\"}},\"id\":\"2496\",\"type\":\"ColorBar\"},{\"attributes\":{\"color_mapper\":{\"id\":\"2487\",\"type\":\"LinearColorMapper\"},\"dh\":{\"field\":\"dh\",\"units\":\"data\"},\"dw\":{\"field\":\"dw\",\"units\":\"data\"},\"image\":{\"field\":\"image\"},\"x\":{\"field\":\"x\"},\"y\":{\"field\":\"y\"}},\"id\":\"2492\",\"type\":\"Image\"},{\"attributes\":{},\"id\":\"2475\",\"type\":\"SaveTool\"},{\"attributes\":{},\"id\":\"2476\",\"type\":\"PanTool\"},{\"attributes\":{\"callback\":null,\"end\":22.07500000000001,\"reset_end\":22.07500000000001,\"reset_start\":21.375,\"start\":21.375,\"tags\":[[[\"Ypos\",\"Ypos\",null]]]},\"id\":\"2453\",\"type\":\"Range1d\"}],\"root_ids\":[\"2456\"]},\"title\":\"Bokeh Application\",\"version\":\"1.2.0\"}};\n",
       "  var render_items = [{\"docid\":\"901ef40d-9328-4c1b-bc99-96d2fb90f8f1\",\"roots\":{\"2456\":\"5538bc96-3347-42a8-81b2-93dd5ebc1d89\"}}];\n",
       "  root.Bokeh.embed.embed_items_notebook(docs_json, render_items);\n",
       "\n",
       "  }\n",
       "  if (root.Bokeh !== undefined) {\n",
       "    embed_document(root);\n",
       "  } else {\n",
       "    var attempts = 0;\n",
       "    var timer = setInterval(function(root) {\n",
       "      if (root.Bokeh !== undefined) {\n",
       "        embed_document(root);\n",
       "        clearInterval(timer);\n",
       "      }\n",
       "      attempts++;\n",
       "      if (attempts > 100) {\n",
       "        console.log(\"Bokeh: ERROR: Unable to run BokehJS code because BokehJS library is missing\");\n",
       "        clearInterval(timer);\n",
       "      }\n",
       "    }, 10, root)\n",
       "  }\n",
       "})(window);</script>"
      ],
      "text/plain": [
       ":Image   [Ypos,Xpos]   (Zfield_avg)"
      ]
     },
     "execution_count": 45,
     "metadata": {
      "application/vnd.holoviews_exec.v0+json": {
       "id": "2456"
      }
     },
     "output_type": "execute_result"
    }
   ],
   "source": [
    "phi0_ds.Zfield_avg.hvplot()"
   ]
  },
  {
   "cell_type": "code",
   "execution_count": 47,
   "metadata": {},
   "outputs": [
    {
     "data": {
      "application/vnd.holoviews_exec.v0+json": "",
      "text/html": [
       "<div id='2698' style='display: table; margin: 0 auto;'>\n",
       "\n",
       "\n",
       "\n",
       "\n",
       "\n",
       "  <div class=\"bk-root\" id=\"a65ae0a7-9d0d-4e6d-8999-6a192517dbb5\" data-root-id=\"2698\"></div>\n",
       "</div>\n",
       "<script type=\"application/javascript\">(function(root) {\n",
       "  function embed_document(root) {\n",
       "    \n",
       "  var docs_json = {\"ad4c724e-0f6c-4f71-8b7e-fbd85d5b5f54\":{\"roots\":{\"references\":[{\"attributes\":{\"below\":[{\"id\":\"2707\",\"type\":\"LinearAxis\"}],\"center\":[{\"id\":\"2711\",\"type\":\"Grid\"},{\"id\":\"2716\",\"type\":\"Grid\"}],\"left\":[{\"id\":\"2712\",\"type\":\"LinearAxis\"}],\"margin\":null,\"min_border_bottom\":10,\"min_border_left\":10,\"min_border_right\":10,\"min_border_top\":10,\"plot_height\":300,\"plot_width\":700,\"renderers\":[{\"id\":\"2735\",\"type\":\"GlyphRenderer\"}],\"right\":[{\"id\":\"2738\",\"type\":\"ColorBar\"}],\"sizing_mode\":\"fixed\",\"title\":{\"id\":\"2699\",\"type\":\"Title\"},\"toolbar\":{\"id\":\"2722\",\"type\":\"Toolbar\"},\"x_range\":{\"id\":\"2695\",\"type\":\"Range1d\"},\"x_scale\":{\"id\":\"2703\",\"type\":\"LinearScale\"},\"y_range\":{\"id\":\"2696\",\"type\":\"Range1d\"},\"y_scale\":{\"id\":\"2705\",\"type\":\"LinearScale\"}},\"id\":\"2698\",\"subtype\":\"Figure\",\"type\":\"Plot\"},{\"attributes\":{\"source\":{\"id\":\"2730\",\"type\":\"ColumnDataSource\"}},\"id\":\"2736\",\"type\":\"CDSView\"},{\"attributes\":{},\"id\":\"2713\",\"type\":\"BasicTicker\"},{\"attributes\":{\"dimension\":1,\"grid_line_color\":null,\"ticker\":{\"id\":\"2713\",\"type\":\"BasicTicker\"}},\"id\":\"2716\",\"type\":\"Grid\"},{\"attributes\":{\"active_drag\":\"auto\",\"active_inspect\":\"auto\",\"active_multi\":null,\"active_scroll\":\"auto\",\"active_tap\":\"auto\",\"tools\":[{\"id\":\"2697\",\"type\":\"HoverTool\"},{\"id\":\"2717\",\"type\":\"SaveTool\"},{\"id\":\"2718\",\"type\":\"PanTool\"},{\"id\":\"2719\",\"type\":\"WheelZoomTool\"},{\"id\":\"2720\",\"type\":\"BoxZoomTool\"},{\"id\":\"2721\",\"type\":\"ResetTool\"}]},\"id\":\"2722\",\"type\":\"Toolbar\"},{\"attributes\":{\"callback\":null,\"renderers\":[{\"id\":\"2735\",\"type\":\"GlyphRenderer\"}],\"tags\":[\"hv_created\"],\"tooltips\":[[\"Ypos\",\"$x\"],[\"Xpos\",\"$y\"],[\"Zfield_avg\",\"@image\"]]},\"id\":\"2697\",\"type\":\"HoverTool\"},{\"attributes\":{},\"id\":\"2708\",\"type\":\"BasicTicker\"},{\"attributes\":{\"grid_line_color\":null,\"ticker\":{\"id\":\"2708\",\"type\":\"BasicTicker\"}},\"id\":\"2711\",\"type\":\"Grid\"},{\"attributes\":{\"high\":0.005263907877604167,\"low\":-0.004479410807291667,\"nan_color\":\"rgba(0, 0, 0, 0)\",\"palette\":[\"#000000\",\"#060000\",\"#0d0000\",\"#120000\",\"#160000\",\"#190000\",\"#1c0000\",\"#1f0000\",\"#220000\",\"#240000\",\"#260000\",\"#280000\",\"#2b0000\",\"#2d0000\",\"#2e0000\",\"#300000\",\"#320000\",\"#340000\",\"#350000\",\"#370000\",\"#380000\",\"#3a0000\",\"#3b0000\",\"#3d0000\",\"#3e0000\",\"#400000\",\"#410000\",\"#430000\",\"#440000\",\"#460000\",\"#470000\",\"#490000\",\"#4a0000\",\"#4c0000\",\"#4d0000\",\"#4f0000\",\"#500000\",\"#520000\",\"#530000\",\"#550000\",\"#560000\",\"#580000\",\"#590100\",\"#5b0100\",\"#5d0100\",\"#5e0100\",\"#600100\",\"#610100\",\"#630100\",\"#650100\",\"#660100\",\"#680100\",\"#690100\",\"#6b0100\",\"#6d0100\",\"#6e0100\",\"#700100\",\"#710100\",\"#730100\",\"#750100\",\"#760100\",\"#780200\",\"#7a0200\",\"#7b0200\",\"#7d0200\",\"#7f0200\",\"#800200\",\"#820200\",\"#840200\",\"#850200\",\"#870200\",\"#890200\",\"#8a0200\",\"#8c0300\",\"#8e0300\",\"#900300\",\"#910300\",\"#930300\",\"#950300\",\"#960300\",\"#980300\",\"#9a0300\",\"#9c0300\",\"#9d0400\",\"#9f0400\",\"#a10400\",\"#a20400\",\"#a40400\",\"#a60400\",\"#a80400\",\"#a90400\",\"#ab0500\",\"#ad0500\",\"#af0500\",\"#b00500\",\"#b20500\",\"#b40500\",\"#b60600\",\"#b80600\",\"#b90600\",\"#bb0600\",\"#bd0600\",\"#bf0700\",\"#c00700\",\"#c20700\",\"#c40700\",\"#c60800\",\"#c80800\",\"#c90800\",\"#cb0800\",\"#cd0900\",\"#cf0900\",\"#d10900\",\"#d20a00\",\"#d40a00\",\"#d60a00\",\"#d80b00\",\"#da0b00\",\"#db0c00\",\"#dd0c00\",\"#df0d00\",\"#e10d00\",\"#e30e00\",\"#e40f00\",\"#e60f00\",\"#e81000\",\"#ea1100\",\"#eb1300\",\"#ed1400\",\"#ee1600\",\"#f01800\",\"#f11b00\",\"#f21d00\",\"#f32000\",\"#f52300\",\"#f62600\",\"#f62900\",\"#f72c00\",\"#f82f00\",\"#f93200\",\"#f93500\",\"#fa3800\",\"#fa3b00\",\"#fb3d00\",\"#fb4000\",\"#fb4300\",\"#fc4600\",\"#fc4900\",\"#fc4b00\",\"#fd4e00\",\"#fd5100\",\"#fd5300\",\"#fd5600\",\"#fd5800\",\"#fe5b00\",\"#fe5d00\",\"#fe5f00\",\"#fe6200\",\"#fe6400\",\"#fe6600\",\"#fe6800\",\"#fe6b00\",\"#fe6d00\",\"#fe6f00\",\"#fe7100\",\"#fe7300\",\"#fe7500\",\"#fe7700\",\"#fe7900\",\"#fe7c00\",\"#ff7e00\",\"#ff8000\",\"#ff8200\",\"#ff8300\",\"#ff8500\",\"#ff8700\",\"#ff8900\",\"#ff8b00\",\"#ff8d00\",\"#ff8f00\",\"#ff9100\",\"#ff9300\",\"#ff9400\",\"#ff9600\",\"#ff9800\",\"#ff9a00\",\"#ff9c00\",\"#ff9d00\",\"#ff9f00\",\"#ffa100\",\"#ffa300\",\"#ffa401\",\"#ffa601\",\"#ffa801\",\"#ffaa01\",\"#ffab01\",\"#ffad01\",\"#ffaf01\",\"#ffb001\",\"#ffb202\",\"#ffb402\",\"#ffb502\",\"#ffb702\",\"#ffb902\",\"#ffba02\",\"#ffbc03\",\"#ffbd03\",\"#ffbf03\",\"#ffc103\",\"#ffc204\",\"#ffc404\",\"#ffc604\",\"#ffc704\",\"#ffc905\",\"#ffca05\",\"#ffcc05\",\"#ffce06\",\"#ffcf06\",\"#ffd106\",\"#ffd207\",\"#ffd407\",\"#ffd508\",\"#ffd708\",\"#ffd909\",\"#ffda09\",\"#ffdc0a\",\"#ffdd0a\",\"#ffdf0b\",\"#ffe00b\",\"#ffe20c\",\"#ffe30d\",\"#ffe50e\",\"#ffe60f\",\"#ffe810\",\"#ffea11\",\"#ffeb12\",\"#ffed14\",\"#ffee17\",\"#fff01a\",\"#fff11e\",\"#fff324\",\"#fff42a\",\"#fff532\",\"#fff73b\",\"#fff847\",\"#fff953\",\"#fffb62\",\"#fffb72\",\"#fffc83\",\"#fffd95\",\"#fffea8\",\"#fffeba\",\"#fffecc\",\"#fffede\",\"#fffeee\",\"#ffffff\"]},\"id\":\"2729\",\"type\":\"LinearColorMapper\"},{\"attributes\":{\"axis_label\":\"Xpos\",\"bounds\":\"auto\",\"formatter\":{\"id\":\"2743\",\"type\":\"BasicTickFormatter\"},\"major_label_orientation\":\"horizontal\",\"ticker\":{\"id\":\"2713\",\"type\":\"BasicTicker\"}},\"id\":\"2712\",\"type\":\"LinearAxis\"},{\"attributes\":{},\"id\":\"2719\",\"type\":\"WheelZoomTool\"},{\"attributes\":{\"overlay\":{\"id\":\"2750\",\"type\":\"BoxAnnotation\"}},\"id\":\"2720\",\"type\":\"BoxZoomTool\"},{\"attributes\":{},\"id\":\"2731\",\"type\":\"Selection\"},{\"attributes\":{},\"id\":\"2721\",\"type\":\"ResetTool\"},{\"attributes\":{\"axis_label\":\"Ypos\",\"bounds\":\"auto\",\"formatter\":{\"id\":\"2741\",\"type\":\"BasicTickFormatter\"},\"major_label_orientation\":\"horizontal\",\"ticker\":{\"id\":\"2708\",\"type\":\"BasicTicker\"}},\"id\":\"2707\",\"type\":\"LinearAxis\"},{\"attributes\":{\"callback\":null,\"end\":22.07500000000001,\"reset_end\":22.07500000000001,\"reset_start\":21.375,\"start\":21.375,\"tags\":[[[\"Ypos\",\"Ypos\",null]]]},\"id\":\"2695\",\"type\":\"Range1d\"},{\"attributes\":{\"callback\":null,\"data\":{\"dh\":[0.70000000000001],\"dw\":[0.70000000000001],\"image\":[{\"__ndarray__\":\"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\",\"dtype\":\"float64\",\"shape\":[14,14]}],\"x\":[21.375],\"y\":[26.073999999999998]},\"selected\":{\"id\":\"2731\",\"type\":\"Selection\"},\"selection_policy\":{\"id\":\"2751\",\"type\":\"UnionRenderers\"}},\"id\":\"2730\",\"type\":\"ColumnDataSource\"},{\"attributes\":{\"bottom_units\":\"screen\",\"fill_alpha\":{\"value\":0.5},\"fill_color\":{\"value\":\"lightgrey\"},\"left_units\":\"screen\",\"level\":\"overlay\",\"line_alpha\":{\"value\":1.0},\"line_color\":{\"value\":\"black\"},\"line_dash\":[4,4],\"line_width\":{\"value\":2},\"render_mode\":\"css\",\"right_units\":\"screen\",\"top_units\":\"screen\"},\"id\":\"2750\",\"type\":\"BoxAnnotation\"},{\"attributes\":{},\"id\":\"2751\",\"type\":\"UnionRenderers\"},{\"attributes\":{},\"id\":\"2741\",\"type\":\"BasicTickFormatter\"},{\"attributes\":{\"bar_line_color\":{\"value\":\"black\"},\"color_mapper\":{\"id\":\"2729\",\"type\":\"LinearColorMapper\"},\"formatter\":{\"id\":\"2745\",\"type\":\"BasicTickFormatter\"},\"label_standoff\":8,\"location\":[0,0],\"major_tick_line_color\":{\"value\":\"black\"},\"ticker\":{\"id\":\"2737\",\"type\":\"BasicTicker\"}},\"id\":\"2738\",\"type\":\"ColorBar\"},{\"attributes\":{},\"id\":\"2743\",\"type\":\"BasicTickFormatter\"},{\"attributes\":{\"color_mapper\":{\"id\":\"2729\",\"type\":\"LinearColorMapper\"},\"dh\":{\"field\":\"dh\",\"units\":\"data\"},\"dw\":{\"field\":\"dw\",\"units\":\"data\"},\"image\":{\"field\":\"image\"},\"x\":{\"field\":\"x\"},\"y\":{\"field\":\"y\"}},\"id\":\"2733\",\"type\":\"Image\"},{\"attributes\":{},\"id\":\"2718\",\"type\":\"PanTool\"},{\"attributes\":{},\"id\":\"2705\",\"type\":\"LinearScale\"},{\"attributes\":{\"callback\":null,\"end\":26.774000000000008,\"reset_end\":26.774000000000008,\"reset_start\":26.073999999999998,\"start\":26.073999999999998,\"tags\":[[[\"Xpos\",\"Xpos\",null]]]},\"id\":\"2696\",\"type\":\"Range1d\"},{\"attributes\":{\"text\":\"\",\"text_color\":{\"value\":\"black\"},\"text_font_size\":{\"value\":\"12pt\"}},\"id\":\"2699\",\"type\":\"Title\"},{\"attributes\":{},\"id\":\"2737\",\"type\":\"BasicTicker\"},{\"attributes\":{},\"id\":\"2717\",\"type\":\"SaveTool\"},{\"attributes\":{\"data_source\":{\"id\":\"2730\",\"type\":\"ColumnDataSource\"},\"glyph\":{\"id\":\"2733\",\"type\":\"Image\"},\"hover_glyph\":null,\"muted_glyph\":null,\"nonselection_glyph\":{\"id\":\"2734\",\"type\":\"Image\"},\"selection_glyph\":null,\"view\":{\"id\":\"2736\",\"type\":\"CDSView\"}},\"id\":\"2735\",\"type\":\"GlyphRenderer\"},{\"attributes\":{\"color_mapper\":{\"id\":\"2729\",\"type\":\"LinearColorMapper\"},\"dh\":{\"field\":\"dh\",\"units\":\"data\"},\"dw\":{\"field\":\"dw\",\"units\":\"data\"},\"image\":{\"field\":\"image\"},\"x\":{\"field\":\"x\"},\"y\":{\"field\":\"y\"}},\"id\":\"2734\",\"type\":\"Image\"},{\"attributes\":{},\"id\":\"2745\",\"type\":\"BasicTickFormatter\"},{\"attributes\":{},\"id\":\"2703\",\"type\":\"LinearScale\"}],\"root_ids\":[\"2698\"]},\"title\":\"Bokeh Application\",\"version\":\"1.2.0\"}};\n",
       "  var render_items = [{\"docid\":\"ad4c724e-0f6c-4f71-8b7e-fbd85d5b5f54\",\"roots\":{\"2698\":\"a65ae0a7-9d0d-4e6d-8999-6a192517dbb5\"}}];\n",
       "  root.Bokeh.embed.embed_items_notebook(docs_json, render_items);\n",
       "\n",
       "  }\n",
       "  if (root.Bokeh !== undefined) {\n",
       "    embed_document(root);\n",
       "  } else {\n",
       "    var attempts = 0;\n",
       "    var timer = setInterval(function(root) {\n",
       "      if (root.Bokeh !== undefined) {\n",
       "        embed_document(root);\n",
       "        clearInterval(timer);\n",
       "      }\n",
       "      attempts++;\n",
       "      if (attempts > 100) {\n",
       "        console.log(\"Bokeh: ERROR: Unable to run BokehJS code because BokehJS library is missing\");\n",
       "        clearInterval(timer);\n",
       "      }\n",
       "    }, 10, root)\n",
       "  }\n",
       "})(window);</script>"
      ],
      "text/plain": [
       ":Image   [Ypos,Xpos]   (Zfield_avg)"
      ]
     },
     "execution_count": 47,
     "metadata": {
      "application/vnd.holoviews_exec.v0+json": {
       "id": "2698"
      }
     },
     "output_type": "execute_result"
    }
   ],
   "source": [
    "phi90_ds.Zfield_avg.hvplot()"
   ]
  },
  {
   "cell_type": "code",
   "execution_count": 48,
   "metadata": {},
   "outputs": [
    {
     "data": {
      "application/vnd.holoviews_exec.v0+json": "",
      "text/html": [
       "<div id='2819' style='display: table; margin: 0 auto;'>\n",
       "\n",
       "\n",
       "\n",
       "\n",
       "\n",
       "  <div class=\"bk-root\" id=\"5592e310-943b-46ef-9a04-18a6cb9b5ee3\" data-root-id=\"2819\"></div>\n",
       "</div>\n",
       "<script type=\"application/javascript\">(function(root) {\n",
       "  function embed_document(root) {\n",
       "    \n",
       "  var docs_json = {\"6fca5d4e-fdc2-4e50-b19d-f4e8f2ebb755\":{\"roots\":{\"references\":[{\"attributes\":{\"below\":[{\"id\":\"2828\",\"type\":\"LinearAxis\"}],\"center\":[{\"id\":\"2832\",\"type\":\"Grid\"},{\"id\":\"2837\",\"type\":\"Grid\"}],\"left\":[{\"id\":\"2833\",\"type\":\"LinearAxis\"}],\"margin\":null,\"min_border_bottom\":10,\"min_border_left\":10,\"min_border_right\":10,\"min_border_top\":10,\"plot_height\":300,\"plot_width\":700,\"renderers\":[{\"id\":\"2856\",\"type\":\"GlyphRenderer\"}],\"right\":[{\"id\":\"2859\",\"type\":\"ColorBar\"}],\"sizing_mode\":\"fixed\",\"title\":{\"id\":\"2820\",\"type\":\"Title\"},\"toolbar\":{\"id\":\"2843\",\"type\":\"Toolbar\"},\"x_range\":{\"id\":\"2816\",\"type\":\"Range1d\"},\"x_scale\":{\"id\":\"2824\",\"type\":\"LinearScale\"},\"y_range\":{\"id\":\"2817\",\"type\":\"Range1d\"},\"y_scale\":{\"id\":\"2826\",\"type\":\"LinearScale\"}},\"id\":\"2819\",\"subtype\":\"Figure\",\"type\":\"Plot\"},{\"attributes\":{\"grid_line_color\":null,\"ticker\":{\"id\":\"2829\",\"type\":\"BasicTicker\"}},\"id\":\"2832\",\"type\":\"Grid\"},{\"attributes\":{\"high\":5.082355242318578e-05,\"low\":1.2275914318445652e-07,\"nan_color\":\"rgba(0, 0, 0, 0)\",\"palette\":[\"#000000\",\"#060000\",\"#0d0000\",\"#120000\",\"#160000\",\"#190000\",\"#1c0000\",\"#1f0000\",\"#220000\",\"#240000\",\"#260000\",\"#280000\",\"#2b0000\",\"#2d0000\",\"#2e0000\",\"#300000\",\"#320000\",\"#340000\",\"#350000\",\"#370000\",\"#380000\",\"#3a0000\",\"#3b0000\",\"#3d0000\",\"#3e0000\",\"#400000\",\"#410000\",\"#430000\",\"#440000\",\"#460000\",\"#470000\",\"#490000\",\"#4a0000\",\"#4c0000\",\"#4d0000\",\"#4f0000\",\"#500000\",\"#520000\",\"#530000\",\"#550000\",\"#560000\",\"#580000\",\"#590100\",\"#5b0100\",\"#5d0100\",\"#5e0100\",\"#600100\",\"#610100\",\"#630100\",\"#650100\",\"#660100\",\"#680100\",\"#690100\",\"#6b0100\",\"#6d0100\",\"#6e0100\",\"#700100\",\"#710100\",\"#730100\",\"#750100\",\"#760100\",\"#780200\",\"#7a0200\",\"#7b0200\",\"#7d0200\",\"#7f0200\",\"#800200\",\"#820200\",\"#840200\",\"#850200\",\"#870200\",\"#890200\",\"#8a0200\",\"#8c0300\",\"#8e0300\",\"#900300\",\"#910300\",\"#930300\",\"#950300\",\"#960300\",\"#980300\",\"#9a0300\",\"#9c0300\",\"#9d0400\",\"#9f0400\",\"#a10400\",\"#a20400\",\"#a40400\",\"#a60400\",\"#a80400\",\"#a90400\",\"#ab0500\",\"#ad0500\",\"#af0500\",\"#b00500\",\"#b20500\",\"#b40500\",\"#b60600\",\"#b80600\",\"#b90600\",\"#bb0600\",\"#bd0600\",\"#bf0700\",\"#c00700\",\"#c20700\",\"#c40700\",\"#c60800\",\"#c80800\",\"#c90800\",\"#cb0800\",\"#cd0900\",\"#cf0900\",\"#d10900\",\"#d20a00\",\"#d40a00\",\"#d60a00\",\"#d80b00\",\"#da0b00\",\"#db0c00\",\"#dd0c00\",\"#df0d00\",\"#e10d00\",\"#e30e00\",\"#e40f00\",\"#e60f00\",\"#e81000\",\"#ea1100\",\"#eb1300\",\"#ed1400\",\"#ee1600\",\"#f01800\",\"#f11b00\",\"#f21d00\",\"#f32000\",\"#f52300\",\"#f62600\",\"#f62900\",\"#f72c00\",\"#f82f00\",\"#f93200\",\"#f93500\",\"#fa3800\",\"#fa3b00\",\"#fb3d00\",\"#fb4000\",\"#fb4300\",\"#fc4600\",\"#fc4900\",\"#fc4b00\",\"#fd4e00\",\"#fd5100\",\"#fd5300\",\"#fd5600\",\"#fd5800\",\"#fe5b00\",\"#fe5d00\",\"#fe5f00\",\"#fe6200\",\"#fe6400\",\"#fe6600\",\"#fe6800\",\"#fe6b00\",\"#fe6d00\",\"#fe6f00\",\"#fe7100\",\"#fe7300\",\"#fe7500\",\"#fe7700\",\"#fe7900\",\"#fe7c00\",\"#ff7e00\",\"#ff8000\",\"#ff8200\",\"#ff8300\",\"#ff8500\",\"#ff8700\",\"#ff8900\",\"#ff8b00\",\"#ff8d00\",\"#ff8f00\",\"#ff9100\",\"#ff9300\",\"#ff9400\",\"#ff9600\",\"#ff9800\",\"#ff9a00\",\"#ff9c00\",\"#ff9d00\",\"#ff9f00\",\"#ffa100\",\"#ffa300\",\"#ffa401\",\"#ffa601\",\"#ffa801\",\"#ffaa01\",\"#ffab01\",\"#ffad01\",\"#ffaf01\",\"#ffb001\",\"#ffb202\",\"#ffb402\",\"#ffb502\",\"#ffb702\",\"#ffb902\",\"#ffba02\",\"#ffbc03\",\"#ffbd03\",\"#ffbf03\",\"#ffc103\",\"#ffc204\",\"#ffc404\",\"#ffc604\",\"#ffc704\",\"#ffc905\",\"#ffca05\",\"#ffcc05\",\"#ffce06\",\"#ffcf06\",\"#ffd106\",\"#ffd207\",\"#ffd407\",\"#ffd508\",\"#ffd708\",\"#ffd909\",\"#ffda09\",\"#ffdc0a\",\"#ffdd0a\",\"#ffdf0b\",\"#ffe00b\",\"#ffe20c\",\"#ffe30d\",\"#ffe50e\",\"#ffe60f\",\"#ffe810\",\"#ffea11\",\"#ffeb12\",\"#ffed14\",\"#ffee17\",\"#fff01a\",\"#fff11e\",\"#fff324\",\"#fff42a\",\"#fff532\",\"#fff73b\",\"#fff847\",\"#fff953\",\"#fffb62\",\"#fffb72\",\"#fffc83\",\"#fffd95\",\"#fffea8\",\"#fffeba\",\"#fffecc\",\"#fffede\",\"#fffeee\",\"#ffffff\"]},\"id\":\"2850\",\"type\":\"LinearColorMapper\"},{\"attributes\":{\"axis_label\":\"Ypos\",\"bounds\":\"auto\",\"formatter\":{\"id\":\"2862\",\"type\":\"BasicTickFormatter\"},\"major_label_orientation\":\"horizontal\",\"ticker\":{\"id\":\"2829\",\"type\":\"BasicTicker\"}},\"id\":\"2828\",\"type\":\"LinearAxis\"},{\"attributes\":{\"color_mapper\":{\"id\":\"2850\",\"type\":\"LinearColorMapper\"},\"dh\":{\"field\":\"dh\",\"units\":\"data\"},\"dw\":{\"field\":\"dw\",\"units\":\"data\"},\"image\":{\"field\":\"image\"},\"x\":{\"field\":\"x\"},\"y\":{\"field\":\"y\"}},\"id\":\"2854\",\"type\":\"Image\"},{\"attributes\":{\"callback\":null,\"data\":{\"dh\":[0.70000000000001],\"dw\":[0.70000000000001],\"image\":[{\"__ndarray__\":\"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\",\"dtype\":\"float64\",\"shape\":[14,14]}],\"x\":[21.375],\"y\":[26.073999999999998]},\"selected\":{\"id\":\"2852\",\"type\":\"Selection\"},\"selection_policy\":{\"id\":\"2872\",\"type\":\"UnionRenderers\"}},\"id\":\"2851\",\"type\":\"ColumnDataSource\"},{\"attributes\":{},\"id\":\"2829\",\"type\":\"BasicTicker\"},{\"attributes\":{\"active_drag\":\"auto\",\"active_inspect\":\"auto\",\"active_multi\":null,\"active_scroll\":\"auto\",\"active_tap\":\"auto\",\"tools\":[{\"id\":\"2818\",\"type\":\"HoverTool\"},{\"id\":\"2838\",\"type\":\"SaveTool\"},{\"id\":\"2839\",\"type\":\"PanTool\"},{\"id\":\"2840\",\"type\":\"WheelZoomTool\"},{\"id\":\"2841\",\"type\":\"BoxZoomTool\"},{\"id\":\"2842\",\"type\":\"ResetTool\"}]},\"id\":\"2843\",\"type\":\"Toolbar\"},{\"attributes\":{\"overlay\":{\"id\":\"2871\",\"type\":\"BoxAnnotation\"}},\"id\":\"2841\",\"type\":\"BoxZoomTool\"},{\"attributes\":{\"bottom_units\":\"screen\",\"fill_alpha\":{\"value\":0.5},\"fill_color\":{\"value\":\"lightgrey\"},\"left_units\":\"screen\",\"level\":\"overlay\",\"line_alpha\":{\"value\":1.0},\"line_color\":{\"value\":\"black\"},\"line_dash\":[4,4],\"line_width\":{\"value\":2},\"render_mode\":\"css\",\"right_units\":\"screen\",\"top_units\":\"screen\"},\"id\":\"2871\",\"type\":\"BoxAnnotation\"},{\"attributes\":{},\"id\":\"2872\",\"type\":\"UnionRenderers\"},{\"attributes\":{},\"id\":\"2852\",\"type\":\"Selection\"},{\"attributes\":{},\"id\":\"2826\",\"type\":\"LinearScale\"},{\"attributes\":{},\"id\":\"2862\",\"type\":\"BasicTickFormatter\"},{\"attributes\":{\"callback\":null,\"end\":22.07500000000001,\"reset_end\":22.07500000000001,\"reset_start\":21.375,\"start\":21.375,\"tags\":[[[\"Ypos\",\"Ypos\",null]]]},\"id\":\"2816\",\"type\":\"Range1d\"},{\"attributes\":{\"color_mapper\":{\"id\":\"2850\",\"type\":\"LinearColorMapper\"},\"dh\":{\"field\":\"dh\",\"units\":\"data\"},\"dw\":{\"field\":\"dw\",\"units\":\"data\"},\"image\":{\"field\":\"image\"},\"x\":{\"field\":\"x\"},\"y\":{\"field\":\"y\"}},\"id\":\"2855\",\"type\":\"Image\"},{\"attributes\":{},\"id\":\"2824\",\"type\":\"LinearScale\"},{\"attributes\":{},\"id\":\"2842\",\"type\":\"ResetTool\"},{\"attributes\":{},\"id\":\"2864\",\"type\":\"BasicTickFormatter\"},{\"attributes\":{\"callback\":null,\"end\":26.774000000000008,\"reset_end\":26.774000000000008,\"reset_start\":26.073999999999998,\"start\":26.073999999999998,\"tags\":[[[\"Xpos\",\"Xpos\",null]]]},\"id\":\"2817\",\"type\":\"Range1d\"},{\"attributes\":{},\"id\":\"2840\",\"type\":\"WheelZoomTool\"},{\"attributes\":{\"bar_line_color\":{\"value\":\"black\"},\"color_mapper\":{\"id\":\"2850\",\"type\":\"LinearColorMapper\"},\"formatter\":{\"id\":\"2866\",\"type\":\"BasicTickFormatter\"},\"label_standoff\":8,\"location\":[0,0],\"major_tick_line_color\":{\"value\":\"black\"},\"ticker\":{\"id\":\"2858\",\"type\":\"BasicTicker\"}},\"id\":\"2859\",\"type\":\"ColorBar\"},{\"attributes\":{\"text\":\"\",\"text_color\":{\"value\":\"black\"},\"text_font_size\":{\"value\":\"12pt\"}},\"id\":\"2820\",\"type\":\"Title\"},{\"attributes\":{},\"id\":\"2838\",\"type\":\"SaveTool\"},{\"attributes\":{},\"id\":\"2839\",\"type\":\"PanTool\"},{\"attributes\":{},\"id\":\"2858\",\"type\":\"BasicTicker\"},{\"attributes\":{\"data_source\":{\"id\":\"2851\",\"type\":\"ColumnDataSource\"},\"glyph\":{\"id\":\"2854\",\"type\":\"Image\"},\"hover_glyph\":null,\"muted_glyph\":null,\"nonselection_glyph\":{\"id\":\"2855\",\"type\":\"Image\"},\"selection_glyph\":null,\"view\":{\"id\":\"2857\",\"type\":\"CDSView\"}},\"id\":\"2856\",\"type\":\"GlyphRenderer\"},{\"attributes\":{},\"id\":\"2866\",\"type\":\"BasicTickFormatter\"},{\"attributes\":{\"source\":{\"id\":\"2851\",\"type\":\"ColumnDataSource\"}},\"id\":\"2857\",\"type\":\"CDSView\"},{\"attributes\":{\"dimension\":1,\"grid_line_color\":null,\"ticker\":{\"id\":\"2834\",\"type\":\"BasicTicker\"}},\"id\":\"2837\",\"type\":\"Grid\"},{\"attributes\":{\"axis_label\":\"Xpos\",\"bounds\":\"auto\",\"formatter\":{\"id\":\"2864\",\"type\":\"BasicTickFormatter\"},\"major_label_orientation\":\"horizontal\",\"ticker\":{\"id\":\"2834\",\"type\":\"BasicTicker\"}},\"id\":\"2833\",\"type\":\"LinearAxis\"},{\"attributes\":{\"callback\":null,\"renderers\":[{\"id\":\"2856\",\"type\":\"GlyphRenderer\"}],\"tags\":[\"hv_created\"],\"tooltips\":[[\"Ypos\",\"$x\"],[\"Xpos\",\"$y\"],[\"Zfield_avg\",\"@image\"]]},\"id\":\"2818\",\"type\":\"HoverTool\"},{\"attributes\":{},\"id\":\"2834\",\"type\":\"BasicTicker\"}],\"root_ids\":[\"2819\"]},\"title\":\"Bokeh Application\",\"version\":\"1.2.0\"}};\n",
       "  var render_items = [{\"docid\":\"6fca5d4e-fdc2-4e50-b19d-f4e8f2ebb755\",\"roots\":{\"2819\":\"5592e310-943b-46ef-9a04-18a6cb9b5ee3\"}}];\n",
       "  root.Bokeh.embed.embed_items_notebook(docs_json, render_items);\n",
       "\n",
       "  }\n",
       "  if (root.Bokeh !== undefined) {\n",
       "    embed_document(root);\n",
       "  } else {\n",
       "    var attempts = 0;\n",
       "    var timer = setInterval(function(root) {\n",
       "      if (root.Bokeh !== undefined) {\n",
       "        embed_document(root);\n",
       "        clearInterval(timer);\n",
       "      }\n",
       "      attempts++;\n",
       "      if (attempts > 100) {\n",
       "        console.log(\"Bokeh: ERROR: Unable to run BokehJS code because BokehJS library is missing\");\n",
       "        clearInterval(timer);\n",
       "      }\n",
       "    }, 10, root)\n",
       "  }\n",
       "})(window);</script>"
      ],
      "text/plain": [
       ":Image   [Ypos,Xpos]   (Zfield_avg)"
      ]
     },
     "execution_count": 48,
     "metadata": {
      "application/vnd.holoviews_exec.v0+json": {
       "id": "2819"
      }
     },
     "output_type": "execute_result"
    }
   ],
   "source": [
    "zcombined = phi90_ds.Zfield_avg**2 + phi0_ds.Zfield_avg**2\n",
    "zcombined.hvplot()"
   ]
  },
  {
   "cell_type": "code",
   "execution_count": 49,
   "metadata": {},
   "outputs": [
    {
     "data": {
      "text/plain": [
       "<xarray.DataArray 'Zfield_avg' (Xpos: 1, Ypos: 1)>\n",
       "array([[1.227591e-07]])\n",
       "Coordinates:\n",
       "  * Xpos     (Xpos) float64 26.45\n",
       "  * Ypos     (Ypos) float64 21.75"
      ]
     },
     "execution_count": 49,
     "metadata": {},
     "output_type": "execute_result"
    }
   ],
   "source": [
    "zcombined.where(zcombined==zcombined.min(), drop=True)"
   ]
  },
  {
   "cell_type": "code",
   "execution_count": 30,
   "metadata": {},
   "outputs": [
    {
     "data": {
      "application/vnd.holoviews_exec.v0+json": "",
      "text/html": [
       "<div id='2093' style='display: table; margin: 0 auto;'>\n",
       "\n",
       "\n",
       "\n",
       "\n",
       "\n",
       "  <div class=\"bk-root\" id=\"789b70d0-b512-433d-8dc5-416866546e5e\" data-root-id=\"2093\"></div>\n",
       "</div>\n",
       "<script type=\"application/javascript\">(function(root) {\n",
       "  function embed_document(root) {\n",
       "    \n",
       "  var docs_json = {\"5189c314-f439-45d5-a405-f35c83e561f0\":{\"roots\":{\"references\":[{\"attributes\":{\"below\":[{\"id\":\"2102\",\"type\":\"LinearAxis\"}],\"center\":[{\"id\":\"2106\",\"type\":\"Grid\"},{\"id\":\"2111\",\"type\":\"Grid\"}],\"left\":[{\"id\":\"2107\",\"type\":\"LinearAxis\"}],\"margin\":null,\"min_border_bottom\":10,\"min_border_left\":10,\"min_border_right\":10,\"min_border_top\":10,\"plot_height\":300,\"plot_width\":700,\"renderers\":[{\"id\":\"2130\",\"type\":\"GlyphRenderer\"}],\"right\":[{\"id\":\"2133\",\"type\":\"ColorBar\"}],\"sizing_mode\":\"fixed\",\"title\":{\"id\":\"2094\",\"type\":\"Title\"},\"toolbar\":{\"id\":\"2117\",\"type\":\"Toolbar\"},\"x_range\":{\"id\":\"2090\",\"type\":\"Range1d\"},\"x_scale\":{\"id\":\"2098\",\"type\":\"LinearScale\"},\"y_range\":{\"id\":\"2091\",\"type\":\"Range1d\"},\"y_scale\":{\"id\":\"2100\",\"type\":\"LinearScale\"}},\"id\":\"2093\",\"subtype\":\"Figure\",\"type\":\"Plot\"},{\"attributes\":{\"bar_line_color\":{\"value\":\"black\"},\"color_mapper\":{\"id\":\"2124\",\"type\":\"LinearColorMapper\"},\"formatter\":{\"id\":\"2140\",\"type\":\"BasicTickFormatter\"},\"label_standoff\":8,\"location\":[0,0],\"major_tick_line_color\":{\"value\":\"black\"},\"ticker\":{\"id\":\"2132\",\"type\":\"BasicTicker\"}},\"id\":\"2133\",\"type\":\"ColorBar\"},{\"attributes\":{\"bottom_units\":\"screen\",\"fill_alpha\":{\"value\":0.5},\"fill_color\":{\"value\":\"lightgrey\"},\"left_units\":\"screen\",\"level\":\"overlay\",\"line_alpha\":{\"value\":1.0},\"line_color\":{\"value\":\"black\"},\"line_dash\":[4,4],\"line_width\":{\"value\":2},\"render_mode\":\"css\",\"right_units\":\"screen\",\"top_units\":\"screen\"},\"id\":\"2145\",\"type\":\"BoxAnnotation\"},{\"attributes\":{},\"id\":\"2114\",\"type\":\"WheelZoomTool\"},{\"attributes\":{\"axis_label\":\"Ypos\",\"bounds\":\"auto\",\"formatter\":{\"id\":\"2136\",\"type\":\"BasicTickFormatter\"},\"major_label_orientation\":\"horizontal\",\"ticker\":{\"id\":\"2103\",\"type\":\"BasicTicker\"}},\"id\":\"2102\",\"type\":\"LinearAxis\"},{\"attributes\":{},\"id\":\"2146\",\"type\":\"UnionRenderers\"},{\"attributes\":{},\"id\":\"2113\",\"type\":\"PanTool\"},{\"attributes\":{},\"id\":\"2138\",\"type\":\"BasicTickFormatter\"},{\"attributes\":{},\"id\":\"2112\",\"type\":\"SaveTool\"},{\"attributes\":{\"color_mapper\":{\"id\":\"2124\",\"type\":\"LinearColorMapper\"},\"dh\":{\"field\":\"dh\",\"units\":\"data\"},\"dw\":{\"field\":\"dw\",\"units\":\"data\"},\"image\":{\"field\":\"image\"},\"x\":{\"field\":\"x\"},\"y\":{\"field\":\"y\"}},\"id\":\"2128\",\"type\":\"Image\"},{\"attributes\":{\"text\":\"\",\"text_color\":{\"value\":\"black\"},\"text_font_size\":{\"value\":\"12pt\"}},\"id\":\"2094\",\"type\":\"Title\"},{\"attributes\":{},\"id\":\"2132\",\"type\":\"BasicTicker\"},{\"attributes\":{\"data_source\":{\"id\":\"2125\",\"type\":\"ColumnDataSource\"},\"glyph\":{\"id\":\"2128\",\"type\":\"Image\"},\"hover_glyph\":null,\"muted_glyph\":null,\"nonselection_glyph\":{\"id\":\"2129\",\"type\":\"Image\"},\"selection_glyph\":null,\"view\":{\"id\":\"2131\",\"type\":\"CDSView\"}},\"id\":\"2130\",\"type\":\"GlyphRenderer\"},{\"attributes\":{},\"id\":\"2108\",\"type\":\"BasicTicker\"},{\"attributes\":{\"high\":0.024971302630559147,\"low\":0.024883774197190775,\"nan_color\":\"rgba(0, 0, 0, 0)\",\"palette\":[\"#000000\",\"#060000\",\"#0d0000\",\"#120000\",\"#160000\",\"#190000\",\"#1c0000\",\"#1f0000\",\"#220000\",\"#240000\",\"#260000\",\"#280000\",\"#2b0000\",\"#2d0000\",\"#2e0000\",\"#300000\",\"#320000\",\"#340000\",\"#350000\",\"#370000\",\"#380000\",\"#3a0000\",\"#3b0000\",\"#3d0000\",\"#3e0000\",\"#400000\",\"#410000\",\"#430000\",\"#440000\",\"#460000\",\"#470000\",\"#490000\",\"#4a0000\",\"#4c0000\",\"#4d0000\",\"#4f0000\",\"#500000\",\"#520000\",\"#530000\",\"#550000\",\"#560000\",\"#580000\",\"#590100\",\"#5b0100\",\"#5d0100\",\"#5e0100\",\"#600100\",\"#610100\",\"#630100\",\"#650100\",\"#660100\",\"#680100\",\"#690100\",\"#6b0100\",\"#6d0100\",\"#6e0100\",\"#700100\",\"#710100\",\"#730100\",\"#750100\",\"#760100\",\"#780200\",\"#7a0200\",\"#7b0200\",\"#7d0200\",\"#7f0200\",\"#800200\",\"#820200\",\"#840200\",\"#850200\",\"#870200\",\"#890200\",\"#8a0200\",\"#8c0300\",\"#8e0300\",\"#900300\",\"#910300\",\"#930300\",\"#950300\",\"#960300\",\"#980300\",\"#9a0300\",\"#9c0300\",\"#9d0400\",\"#9f0400\",\"#a10400\",\"#a20400\",\"#a40400\",\"#a60400\",\"#a80400\",\"#a90400\",\"#ab0500\",\"#ad0500\",\"#af0500\",\"#b00500\",\"#b20500\",\"#b40500\",\"#b60600\",\"#b80600\",\"#b90600\",\"#bb0600\",\"#bd0600\",\"#bf0700\",\"#c00700\",\"#c20700\",\"#c40700\",\"#c60800\",\"#c80800\",\"#c90800\",\"#cb0800\",\"#cd0900\",\"#cf0900\",\"#d10900\",\"#d20a00\",\"#d40a00\",\"#d60a00\",\"#d80b00\",\"#da0b00\",\"#db0c00\",\"#dd0c00\",\"#df0d00\",\"#e10d00\",\"#e30e00\",\"#e40f00\",\"#e60f00\",\"#e81000\",\"#ea1100\",\"#eb1300\",\"#ed1400\",\"#ee1600\",\"#f01800\",\"#f11b00\",\"#f21d00\",\"#f32000\",\"#f52300\",\"#f62600\",\"#f62900\",\"#f72c00\",\"#f82f00\",\"#f93200\",\"#f93500\",\"#fa3800\",\"#fa3b00\",\"#fb3d00\",\"#fb4000\",\"#fb4300\",\"#fc4600\",\"#fc4900\",\"#fc4b00\",\"#fd4e00\",\"#fd5100\",\"#fd5300\",\"#fd5600\",\"#fd5800\",\"#fe5b00\",\"#fe5d00\",\"#fe5f00\",\"#fe6200\",\"#fe6400\",\"#fe6600\",\"#fe6800\",\"#fe6b00\",\"#fe6d00\",\"#fe6f00\",\"#fe7100\",\"#fe7300\",\"#fe7500\",\"#fe7700\",\"#fe7900\",\"#fe7c00\",\"#ff7e00\",\"#ff8000\",\"#ff8200\",\"#ff8300\",\"#ff8500\",\"#ff8700\",\"#ff8900\",\"#ff8b00\",\"#ff8d00\",\"#ff8f00\",\"#ff9100\",\"#ff9300\",\"#ff9400\",\"#ff9600\",\"#ff9800\",\"#ff9a00\",\"#ff9c00\",\"#ff9d00\",\"#ff9f00\",\"#ffa100\",\"#ffa300\",\"#ffa401\",\"#ffa601\",\"#ffa801\",\"#ffaa01\",\"#ffab01\",\"#ffad01\",\"#ffaf01\",\"#ffb001\",\"#ffb202\",\"#ffb402\",\"#ffb502\",\"#ffb702\",\"#ffb902\",\"#ffba02\",\"#ffbc03\",\"#ffbd03\",\"#ffbf03\",\"#ffc103\",\"#ffc204\",\"#ffc404\",\"#ffc604\",\"#ffc704\",\"#ffc905\",\"#ffca05\",\"#ffcc05\",\"#ffce06\",\"#ffcf06\",\"#ffd106\",\"#ffd207\",\"#ffd407\",\"#ffd508\",\"#ffd708\",\"#ffd909\",\"#ffda09\",\"#ffdc0a\",\"#ffdd0a\",\"#ffdf0b\",\"#ffe00b\",\"#ffe20c\",\"#ffe30d\",\"#ffe50e\",\"#ffe60f\",\"#ffe810\",\"#ffea11\",\"#ffeb12\",\"#ffed14\",\"#ffee17\",\"#fff01a\",\"#fff11e\",\"#fff324\",\"#fff42a\",\"#fff532\",\"#fff73b\",\"#fff847\",\"#fff953\",\"#fffb62\",\"#fffb72\",\"#fffc83\",\"#fffd95\",\"#fffea8\",\"#fffeba\",\"#fffecc\",\"#fffede\",\"#fffeee\",\"#ffffff\"]},\"id\":\"2124\",\"type\":\"LinearColorMapper\"},{\"attributes\":{\"callback\":null,\"end\":26.774000000000008,\"reset_end\":26.774000000000008,\"reset_start\":26.073999999999998,\"start\":26.073999999999998,\"tags\":[[[\"Xpos\",\"Xpos\",null]]]},\"id\":\"2091\",\"type\":\"Range1d\"},{\"attributes\":{\"grid_line_color\":null,\"ticker\":{\"id\":\"2103\",\"type\":\"BasicTicker\"}},\"id\":\"2106\",\"type\":\"Grid\"},{\"attributes\":{},\"id\":\"2140\",\"type\":\"BasicTickFormatter\"},{\"attributes\":{\"callback\":null,\"data\":{\"dh\":[0.70000000000001],\"dw\":[0.70000000000001],\"image\":[{\"__ndarray__\":\"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\",\"dtype\":\"float64\",\"shape\":[14,14]}],\"x\":[21.375],\"y\":[26.073999999999998]},\"selected\":{\"id\":\"2126\",\"type\":\"Selection\"},\"selection_policy\":{\"id\":\"2146\",\"type\":\"UnionRenderers\"}},\"id\":\"2125\",\"type\":\"ColumnDataSource\"},{\"attributes\":{\"callback\":null,\"renderers\":[{\"id\":\"2130\",\"type\":\"GlyphRenderer\"}],\"tags\":[\"hv_created\"],\"tooltips\":[[\"Ypos\",\"$x\"],[\"Xpos\",\"$y\"],[\"value\",\"@image\"]]},\"id\":\"2092\",\"type\":\"HoverTool\"},{\"attributes\":{},\"id\":\"2136\",\"type\":\"BasicTickFormatter\"},{\"attributes\":{},\"id\":\"2126\",\"type\":\"Selection\"},{\"attributes\":{\"color_mapper\":{\"id\":\"2124\",\"type\":\"LinearColorMapper\"},\"dh\":{\"field\":\"dh\",\"units\":\"data\"},\"dw\":{\"field\":\"dw\",\"units\":\"data\"},\"image\":{\"field\":\"image\"},\"x\":{\"field\":\"x\"},\"y\":{\"field\":\"y\"}},\"id\":\"2129\",\"type\":\"Image\"},{\"attributes\":{\"axis_label\":\"Xpos\",\"bounds\":\"auto\",\"formatter\":{\"id\":\"2138\",\"type\":\"BasicTickFormatter\"},\"major_label_orientation\":\"horizontal\",\"ticker\":{\"id\":\"2108\",\"type\":\"BasicTicker\"}},\"id\":\"2107\",\"type\":\"LinearAxis\"},{\"attributes\":{},\"id\":\"2098\",\"type\":\"LinearScale\"},{\"attributes\":{},\"id\":\"2100\",\"type\":\"LinearScale\"},{\"attributes\":{\"dimension\":1,\"grid_line_color\":null,\"ticker\":{\"id\":\"2108\",\"type\":\"BasicTicker\"}},\"id\":\"2111\",\"type\":\"Grid\"},{\"attributes\":{\"callback\":null,\"end\":22.07500000000001,\"reset_end\":22.07500000000001,\"reset_start\":21.375,\"start\":21.375,\"tags\":[[[\"Ypos\",\"Ypos\",null]]]},\"id\":\"2090\",\"type\":\"Range1d\"},{\"attributes\":{},\"id\":\"2116\",\"type\":\"ResetTool\"},{\"attributes\":{\"source\":{\"id\":\"2125\",\"type\":\"ColumnDataSource\"}},\"id\":\"2131\",\"type\":\"CDSView\"},{\"attributes\":{},\"id\":\"2103\",\"type\":\"BasicTicker\"},{\"attributes\":{\"active_drag\":\"auto\",\"active_inspect\":\"auto\",\"active_multi\":null,\"active_scroll\":\"auto\",\"active_tap\":\"auto\",\"tools\":[{\"id\":\"2092\",\"type\":\"HoverTool\"},{\"id\":\"2112\",\"type\":\"SaveTool\"},{\"id\":\"2113\",\"type\":\"PanTool\"},{\"id\":\"2114\",\"type\":\"WheelZoomTool\"},{\"id\":\"2115\",\"type\":\"BoxZoomTool\"},{\"id\":\"2116\",\"type\":\"ResetTool\"}]},\"id\":\"2117\",\"type\":\"Toolbar\"},{\"attributes\":{\"overlay\":{\"id\":\"2145\",\"type\":\"BoxAnnotation\"}},\"id\":\"2115\",\"type\":\"BoxZoomTool\"}],\"root_ids\":[\"2093\"]},\"title\":\"Bokeh Application\",\"version\":\"1.2.0\"}};\n",
       "  var render_items = [{\"docid\":\"5189c314-f439-45d5-a405-f35c83e561f0\",\"roots\":{\"2093\":\"789b70d0-b512-433d-8dc5-416866546e5e\"}}];\n",
       "  root.Bokeh.embed.embed_items_notebook(docs_json, render_items);\n",
       "\n",
       "  }\n",
       "  if (root.Bokeh !== undefined) {\n",
       "    embed_document(root);\n",
       "  } else {\n",
       "    var attempts = 0;\n",
       "    var timer = setInterval(function(root) {\n",
       "      if (root.Bokeh !== undefined) {\n",
       "        embed_document(root);\n",
       "        clearInterval(timer);\n",
       "      }\n",
       "      attempts++;\n",
       "      if (attempts > 100) {\n",
       "        console.log(\"Bokeh: ERROR: Unable to run BokehJS code because BokehJS library is missing\");\n",
       "        clearInterval(timer);\n",
       "      }\n",
       "    }, 10, root)\n",
       "  }\n",
       "})(window);</script>"
      ],
      "text/plain": [
       ":Image   [Ypos,Xpos]   (value)"
      ]
     },
     "execution_count": 30,
     "metadata": {
      "application/vnd.holoviews_exec.v0+json": {
       "id": "2093"
      }
     },
     "output_type": "execute_result"
    }
   ],
   "source": [
    "inplane = (phi0_ds.Yfield_avg**2 + phi90_ds.Xfield_avg**2)\n",
    "inplane.hvplot()"
   ]
  },
  {
   "cell_type": "markdown",
   "metadata": {},
   "source": [
    "We seem to have 3 maximum points, third highest point agrees with z minima"
   ]
  },
  {
   "cell_type": "code",
   "execution_count": 56,
   "metadata": {},
   "outputs": [
    {
     "data": {
      "text/plain": [
       "<xarray.DataArray (Xpos: 2, Ypos: 4)>\n",
       "array([[     nan,      nan, 0.024978,      nan],\n",
       "       [0.024975, 0.024976,      nan, 0.024975]])\n",
       "Coordinates:\n",
       "  * Xpos     (Xpos) float64 26.44 26.52\n",
       "  * Ypos     (Ypos) float64 21.56 21.6 21.62 21.64"
      ]
     },
     "execution_count": 56,
     "metadata": {},
     "output_type": "execute_result"
    }
   ],
   "source": [
    "inplane.where(inplane > 0.024975, drop=True)"
   ]
  },
  {
   "cell_type": "markdown",
   "metadata": {},
   "source": [
    "### Centres: z field (26.45, 21.75), y field (26.45, 21.75)"
   ]
  },
  {
   "cell_type": "code",
   "execution_count": 57,
   "metadata": {},
   "outputs": [],
   "source": [
    "zfield_x, zfield_y = 26.45, 21.75"
   ]
  },
  {
   "cell_type": "code",
   "execution_count": 58,
   "metadata": {},
   "outputs": [],
   "source": [
    "phi0_phi = np.arctan2(phi0_ds.Xfield_avg, phi0_ds.Yfield_avg)\n",
    "phi90_phi = np.arctan2(phi90_ds.Yfield_avg, phi90_ds.Xfield_avg)\n",
    "theta0_phi = np.arctan2(np.sqrt(phi0_ds.Xfield_avg**2 + phi0_ds.Yfield_avg**2), phi0_ds.Zfield_avg)\n",
    "theta90_phi = np.arctan2(np.sqrt(phi90_ds.Xfield_avg**2 + phi90_ds.Yfield_avg**2), phi90_ds.Zfield_avg)"
   ]
  },
  {
   "cell_type": "code",
   "execution_count": 59,
   "metadata": {},
   "outputs": [
    {
     "name": "stdout",
     "output_type": "stream",
     "text": [
      "phi0 : phi = -0.90\n",
      "phi90 : phi = 0.97\n",
      "phi0 : theta = 89.42\n",
      "phi90 : theta = 89.99\n"
     ]
    }
   ],
   "source": [
    "print('phi0 : phi = %1.2f' % (phi0_phi.sel(Xpos=zfield_x, Ypos=zfield_y, method='backfill').values*180/np.pi))\n",
    "print('phi90 : phi = %1.2f' % (phi90_phi.sel(Xpos=zfield_x, Ypos=zfield_y, method='backfill').values*180/np.pi))\n",
    "print('phi0 : theta = %1.2f' % (theta0_phi.sel(Xpos=zfield_x, Ypos=zfield_y, method='backfill').values*180/np.pi))\n",
    "print('phi90 : theta = %1.2f' % (theta90_phi.sel(Xpos=zfield_x, Ypos=zfield_y, method='backfill').values*180/np.pi))"
   ]
  },
  {
   "cell_type": "markdown",
   "metadata": {},
   "source": [
    "Pretty close in theta, off by about 1$^\\circ$ in phi"
   ]
  },
  {
   "cell_type": "markdown",
   "metadata": {},
   "source": [
    "### Finest Raster step = 0.02mm"
   ]
  },
  {
   "cell_type": "code",
   "execution_count": 110,
   "metadata": {},
   "outputs": [],
   "source": [
    "x_start, x_end, x_step = 26.099, 26.7, 0.02\n",
    "y_start, y_end, y_step = 21.4, 22, 0.02\n",
    "x_pts = np.arange(x_start, x_end+x_step, x_step)\n",
    "y_pts = np.arange(y_start, y_end+y_step, y_step)\n",
    "phi0 = pd.read_csv('./2019-06-04/shims_rough_fieldRaster_2019-06-04_4.csv', comment='#')\n",
    "phi90 = pd.read_csv('./2019-06-04/shims_rough_fieldRaster_2019-06-04_3.csv', comment='#')\n",
    "#Data variables dict\n",
    "phi0_data_vars = {}\n",
    "phi90_data_vars = {}\n",
    "\n",
    "#Add (dims, data) tuple for each variable column to dict\n",
    "for var in phi0.columns[:]:\n",
    "    dims = [\"Xpos\", \"Ypos\"]\n",
    "    data0 = phi0[var].values.reshape(x_pts.size, y_pts.size)\n",
    "    phi0_data_vars[var] = (dims, data0)\n",
    "    \n",
    "for var in phi90.columns[:]:\n",
    "    dims = [\"Xpos\", \"Ypos\"]\n",
    "    data90 = phi90[var].values.reshape(x_pts.size, y_pts.size)\n",
    "    phi90_data_vars[var] = (dims, data90)\n",
    "    \n",
    "coords = {\"Xpos\":('Xpos', x_pts), \"Ypos\":('Ypos', y_pts)}\n",
    "phi0_ds = xr.Dataset(phi0_data_vars, coords)\n",
    "phi90_ds = xr.Dataset(phi90_data_vars, coords)"
   ]
  },
  {
   "cell_type": "code",
   "execution_count": 105,
   "metadata": {},
   "outputs": [
    {
     "data": {
      "application/vnd.holoviews_exec.v0+json": "",
      "text/html": [
       "<div id='1246' style='display: table; margin: 0 auto;'>\n",
       "\n",
       "\n",
       "\n",
       "\n",
       "\n",
       "  <div class=\"bk-root\" id=\"7bd666e6-0168-4b35-a646-0de9b667f12c\" data-root-id=\"1246\"></div>\n",
       "</div>\n",
       "<script type=\"application/javascript\">(function(root) {\n",
       "  function embed_document(root) {\n",
       "    \n",
       "  var docs_json = {\"328bb1a4-4f57-4641-8208-ed97fd21080b\":{\"roots\":{\"references\":[{\"attributes\":{\"below\":[{\"id\":\"1255\",\"type\":\"LinearAxis\"}],\"center\":[{\"id\":\"1259\",\"type\":\"Grid\"},{\"id\":\"1264\",\"type\":\"Grid\"}],\"left\":[{\"id\":\"1260\",\"type\":\"LinearAxis\"}],\"margin\":null,\"min_border_bottom\":10,\"min_border_left\":10,\"min_border_right\":10,\"min_border_top\":10,\"plot_height\":300,\"plot_width\":700,\"renderers\":[{\"id\":\"1283\",\"type\":\"GlyphRenderer\"}],\"right\":[{\"id\":\"1286\",\"type\":\"ColorBar\"}],\"sizing_mode\":\"fixed\",\"title\":{\"id\":\"1247\",\"type\":\"Title\"},\"toolbar\":{\"id\":\"1270\",\"type\":\"Toolbar\"},\"x_range\":{\"id\":\"1243\",\"type\":\"Range1d\"},\"x_scale\":{\"id\":\"1251\",\"type\":\"LinearScale\"},\"y_range\":{\"id\":\"1244\",\"type\":\"Range1d\"},\"y_scale\":{\"id\":\"1253\",\"type\":\"LinearScale\"}},\"id\":\"1246\",\"subtype\":\"Figure\",\"type\":\"Plot\"},{\"attributes\":{\"data_source\":{\"id\":\"1278\",\"type\":\"ColumnDataSource\"},\"glyph\":{\"id\":\"1281\",\"type\":\"Image\"},\"hover_glyph\":null,\"muted_glyph\":null,\"nonselection_glyph\":{\"id\":\"1282\",\"type\":\"Image\"},\"selection_glyph\":null,\"view\":{\"id\":\"1284\",\"type\":\"CDSView\"}},\"id\":\"1283\",\"type\":\"GlyphRenderer\"},{\"attributes\":{},\"id\":\"1269\",\"type\":\"ResetTool\"},{\"attributes\":{\"callback\":null,\"data\":{\"dh\":[0.6399999999999864],\"dw\":[0.6399999999999864],\"image\":[{\"__ndarray__\":\"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\",\"dtype\":\"float64\",\"shape\":[32,32]}],\"x\":[21.39],\"y\":[26.089]},\"selected\":{\"id\":\"1279\",\"type\":\"Selection\"},\"selection_policy\":{\"id\":\"1300\",\"type\":\"UnionRenderers\"}},\"id\":\"1278\",\"type\":\"ColumnDataSource\"},{\"attributes\":{\"bar_line_color\":{\"value\":\"black\"},\"color_mapper\":{\"id\":\"1277\",\"type\":\"LinearColorMapper\"},\"formatter\":{\"id\":\"1295\",\"type\":\"BasicTickFormatter\"},\"label_standoff\":8,\"location\":[0,0],\"major_tick_line_color\":{\"value\":\"black\"},\"ticker\":{\"id\":\"1285\",\"type\":\"BasicTicker\"}},\"id\":\"1286\",\"type\":\"ColorBar\"},{\"attributes\":{\"callback\":null,\"end\":26.728999999999985,\"reset_end\":26.728999999999985,\"reset_start\":26.089,\"start\":26.089,\"tags\":[[[\"Xpos\",\"Xpos\",null]]]},\"id\":\"1244\",\"type\":\"Range1d\"},{\"attributes\":{\"callback\":null,\"end\":22.029999999999987,\"reset_end\":22.029999999999987,\"reset_start\":21.39,\"start\":21.39,\"tags\":[[[\"Ypos\",\"Ypos\",null]]]},\"id\":\"1243\",\"type\":\"Range1d\"},{\"attributes\":{\"overlay\":{\"id\":\"1298\",\"type\":\"BoxAnnotation\"}},\"id\":\"1268\",\"type\":\"BoxZoomTool\"},{\"attributes\":{\"active_drag\":\"auto\",\"active_inspect\":\"auto\",\"active_multi\":null,\"active_scroll\":\"auto\",\"active_tap\":\"auto\",\"tools\":[{\"id\":\"1245\",\"type\":\"HoverTool\"},{\"id\":\"1265\",\"type\":\"SaveTool\"},{\"id\":\"1266\",\"type\":\"PanTool\"},{\"id\":\"1267\",\"type\":\"WheelZoomTool\"},{\"id\":\"1268\",\"type\":\"BoxZoomTool\"},{\"id\":\"1269\",\"type\":\"ResetTool\"}]},\"id\":\"1270\",\"type\":\"Toolbar\"},{\"attributes\":{\"high\":4.958183408923034e-05,\"low\":2.4475810233917505e-08,\"nan_color\":\"rgba(0, 0, 0, 0)\",\"palette\":[\"#000000\",\"#060000\",\"#0d0000\",\"#120000\",\"#160000\",\"#190000\",\"#1c0000\",\"#1f0000\",\"#220000\",\"#240000\",\"#260000\",\"#280000\",\"#2b0000\",\"#2d0000\",\"#2e0000\",\"#300000\",\"#320000\",\"#340000\",\"#350000\",\"#370000\",\"#380000\",\"#3a0000\",\"#3b0000\",\"#3d0000\",\"#3e0000\",\"#400000\",\"#410000\",\"#430000\",\"#440000\",\"#460000\",\"#470000\",\"#490000\",\"#4a0000\",\"#4c0000\",\"#4d0000\",\"#4f0000\",\"#500000\",\"#520000\",\"#530000\",\"#550000\",\"#560000\",\"#580000\",\"#590100\",\"#5b0100\",\"#5d0100\",\"#5e0100\",\"#600100\",\"#610100\",\"#630100\",\"#650100\",\"#660100\",\"#680100\",\"#690100\",\"#6b0100\",\"#6d0100\",\"#6e0100\",\"#700100\",\"#710100\",\"#730100\",\"#750100\",\"#760100\",\"#780200\",\"#7a0200\",\"#7b0200\",\"#7d0200\",\"#7f0200\",\"#800200\",\"#820200\",\"#840200\",\"#850200\",\"#870200\",\"#890200\",\"#8a0200\",\"#8c0300\",\"#8e0300\",\"#900300\",\"#910300\",\"#930300\",\"#950300\",\"#960300\",\"#980300\",\"#9a0300\",\"#9c0300\",\"#9d0400\",\"#9f0400\",\"#a10400\",\"#a20400\",\"#a40400\",\"#a60400\",\"#a80400\",\"#a90400\",\"#ab0500\",\"#ad0500\",\"#af0500\",\"#b00500\",\"#b20500\",\"#b40500\",\"#b60600\",\"#b80600\",\"#b90600\",\"#bb0600\",\"#bd0600\",\"#bf0700\",\"#c00700\",\"#c20700\",\"#c40700\",\"#c60800\",\"#c80800\",\"#c90800\",\"#cb0800\",\"#cd0900\",\"#cf0900\",\"#d10900\",\"#d20a00\",\"#d40a00\",\"#d60a00\",\"#d80b00\",\"#da0b00\",\"#db0c00\",\"#dd0c00\",\"#df0d00\",\"#e10d00\",\"#e30e00\",\"#e40f00\",\"#e60f00\",\"#e81000\",\"#ea1100\",\"#eb1300\",\"#ed1400\",\"#ee1600\",\"#f01800\",\"#f11b00\",\"#f21d00\",\"#f32000\",\"#f52300\",\"#f62600\",\"#f62900\",\"#f72c00\",\"#f82f00\",\"#f93200\",\"#f93500\",\"#fa3800\",\"#fa3b00\",\"#fb3d00\",\"#fb4000\",\"#fb4300\",\"#fc4600\",\"#fc4900\",\"#fc4b00\",\"#fd4e00\",\"#fd5100\",\"#fd5300\",\"#fd5600\",\"#fd5800\",\"#fe5b00\",\"#fe5d00\",\"#fe5f00\",\"#fe6200\",\"#fe6400\",\"#fe6600\",\"#fe6800\",\"#fe6b00\",\"#fe6d00\",\"#fe6f00\",\"#fe7100\",\"#fe7300\",\"#fe7500\",\"#fe7700\",\"#fe7900\",\"#fe7c00\",\"#ff7e00\",\"#ff8000\",\"#ff8200\",\"#ff8300\",\"#ff8500\",\"#ff8700\",\"#ff8900\",\"#ff8b00\",\"#ff8d00\",\"#ff8f00\",\"#ff9100\",\"#ff9300\",\"#ff9400\",\"#ff9600\",\"#ff9800\",\"#ff9a00\",\"#ff9c00\",\"#ff9d00\",\"#ff9f00\",\"#ffa100\",\"#ffa300\",\"#ffa401\",\"#ffa601\",\"#ffa801\",\"#ffaa01\",\"#ffab01\",\"#ffad01\",\"#ffaf01\",\"#ffb001\",\"#ffb202\",\"#ffb402\",\"#ffb502\",\"#ffb702\",\"#ffb902\",\"#ffba02\",\"#ffbc03\",\"#ffbd03\",\"#ffbf03\",\"#ffc103\",\"#ffc204\",\"#ffc404\",\"#ffc604\",\"#ffc704\",\"#ffc905\",\"#ffca05\",\"#ffcc05\",\"#ffce06\",\"#ffcf06\",\"#ffd106\",\"#ffd207\",\"#ffd407\",\"#ffd508\",\"#ffd708\",\"#ffd909\",\"#ffda09\",\"#ffdc0a\",\"#ffdd0a\",\"#ffdf0b\",\"#ffe00b\",\"#ffe20c\",\"#ffe30d\",\"#ffe50e\",\"#ffe60f\",\"#ffe810\",\"#ffea11\",\"#ffeb12\",\"#ffed14\",\"#ffee17\",\"#fff01a\",\"#fff11e\",\"#fff324\",\"#fff42a\",\"#fff532\",\"#fff73b\",\"#fff847\",\"#fff953\",\"#fffb62\",\"#fffb72\",\"#fffc83\",\"#fffd95\",\"#fffea8\",\"#fffeba\",\"#fffecc\",\"#fffede\",\"#fffeee\",\"#ffffff\"]},\"id\":\"1277\",\"type\":\"LinearColorMapper\"},{\"attributes\":{\"source\":{\"id\":\"1278\",\"type\":\"ColumnDataSource\"}},\"id\":\"1284\",\"type\":\"CDSView\"},{\"attributes\":{},\"id\":\"1295\",\"type\":\"BasicTickFormatter\"},{\"attributes\":{\"bottom_units\":\"screen\",\"fill_alpha\":{\"value\":0.5},\"fill_color\":{\"value\":\"lightgrey\"},\"left_units\":\"screen\",\"level\":\"overlay\",\"line_alpha\":{\"value\":1.0},\"line_color\":{\"value\":\"black\"},\"line_dash\":[4,4],\"line_width\":{\"value\":2},\"render_mode\":\"css\",\"right_units\":\"screen\",\"top_units\":\"screen\"},\"id\":\"1298\",\"type\":\"BoxAnnotation\"},{\"attributes\":{\"color_mapper\":{\"id\":\"1277\",\"type\":\"LinearColorMapper\"},\"dh\":{\"field\":\"dh\",\"units\":\"data\"},\"dw\":{\"field\":\"dw\",\"units\":\"data\"},\"image\":{\"field\":\"image\"},\"x\":{\"field\":\"x\"},\"y\":{\"field\":\"y\"}},\"id\":\"1282\",\"type\":\"Image\"},{\"attributes\":{},\"id\":\"1300\",\"type\":\"UnionRenderers\"},{\"attributes\":{},\"id\":\"1291\",\"type\":\"BasicTickFormatter\"},{\"attributes\":{},\"id\":\"1251\",\"type\":\"LinearScale\"},{\"attributes\":{},\"id\":\"1253\",\"type\":\"LinearScale\"},{\"attributes\":{\"axis_label\":\"Xpos\",\"bounds\":\"auto\",\"formatter\":{\"id\":\"1291\",\"type\":\"BasicTickFormatter\"},\"major_label_orientation\":\"horizontal\",\"ticker\":{\"id\":\"1261\",\"type\":\"BasicTicker\"}},\"id\":\"1260\",\"type\":\"LinearAxis\"},{\"attributes\":{\"axis_label\":\"Ypos\",\"bounds\":\"auto\",\"formatter\":{\"id\":\"1289\",\"type\":\"BasicTickFormatter\"},\"major_label_orientation\":\"horizontal\",\"ticker\":{\"id\":\"1256\",\"type\":\"BasicTicker\"}},\"id\":\"1255\",\"type\":\"LinearAxis\"},{\"attributes\":{},\"id\":\"1266\",\"type\":\"PanTool\"},{\"attributes\":{},\"id\":\"1261\",\"type\":\"BasicTicker\"},{\"attributes\":{\"dimension\":1,\"grid_line_color\":null,\"ticker\":{\"id\":\"1261\",\"type\":\"BasicTicker\"}},\"id\":\"1264\",\"type\":\"Grid\"},{\"attributes\":{},\"id\":\"1285\",\"type\":\"BasicTicker\"},{\"attributes\":{},\"id\":\"1279\",\"type\":\"Selection\"},{\"attributes\":{},\"id\":\"1265\",\"type\":\"SaveTool\"},{\"attributes\":{\"color_mapper\":{\"id\":\"1277\",\"type\":\"LinearColorMapper\"},\"dh\":{\"field\":\"dh\",\"units\":\"data\"},\"dw\":{\"field\":\"dw\",\"units\":\"data\"},\"image\":{\"field\":\"image\"},\"x\":{\"field\":\"x\"},\"y\":{\"field\":\"y\"}},\"id\":\"1281\",\"type\":\"Image\"},{\"attributes\":{},\"id\":\"1289\",\"type\":\"BasicTickFormatter\"},{\"attributes\":{\"callback\":null,\"renderers\":[{\"id\":\"1283\",\"type\":\"GlyphRenderer\"}],\"tags\":[\"hv_created\"],\"tooltips\":[[\"Ypos\",\"$x\"],[\"Xpos\",\"$y\"],[\"Zfield_avg\",\"@image\"]]},\"id\":\"1245\",\"type\":\"HoverTool\"},{\"attributes\":{},\"id\":\"1267\",\"type\":\"WheelZoomTool\"},{\"attributes\":{},\"id\":\"1256\",\"type\":\"BasicTicker\"},{\"attributes\":{\"text\":\"\",\"text_color\":{\"value\":\"black\"},\"text_font_size\":{\"value\":\"12pt\"}},\"id\":\"1247\",\"type\":\"Title\"},{\"attributes\":{\"grid_line_color\":null,\"ticker\":{\"id\":\"1256\",\"type\":\"BasicTicker\"}},\"id\":\"1259\",\"type\":\"Grid\"}],\"root_ids\":[\"1246\"]},\"title\":\"Bokeh Application\",\"version\":\"1.2.0\"}};\n",
       "  var render_items = [{\"docid\":\"328bb1a4-4f57-4641-8208-ed97fd21080b\",\"roots\":{\"1246\":\"7bd666e6-0168-4b35-a646-0de9b667f12c\"}}];\n",
       "  root.Bokeh.embed.embed_items_notebook(docs_json, render_items);\n",
       "\n",
       "  }\n",
       "  if (root.Bokeh !== undefined) {\n",
       "    embed_document(root);\n",
       "  } else {\n",
       "    var attempts = 0;\n",
       "    var timer = setInterval(function(root) {\n",
       "      if (root.Bokeh !== undefined) {\n",
       "        embed_document(root);\n",
       "        clearInterval(timer);\n",
       "      }\n",
       "      attempts++;\n",
       "      if (attempts > 100) {\n",
       "        console.log(\"Bokeh: ERROR: Unable to run BokehJS code because BokehJS library is missing\");\n",
       "        clearInterval(timer);\n",
       "      }\n",
       "    }, 10, root)\n",
       "  }\n",
       "})(window);</script>"
      ],
      "text/plain": [
       ":Image   [Ypos,Xpos]   (Zfield_avg)"
      ]
     },
     "execution_count": 105,
     "metadata": {
      "application/vnd.holoviews_exec.v0+json": {
       "id": "1246"
      }
     },
     "output_type": "execute_result"
    }
   ],
   "source": [
    "zcombined = phi90_ds.Zfield_avg**2 + phi0_ds.Zfield_avg**2\n",
    "zcombined.hvplot()"
   ]
  },
  {
   "cell_type": "code",
   "execution_count": 115,
   "metadata": {},
   "outputs": [
    {
     "name": "stdout",
     "output_type": "stream",
     "text": [
      "26.418999999999993 21.75999999999999\n"
     ]
    }
   ],
   "source": [
    "zmin = zcombined.where(zcombined==zcombined.min(), drop=True)\n",
    "zcen_x, zcen_y = zmin.Xpos.values[0], zmin.Ypos.values[0]\n",
    "print(zcen_x, zcen_y)"
   ]
  },
  {
   "cell_type": "code",
   "execution_count": 106,
   "metadata": {},
   "outputs": [
    {
     "data": {
      "application/vnd.holoviews_exec.v0+json": "",
      "text/html": [
       "<div id='1367' style='display: table; margin: 0 auto;'>\n",
       "\n",
       "\n",
       "\n",
       "\n",
       "\n",
       "  <div class=\"bk-root\" id=\"5bc2b66d-dbbb-4506-81e1-1346804f4a3e\" data-root-id=\"1367\"></div>\n",
       "</div>\n",
       "<script type=\"application/javascript\">(function(root) {\n",
       "  function embed_document(root) {\n",
       "    \n",
       "  var docs_json = {\"423181c5-4910-4096-a794-5d5b33dbd369\":{\"roots\":{\"references\":[{\"attributes\":{\"below\":[{\"id\":\"1376\",\"type\":\"LinearAxis\"}],\"center\":[{\"id\":\"1380\",\"type\":\"Grid\"},{\"id\":\"1385\",\"type\":\"Grid\"}],\"left\":[{\"id\":\"1381\",\"type\":\"LinearAxis\"}],\"margin\":null,\"min_border_bottom\":10,\"min_border_left\":10,\"min_border_right\":10,\"min_border_top\":10,\"plot_height\":300,\"plot_width\":700,\"renderers\":[{\"id\":\"1404\",\"type\":\"GlyphRenderer\"}],\"right\":[{\"id\":\"1407\",\"type\":\"ColorBar\"}],\"sizing_mode\":\"fixed\",\"title\":{\"id\":\"1368\",\"type\":\"Title\"},\"toolbar\":{\"id\":\"1391\",\"type\":\"Toolbar\"},\"x_range\":{\"id\":\"1364\",\"type\":\"Range1d\"},\"x_scale\":{\"id\":\"1372\",\"type\":\"LinearScale\"},\"y_range\":{\"id\":\"1365\",\"type\":\"Range1d\"},\"y_scale\":{\"id\":\"1374\",\"type\":\"LinearScale\"}},\"id\":\"1367\",\"subtype\":\"Figure\",\"type\":\"Plot\"},{\"attributes\":{\"axis_label\":\"Xpos\",\"bounds\":\"auto\",\"formatter\":{\"id\":\"1412\",\"type\":\"BasicTickFormatter\"},\"major_label_orientation\":\"horizontal\",\"ticker\":{\"id\":\"1382\",\"type\":\"BasicTicker\"}},\"id\":\"1381\",\"type\":\"LinearAxis\"},{\"attributes\":{},\"id\":\"1382\",\"type\":\"BasicTicker\"},{\"attributes\":{},\"id\":\"1386\",\"type\":\"SaveTool\"},{\"attributes\":{\"color_mapper\":{\"id\":\"1398\",\"type\":\"LinearColorMapper\"},\"dh\":{\"field\":\"dh\",\"units\":\"data\"},\"dw\":{\"field\":\"dw\",\"units\":\"data\"},\"image\":{\"field\":\"image\"},\"x\":{\"field\":\"x\"},\"y\":{\"field\":\"y\"}},\"id\":\"1403\",\"type\":\"Image\"},{\"attributes\":{},\"id\":\"1387\",\"type\":\"PanTool\"},{\"attributes\":{\"color_mapper\":{\"id\":\"1398\",\"type\":\"LinearColorMapper\"},\"dh\":{\"field\":\"dh\",\"units\":\"data\"},\"dw\":{\"field\":\"dw\",\"units\":\"data\"},\"image\":{\"field\":\"image\"},\"x\":{\"field\":\"x\"},\"y\":{\"field\":\"y\"}},\"id\":\"1402\",\"type\":\"Image\"},{\"attributes\":{},\"id\":\"1388\",\"type\":\"WheelZoomTool\"},{\"attributes\":{\"overlay\":{\"id\":\"1419\",\"type\":\"BoxAnnotation\"}},\"id\":\"1389\",\"type\":\"BoxZoomTool\"},{\"attributes\":{},\"id\":\"1390\",\"type\":\"ResetTool\"},{\"attributes\":{\"active_drag\":\"auto\",\"active_inspect\":\"auto\",\"active_multi\":null,\"active_scroll\":\"auto\",\"active_tap\":\"auto\",\"tools\":[{\"id\":\"1366\",\"type\":\"HoverTool\"},{\"id\":\"1386\",\"type\":\"SaveTool\"},{\"id\":\"1387\",\"type\":\"PanTool\"},{\"id\":\"1388\",\"type\":\"WheelZoomTool\"},{\"id\":\"1389\",\"type\":\"BoxZoomTool\"},{\"id\":\"1390\",\"type\":\"ResetTool\"}]},\"id\":\"1391\",\"type\":\"Toolbar\"},{\"attributes\":{\"grid_line_color\":null,\"ticker\":{\"id\":\"1377\",\"type\":\"BasicTicker\"}},\"id\":\"1380\",\"type\":\"Grid\"},{\"attributes\":{},\"id\":\"1400\",\"type\":\"Selection\"},{\"attributes\":{\"data_source\":{\"id\":\"1399\",\"type\":\"ColumnDataSource\"},\"glyph\":{\"id\":\"1402\",\"type\":\"Image\"},\"hover_glyph\":null,\"muted_glyph\":null,\"nonselection_glyph\":{\"id\":\"1403\",\"type\":\"Image\"},\"selection_glyph\":null,\"view\":{\"id\":\"1405\",\"type\":\"CDSView\"}},\"id\":\"1404\",\"type\":\"GlyphRenderer\"},{\"attributes\":{},\"id\":\"1416\",\"type\":\"BasicTickFormatter\"},{\"attributes\":{\"callback\":null,\"data\":{\"dh\":[0.6399999999999864],\"dw\":[0.6399999999999864],\"image\":[{\"__ndarray__\":\"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\",\"dtype\":\"float64\",\"shape\":[32,32]}],\"x\":[21.39],\"y\":[26.089]},\"selected\":{\"id\":\"1400\",\"type\":\"Selection\"},\"selection_policy\":{\"id\":\"1421\",\"type\":\"UnionRenderers\"}},\"id\":\"1399\",\"type\":\"ColumnDataSource\"},{\"attributes\":{\"bottom_units\":\"screen\",\"fill_alpha\":{\"value\":0.5},\"fill_color\":{\"value\":\"lightgrey\"},\"left_units\":\"screen\",\"level\":\"overlay\",\"line_alpha\":{\"value\":1.0},\"line_color\":{\"value\":\"black\"},\"line_dash\":[4,4],\"line_width\":{\"value\":2},\"render_mode\":\"css\",\"right_units\":\"screen\",\"top_units\":\"screen\"},\"id\":\"1419\",\"type\":\"BoxAnnotation\"},{\"attributes\":{\"axis_label\":\"Ypos\",\"bounds\":\"auto\",\"formatter\":{\"id\":\"1410\",\"type\":\"BasicTickFormatter\"},\"major_label_orientation\":\"horizontal\",\"ticker\":{\"id\":\"1377\",\"type\":\"BasicTicker\"}},\"id\":\"1376\",\"type\":\"LinearAxis\"},{\"attributes\":{\"callback\":null,\"end\":26.728999999999985,\"reset_end\":26.728999999999985,\"reset_start\":26.089,\"start\":26.089,\"tags\":[[[\"Xpos\",\"Xpos\",null]]]},\"id\":\"1365\",\"type\":\"Range1d\"},{\"attributes\":{\"callback\":null,\"renderers\":[{\"id\":\"1404\",\"type\":\"GlyphRenderer\"}],\"tags\":[\"hv_created\"],\"tooltips\":[[\"Ypos\",\"$x\"],[\"Xpos\",\"$y\"],[\"value\",\"@image\"]]},\"id\":\"1366\",\"type\":\"HoverTool\"},{\"attributes\":{},\"id\":\"1377\",\"type\":\"BasicTicker\"},{\"attributes\":{},\"id\":\"1421\",\"type\":\"UnionRenderers\"},{\"attributes\":{},\"id\":\"1410\",\"type\":\"BasicTickFormatter\"},{\"attributes\":{},\"id\":\"1412\",\"type\":\"BasicTickFormatter\"},{\"attributes\":{\"bar_line_color\":{\"value\":\"black\"},\"color_mapper\":{\"id\":\"1398\",\"type\":\"LinearColorMapper\"},\"formatter\":{\"id\":\"1416\",\"type\":\"BasicTickFormatter\"},\"label_standoff\":8,\"location\":[0,0],\"major_tick_line_color\":{\"value\":\"black\"},\"ticker\":{\"id\":\"1406\",\"type\":\"BasicTicker\"}},\"id\":\"1407\",\"type\":\"ColorBar\"},{\"attributes\":{},\"id\":\"1374\",\"type\":\"LinearScale\"},{\"attributes\":{\"callback\":null,\"end\":22.029999999999987,\"reset_end\":22.029999999999987,\"reset_start\":21.39,\"start\":21.39,\"tags\":[[[\"Ypos\",\"Ypos\",null]]]},\"id\":\"1364\",\"type\":\"Range1d\"},{\"attributes\":{},\"id\":\"1372\",\"type\":\"LinearScale\"},{\"attributes\":{\"high\":0.02497800935544217,\"low\":0.0248751977212769,\"nan_color\":\"rgba(0, 0, 0, 0)\",\"palette\":[\"#000000\",\"#060000\",\"#0d0000\",\"#120000\",\"#160000\",\"#190000\",\"#1c0000\",\"#1f0000\",\"#220000\",\"#240000\",\"#260000\",\"#280000\",\"#2b0000\",\"#2d0000\",\"#2e0000\",\"#300000\",\"#320000\",\"#340000\",\"#350000\",\"#370000\",\"#380000\",\"#3a0000\",\"#3b0000\",\"#3d0000\",\"#3e0000\",\"#400000\",\"#410000\",\"#430000\",\"#440000\",\"#460000\",\"#470000\",\"#490000\",\"#4a0000\",\"#4c0000\",\"#4d0000\",\"#4f0000\",\"#500000\",\"#520000\",\"#530000\",\"#550000\",\"#560000\",\"#580000\",\"#590100\",\"#5b0100\",\"#5d0100\",\"#5e0100\",\"#600100\",\"#610100\",\"#630100\",\"#650100\",\"#660100\",\"#680100\",\"#690100\",\"#6b0100\",\"#6d0100\",\"#6e0100\",\"#700100\",\"#710100\",\"#730100\",\"#750100\",\"#760100\",\"#780200\",\"#7a0200\",\"#7b0200\",\"#7d0200\",\"#7f0200\",\"#800200\",\"#820200\",\"#840200\",\"#850200\",\"#870200\",\"#890200\",\"#8a0200\",\"#8c0300\",\"#8e0300\",\"#900300\",\"#910300\",\"#930300\",\"#950300\",\"#960300\",\"#980300\",\"#9a0300\",\"#9c0300\",\"#9d0400\",\"#9f0400\",\"#a10400\",\"#a20400\",\"#a40400\",\"#a60400\",\"#a80400\",\"#a90400\",\"#ab0500\",\"#ad0500\",\"#af0500\",\"#b00500\",\"#b20500\",\"#b40500\",\"#b60600\",\"#b80600\",\"#b90600\",\"#bb0600\",\"#bd0600\",\"#bf0700\",\"#c00700\",\"#c20700\",\"#c40700\",\"#c60800\",\"#c80800\",\"#c90800\",\"#cb0800\",\"#cd0900\",\"#cf0900\",\"#d10900\",\"#d20a00\",\"#d40a00\",\"#d60a00\",\"#d80b00\",\"#da0b00\",\"#db0c00\",\"#dd0c00\",\"#df0d00\",\"#e10d00\",\"#e30e00\",\"#e40f00\",\"#e60f00\",\"#e81000\",\"#ea1100\",\"#eb1300\",\"#ed1400\",\"#ee1600\",\"#f01800\",\"#f11b00\",\"#f21d00\",\"#f32000\",\"#f52300\",\"#f62600\",\"#f62900\",\"#f72c00\",\"#f82f00\",\"#f93200\",\"#f93500\",\"#fa3800\",\"#fa3b00\",\"#fb3d00\",\"#fb4000\",\"#fb4300\",\"#fc4600\",\"#fc4900\",\"#fc4b00\",\"#fd4e00\",\"#fd5100\",\"#fd5300\",\"#fd5600\",\"#fd5800\",\"#fe5b00\",\"#fe5d00\",\"#fe5f00\",\"#fe6200\",\"#fe6400\",\"#fe6600\",\"#fe6800\",\"#fe6b00\",\"#fe6d00\",\"#fe6f00\",\"#fe7100\",\"#fe7300\",\"#fe7500\",\"#fe7700\",\"#fe7900\",\"#fe7c00\",\"#ff7e00\",\"#ff8000\",\"#ff8200\",\"#ff8300\",\"#ff8500\",\"#ff8700\",\"#ff8900\",\"#ff8b00\",\"#ff8d00\",\"#ff8f00\",\"#ff9100\",\"#ff9300\",\"#ff9400\",\"#ff9600\",\"#ff9800\",\"#ff9a00\",\"#ff9c00\",\"#ff9d00\",\"#ff9f00\",\"#ffa100\",\"#ffa300\",\"#ffa401\",\"#ffa601\",\"#ffa801\",\"#ffaa01\",\"#ffab01\",\"#ffad01\",\"#ffaf01\",\"#ffb001\",\"#ffb202\",\"#ffb402\",\"#ffb502\",\"#ffb702\",\"#ffb902\",\"#ffba02\",\"#ffbc03\",\"#ffbd03\",\"#ffbf03\",\"#ffc103\",\"#ffc204\",\"#ffc404\",\"#ffc604\",\"#ffc704\",\"#ffc905\",\"#ffca05\",\"#ffcc05\",\"#ffce06\",\"#ffcf06\",\"#ffd106\",\"#ffd207\",\"#ffd407\",\"#ffd508\",\"#ffd708\",\"#ffd909\",\"#ffda09\",\"#ffdc0a\",\"#ffdd0a\",\"#ffdf0b\",\"#ffe00b\",\"#ffe20c\",\"#ffe30d\",\"#ffe50e\",\"#ffe60f\",\"#ffe810\",\"#ffea11\",\"#ffeb12\",\"#ffed14\",\"#ffee17\",\"#fff01a\",\"#fff11e\",\"#fff324\",\"#fff42a\",\"#fff532\",\"#fff73b\",\"#fff847\",\"#fff953\",\"#fffb62\",\"#fffb72\",\"#fffc83\",\"#fffd95\",\"#fffea8\",\"#fffeba\",\"#fffecc\",\"#fffede\",\"#fffeee\",\"#ffffff\"]},\"id\":\"1398\",\"type\":\"LinearColorMapper\"},{\"attributes\":{\"source\":{\"id\":\"1399\",\"type\":\"ColumnDataSource\"}},\"id\":\"1405\",\"type\":\"CDSView\"},{\"attributes\":{},\"id\":\"1406\",\"type\":\"BasicTicker\"},{\"attributes\":{\"dimension\":1,\"grid_line_color\":null,\"ticker\":{\"id\":\"1382\",\"type\":\"BasicTicker\"}},\"id\":\"1385\",\"type\":\"Grid\"},{\"attributes\":{\"text\":\"\",\"text_color\":{\"value\":\"black\"},\"text_font_size\":{\"value\":\"12pt\"}},\"id\":\"1368\",\"type\":\"Title\"}],\"root_ids\":[\"1367\"]},\"title\":\"Bokeh Application\",\"version\":\"1.2.0\"}};\n",
       "  var render_items = [{\"docid\":\"423181c5-4910-4096-a794-5d5b33dbd369\",\"roots\":{\"1367\":\"5bc2b66d-dbbb-4506-81e1-1346804f4a3e\"}}];\n",
       "  root.Bokeh.embed.embed_items_notebook(docs_json, render_items);\n",
       "\n",
       "  }\n",
       "  if (root.Bokeh !== undefined) {\n",
       "    embed_document(root);\n",
       "  } else {\n",
       "    var attempts = 0;\n",
       "    var timer = setInterval(function(root) {\n",
       "      if (root.Bokeh !== undefined) {\n",
       "        embed_document(root);\n",
       "        clearInterval(timer);\n",
       "      }\n",
       "      attempts++;\n",
       "      if (attempts > 100) {\n",
       "        console.log(\"Bokeh: ERROR: Unable to run BokehJS code because BokehJS library is missing\");\n",
       "        clearInterval(timer);\n",
       "      }\n",
       "    }, 10, root)\n",
       "  }\n",
       "})(window);</script>"
      ],
      "text/plain": [
       ":Image   [Ypos,Xpos]   (value)"
      ]
     },
     "execution_count": 106,
     "metadata": {
      "application/vnd.holoviews_exec.v0+json": {
       "id": "1367"
      }
     },
     "output_type": "execute_result"
    }
   ],
   "source": [
    "inplane = (phi0_ds.Yfield_avg**2 + phi90_ds.Xfield_avg**2)\n",
    "inplane.hvplot()"
   ]
  },
  {
   "cell_type": "code",
   "execution_count": 116,
   "metadata": {},
   "outputs": [
    {
     "name": "stdout",
     "output_type": "stream",
     "text": [
      "26.438999999999993 21.619999999999994\n"
     ]
    }
   ],
   "source": [
    "ymax = inplane.where(inplane==inplane.max(), drop=True)\n",
    "ycen_x, ycen_y = ymax.Xpos.values[0], ymax.Ypos.values[0]\n",
    "print(ycen_x, ycen_y)"
   ]
  },
  {
   "cell_type": "code",
   "execution_count": 126,
   "metadata": {},
   "outputs": [
    {
     "name": "stdout",
     "output_type": "stream",
     "text": [
      "26.418999999999993 21.71999999999999\n"
     ]
    }
   ],
   "source": [
    "import scipy.signal as sig\n",
    "convolved = sig.convolve2d(zcombined.values, inplane.values, mode='same')\n",
    "convolved_da = xr.DataArray(convolved, coords=[x_pts,y_pts], dims = ['Xpos', 'Ypos'])\n",
    "convmax = convolved_da.where(convolved_da == convolved_da.max(), drop=True)\n",
    "conv_cen_x, conv_cen_y = convmax.Xpos.values[0], convmax.Ypos.values[0]\n",
    "print(conv_cen_x, conv_cen_y)"
   ]
  },
  {
   "cell_type": "code",
   "execution_count": 118,
   "metadata": {},
   "outputs": [
    {
     "data": {
      "application/vnd.holoviews_exec.v0+json": "",
      "text/html": [
       "<div id='1488' style='display: table; margin: 0 auto;'>\n",
       "\n",
       "\n",
       "\n",
       "\n",
       "\n",
       "  <div class=\"bk-root\" id=\"18fe1782-6fdf-40dd-b67d-811f07891b44\" data-root-id=\"1488\"></div>\n",
       "</div>\n",
       "<script type=\"application/javascript\">(function(root) {\n",
       "  function embed_document(root) {\n",
       "    \n",
       "  var docs_json = {\"590b0d86-eb52-4544-8123-56f04dc1ae95\":{\"roots\":{\"references\":[{\"attributes\":{\"below\":[{\"id\":\"1497\",\"type\":\"LinearAxis\"}],\"center\":[{\"id\":\"1501\",\"type\":\"Grid\"},{\"id\":\"1506\",\"type\":\"Grid\"}],\"left\":[{\"id\":\"1502\",\"type\":\"LinearAxis\"}],\"margin\":null,\"min_border_bottom\":10,\"min_border_left\":10,\"min_border_right\":10,\"min_border_top\":10,\"plot_height\":300,\"plot_width\":700,\"renderers\":[{\"id\":\"1525\",\"type\":\"GlyphRenderer\"}],\"right\":[{\"id\":\"1528\",\"type\":\"ColorBar\"}],\"sizing_mode\":\"fixed\",\"title\":{\"id\":\"1489\",\"type\":\"Title\"},\"toolbar\":{\"id\":\"1512\",\"type\":\"Toolbar\"},\"x_range\":{\"id\":\"1485\",\"type\":\"Range1d\"},\"x_scale\":{\"id\":\"1493\",\"type\":\"LinearScale\"},\"y_range\":{\"id\":\"1486\",\"type\":\"Range1d\"},\"y_scale\":{\"id\":\"1495\",\"type\":\"LinearScale\"}},\"id\":\"1488\",\"subtype\":\"Figure\",\"type\":\"Plot\"},{\"attributes\":{},\"id\":\"1493\",\"type\":\"LinearScale\"},{\"attributes\":{\"color_mapper\":{\"id\":\"1519\",\"type\":\"LinearColorMapper\"},\"dh\":{\"field\":\"dh\",\"units\":\"data\"},\"dw\":{\"field\":\"dw\",\"units\":\"data\"},\"image\":{\"field\":\"image\"},\"x\":{\"field\":\"x\"},\"y\":{\"field\":\"y\"}},\"id\":\"1523\",\"type\":\"Image\"},{\"attributes\":{\"source\":{\"id\":\"1520\",\"type\":\"ColumnDataSource\"}},\"id\":\"1526\",\"type\":\"CDSView\"},{\"attributes\":{\"callback\":null,\"end\":22.029999999999987,\"reset_end\":22.029999999999987,\"reset_start\":21.39,\"start\":21.39,\"tags\":[[[\"Ycoord\",\"Ycoord\",null]]]},\"id\":\"1485\",\"type\":\"Range1d\"},{\"attributes\":{\"dimension\":1,\"grid_line_color\":null,\"ticker\":{\"id\":\"1503\",\"type\":\"BasicTicker\"}},\"id\":\"1506\",\"type\":\"Grid\"},{\"attributes\":{\"callback\":null,\"end\":26.728999999999985,\"reset_end\":26.728999999999985,\"reset_start\":26.089,\"start\":26.089,\"tags\":[[[\"Xcoord\",\"Xcoord\",null]]]},\"id\":\"1486\",\"type\":\"Range1d\"},{\"attributes\":{\"grid_line_color\":null,\"ticker\":{\"id\":\"1498\",\"type\":\"BasicTicker\"}},\"id\":\"1501\",\"type\":\"Grid\"},{\"attributes\":{\"axis_label\":\"Xcoord\",\"bounds\":\"auto\",\"formatter\":{\"id\":\"1533\",\"type\":\"BasicTickFormatter\"},\"major_label_orientation\":\"horizontal\",\"ticker\":{\"id\":\"1503\",\"type\":\"BasicTicker\"}},\"id\":\"1502\",\"type\":\"LinearAxis\"},{\"attributes\":{},\"id\":\"1503\",\"type\":\"BasicTicker\"},{\"attributes\":{\"data_source\":{\"id\":\"1520\",\"type\":\"ColumnDataSource\"},\"glyph\":{\"id\":\"1523\",\"type\":\"Image\"},\"hover_glyph\":null,\"muted_glyph\":null,\"nonselection_glyph\":{\"id\":\"1524\",\"type\":\"Image\"},\"selection_glyph\":null,\"view\":{\"id\":\"1526\",\"type\":\"CDSView\"}},\"id\":\"1525\",\"type\":\"GlyphRenderer\"},{\"attributes\":{\"color_mapper\":{\"id\":\"1519\",\"type\":\"LinearColorMapper\"},\"dh\":{\"field\":\"dh\",\"units\":\"data\"},\"dw\":{\"field\":\"dw\",\"units\":\"data\"},\"image\":{\"field\":\"image\"},\"x\":{\"field\":\"x\"},\"y\":{\"field\":\"y\"}},\"id\":\"1524\",\"type\":\"Image\"},{\"attributes\":{\"axis_label\":\"Ycoord\",\"bounds\":\"auto\",\"formatter\":{\"id\":\"1531\",\"type\":\"BasicTickFormatter\"},\"major_label_orientation\":\"horizontal\",\"ticker\":{\"id\":\"1498\",\"type\":\"BasicTicker\"}},\"id\":\"1497\",\"type\":\"LinearAxis\"},{\"attributes\":{},\"id\":\"1531\",\"type\":\"BasicTickFormatter\"},{\"attributes\":{\"bar_line_color\":{\"value\":\"black\"},\"color_mapper\":{\"id\":\"1519\",\"type\":\"LinearColorMapper\"},\"formatter\":{\"id\":\"1537\",\"type\":\"BasicTickFormatter\"},\"label_standoff\":8,\"location\":[0,0],\"major_tick_line_color\":{\"value\":\"black\"},\"ticker\":{\"id\":\"1527\",\"type\":\"BasicTicker\"}},\"id\":\"1528\",\"type\":\"ColorBar\"},{\"attributes\":{},\"id\":\"1537\",\"type\":\"BasicTickFormatter\"},{\"attributes\":{},\"id\":\"1498\",\"type\":\"BasicTicker\"},{\"attributes\":{\"bottom_units\":\"screen\",\"fill_alpha\":{\"value\":0.5},\"fill_color\":{\"value\":\"lightgrey\"},\"left_units\":\"screen\",\"level\":\"overlay\",\"line_alpha\":{\"value\":1.0},\"line_color\":{\"value\":\"black\"},\"line_dash\":[4,4],\"line_width\":{\"value\":2},\"render_mode\":\"css\",\"right_units\":\"screen\",\"top_units\":\"screen\"},\"id\":\"1540\",\"type\":\"BoxAnnotation\"},{\"attributes\":{},\"id\":\"1542\",\"type\":\"UnionRenderers\"},{\"attributes\":{\"high\":0.00039727169340473515,\"low\":7.852355326162566e-05,\"nan_color\":\"rgba(0, 0, 0, 0)\",\"palette\":[\"#000000\",\"#060000\",\"#0d0000\",\"#120000\",\"#160000\",\"#190000\",\"#1c0000\",\"#1f0000\",\"#220000\",\"#240000\",\"#260000\",\"#280000\",\"#2b0000\",\"#2d0000\",\"#2e0000\",\"#300000\",\"#320000\",\"#340000\",\"#350000\",\"#370000\",\"#380000\",\"#3a0000\",\"#3b0000\",\"#3d0000\",\"#3e0000\",\"#400000\",\"#410000\",\"#430000\",\"#440000\",\"#460000\",\"#470000\",\"#490000\",\"#4a0000\",\"#4c0000\",\"#4d0000\",\"#4f0000\",\"#500000\",\"#520000\",\"#530000\",\"#550000\",\"#560000\",\"#580000\",\"#590100\",\"#5b0100\",\"#5d0100\",\"#5e0100\",\"#600100\",\"#610100\",\"#630100\",\"#650100\",\"#660100\",\"#680100\",\"#690100\",\"#6b0100\",\"#6d0100\",\"#6e0100\",\"#700100\",\"#710100\",\"#730100\",\"#750100\",\"#760100\",\"#780200\",\"#7a0200\",\"#7b0200\",\"#7d0200\",\"#7f0200\",\"#800200\",\"#820200\",\"#840200\",\"#850200\",\"#870200\",\"#890200\",\"#8a0200\",\"#8c0300\",\"#8e0300\",\"#900300\",\"#910300\",\"#930300\",\"#950300\",\"#960300\",\"#980300\",\"#9a0300\",\"#9c0300\",\"#9d0400\",\"#9f0400\",\"#a10400\",\"#a20400\",\"#a40400\",\"#a60400\",\"#a80400\",\"#a90400\",\"#ab0500\",\"#ad0500\",\"#af0500\",\"#b00500\",\"#b20500\",\"#b40500\",\"#b60600\",\"#b80600\",\"#b90600\",\"#bb0600\",\"#bd0600\",\"#bf0700\",\"#c00700\",\"#c20700\",\"#c40700\",\"#c60800\",\"#c80800\",\"#c90800\",\"#cb0800\",\"#cd0900\",\"#cf0900\",\"#d10900\",\"#d20a00\",\"#d40a00\",\"#d60a00\",\"#d80b00\",\"#da0b00\",\"#db0c00\",\"#dd0c00\",\"#df0d00\",\"#e10d00\",\"#e30e00\",\"#e40f00\",\"#e60f00\",\"#e81000\",\"#ea1100\",\"#eb1300\",\"#ed1400\",\"#ee1600\",\"#f01800\",\"#f11b00\",\"#f21d00\",\"#f32000\",\"#f52300\",\"#f62600\",\"#f62900\",\"#f72c00\",\"#f82f00\",\"#f93200\",\"#f93500\",\"#fa3800\",\"#fa3b00\",\"#fb3d00\",\"#fb4000\",\"#fb4300\",\"#fc4600\",\"#fc4900\",\"#fc4b00\",\"#fd4e00\",\"#fd5100\",\"#fd5300\",\"#fd5600\",\"#fd5800\",\"#fe5b00\",\"#fe5d00\",\"#fe5f00\",\"#fe6200\",\"#fe6400\",\"#fe6600\",\"#fe6800\",\"#fe6b00\",\"#fe6d00\",\"#fe6f00\",\"#fe7100\",\"#fe7300\",\"#fe7500\",\"#fe7700\",\"#fe7900\",\"#fe7c00\",\"#ff7e00\",\"#ff8000\",\"#ff8200\",\"#ff8300\",\"#ff8500\",\"#ff8700\",\"#ff8900\",\"#ff8b00\",\"#ff8d00\",\"#ff8f00\",\"#ff9100\",\"#ff9300\",\"#ff9400\",\"#ff9600\",\"#ff9800\",\"#ff9a00\",\"#ff9c00\",\"#ff9d00\",\"#ff9f00\",\"#ffa100\",\"#ffa300\",\"#ffa401\",\"#ffa601\",\"#ffa801\",\"#ffaa01\",\"#ffab01\",\"#ffad01\",\"#ffaf01\",\"#ffb001\",\"#ffb202\",\"#ffb402\",\"#ffb502\",\"#ffb702\",\"#ffb902\",\"#ffba02\",\"#ffbc03\",\"#ffbd03\",\"#ffbf03\",\"#ffc103\",\"#ffc204\",\"#ffc404\",\"#ffc604\",\"#ffc704\",\"#ffc905\",\"#ffca05\",\"#ffcc05\",\"#ffce06\",\"#ffcf06\",\"#ffd106\",\"#ffd207\",\"#ffd407\",\"#ffd508\",\"#ffd708\",\"#ffd909\",\"#ffda09\",\"#ffdc0a\",\"#ffdd0a\",\"#ffdf0b\",\"#ffe00b\",\"#ffe20c\",\"#ffe30d\",\"#ffe50e\",\"#ffe60f\",\"#ffe810\",\"#ffea11\",\"#ffeb12\",\"#ffed14\",\"#ffee17\",\"#fff01a\",\"#fff11e\",\"#fff324\",\"#fff42a\",\"#fff532\",\"#fff73b\",\"#fff847\",\"#fff953\",\"#fffb62\",\"#fffb72\",\"#fffc83\",\"#fffd95\",\"#fffea8\",\"#fffeba\",\"#fffecc\",\"#fffede\",\"#fffeee\",\"#ffffff\"]},\"id\":\"1519\",\"type\":\"LinearColorMapper\"},{\"attributes\":{},\"id\":\"1507\",\"type\":\"SaveTool\"},{\"attributes\":{\"callback\":null,\"data\":{\"dh\":[0.6399999999999864],\"dw\":[0.6399999999999864],\"image\":[{\"__ndarray__\":\"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\",\"dtype\":\"float64\",\"shape\":[32,32]}],\"x\":[21.39],\"y\":[26.089]},\"selected\":{\"id\":\"1521\",\"type\":\"Selection\"},\"selection_policy\":{\"id\":\"1542\",\"type\":\"UnionRenderers\"}},\"id\":\"1520\",\"type\":\"ColumnDataSource\"},{\"attributes\":{},\"id\":\"1508\",\"type\":\"PanTool\"},{\"attributes\":{},\"id\":\"1533\",\"type\":\"BasicTickFormatter\"},{\"attributes\":{},\"id\":\"1521\",\"type\":\"Selection\"},{\"attributes\":{},\"id\":\"1509\",\"type\":\"WheelZoomTool\"},{\"attributes\":{\"callback\":null,\"renderers\":[{\"id\":\"1525\",\"type\":\"GlyphRenderer\"}],\"tags\":[\"hv_created\"],\"tooltips\":[[\"Ycoord\",\"$x\"],[\"Xcoord\",\"$y\"],[\"value\",\"@image\"]]},\"id\":\"1487\",\"type\":\"HoverTool\"},{\"attributes\":{},\"id\":\"1495\",\"type\":\"LinearScale\"},{\"attributes\":{},\"id\":\"1527\",\"type\":\"BasicTicker\"},{\"attributes\":{\"overlay\":{\"id\":\"1540\",\"type\":\"BoxAnnotation\"}},\"id\":\"1510\",\"type\":\"BoxZoomTool\"},{\"attributes\":{},\"id\":\"1511\",\"type\":\"ResetTool\"},{\"attributes\":{\"active_drag\":\"auto\",\"active_inspect\":\"auto\",\"active_multi\":null,\"active_scroll\":\"auto\",\"active_tap\":\"auto\",\"tools\":[{\"id\":\"1487\",\"type\":\"HoverTool\"},{\"id\":\"1507\",\"type\":\"SaveTool\"},{\"id\":\"1508\",\"type\":\"PanTool\"},{\"id\":\"1509\",\"type\":\"WheelZoomTool\"},{\"id\":\"1510\",\"type\":\"BoxZoomTool\"},{\"id\":\"1511\",\"type\":\"ResetTool\"}]},\"id\":\"1512\",\"type\":\"Toolbar\"},{\"attributes\":{\"text\":\"\",\"text_color\":{\"value\":\"black\"},\"text_font_size\":{\"value\":\"12pt\"}},\"id\":\"1489\",\"type\":\"Title\"}],\"root_ids\":[\"1488\"]},\"title\":\"Bokeh Application\",\"version\":\"1.2.0\"}};\n",
       "  var render_items = [{\"docid\":\"590b0d86-eb52-4544-8123-56f04dc1ae95\",\"roots\":{\"1488\":\"18fe1782-6fdf-40dd-b67d-811f07891b44\"}}];\n",
       "  root.Bokeh.embed.embed_items_notebook(docs_json, render_items);\n",
       "\n",
       "  }\n",
       "  if (root.Bokeh !== undefined) {\n",
       "    embed_document(root);\n",
       "  } else {\n",
       "    var attempts = 0;\n",
       "    var timer = setInterval(function(root) {\n",
       "      if (root.Bokeh !== undefined) {\n",
       "        embed_document(root);\n",
       "        clearInterval(timer);\n",
       "      }\n",
       "      attempts++;\n",
       "      if (attempts > 100) {\n",
       "        console.log(\"Bokeh: ERROR: Unable to run BokehJS code because BokehJS library is missing\");\n",
       "        clearInterval(timer);\n",
       "      }\n",
       "    }, 10, root)\n",
       "  }\n",
       "})(window);</script>"
      ],
      "text/plain": [
       ":Image   [Ycoord,Xcoord]   (value)"
      ]
     },
     "execution_count": 118,
     "metadata": {
      "application/vnd.holoviews_exec.v0+json": {
       "id": "1488"
      }
     },
     "output_type": "execute_result"
    }
   ],
   "source": [
    "convolved_da.hvplot()"
   ]
  },
  {
   "cell_type": "code",
   "execution_count": null,
   "metadata": {},
   "outputs": [],
   "source": [
    "import scipy.optimize as optimize\n",
    "def gaussian(height, center_x, center_y, width_x, width_y):\n",
    "    \"\"\"Returns a gaussian function with the given parameters\"\"\"\n",
    "    width_x = float(width_x)\n",
    "    width_y = float(width_y)\n",
    "    return lambda x,y: height*np.exp(\n",
    "                -(((center_x-x)/width_x)**2+((center_y-y)/width_y)**2)/2)\n",
    "\n",
    "def moments(data):\n",
    "    \"\"\"Returns (height, x, y, width_x, width_y)\n",
    "    the gaussian parameters of a 2D distribution by calculating its\n",
    "    moments \"\"\"\n",
    "    total = data.sum()\n",
    "    X, Y = np.indices(data.shape)\n",
    "    x = (X*data).sum()/total\n",
    "    y = (Y*data).sum()/total\n",
    "    col = data[:, int(y)]\n",
    "    width_x = np.sqrt(np.abs((np.arange(col.size)-y)**2*col).sum()/col.sum())\n",
    "    row = data[int(x), :]\n",
    "    width_y = np.sqrt(np.abs((np.arange(row.size)-x)**2*row).sum()/row.sum())\n",
    "    height = data.max()\n",
    "    return height, x, y, width_x, width_y\n",
    "\n",
    "def fitgaussian(data):\n",
    "    \"\"\"Returns (height, x, y, width_x, width_y)\n",
    "    the gaussian parameters of a 2D distribution found by a fit\"\"\"\n",
    "    params = moments(data)\n",
    "    errorfunction = lambda p: np.ravel(gaussian(*p)(*np.indices(data.shape)) -\n",
    "                                 data)\n",
    "    p, success = optimize.leastsq(errorfunction, params)\n",
    "    return p, success"
   ]
  },
  {
   "cell_type": "markdown",
   "metadata": {},
   "source": [
    "# Analyse in plane field data"
   ]
  },
  {
   "cell_type": "code",
   "execution_count": 102,
   "metadata": {},
   "outputs": [
    {
     "name": "stdout",
     "output_type": "stream",
     "text": [
      "[1.21306132e-02 1.50000000e+01 1.50000000e+01 5.26098190e-44\n",
      " 8.19401262e-40]\n",
      "32 32 32\n"
     ]
    },
    {
     "data": {
      "text/plain": [
       "Text(0, 0.5, 'Inplane field')"
      ]
     },
     "execution_count": 102,
     "metadata": {},
     "output_type": "execute_result"
    },
    {
     "data": {
      "image/png": "[encoded data removed]",
      "text/plain": [
       "<Figure size 432x288 with 2 Axes>"
      ]
     },
     "metadata": {
      "needs_background": "light"
     },
     "output_type": "display_data"
    },
    {
     "data": {
      "image/png": "[encoded data removed]",
      "text/plain": [
       "<Figure size 432x288 with 2 Axes>"
      ]
     },
     "metadata": {
      "needs_background": "light"
     },
     "output_type": "display_data"
    },
    {
     "data": {
      "image/png": "[encoded data removed]",
      "text/plain": [
       "<Figure size 432x288 with 2 Axes>"
      ]
     },
     "metadata": {
      "needs_background": "light"
     },
     "output_type": "display_data"
    }
   ],
   "source": [
    "import scipy.signal as sig\n",
    "\n",
    "# Inplane field data\n",
    "x, y, field = inplane.Xpos.values, inplane.Ypos.values, inplane.values\n",
    "xy = np.meshgrid(x,y)\n",
    "x_guess, y_guess = 26.4, 21.7\n",
    "gauss = gaussian(1, x_guess, y_guess, 10, 10)(xy[0], xy[1])\n",
    "\n",
    "# Fit to Gaussian\n",
    "params, success = fitgaussian(data)\n",
    "fitteddata = gaussian(*params)(xy[0], xy[1])\n",
    "print(params)\n",
    "\n",
    "# Convolve\n",
    "convolved = sig.convolve2d(field, gauss, mode='same')\n",
    "print(len(convolved), len(gauss), len(field))\n",
    "\n",
    "# Plot data\n",
    "fig1, ax1 = plt.subplots(constrained_layout=True)\n",
    "CS = ax1.contourf(x,y,field, 10, cmap=plt.cm.bone)\n",
    "cbar = fig1.colorbar(CS)\n",
    "cbar.ax.set_ylabel('Inplane field')\n",
    "\n",
    "# Plot gaussian\n",
    "fig2, ax2 = plt.subplots(constrained_layout=True)\n",
    "CS = ax2.contourf(x,y,gauss, 10, cmap=plt.cm.bone)\n",
    "cbar = fig2.colorbar(CS)\n",
    "cbar.ax.set_ylabel('Inplane field')\n",
    "\n",
    "# Plot convolved\n",
    "fig3, ax3 = plt.subplots(constrained_layout=True)\n",
    "CS = ax3.contourf(x,y,convolved, 10, cmap=plt.cm.bone)\n",
    "cbar = fig3.colorbar(CS)\n",
    "cbar.ax.set_ylabel('Inplane field')"
   ]
  },
  {
   "cell_type": "code",
   "execution_count": 66,
   "metadata": {},
   "outputs": [
    {
     "data": {
      "text/plain": [
       "<xarray.DataArray (Xpos: 1, Ypos: 1)>\n",
       "array([[0.024978]])\n",
       "Coordinates:\n",
       "  * Xpos     (Xpos) float64 26.44\n",
       "  * Ypos     (Ypos) float64 21.62"
      ]
     },
     "execution_count": 66,
     "metadata": {},
     "output_type": "execute_result"
    }
   ],
   "source": [
    "inplane.where(inplane==inplane.max(), drop=True)"
   ]
  },
  {
   "cell_type": "markdown",
   "metadata": {},
   "source": [
    "#### Phi/Theta at Z field minima"
   ]
  },
  {
   "cell_type": "code",
   "execution_count": 122,
   "metadata": {},
   "outputs": [
    {
     "name": "stdout",
     "output_type": "stream",
     "text": [
      "phi0 : phi = -0.96\n",
      "phi90 : phi = 0.98\n",
      "phi0 : theta = 90.04\n",
      "phi90 : theta = 90.07\n"
     ]
    }
   ],
   "source": [
    "phi0_phi = np.arctan2(phi0_ds.Xfield_avg, phi0_ds.Yfield_avg)\n",
    "phi90_phi = np.arctan2(phi90_ds.Yfield_avg, phi90_ds.Xfield_avg)\n",
    "theta0_phi = np.arctan2(np.sqrt(phi0_ds.Xfield_avg**2 + phi0_ds.Yfield_avg**2), phi0_ds.Zfield_avg)\n",
    "theta90_phi = np.arctan2(np.sqrt(phi90_ds.Xfield_avg**2 + phi90_ds.Yfield_avg**2), phi90_ds.Zfield_avg)\n",
    "print('phi0 : phi = %1.2f' % (phi0_phi.sel(Xpos=zcen_x, Ypos=zcen_y, method='backfill').values*180/np.pi))\n",
    "print('phi90 : phi = %1.2f' % (phi90_phi.sel(Xpos=zcen_x, Ypos=zcen_y, method='backfill').values*180/np.pi))\n",
    "print('phi0 : theta = %1.2f' % (theta0_phi.sel(Xpos=zcen_x, Ypos=zcen_y, method='backfill').values*180/np.pi))\n",
    "print('phi90 : theta = %1.2f' % (theta90_phi.sel(Xpos=zcen_x, Ypos=zcen_y, method='backfill').values*180/np.pi))"
   ]
  },
  {
   "cell_type": "markdown",
   "metadata": {},
   "source": [
    "#### Phi/Theta at Y field maxima"
   ]
  },
  {
   "cell_type": "code",
   "execution_count": 132,
   "metadata": {},
   "outputs": [
    {
     "name": "stdout",
     "output_type": "stream",
     "text": [
      "phi0 : phi = -0.96\n",
      "phi90 : phi = 0.97\n",
      "phi0 : theta = 89.91\n",
      "phi90 : theta = 88.98\n"
     ]
    }
   ],
   "source": [
    "phi0_phi = np.arctan2(phi0_ds.Xfield_avg, phi0_ds.Yfield_avg)\n",
    "phi90_phi = np.arctan2(phi90_ds.Yfield_avg, phi90_ds.Xfield_avg)\n",
    "theta0_phi = np.arctan2(np.sqrt(phi0_ds.Xfield_avg**2 + phi0_ds.Yfield_avg**2), phi0_ds.Zfield_avg)\n",
    "theta90_phi = np.arctan2(np.sqrt(phi90_ds.Xfield_avg**2 + phi90_ds.Yfield_avg**2), phi90_ds.Zfield_avg)\n",
    "print('phi0 : phi = %1.2f' % (phi0_phi.sel(Xpos=ycen_x, Ypos=ycen_y, method='backfill').values*180/np.pi))\n",
    "print('phi90 : phi = %1.2f' % (phi90_phi.sel(Xpos=ycen_x, Ypos=ycen_y, method='backfill').values*180/np.pi))\n",
    "print('phi0 : theta = %1.2f' % (theta0_phi.sel(Xpos=ycen_x, Ypos=ycen_y, method='backfill').values*180/np.pi))\n",
    "print('phi90 : theta = %1.2f' % (theta90_phi.sel(Xpos=ycen_x, Ypos=ycen_y, method='backfill').values*180/np.pi))"
   ]
  },
  {
   "cell_type": "markdown",
   "metadata": {},
   "source": [
    "#### Phi/Theta at convolved maxima"
   ]
  },
  {
   "cell_type": "code",
   "execution_count": 127,
   "metadata": {},
   "outputs": [
    {
     "name": "stdout",
     "output_type": "stream",
     "text": [
      "phi0 : phi = -0.95\n",
      "phi90 : phi = 0.96\n",
      "phi0 : theta = 90.03\n",
      "phi90 : theta = 89.75\n"
     ]
    }
   ],
   "source": [
    "phi0_phi = np.arctan2(phi0_ds.Xfield_avg, phi0_ds.Yfield_avg)\n",
    "phi90_phi = np.arctan2(phi90_ds.Yfield_avg, phi90_ds.Xfield_avg)\n",
    "theta0_phi = np.arctan2(np.sqrt(phi0_ds.Xfield_avg**2 + phi0_ds.Yfield_avg**2), phi0_ds.Zfield_avg)\n",
    "theta90_phi = np.arctan2(np.sqrt(phi90_ds.Xfield_avg**2 + phi90_ds.Yfield_avg**2), phi90_ds.Zfield_avg)\n",
    "print('phi0 : phi = %1.2f' % (phi0_phi.sel(Xpos=conv_cen_x, Ypos=conv_cen_y, method='backfill').values*180/np.pi))\n",
    "print('phi90 : phi = %1.2f' % (phi90_phi.sel(Xpos=conv_cen_x, Ypos=conv_cen_y, method='backfill').values*180/np.pi))\n",
    "print('phi0 : theta = %1.2f' % (theta0_phi.sel(Xpos=conv_cen_x, Ypos=conv_cen_y, method='backfill').values*180/np.pi))\n",
    "print('phi90 : theta = %1.2f' % (theta90_phi.sel(Xpos=conv_cen_x, Ypos=conv_cen_y, method='backfill').values*180/np.pi))"
   ]
  },
  {
   "cell_type": "markdown",
   "metadata": {},
   "source": [
    "### Summary"
   ]
  },
  {
   "cell_type": "code",
   "execution_count": 136,
   "metadata": {},
   "outputs": [
    {
     "name": "stdout",
     "output_type": "stream",
     "text": [
      "z field minima: (26.41900, 21.76000)\n",
      "y field maxima: (26.43900, 21.62000)\n",
      "convolved: (26.41900, 21.72000)\n"
     ]
    }
   ],
   "source": [
    "print('z field minima: (%1.5f, %1.5f)' % (zcen_x, zcen_y))\n",
    "print('y field maxima: (%1.5f, %1.5f)' % (ycen_x, ycen_y))\n",
    "print('convolved: (%1.5f, %1.5f)' % (conv_cen_x, conv_cen_y))"
   ]
  },
  {
   "cell_type": "markdown",
   "metadata": {},
   "source": [
    "### Best values obtained at z field minima "
   ]
  },
  {
   "cell_type": "code",
   "execution_count": 137,
   "metadata": {},
   "outputs": [
    {
     "name": "stdout",
     "output_type": "stream",
     "text": [
      "[[26.418999999999993, 21.75999999999999]]\n"
     ]
    }
   ],
   "source": [
    "import numpy as np\n",
    "f_cen = [[zcen_x, zcen_y]]\n",
    "print(f_cen)\n",
    "np.savetxt(\"proj_field_center_calib_icarus.csv\", f_cen, delimiter=\",\")"
   ]
  },
  {
   "cell_type": "code",
   "execution_count": null,
   "metadata": {},
   "outputs": [],
   "source": []
  }
 ],
 "metadata": {
  "kernelspec": {
   "display_name": "Python 3",
   "language": "python",
   "name": "python3"
  },
  "language_info": {
   "codemirror_mode": {
    "name": "ipython",
    "version": 3
   },
   "file_extension": ".py",
   "mimetype": "text/x-python",
   "name": "python",
   "nbconvert_exporter": "python",
   "pygments_lexer": "ipython3",
   "version": "3.7.3"
  }
 },
 "nbformat": 4,
 "nbformat_minor": 2
}
